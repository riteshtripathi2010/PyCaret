{
 "cells": [
  {
   "cell_type": "code",
   "execution_count": 1,
   "metadata": {},
   "outputs": [],
   "source": [
    "#Will be doing more of Featuring Engineering Techniques\n",
    "#Product Sentiment Analysis in ML folder\n",
    "\n",
    "#Pycaret website: then Data Processing: Missing Values\n",
    "\n",
    "#Sklearn or Pycaret\n",
    "    #learn both"
   ]
  },
  {
   "cell_type": "code",
   "execution_count": 1,
   "metadata": {},
   "outputs": [],
   "source": [
    "##### Created New Environment ###conda create -n pycaret python=3.7\n",
    "##### installed PyCaret Library #### pip install pycaret\n",
    "#### After installing pycaret, visit: https://pycaret.org/install/\n",
    "#### And install shap\n",
    "### For MAc, follow the prompts as shown on website\n",
    "\n",
    "#if none of these above work, create new environment"
   ]
  },
  {
   "cell_type": "code",
   "execution_count": 15,
   "metadata": {},
   "outputs": [],
   "source": [
    "\n",
    "### Loading Dataset From Pycaret\n",
    "from pycaret.datasets import get_data"
   ]
  },
  {
   "cell_type": "code",
   "execution_count": 16,
   "metadata": {},
   "outputs": [
    {
     "data": {
      "text/html": [
       "<div>\n",
       "<style scoped>\n",
       "    .dataframe tbody tr th:only-of-type {\n",
       "        vertical-align: middle;\n",
       "    }\n",
       "\n",
       "    .dataframe tbody tr th {\n",
       "        vertical-align: top;\n",
       "    }\n",
       "\n",
       "    .dataframe thead th {\n",
       "        text-align: right;\n",
       "    }\n",
       "</style>\n",
       "<table border=\"1\" class=\"dataframe\">\n",
       "  <thead>\n",
       "    <tr style=\"text-align: right;\">\n",
       "      <th></th>\n",
       "      <th>Number of times pregnant</th>\n",
       "      <th>Plasma glucose concentration a 2 hours in an oral glucose tolerance test</th>\n",
       "      <th>Diastolic blood pressure (mm Hg)</th>\n",
       "      <th>Triceps skin fold thickness (mm)</th>\n",
       "      <th>2-Hour serum insulin (mu U/ml)</th>\n",
       "      <th>Body mass index (weight in kg/(height in m)^2)</th>\n",
       "      <th>Diabetes pedigree function</th>\n",
       "      <th>Age (years)</th>\n",
       "      <th>Class variable</th>\n",
       "    </tr>\n",
       "  </thead>\n",
       "  <tbody>\n",
       "    <tr>\n",
       "      <th>0</th>\n",
       "      <td>6</td>\n",
       "      <td>148</td>\n",
       "      <td>72</td>\n",
       "      <td>35</td>\n",
       "      <td>0</td>\n",
       "      <td>33.6</td>\n",
       "      <td>0.627</td>\n",
       "      <td>50</td>\n",
       "      <td>1</td>\n",
       "    </tr>\n",
       "    <tr>\n",
       "      <th>1</th>\n",
       "      <td>1</td>\n",
       "      <td>85</td>\n",
       "      <td>66</td>\n",
       "      <td>29</td>\n",
       "      <td>0</td>\n",
       "      <td>26.6</td>\n",
       "      <td>0.351</td>\n",
       "      <td>31</td>\n",
       "      <td>0</td>\n",
       "    </tr>\n",
       "    <tr>\n",
       "      <th>2</th>\n",
       "      <td>8</td>\n",
       "      <td>183</td>\n",
       "      <td>64</td>\n",
       "      <td>0</td>\n",
       "      <td>0</td>\n",
       "      <td>23.3</td>\n",
       "      <td>0.672</td>\n",
       "      <td>32</td>\n",
       "      <td>1</td>\n",
       "    </tr>\n",
       "    <tr>\n",
       "      <th>3</th>\n",
       "      <td>1</td>\n",
       "      <td>89</td>\n",
       "      <td>66</td>\n",
       "      <td>23</td>\n",
       "      <td>94</td>\n",
       "      <td>28.1</td>\n",
       "      <td>0.167</td>\n",
       "      <td>21</td>\n",
       "      <td>0</td>\n",
       "    </tr>\n",
       "    <tr>\n",
       "      <th>4</th>\n",
       "      <td>0</td>\n",
       "      <td>137</td>\n",
       "      <td>40</td>\n",
       "      <td>35</td>\n",
       "      <td>168</td>\n",
       "      <td>43.1</td>\n",
       "      <td>2.288</td>\n",
       "      <td>33</td>\n",
       "      <td>1</td>\n",
       "    </tr>\n",
       "  </tbody>\n",
       "</table>\n",
       "</div>"
      ],
      "text/plain": [
       "   Number of times pregnant  \\\n",
       "0                         6   \n",
       "1                         1   \n",
       "2                         8   \n",
       "3                         1   \n",
       "4                         0   \n",
       "\n",
       "   Plasma glucose concentration a 2 hours in an oral glucose tolerance test  \\\n",
       "0                                                148                          \n",
       "1                                                 85                          \n",
       "2                                                183                          \n",
       "3                                                 89                          \n",
       "4                                                137                          \n",
       "\n",
       "   Diastolic blood pressure (mm Hg)  Triceps skin fold thickness (mm)  \\\n",
       "0                                72                                35   \n",
       "1                                66                                29   \n",
       "2                                64                                 0   \n",
       "3                                66                                23   \n",
       "4                                40                                35   \n",
       "\n",
       "   2-Hour serum insulin (mu U/ml)  \\\n",
       "0                               0   \n",
       "1                               0   \n",
       "2                               0   \n",
       "3                              94   \n",
       "4                             168   \n",
       "\n",
       "   Body mass index (weight in kg/(height in m)^2)  Diabetes pedigree function  \\\n",
       "0                                            33.6                       0.627   \n",
       "1                                            26.6                       0.351   \n",
       "2                                            23.3                       0.672   \n",
       "3                                            28.1                       0.167   \n",
       "4                                            43.1                       2.288   \n",
       "\n",
       "   Age (years)  Class variable  \n",
       "0           50               1  \n",
       "1           31               0  \n",
       "2           32               1  \n",
       "3           21               0  \n",
       "4           33               1  "
      ]
     },
     "metadata": {},
     "output_type": "display_data"
    }
   ],
   "source": [
    "#### Classification Example\n",
    "diabetes_df=get_data(\"diabetes\")\n",
    "\n",
    "#"
   ]
  },
  {
   "cell_type": "code",
   "execution_count": 17,
   "metadata": {},
   "outputs": [
    {
     "data": {
      "text/plain": [
       "0    500\n",
       "1    268\n",
       "Name: Class variable, dtype: int64"
      ]
     },
     "execution_count": 17,
     "metadata": {},
     "output_type": "execute_result"
    }
   ],
   "source": [
    "diabetes_df['Class variable'].value_counts()"
   ]
  },
  {
   "cell_type": "code",
   "execution_count": 18,
   "metadata": {},
   "outputs": [
    {
     "name": "stdout",
     "output_type": "stream",
     "text": [
      "Setup Succesfully Completed!\n"
     ]
    },
    {
     "data": {
      "text/html": [
       "<style  type=\"text/css\" >\n",
       "</style><table id=\"T_2c37d39e_d61c_11ea_a424_8c8590257adb\" ><thead>    <tr>        <th class=\"blank level0\" ></th>        <th class=\"col_heading level0 col0\" >Description</th>        <th class=\"col_heading level0 col1\" >Value</th>    </tr></thead><tbody>\n",
       "                <tr>\n",
       "                        <th id=\"T_2c37d39e_d61c_11ea_a424_8c8590257adblevel0_row0\" class=\"row_heading level0 row0\" >0</th>\n",
       "                        <td id=\"T_2c37d39e_d61c_11ea_a424_8c8590257adbrow0_col0\" class=\"data row0 col0\" >session_id</td>\n",
       "                        <td id=\"T_2c37d39e_d61c_11ea_a424_8c8590257adbrow0_col1\" class=\"data row0 col1\" >8907</td>\n",
       "            </tr>\n",
       "            <tr>\n",
       "                        <th id=\"T_2c37d39e_d61c_11ea_a424_8c8590257adblevel0_row1\" class=\"row_heading level0 row1\" >1</th>\n",
       "                        <td id=\"T_2c37d39e_d61c_11ea_a424_8c8590257adbrow1_col0\" class=\"data row1 col0\" >Target Type</td>\n",
       "                        <td id=\"T_2c37d39e_d61c_11ea_a424_8c8590257adbrow1_col1\" class=\"data row1 col1\" >Binary</td>\n",
       "            </tr>\n",
       "            <tr>\n",
       "                        <th id=\"T_2c37d39e_d61c_11ea_a424_8c8590257adblevel0_row2\" class=\"row_heading level0 row2\" >2</th>\n",
       "                        <td id=\"T_2c37d39e_d61c_11ea_a424_8c8590257adbrow2_col0\" class=\"data row2 col0\" >Label Encoded</td>\n",
       "                        <td id=\"T_2c37d39e_d61c_11ea_a424_8c8590257adbrow2_col1\" class=\"data row2 col1\" >None</td>\n",
       "            </tr>\n",
       "            <tr>\n",
       "                        <th id=\"T_2c37d39e_d61c_11ea_a424_8c8590257adblevel0_row3\" class=\"row_heading level0 row3\" >3</th>\n",
       "                        <td id=\"T_2c37d39e_d61c_11ea_a424_8c8590257adbrow3_col0\" class=\"data row3 col0\" >Original Data</td>\n",
       "                        <td id=\"T_2c37d39e_d61c_11ea_a424_8c8590257adbrow3_col1\" class=\"data row3 col1\" >(768, 9)</td>\n",
       "            </tr>\n",
       "            <tr>\n",
       "                        <th id=\"T_2c37d39e_d61c_11ea_a424_8c8590257adblevel0_row4\" class=\"row_heading level0 row4\" >4</th>\n",
       "                        <td id=\"T_2c37d39e_d61c_11ea_a424_8c8590257adbrow4_col0\" class=\"data row4 col0\" >Missing Values </td>\n",
       "                        <td id=\"T_2c37d39e_d61c_11ea_a424_8c8590257adbrow4_col1\" class=\"data row4 col1\" >False</td>\n",
       "            </tr>\n",
       "            <tr>\n",
       "                        <th id=\"T_2c37d39e_d61c_11ea_a424_8c8590257adblevel0_row5\" class=\"row_heading level0 row5\" >5</th>\n",
       "                        <td id=\"T_2c37d39e_d61c_11ea_a424_8c8590257adbrow5_col0\" class=\"data row5 col0\" >Numeric Features </td>\n",
       "                        <td id=\"T_2c37d39e_d61c_11ea_a424_8c8590257adbrow5_col1\" class=\"data row5 col1\" >7</td>\n",
       "            </tr>\n",
       "            <tr>\n",
       "                        <th id=\"T_2c37d39e_d61c_11ea_a424_8c8590257adblevel0_row6\" class=\"row_heading level0 row6\" >6</th>\n",
       "                        <td id=\"T_2c37d39e_d61c_11ea_a424_8c8590257adbrow6_col0\" class=\"data row6 col0\" >Categorical Features </td>\n",
       "                        <td id=\"T_2c37d39e_d61c_11ea_a424_8c8590257adbrow6_col1\" class=\"data row6 col1\" >1</td>\n",
       "            </tr>\n",
       "            <tr>\n",
       "                        <th id=\"T_2c37d39e_d61c_11ea_a424_8c8590257adblevel0_row7\" class=\"row_heading level0 row7\" >7</th>\n",
       "                        <td id=\"T_2c37d39e_d61c_11ea_a424_8c8590257adbrow7_col0\" class=\"data row7 col0\" >Ordinal Features </td>\n",
       "                        <td id=\"T_2c37d39e_d61c_11ea_a424_8c8590257adbrow7_col1\" class=\"data row7 col1\" >False</td>\n",
       "            </tr>\n",
       "            <tr>\n",
       "                        <th id=\"T_2c37d39e_d61c_11ea_a424_8c8590257adblevel0_row8\" class=\"row_heading level0 row8\" >8</th>\n",
       "                        <td id=\"T_2c37d39e_d61c_11ea_a424_8c8590257adbrow8_col0\" class=\"data row8 col0\" >High Cardinality Features </td>\n",
       "                        <td id=\"T_2c37d39e_d61c_11ea_a424_8c8590257adbrow8_col1\" class=\"data row8 col1\" >False</td>\n",
       "            </tr>\n",
       "            <tr>\n",
       "                        <th id=\"T_2c37d39e_d61c_11ea_a424_8c8590257adblevel0_row9\" class=\"row_heading level0 row9\" >9</th>\n",
       "                        <td id=\"T_2c37d39e_d61c_11ea_a424_8c8590257adbrow9_col0\" class=\"data row9 col0\" >High Cardinality Method </td>\n",
       "                        <td id=\"T_2c37d39e_d61c_11ea_a424_8c8590257adbrow9_col1\" class=\"data row9 col1\" >None</td>\n",
       "            </tr>\n",
       "            <tr>\n",
       "                        <th id=\"T_2c37d39e_d61c_11ea_a424_8c8590257adblevel0_row10\" class=\"row_heading level0 row10\" >10</th>\n",
       "                        <td id=\"T_2c37d39e_d61c_11ea_a424_8c8590257adbrow10_col0\" class=\"data row10 col0\" >Sampled Data</td>\n",
       "                        <td id=\"T_2c37d39e_d61c_11ea_a424_8c8590257adbrow10_col1\" class=\"data row10 col1\" >(768, 9)</td>\n",
       "            </tr>\n",
       "            <tr>\n",
       "                        <th id=\"T_2c37d39e_d61c_11ea_a424_8c8590257adblevel0_row11\" class=\"row_heading level0 row11\" >11</th>\n",
       "                        <td id=\"T_2c37d39e_d61c_11ea_a424_8c8590257adbrow11_col0\" class=\"data row11 col0\" >Transformed Train Set</td>\n",
       "                        <td id=\"T_2c37d39e_d61c_11ea_a424_8c8590257adbrow11_col1\" class=\"data row11 col1\" >(537, 24)</td>\n",
       "            </tr>\n",
       "            <tr>\n",
       "                        <th id=\"T_2c37d39e_d61c_11ea_a424_8c8590257adblevel0_row12\" class=\"row_heading level0 row12\" >12</th>\n",
       "                        <td id=\"T_2c37d39e_d61c_11ea_a424_8c8590257adbrow12_col0\" class=\"data row12 col0\" >Transformed Test Set</td>\n",
       "                        <td id=\"T_2c37d39e_d61c_11ea_a424_8c8590257adbrow12_col1\" class=\"data row12 col1\" >(231, 24)</td>\n",
       "            </tr>\n",
       "            <tr>\n",
       "                        <th id=\"T_2c37d39e_d61c_11ea_a424_8c8590257adblevel0_row13\" class=\"row_heading level0 row13\" >13</th>\n",
       "                        <td id=\"T_2c37d39e_d61c_11ea_a424_8c8590257adbrow13_col0\" class=\"data row13 col0\" >Numeric Imputer </td>\n",
       "                        <td id=\"T_2c37d39e_d61c_11ea_a424_8c8590257adbrow13_col1\" class=\"data row13 col1\" >mean</td>\n",
       "            </tr>\n",
       "            <tr>\n",
       "                        <th id=\"T_2c37d39e_d61c_11ea_a424_8c8590257adblevel0_row14\" class=\"row_heading level0 row14\" >14</th>\n",
       "                        <td id=\"T_2c37d39e_d61c_11ea_a424_8c8590257adbrow14_col0\" class=\"data row14 col0\" >Categorical Imputer </td>\n",
       "                        <td id=\"T_2c37d39e_d61c_11ea_a424_8c8590257adbrow14_col1\" class=\"data row14 col1\" >constant</td>\n",
       "            </tr>\n",
       "            <tr>\n",
       "                        <th id=\"T_2c37d39e_d61c_11ea_a424_8c8590257adblevel0_row15\" class=\"row_heading level0 row15\" >15</th>\n",
       "                        <td id=\"T_2c37d39e_d61c_11ea_a424_8c8590257adbrow15_col0\" class=\"data row15 col0\" >Normalize </td>\n",
       "                        <td id=\"T_2c37d39e_d61c_11ea_a424_8c8590257adbrow15_col1\" class=\"data row15 col1\" >False</td>\n",
       "            </tr>\n",
       "            <tr>\n",
       "                        <th id=\"T_2c37d39e_d61c_11ea_a424_8c8590257adblevel0_row16\" class=\"row_heading level0 row16\" >16</th>\n",
       "                        <td id=\"T_2c37d39e_d61c_11ea_a424_8c8590257adbrow16_col0\" class=\"data row16 col0\" >Normalize Method </td>\n",
       "                        <td id=\"T_2c37d39e_d61c_11ea_a424_8c8590257adbrow16_col1\" class=\"data row16 col1\" >None</td>\n",
       "            </tr>\n",
       "            <tr>\n",
       "                        <th id=\"T_2c37d39e_d61c_11ea_a424_8c8590257adblevel0_row17\" class=\"row_heading level0 row17\" >17</th>\n",
       "                        <td id=\"T_2c37d39e_d61c_11ea_a424_8c8590257adbrow17_col0\" class=\"data row17 col0\" >Transformation </td>\n",
       "                        <td id=\"T_2c37d39e_d61c_11ea_a424_8c8590257adbrow17_col1\" class=\"data row17 col1\" >False</td>\n",
       "            </tr>\n",
       "            <tr>\n",
       "                        <th id=\"T_2c37d39e_d61c_11ea_a424_8c8590257adblevel0_row18\" class=\"row_heading level0 row18\" >18</th>\n",
       "                        <td id=\"T_2c37d39e_d61c_11ea_a424_8c8590257adbrow18_col0\" class=\"data row18 col0\" >Transformation Method </td>\n",
       "                        <td id=\"T_2c37d39e_d61c_11ea_a424_8c8590257adbrow18_col1\" class=\"data row18 col1\" >None</td>\n",
       "            </tr>\n",
       "            <tr>\n",
       "                        <th id=\"T_2c37d39e_d61c_11ea_a424_8c8590257adblevel0_row19\" class=\"row_heading level0 row19\" >19</th>\n",
       "                        <td id=\"T_2c37d39e_d61c_11ea_a424_8c8590257adbrow19_col0\" class=\"data row19 col0\" >PCA </td>\n",
       "                        <td id=\"T_2c37d39e_d61c_11ea_a424_8c8590257adbrow19_col1\" class=\"data row19 col1\" >False</td>\n",
       "            </tr>\n",
       "            <tr>\n",
       "                        <th id=\"T_2c37d39e_d61c_11ea_a424_8c8590257adblevel0_row20\" class=\"row_heading level0 row20\" >20</th>\n",
       "                        <td id=\"T_2c37d39e_d61c_11ea_a424_8c8590257adbrow20_col0\" class=\"data row20 col0\" >PCA Method </td>\n",
       "                        <td id=\"T_2c37d39e_d61c_11ea_a424_8c8590257adbrow20_col1\" class=\"data row20 col1\" >None</td>\n",
       "            </tr>\n",
       "            <tr>\n",
       "                        <th id=\"T_2c37d39e_d61c_11ea_a424_8c8590257adblevel0_row21\" class=\"row_heading level0 row21\" >21</th>\n",
       "                        <td id=\"T_2c37d39e_d61c_11ea_a424_8c8590257adbrow21_col0\" class=\"data row21 col0\" >PCA Components </td>\n",
       "                        <td id=\"T_2c37d39e_d61c_11ea_a424_8c8590257adbrow21_col1\" class=\"data row21 col1\" >None</td>\n",
       "            </tr>\n",
       "            <tr>\n",
       "                        <th id=\"T_2c37d39e_d61c_11ea_a424_8c8590257adblevel0_row22\" class=\"row_heading level0 row22\" >22</th>\n",
       "                        <td id=\"T_2c37d39e_d61c_11ea_a424_8c8590257adbrow22_col0\" class=\"data row22 col0\" >Ignore Low Variance </td>\n",
       "                        <td id=\"T_2c37d39e_d61c_11ea_a424_8c8590257adbrow22_col1\" class=\"data row22 col1\" >False</td>\n",
       "            </tr>\n",
       "            <tr>\n",
       "                        <th id=\"T_2c37d39e_d61c_11ea_a424_8c8590257adblevel0_row23\" class=\"row_heading level0 row23\" >23</th>\n",
       "                        <td id=\"T_2c37d39e_d61c_11ea_a424_8c8590257adbrow23_col0\" class=\"data row23 col0\" >Combine Rare Levels </td>\n",
       "                        <td id=\"T_2c37d39e_d61c_11ea_a424_8c8590257adbrow23_col1\" class=\"data row23 col1\" >False</td>\n",
       "            </tr>\n",
       "            <tr>\n",
       "                        <th id=\"T_2c37d39e_d61c_11ea_a424_8c8590257adblevel0_row24\" class=\"row_heading level0 row24\" >24</th>\n",
       "                        <td id=\"T_2c37d39e_d61c_11ea_a424_8c8590257adbrow24_col0\" class=\"data row24 col0\" >Rare Level Threshold </td>\n",
       "                        <td id=\"T_2c37d39e_d61c_11ea_a424_8c8590257adbrow24_col1\" class=\"data row24 col1\" >None</td>\n",
       "            </tr>\n",
       "            <tr>\n",
       "                        <th id=\"T_2c37d39e_d61c_11ea_a424_8c8590257adblevel0_row25\" class=\"row_heading level0 row25\" >25</th>\n",
       "                        <td id=\"T_2c37d39e_d61c_11ea_a424_8c8590257adbrow25_col0\" class=\"data row25 col0\" >Numeric Binning </td>\n",
       "                        <td id=\"T_2c37d39e_d61c_11ea_a424_8c8590257adbrow25_col1\" class=\"data row25 col1\" >False</td>\n",
       "            </tr>\n",
       "            <tr>\n",
       "                        <th id=\"T_2c37d39e_d61c_11ea_a424_8c8590257adblevel0_row26\" class=\"row_heading level0 row26\" >26</th>\n",
       "                        <td id=\"T_2c37d39e_d61c_11ea_a424_8c8590257adbrow26_col0\" class=\"data row26 col0\" >Remove Outliers </td>\n",
       "                        <td id=\"T_2c37d39e_d61c_11ea_a424_8c8590257adbrow26_col1\" class=\"data row26 col1\" >False</td>\n",
       "            </tr>\n",
       "            <tr>\n",
       "                        <th id=\"T_2c37d39e_d61c_11ea_a424_8c8590257adblevel0_row27\" class=\"row_heading level0 row27\" >27</th>\n",
       "                        <td id=\"T_2c37d39e_d61c_11ea_a424_8c8590257adbrow27_col0\" class=\"data row27 col0\" >Outliers Threshold </td>\n",
       "                        <td id=\"T_2c37d39e_d61c_11ea_a424_8c8590257adbrow27_col1\" class=\"data row27 col1\" >None</td>\n",
       "            </tr>\n",
       "            <tr>\n",
       "                        <th id=\"T_2c37d39e_d61c_11ea_a424_8c8590257adblevel0_row28\" class=\"row_heading level0 row28\" >28</th>\n",
       "                        <td id=\"T_2c37d39e_d61c_11ea_a424_8c8590257adbrow28_col0\" class=\"data row28 col0\" >Remove Multicollinearity </td>\n",
       "                        <td id=\"T_2c37d39e_d61c_11ea_a424_8c8590257adbrow28_col1\" class=\"data row28 col1\" >False</td>\n",
       "            </tr>\n",
       "            <tr>\n",
       "                        <th id=\"T_2c37d39e_d61c_11ea_a424_8c8590257adblevel0_row29\" class=\"row_heading level0 row29\" >29</th>\n",
       "                        <td id=\"T_2c37d39e_d61c_11ea_a424_8c8590257adbrow29_col0\" class=\"data row29 col0\" >Multicollinearity Threshold </td>\n",
       "                        <td id=\"T_2c37d39e_d61c_11ea_a424_8c8590257adbrow29_col1\" class=\"data row29 col1\" >None</td>\n",
       "            </tr>\n",
       "            <tr>\n",
       "                        <th id=\"T_2c37d39e_d61c_11ea_a424_8c8590257adblevel0_row30\" class=\"row_heading level0 row30\" >30</th>\n",
       "                        <td id=\"T_2c37d39e_d61c_11ea_a424_8c8590257adbrow30_col0\" class=\"data row30 col0\" >Clustering </td>\n",
       "                        <td id=\"T_2c37d39e_d61c_11ea_a424_8c8590257adbrow30_col1\" class=\"data row30 col1\" >False</td>\n",
       "            </tr>\n",
       "            <tr>\n",
       "                        <th id=\"T_2c37d39e_d61c_11ea_a424_8c8590257adblevel0_row31\" class=\"row_heading level0 row31\" >31</th>\n",
       "                        <td id=\"T_2c37d39e_d61c_11ea_a424_8c8590257adbrow31_col0\" class=\"data row31 col0\" >Clustering Iteration </td>\n",
       "                        <td id=\"T_2c37d39e_d61c_11ea_a424_8c8590257adbrow31_col1\" class=\"data row31 col1\" >None</td>\n",
       "            </tr>\n",
       "            <tr>\n",
       "                        <th id=\"T_2c37d39e_d61c_11ea_a424_8c8590257adblevel0_row32\" class=\"row_heading level0 row32\" >32</th>\n",
       "                        <td id=\"T_2c37d39e_d61c_11ea_a424_8c8590257adbrow32_col0\" class=\"data row32 col0\" >Polynomial Features </td>\n",
       "                        <td id=\"T_2c37d39e_d61c_11ea_a424_8c8590257adbrow32_col1\" class=\"data row32 col1\" >False</td>\n",
       "            </tr>\n",
       "            <tr>\n",
       "                        <th id=\"T_2c37d39e_d61c_11ea_a424_8c8590257adblevel0_row33\" class=\"row_heading level0 row33\" >33</th>\n",
       "                        <td id=\"T_2c37d39e_d61c_11ea_a424_8c8590257adbrow33_col0\" class=\"data row33 col0\" >Polynomial Degree </td>\n",
       "                        <td id=\"T_2c37d39e_d61c_11ea_a424_8c8590257adbrow33_col1\" class=\"data row33 col1\" >None</td>\n",
       "            </tr>\n",
       "            <tr>\n",
       "                        <th id=\"T_2c37d39e_d61c_11ea_a424_8c8590257adblevel0_row34\" class=\"row_heading level0 row34\" >34</th>\n",
       "                        <td id=\"T_2c37d39e_d61c_11ea_a424_8c8590257adbrow34_col0\" class=\"data row34 col0\" >Trignometry Features </td>\n",
       "                        <td id=\"T_2c37d39e_d61c_11ea_a424_8c8590257adbrow34_col1\" class=\"data row34 col1\" >False</td>\n",
       "            </tr>\n",
       "            <tr>\n",
       "                        <th id=\"T_2c37d39e_d61c_11ea_a424_8c8590257adblevel0_row35\" class=\"row_heading level0 row35\" >35</th>\n",
       "                        <td id=\"T_2c37d39e_d61c_11ea_a424_8c8590257adbrow35_col0\" class=\"data row35 col0\" >Polynomial Threshold </td>\n",
       "                        <td id=\"T_2c37d39e_d61c_11ea_a424_8c8590257adbrow35_col1\" class=\"data row35 col1\" >None</td>\n",
       "            </tr>\n",
       "            <tr>\n",
       "                        <th id=\"T_2c37d39e_d61c_11ea_a424_8c8590257adblevel0_row36\" class=\"row_heading level0 row36\" >36</th>\n",
       "                        <td id=\"T_2c37d39e_d61c_11ea_a424_8c8590257adbrow36_col0\" class=\"data row36 col0\" >Group Features </td>\n",
       "                        <td id=\"T_2c37d39e_d61c_11ea_a424_8c8590257adbrow36_col1\" class=\"data row36 col1\" >False</td>\n",
       "            </tr>\n",
       "            <tr>\n",
       "                        <th id=\"T_2c37d39e_d61c_11ea_a424_8c8590257adblevel0_row37\" class=\"row_heading level0 row37\" >37</th>\n",
       "                        <td id=\"T_2c37d39e_d61c_11ea_a424_8c8590257adbrow37_col0\" class=\"data row37 col0\" >Feature Selection </td>\n",
       "                        <td id=\"T_2c37d39e_d61c_11ea_a424_8c8590257adbrow37_col1\" class=\"data row37 col1\" >False</td>\n",
       "            </tr>\n",
       "            <tr>\n",
       "                        <th id=\"T_2c37d39e_d61c_11ea_a424_8c8590257adblevel0_row38\" class=\"row_heading level0 row38\" >38</th>\n",
       "                        <td id=\"T_2c37d39e_d61c_11ea_a424_8c8590257adbrow38_col0\" class=\"data row38 col0\" >Features Selection Threshold </td>\n",
       "                        <td id=\"T_2c37d39e_d61c_11ea_a424_8c8590257adbrow38_col1\" class=\"data row38 col1\" >None</td>\n",
       "            </tr>\n",
       "            <tr>\n",
       "                        <th id=\"T_2c37d39e_d61c_11ea_a424_8c8590257adblevel0_row39\" class=\"row_heading level0 row39\" >39</th>\n",
       "                        <td id=\"T_2c37d39e_d61c_11ea_a424_8c8590257adbrow39_col0\" class=\"data row39 col0\" >Feature Interaction </td>\n",
       "                        <td id=\"T_2c37d39e_d61c_11ea_a424_8c8590257adbrow39_col1\" class=\"data row39 col1\" >False</td>\n",
       "            </tr>\n",
       "            <tr>\n",
       "                        <th id=\"T_2c37d39e_d61c_11ea_a424_8c8590257adblevel0_row40\" class=\"row_heading level0 row40\" >40</th>\n",
       "                        <td id=\"T_2c37d39e_d61c_11ea_a424_8c8590257adbrow40_col0\" class=\"data row40 col0\" >Feature Ratio </td>\n",
       "                        <td id=\"T_2c37d39e_d61c_11ea_a424_8c8590257adbrow40_col1\" class=\"data row40 col1\" >False</td>\n",
       "            </tr>\n",
       "            <tr>\n",
       "                        <th id=\"T_2c37d39e_d61c_11ea_a424_8c8590257adblevel0_row41\" class=\"row_heading level0 row41\" >41</th>\n",
       "                        <td id=\"T_2c37d39e_d61c_11ea_a424_8c8590257adbrow41_col0\" class=\"data row41 col0\" >Interaction Threshold </td>\n",
       "                        <td id=\"T_2c37d39e_d61c_11ea_a424_8c8590257adbrow41_col1\" class=\"data row41 col1\" >None</td>\n",
       "            </tr>\n",
       "            <tr>\n",
       "                        <th id=\"T_2c37d39e_d61c_11ea_a424_8c8590257adblevel0_row42\" class=\"row_heading level0 row42\" >42</th>\n",
       "                        <td id=\"T_2c37d39e_d61c_11ea_a424_8c8590257adbrow42_col0\" class=\"data row42 col0\" >Fix Imbalance</td>\n",
       "                        <td id=\"T_2c37d39e_d61c_11ea_a424_8c8590257adbrow42_col1\" class=\"data row42 col1\" >False</td>\n",
       "            </tr>\n",
       "            <tr>\n",
       "                        <th id=\"T_2c37d39e_d61c_11ea_a424_8c8590257adblevel0_row43\" class=\"row_heading level0 row43\" >43</th>\n",
       "                        <td id=\"T_2c37d39e_d61c_11ea_a424_8c8590257adbrow43_col0\" class=\"data row43 col0\" >Fix Imbalance Method</td>\n",
       "                        <td id=\"T_2c37d39e_d61c_11ea_a424_8c8590257adbrow43_col1\" class=\"data row43 col1\" >SMOTE</td>\n",
       "            </tr>\n",
       "    </tbody></table>"
      ],
      "text/plain": [
       "<pandas.io.formats.style.Styler at 0x7fefa066a890>"
      ]
     },
     "metadata": {},
     "output_type": "display_data"
    }
   ],
   "source": [
    "#not doing any feature engineering and other steps, just want to apply machine learning at the moment\n",
    "from pycaret.classification import *\n",
    "clf=setup(data=diabetes_df,target='Class variable')"
   ]
  },
  {
   "cell_type": "code",
   "execution_count": 19,
   "metadata": {},
   "outputs": [
    {
     "data": {
      "text/html": [
       "<style  type=\"text/css\" >\n",
       "    #T_47fa0048_d61c_11ea_a424_8c8590257adb th {\n",
       "          text-align: left;\n",
       "    }    #T_47fa0048_d61c_11ea_a424_8c8590257adbrow0_col0 {\n",
       "            text-align:  left;\n",
       "        }    #T_47fa0048_d61c_11ea_a424_8c8590257adbrow0_col1 {\n",
       "            background-color:  yellow;\n",
       "            text-align:  left;\n",
       "        }    #T_47fa0048_d61c_11ea_a424_8c8590257adbrow0_col2 {\n",
       "            : ;\n",
       "            text-align:  left;\n",
       "        }    #T_47fa0048_d61c_11ea_a424_8c8590257adbrow0_col3 {\n",
       "            : ;\n",
       "            text-align:  left;\n",
       "        }    #T_47fa0048_d61c_11ea_a424_8c8590257adbrow0_col4 {\n",
       "            background-color:  yellow;\n",
       "            text-align:  left;\n",
       "        }    #T_47fa0048_d61c_11ea_a424_8c8590257adbrow0_col5 {\n",
       "            : ;\n",
       "            text-align:  left;\n",
       "        }    #T_47fa0048_d61c_11ea_a424_8c8590257adbrow0_col6 {\n",
       "            background-color:  yellow;\n",
       "            text-align:  left;\n",
       "        }    #T_47fa0048_d61c_11ea_a424_8c8590257adbrow0_col7 {\n",
       "            background-color:  yellow;\n",
       "            text-align:  left;\n",
       "        }    #T_47fa0048_d61c_11ea_a424_8c8590257adbrow0_col8 {\n",
       "            background-color:  lightgrey;\n",
       "            text-align:  left;\n",
       "        }    #T_47fa0048_d61c_11ea_a424_8c8590257adbrow1_col0 {\n",
       "            text-align:  left;\n",
       "        }    #T_47fa0048_d61c_11ea_a424_8c8590257adbrow1_col1 {\n",
       "            : ;\n",
       "            text-align:  left;\n",
       "        }    #T_47fa0048_d61c_11ea_a424_8c8590257adbrow1_col2 {\n",
       "            : ;\n",
       "            text-align:  left;\n",
       "        }    #T_47fa0048_d61c_11ea_a424_8c8590257adbrow1_col3 {\n",
       "            : ;\n",
       "            text-align:  left;\n",
       "        }    #T_47fa0048_d61c_11ea_a424_8c8590257adbrow1_col4 {\n",
       "            : ;\n",
       "            text-align:  left;\n",
       "        }    #T_47fa0048_d61c_11ea_a424_8c8590257adbrow1_col5 {\n",
       "            : ;\n",
       "            text-align:  left;\n",
       "        }    #T_47fa0048_d61c_11ea_a424_8c8590257adbrow1_col6 {\n",
       "            : ;\n",
       "            text-align:  left;\n",
       "        }    #T_47fa0048_d61c_11ea_a424_8c8590257adbrow1_col7 {\n",
       "            : ;\n",
       "            text-align:  left;\n",
       "        }    #T_47fa0048_d61c_11ea_a424_8c8590257adbrow1_col8 {\n",
       "            background-color:  lightgrey;\n",
       "            text-align:  left;\n",
       "        }    #T_47fa0048_d61c_11ea_a424_8c8590257adbrow2_col0 {\n",
       "            text-align:  left;\n",
       "        }    #T_47fa0048_d61c_11ea_a424_8c8590257adbrow2_col1 {\n",
       "            : ;\n",
       "            text-align:  left;\n",
       "        }    #T_47fa0048_d61c_11ea_a424_8c8590257adbrow2_col2 {\n",
       "            background-color:  yellow;\n",
       "            text-align:  left;\n",
       "        }    #T_47fa0048_d61c_11ea_a424_8c8590257adbrow2_col3 {\n",
       "            : ;\n",
       "            text-align:  left;\n",
       "        }    #T_47fa0048_d61c_11ea_a424_8c8590257adbrow2_col4 {\n",
       "            : ;\n",
       "            text-align:  left;\n",
       "        }    #T_47fa0048_d61c_11ea_a424_8c8590257adbrow2_col5 {\n",
       "            background-color:  yellow;\n",
       "            text-align:  left;\n",
       "        }    #T_47fa0048_d61c_11ea_a424_8c8590257adbrow2_col6 {\n",
       "            : ;\n",
       "            text-align:  left;\n",
       "        }    #T_47fa0048_d61c_11ea_a424_8c8590257adbrow2_col7 {\n",
       "            : ;\n",
       "            text-align:  left;\n",
       "        }    #T_47fa0048_d61c_11ea_a424_8c8590257adbrow2_col8 {\n",
       "            background-color:  lightgrey;\n",
       "            text-align:  left;\n",
       "        }    #T_47fa0048_d61c_11ea_a424_8c8590257adbrow3_col0 {\n",
       "            text-align:  left;\n",
       "        }    #T_47fa0048_d61c_11ea_a424_8c8590257adbrow3_col1 {\n",
       "            : ;\n",
       "            text-align:  left;\n",
       "        }    #T_47fa0048_d61c_11ea_a424_8c8590257adbrow3_col2 {\n",
       "            : ;\n",
       "            text-align:  left;\n",
       "        }    #T_47fa0048_d61c_11ea_a424_8c8590257adbrow3_col3 {\n",
       "            : ;\n",
       "            text-align:  left;\n",
       "        }    #T_47fa0048_d61c_11ea_a424_8c8590257adbrow3_col4 {\n",
       "            : ;\n",
       "            text-align:  left;\n",
       "        }    #T_47fa0048_d61c_11ea_a424_8c8590257adbrow3_col5 {\n",
       "            : ;\n",
       "            text-align:  left;\n",
       "        }    #T_47fa0048_d61c_11ea_a424_8c8590257adbrow3_col6 {\n",
       "            : ;\n",
       "            text-align:  left;\n",
       "        }    #T_47fa0048_d61c_11ea_a424_8c8590257adbrow3_col7 {\n",
       "            : ;\n",
       "            text-align:  left;\n",
       "        }    #T_47fa0048_d61c_11ea_a424_8c8590257adbrow3_col8 {\n",
       "            background-color:  lightgrey;\n",
       "            text-align:  left;\n",
       "        }    #T_47fa0048_d61c_11ea_a424_8c8590257adbrow4_col0 {\n",
       "            text-align:  left;\n",
       "        }    #T_47fa0048_d61c_11ea_a424_8c8590257adbrow4_col1 {\n",
       "            : ;\n",
       "            text-align:  left;\n",
       "        }    #T_47fa0048_d61c_11ea_a424_8c8590257adbrow4_col2 {\n",
       "            : ;\n",
       "            text-align:  left;\n",
       "        }    #T_47fa0048_d61c_11ea_a424_8c8590257adbrow4_col3 {\n",
       "            : ;\n",
       "            text-align:  left;\n",
       "        }    #T_47fa0048_d61c_11ea_a424_8c8590257adbrow4_col4 {\n",
       "            : ;\n",
       "            text-align:  left;\n",
       "        }    #T_47fa0048_d61c_11ea_a424_8c8590257adbrow4_col5 {\n",
       "            : ;\n",
       "            text-align:  left;\n",
       "        }    #T_47fa0048_d61c_11ea_a424_8c8590257adbrow4_col6 {\n",
       "            : ;\n",
       "            text-align:  left;\n",
       "        }    #T_47fa0048_d61c_11ea_a424_8c8590257adbrow4_col7 {\n",
       "            : ;\n",
       "            text-align:  left;\n",
       "        }    #T_47fa0048_d61c_11ea_a424_8c8590257adbrow4_col8 {\n",
       "            background-color:  lightgrey;\n",
       "            text-align:  left;\n",
       "        }    #T_47fa0048_d61c_11ea_a424_8c8590257adbrow5_col0 {\n",
       "            text-align:  left;\n",
       "        }    #T_47fa0048_d61c_11ea_a424_8c8590257adbrow5_col1 {\n",
       "            : ;\n",
       "            text-align:  left;\n",
       "        }    #T_47fa0048_d61c_11ea_a424_8c8590257adbrow5_col2 {\n",
       "            : ;\n",
       "            text-align:  left;\n",
       "        }    #T_47fa0048_d61c_11ea_a424_8c8590257adbrow5_col3 {\n",
       "            : ;\n",
       "            text-align:  left;\n",
       "        }    #T_47fa0048_d61c_11ea_a424_8c8590257adbrow5_col4 {\n",
       "            : ;\n",
       "            text-align:  left;\n",
       "        }    #T_47fa0048_d61c_11ea_a424_8c8590257adbrow5_col5 {\n",
       "            : ;\n",
       "            text-align:  left;\n",
       "        }    #T_47fa0048_d61c_11ea_a424_8c8590257adbrow5_col6 {\n",
       "            : ;\n",
       "            text-align:  left;\n",
       "        }    #T_47fa0048_d61c_11ea_a424_8c8590257adbrow5_col7 {\n",
       "            : ;\n",
       "            text-align:  left;\n",
       "        }    #T_47fa0048_d61c_11ea_a424_8c8590257adbrow5_col8 {\n",
       "            background-color:  lightgrey;\n",
       "            text-align:  left;\n",
       "        }    #T_47fa0048_d61c_11ea_a424_8c8590257adbrow6_col0 {\n",
       "            text-align:  left;\n",
       "        }    #T_47fa0048_d61c_11ea_a424_8c8590257adbrow6_col1 {\n",
       "            : ;\n",
       "            text-align:  left;\n",
       "        }    #T_47fa0048_d61c_11ea_a424_8c8590257adbrow6_col2 {\n",
       "            : ;\n",
       "            text-align:  left;\n",
       "        }    #T_47fa0048_d61c_11ea_a424_8c8590257adbrow6_col3 {\n",
       "            : ;\n",
       "            text-align:  left;\n",
       "        }    #T_47fa0048_d61c_11ea_a424_8c8590257adbrow6_col4 {\n",
       "            : ;\n",
       "            text-align:  left;\n",
       "        }    #T_47fa0048_d61c_11ea_a424_8c8590257adbrow6_col5 {\n",
       "            : ;\n",
       "            text-align:  left;\n",
       "        }    #T_47fa0048_d61c_11ea_a424_8c8590257adbrow6_col6 {\n",
       "            : ;\n",
       "            text-align:  left;\n",
       "        }    #T_47fa0048_d61c_11ea_a424_8c8590257adbrow6_col7 {\n",
       "            : ;\n",
       "            text-align:  left;\n",
       "        }    #T_47fa0048_d61c_11ea_a424_8c8590257adbrow6_col8 {\n",
       "            background-color:  lightgrey;\n",
       "            text-align:  left;\n",
       "        }    #T_47fa0048_d61c_11ea_a424_8c8590257adbrow7_col0 {\n",
       "            text-align:  left;\n",
       "        }    #T_47fa0048_d61c_11ea_a424_8c8590257adbrow7_col1 {\n",
       "            : ;\n",
       "            text-align:  left;\n",
       "        }    #T_47fa0048_d61c_11ea_a424_8c8590257adbrow7_col2 {\n",
       "            : ;\n",
       "            text-align:  left;\n",
       "        }    #T_47fa0048_d61c_11ea_a424_8c8590257adbrow7_col3 {\n",
       "            : ;\n",
       "            text-align:  left;\n",
       "        }    #T_47fa0048_d61c_11ea_a424_8c8590257adbrow7_col4 {\n",
       "            : ;\n",
       "            text-align:  left;\n",
       "        }    #T_47fa0048_d61c_11ea_a424_8c8590257adbrow7_col5 {\n",
       "            : ;\n",
       "            text-align:  left;\n",
       "        }    #T_47fa0048_d61c_11ea_a424_8c8590257adbrow7_col6 {\n",
       "            : ;\n",
       "            text-align:  left;\n",
       "        }    #T_47fa0048_d61c_11ea_a424_8c8590257adbrow7_col7 {\n",
       "            : ;\n",
       "            text-align:  left;\n",
       "        }    #T_47fa0048_d61c_11ea_a424_8c8590257adbrow7_col8 {\n",
       "            background-color:  lightgrey;\n",
       "            text-align:  left;\n",
       "        }    #T_47fa0048_d61c_11ea_a424_8c8590257adbrow8_col0 {\n",
       "            text-align:  left;\n",
       "        }    #T_47fa0048_d61c_11ea_a424_8c8590257adbrow8_col1 {\n",
       "            : ;\n",
       "            text-align:  left;\n",
       "        }    #T_47fa0048_d61c_11ea_a424_8c8590257adbrow8_col2 {\n",
       "            : ;\n",
       "            text-align:  left;\n",
       "        }    #T_47fa0048_d61c_11ea_a424_8c8590257adbrow8_col3 {\n",
       "            : ;\n",
       "            text-align:  left;\n",
       "        }    #T_47fa0048_d61c_11ea_a424_8c8590257adbrow8_col4 {\n",
       "            : ;\n",
       "            text-align:  left;\n",
       "        }    #T_47fa0048_d61c_11ea_a424_8c8590257adbrow8_col5 {\n",
       "            : ;\n",
       "            text-align:  left;\n",
       "        }    #T_47fa0048_d61c_11ea_a424_8c8590257adbrow8_col6 {\n",
       "            : ;\n",
       "            text-align:  left;\n",
       "        }    #T_47fa0048_d61c_11ea_a424_8c8590257adbrow8_col7 {\n",
       "            : ;\n",
       "            text-align:  left;\n",
       "        }    #T_47fa0048_d61c_11ea_a424_8c8590257adbrow8_col8 {\n",
       "            background-color:  lightgrey;\n",
       "            text-align:  left;\n",
       "        }    #T_47fa0048_d61c_11ea_a424_8c8590257adbrow9_col0 {\n",
       "            text-align:  left;\n",
       "        }    #T_47fa0048_d61c_11ea_a424_8c8590257adbrow9_col1 {\n",
       "            : ;\n",
       "            text-align:  left;\n",
       "        }    #T_47fa0048_d61c_11ea_a424_8c8590257adbrow9_col2 {\n",
       "            : ;\n",
       "            text-align:  left;\n",
       "        }    #T_47fa0048_d61c_11ea_a424_8c8590257adbrow9_col3 {\n",
       "            : ;\n",
       "            text-align:  left;\n",
       "        }    #T_47fa0048_d61c_11ea_a424_8c8590257adbrow9_col4 {\n",
       "            : ;\n",
       "            text-align:  left;\n",
       "        }    #T_47fa0048_d61c_11ea_a424_8c8590257adbrow9_col5 {\n",
       "            : ;\n",
       "            text-align:  left;\n",
       "        }    #T_47fa0048_d61c_11ea_a424_8c8590257adbrow9_col6 {\n",
       "            : ;\n",
       "            text-align:  left;\n",
       "        }    #T_47fa0048_d61c_11ea_a424_8c8590257adbrow9_col7 {\n",
       "            : ;\n",
       "            text-align:  left;\n",
       "        }    #T_47fa0048_d61c_11ea_a424_8c8590257adbrow9_col8 {\n",
       "            background-color:  lightgrey;\n",
       "            text-align:  left;\n",
       "        }    #T_47fa0048_d61c_11ea_a424_8c8590257adbrow10_col0 {\n",
       "            text-align:  left;\n",
       "        }    #T_47fa0048_d61c_11ea_a424_8c8590257adbrow10_col1 {\n",
       "            : ;\n",
       "            text-align:  left;\n",
       "        }    #T_47fa0048_d61c_11ea_a424_8c8590257adbrow10_col2 {\n",
       "            : ;\n",
       "            text-align:  left;\n",
       "        }    #T_47fa0048_d61c_11ea_a424_8c8590257adbrow10_col3 {\n",
       "            : ;\n",
       "            text-align:  left;\n",
       "        }    #T_47fa0048_d61c_11ea_a424_8c8590257adbrow10_col4 {\n",
       "            : ;\n",
       "            text-align:  left;\n",
       "        }    #T_47fa0048_d61c_11ea_a424_8c8590257adbrow10_col5 {\n",
       "            : ;\n",
       "            text-align:  left;\n",
       "        }    #T_47fa0048_d61c_11ea_a424_8c8590257adbrow10_col6 {\n",
       "            : ;\n",
       "            text-align:  left;\n",
       "        }    #T_47fa0048_d61c_11ea_a424_8c8590257adbrow10_col7 {\n",
       "            : ;\n",
       "            text-align:  left;\n",
       "        }    #T_47fa0048_d61c_11ea_a424_8c8590257adbrow10_col8 {\n",
       "            background-color:  lightgrey;\n",
       "            text-align:  left;\n",
       "        }    #T_47fa0048_d61c_11ea_a424_8c8590257adbrow11_col0 {\n",
       "            text-align:  left;\n",
       "        }    #T_47fa0048_d61c_11ea_a424_8c8590257adbrow11_col1 {\n",
       "            : ;\n",
       "            text-align:  left;\n",
       "        }    #T_47fa0048_d61c_11ea_a424_8c8590257adbrow11_col2 {\n",
       "            : ;\n",
       "            text-align:  left;\n",
       "        }    #T_47fa0048_d61c_11ea_a424_8c8590257adbrow11_col3 {\n",
       "            : ;\n",
       "            text-align:  left;\n",
       "        }    #T_47fa0048_d61c_11ea_a424_8c8590257adbrow11_col4 {\n",
       "            : ;\n",
       "            text-align:  left;\n",
       "        }    #T_47fa0048_d61c_11ea_a424_8c8590257adbrow11_col5 {\n",
       "            : ;\n",
       "            text-align:  left;\n",
       "        }    #T_47fa0048_d61c_11ea_a424_8c8590257adbrow11_col6 {\n",
       "            : ;\n",
       "            text-align:  left;\n",
       "        }    #T_47fa0048_d61c_11ea_a424_8c8590257adbrow11_col7 {\n",
       "            : ;\n",
       "            text-align:  left;\n",
       "        }    #T_47fa0048_d61c_11ea_a424_8c8590257adbrow11_col8 {\n",
       "            background-color:  lightgrey;\n",
       "            text-align:  left;\n",
       "        }    #T_47fa0048_d61c_11ea_a424_8c8590257adbrow12_col0 {\n",
       "            text-align:  left;\n",
       "        }    #T_47fa0048_d61c_11ea_a424_8c8590257adbrow12_col1 {\n",
       "            : ;\n",
       "            text-align:  left;\n",
       "        }    #T_47fa0048_d61c_11ea_a424_8c8590257adbrow12_col2 {\n",
       "            : ;\n",
       "            text-align:  left;\n",
       "        }    #T_47fa0048_d61c_11ea_a424_8c8590257adbrow12_col3 {\n",
       "            : ;\n",
       "            text-align:  left;\n",
       "        }    #T_47fa0048_d61c_11ea_a424_8c8590257adbrow12_col4 {\n",
       "            : ;\n",
       "            text-align:  left;\n",
       "        }    #T_47fa0048_d61c_11ea_a424_8c8590257adbrow12_col5 {\n",
       "            : ;\n",
       "            text-align:  left;\n",
       "        }    #T_47fa0048_d61c_11ea_a424_8c8590257adbrow12_col6 {\n",
       "            : ;\n",
       "            text-align:  left;\n",
       "        }    #T_47fa0048_d61c_11ea_a424_8c8590257adbrow12_col7 {\n",
       "            : ;\n",
       "            text-align:  left;\n",
       "        }    #T_47fa0048_d61c_11ea_a424_8c8590257adbrow12_col8 {\n",
       "            background-color:  lightgrey;\n",
       "            text-align:  left;\n",
       "        }    #T_47fa0048_d61c_11ea_a424_8c8590257adbrow13_col0 {\n",
       "            text-align:  left;\n",
       "        }    #T_47fa0048_d61c_11ea_a424_8c8590257adbrow13_col1 {\n",
       "            : ;\n",
       "            text-align:  left;\n",
       "        }    #T_47fa0048_d61c_11ea_a424_8c8590257adbrow13_col2 {\n",
       "            : ;\n",
       "            text-align:  left;\n",
       "        }    #T_47fa0048_d61c_11ea_a424_8c8590257adbrow13_col3 {\n",
       "            : ;\n",
       "            text-align:  left;\n",
       "        }    #T_47fa0048_d61c_11ea_a424_8c8590257adbrow13_col4 {\n",
       "            : ;\n",
       "            text-align:  left;\n",
       "        }    #T_47fa0048_d61c_11ea_a424_8c8590257adbrow13_col5 {\n",
       "            : ;\n",
       "            text-align:  left;\n",
       "        }    #T_47fa0048_d61c_11ea_a424_8c8590257adbrow13_col6 {\n",
       "            : ;\n",
       "            text-align:  left;\n",
       "        }    #T_47fa0048_d61c_11ea_a424_8c8590257adbrow13_col7 {\n",
       "            : ;\n",
       "            text-align:  left;\n",
       "        }    #T_47fa0048_d61c_11ea_a424_8c8590257adbrow13_col8 {\n",
       "            background-color:  lightgrey;\n",
       "            text-align:  left;\n",
       "        }    #T_47fa0048_d61c_11ea_a424_8c8590257adbrow14_col0 {\n",
       "            text-align:  left;\n",
       "        }    #T_47fa0048_d61c_11ea_a424_8c8590257adbrow14_col1 {\n",
       "            : ;\n",
       "            text-align:  left;\n",
       "        }    #T_47fa0048_d61c_11ea_a424_8c8590257adbrow14_col2 {\n",
       "            : ;\n",
       "            text-align:  left;\n",
       "        }    #T_47fa0048_d61c_11ea_a424_8c8590257adbrow14_col3 {\n",
       "            background-color:  yellow;\n",
       "            text-align:  left;\n",
       "        }    #T_47fa0048_d61c_11ea_a424_8c8590257adbrow14_col4 {\n",
       "            : ;\n",
       "            text-align:  left;\n",
       "        }    #T_47fa0048_d61c_11ea_a424_8c8590257adbrow14_col5 {\n",
       "            : ;\n",
       "            text-align:  left;\n",
       "        }    #T_47fa0048_d61c_11ea_a424_8c8590257adbrow14_col6 {\n",
       "            : ;\n",
       "            text-align:  left;\n",
       "        }    #T_47fa0048_d61c_11ea_a424_8c8590257adbrow14_col7 {\n",
       "            : ;\n",
       "            text-align:  left;\n",
       "        }    #T_47fa0048_d61c_11ea_a424_8c8590257adbrow14_col8 {\n",
       "            background-color:  lightgrey;\n",
       "            text-align:  left;\n",
       "        }</style><table id=\"T_47fa0048_d61c_11ea_a424_8c8590257adb\" ><thead>    <tr>        <th class=\"blank level0\" ></th>        <th class=\"col_heading level0 col0\" >Model</th>        <th class=\"col_heading level0 col1\" >Accuracy</th>        <th class=\"col_heading level0 col2\" >AUC</th>        <th class=\"col_heading level0 col3\" >Recall</th>        <th class=\"col_heading level0 col4\" >Prec.</th>        <th class=\"col_heading level0 col5\" >F1</th>        <th class=\"col_heading level0 col6\" >Kappa</th>        <th class=\"col_heading level0 col7\" >MCC</th>        <th class=\"col_heading level0 col8\" >TT (Sec)</th>    </tr></thead><tbody>\n",
       "                <tr>\n",
       "                        <th id=\"T_47fa0048_d61c_11ea_a424_8c8590257adblevel0_row0\" class=\"row_heading level0 row0\" >0</th>\n",
       "                        <td id=\"T_47fa0048_d61c_11ea_a424_8c8590257adbrow0_col0\" class=\"data row0 col0\" >Linear Discriminant Analysis</td>\n",
       "                        <td id=\"T_47fa0048_d61c_11ea_a424_8c8590257adbrow0_col1\" class=\"data row0 col1\" >0.7745</td>\n",
       "                        <td id=\"T_47fa0048_d61c_11ea_a424_8c8590257adbrow0_col2\" class=\"data row0 col2\" >0.8304</td>\n",
       "                        <td id=\"T_47fa0048_d61c_11ea_a424_8c8590257adbrow0_col3\" class=\"data row0 col3\" >0.5974</td>\n",
       "                        <td id=\"T_47fa0048_d61c_11ea_a424_8c8590257adbrow0_col4\" class=\"data row0 col4\" >0.7153</td>\n",
       "                        <td id=\"T_47fa0048_d61c_11ea_a424_8c8590257adbrow0_col5\" class=\"data row0 col5\" >0.6458</td>\n",
       "                        <td id=\"T_47fa0048_d61c_11ea_a424_8c8590257adbrow0_col6\" class=\"data row0 col6\" >0.4831</td>\n",
       "                        <td id=\"T_47fa0048_d61c_11ea_a424_8c8590257adbrow0_col7\" class=\"data row0 col7\" >0.4911</td>\n",
       "                        <td id=\"T_47fa0048_d61c_11ea_a424_8c8590257adbrow0_col8\" class=\"data row0 col8\" >0.0370</td>\n",
       "            </tr>\n",
       "            <tr>\n",
       "                        <th id=\"T_47fa0048_d61c_11ea_a424_8c8590257adblevel0_row1\" class=\"row_heading level0 row1\" >1</th>\n",
       "                        <td id=\"T_47fa0048_d61c_11ea_a424_8c8590257adbrow1_col0\" class=\"data row1 col0\" >Logistic Regression</td>\n",
       "                        <td id=\"T_47fa0048_d61c_11ea_a424_8c8590257adbrow1_col1\" class=\"data row1 col1\" >0.7708</td>\n",
       "                        <td id=\"T_47fa0048_d61c_11ea_a424_8c8590257adbrow1_col2\" class=\"data row1 col2\" >0.8121</td>\n",
       "                        <td id=\"T_47fa0048_d61c_11ea_a424_8c8590257adbrow1_col3\" class=\"data row1 col3\" >0.5974</td>\n",
       "                        <td id=\"T_47fa0048_d61c_11ea_a424_8c8590257adbrow1_col4\" class=\"data row1 col4\" >0.7104</td>\n",
       "                        <td id=\"T_47fa0048_d61c_11ea_a424_8c8590257adbrow1_col5\" class=\"data row1 col5\" >0.6437</td>\n",
       "                        <td id=\"T_47fa0048_d61c_11ea_a424_8c8590257adbrow1_col6\" class=\"data row1 col6\" >0.4769</td>\n",
       "                        <td id=\"T_47fa0048_d61c_11ea_a424_8c8590257adbrow1_col7\" class=\"data row1 col7\" >0.4846</td>\n",
       "                        <td id=\"T_47fa0048_d61c_11ea_a424_8c8590257adbrow1_col8\" class=\"data row1 col8\" >0.0937</td>\n",
       "            </tr>\n",
       "            <tr>\n",
       "                        <th id=\"T_47fa0048_d61c_11ea_a424_8c8590257adblevel0_row2\" class=\"row_heading level0 row2\" >2</th>\n",
       "                        <td id=\"T_47fa0048_d61c_11ea_a424_8c8590257adbrow2_col0\" class=\"data row2 col0\" >CatBoost Classifier</td>\n",
       "                        <td id=\"T_47fa0048_d61c_11ea_a424_8c8590257adbrow2_col1\" class=\"data row2 col1\" >0.7706</td>\n",
       "                        <td id=\"T_47fa0048_d61c_11ea_a424_8c8590257adbrow2_col2\" class=\"data row2 col2\" >0.8450</td>\n",
       "                        <td id=\"T_47fa0048_d61c_11ea_a424_8c8590257adbrow2_col3\" class=\"data row2 col3\" >0.6135</td>\n",
       "                        <td id=\"T_47fa0048_d61c_11ea_a424_8c8590257adbrow2_col4\" class=\"data row2 col4\" >0.7005</td>\n",
       "                        <td id=\"T_47fa0048_d61c_11ea_a424_8c8590257adbrow2_col5\" class=\"data row2 col5\" >0.6491</td>\n",
       "                        <td id=\"T_47fa0048_d61c_11ea_a424_8c8590257adbrow2_col6\" class=\"data row2 col6\" >0.4805</td>\n",
       "                        <td id=\"T_47fa0048_d61c_11ea_a424_8c8590257adbrow2_col7\" class=\"data row2 col7\" >0.4866</td>\n",
       "                        <td id=\"T_47fa0048_d61c_11ea_a424_8c8590257adbrow2_col8\" class=\"data row2 col8\" >1.7296</td>\n",
       "            </tr>\n",
       "            <tr>\n",
       "                        <th id=\"T_47fa0048_d61c_11ea_a424_8c8590257adblevel0_row3\" class=\"row_heading level0 row3\" >3</th>\n",
       "                        <td id=\"T_47fa0048_d61c_11ea_a424_8c8590257adbrow3_col0\" class=\"data row3 col0\" >Ridge Classifier</td>\n",
       "                        <td id=\"T_47fa0048_d61c_11ea_a424_8c8590257adbrow3_col1\" class=\"data row3 col1\" >0.7671</td>\n",
       "                        <td id=\"T_47fa0048_d61c_11ea_a424_8c8590257adbrow3_col2\" class=\"data row3 col2\" >0.0000</td>\n",
       "                        <td id=\"T_47fa0048_d61c_11ea_a424_8c8590257adbrow3_col3\" class=\"data row3 col3\" >0.5760</td>\n",
       "                        <td id=\"T_47fa0048_d61c_11ea_a424_8c8590257adbrow3_col4\" class=\"data row3 col4\" >0.7062</td>\n",
       "                        <td id=\"T_47fa0048_d61c_11ea_a424_8c8590257adbrow3_col5\" class=\"data row3 col5\" >0.6299</td>\n",
       "                        <td id=\"T_47fa0048_d61c_11ea_a424_8c8590257adbrow3_col6\" class=\"data row3 col6\" >0.4632</td>\n",
       "                        <td id=\"T_47fa0048_d61c_11ea_a424_8c8590257adbrow3_col7\" class=\"data row3 col7\" >0.4716</td>\n",
       "                        <td id=\"T_47fa0048_d61c_11ea_a424_8c8590257adbrow3_col8\" class=\"data row3 col8\" >0.0095</td>\n",
       "            </tr>\n",
       "            <tr>\n",
       "                        <th id=\"T_47fa0048_d61c_11ea_a424_8c8590257adblevel0_row4\" class=\"row_heading level0 row4\" >4</th>\n",
       "                        <td id=\"T_47fa0048_d61c_11ea_a424_8c8590257adbrow4_col0\" class=\"data row4 col0\" >Ada Boost Classifier</td>\n",
       "                        <td id=\"T_47fa0048_d61c_11ea_a424_8c8590257adbrow4_col1\" class=\"data row4 col1\" >0.7671</td>\n",
       "                        <td id=\"T_47fa0048_d61c_11ea_a424_8c8590257adbrow4_col2\" class=\"data row4 col2\" >0.8139</td>\n",
       "                        <td id=\"T_47fa0048_d61c_11ea_a424_8c8590257adbrow4_col3\" class=\"data row4 col3\" >0.6032</td>\n",
       "                        <td id=\"T_47fa0048_d61c_11ea_a424_8c8590257adbrow4_col4\" class=\"data row4 col4\" >0.7038</td>\n",
       "                        <td id=\"T_47fa0048_d61c_11ea_a424_8c8590257adbrow4_col5\" class=\"data row4 col5\" >0.6417</td>\n",
       "                        <td id=\"T_47fa0048_d61c_11ea_a424_8c8590257adbrow4_col6\" class=\"data row4 col6\" >0.4716</td>\n",
       "                        <td id=\"T_47fa0048_d61c_11ea_a424_8c8590257adbrow4_col7\" class=\"data row4 col7\" >0.4806</td>\n",
       "                        <td id=\"T_47fa0048_d61c_11ea_a424_8c8590257adbrow4_col8\" class=\"data row4 col8\" >0.1094</td>\n",
       "            </tr>\n",
       "            <tr>\n",
       "                        <th id=\"T_47fa0048_d61c_11ea_a424_8c8590257adblevel0_row5\" class=\"row_heading level0 row5\" >5</th>\n",
       "                        <td id=\"T_47fa0048_d61c_11ea_a424_8c8590257adbrow5_col0\" class=\"data row5 col0\" >Gradient Boosting Classifier</td>\n",
       "                        <td id=\"T_47fa0048_d61c_11ea_a424_8c8590257adbrow5_col1\" class=\"data row5 col1\" >0.7615</td>\n",
       "                        <td id=\"T_47fa0048_d61c_11ea_a424_8c8590257adbrow5_col2\" class=\"data row5 col2\" >0.8307</td>\n",
       "                        <td id=\"T_47fa0048_d61c_11ea_a424_8c8590257adbrow5_col3\" class=\"data row5 col3\" >0.6088</td>\n",
       "                        <td id=\"T_47fa0048_d61c_11ea_a424_8c8590257adbrow5_col4\" class=\"data row5 col4\" >0.6836</td>\n",
       "                        <td id=\"T_47fa0048_d61c_11ea_a424_8c8590257adbrow5_col5\" class=\"data row5 col5\" >0.6380</td>\n",
       "                        <td id=\"T_47fa0048_d61c_11ea_a424_8c8590257adbrow5_col6\" class=\"data row5 col6\" >0.4620</td>\n",
       "                        <td id=\"T_47fa0048_d61c_11ea_a424_8c8590257adbrow5_col7\" class=\"data row5 col7\" >0.4683</td>\n",
       "                        <td id=\"T_47fa0048_d61c_11ea_a424_8c8590257adbrow5_col8\" class=\"data row5 col8\" >0.1382</td>\n",
       "            </tr>\n",
       "            <tr>\n",
       "                        <th id=\"T_47fa0048_d61c_11ea_a424_8c8590257adblevel0_row6\" class=\"row_heading level0 row6\" >6</th>\n",
       "                        <td id=\"T_47fa0048_d61c_11ea_a424_8c8590257adbrow6_col0\" class=\"data row6 col0\" >Random Forest Classifier</td>\n",
       "                        <td id=\"T_47fa0048_d61c_11ea_a424_8c8590257adbrow6_col1\" class=\"data row6 col1\" >0.7504</td>\n",
       "                        <td id=\"T_47fa0048_d61c_11ea_a424_8c8590257adbrow6_col2\" class=\"data row6 col2\" >0.7989</td>\n",
       "                        <td id=\"T_47fa0048_d61c_11ea_a424_8c8590257adbrow6_col3\" class=\"data row6 col3\" >0.5503</td>\n",
       "                        <td id=\"T_47fa0048_d61c_11ea_a424_8c8590257adbrow6_col4\" class=\"data row6 col4\" >0.6838</td>\n",
       "                        <td id=\"T_47fa0048_d61c_11ea_a424_8c8590257adbrow6_col5\" class=\"data row6 col5\" >0.6015</td>\n",
       "                        <td id=\"T_47fa0048_d61c_11ea_a424_8c8590257adbrow6_col6\" class=\"data row6 col6\" >0.4246</td>\n",
       "                        <td id=\"T_47fa0048_d61c_11ea_a424_8c8590257adbrow6_col7\" class=\"data row6 col7\" >0.4350</td>\n",
       "                        <td id=\"T_47fa0048_d61c_11ea_a424_8c8590257adbrow6_col8\" class=\"data row6 col8\" >0.1151</td>\n",
       "            </tr>\n",
       "            <tr>\n",
       "                        <th id=\"T_47fa0048_d61c_11ea_a424_8c8590257adblevel0_row7\" class=\"row_heading level0 row7\" >7</th>\n",
       "                        <td id=\"T_47fa0048_d61c_11ea_a424_8c8590257adbrow7_col0\" class=\"data row7 col0\" >Extra Trees Classifier</td>\n",
       "                        <td id=\"T_47fa0048_d61c_11ea_a424_8c8590257adbrow7_col1\" class=\"data row7 col1\" >0.7503</td>\n",
       "                        <td id=\"T_47fa0048_d61c_11ea_a424_8c8590257adbrow7_col2\" class=\"data row7 col2\" >0.8198</td>\n",
       "                        <td id=\"T_47fa0048_d61c_11ea_a424_8c8590257adbrow7_col3\" class=\"data row7 col3\" >0.5497</td>\n",
       "                        <td id=\"T_47fa0048_d61c_11ea_a424_8c8590257adbrow7_col4\" class=\"data row7 col4\" >0.6842</td>\n",
       "                        <td id=\"T_47fa0048_d61c_11ea_a424_8c8590257adbrow7_col5\" class=\"data row7 col5\" >0.6049</td>\n",
       "                        <td id=\"T_47fa0048_d61c_11ea_a424_8c8590257adbrow7_col6\" class=\"data row7 col6\" >0.4258</td>\n",
       "                        <td id=\"T_47fa0048_d61c_11ea_a424_8c8590257adbrow7_col7\" class=\"data row7 col7\" >0.4345</td>\n",
       "                        <td id=\"T_47fa0048_d61c_11ea_a424_8c8590257adbrow7_col8\" class=\"data row7 col8\" >0.2142</td>\n",
       "            </tr>\n",
       "            <tr>\n",
       "                        <th id=\"T_47fa0048_d61c_11ea_a424_8c8590257adblevel0_row8\" class=\"row_heading level0 row8\" >8</th>\n",
       "                        <td id=\"T_47fa0048_d61c_11ea_a424_8c8590257adbrow8_col0\" class=\"data row8 col0\" >Light Gradient Boosting Machine</td>\n",
       "                        <td id=\"T_47fa0048_d61c_11ea_a424_8c8590257adbrow8_col1\" class=\"data row8 col1\" >0.7485</td>\n",
       "                        <td id=\"T_47fa0048_d61c_11ea_a424_8c8590257adbrow8_col2\" class=\"data row8 col2\" >0.8134</td>\n",
       "                        <td id=\"T_47fa0048_d61c_11ea_a424_8c8590257adbrow8_col3\" class=\"data row8 col3\" >0.5819</td>\n",
       "                        <td id=\"T_47fa0048_d61c_11ea_a424_8c8590257adbrow8_col4\" class=\"data row8 col4\" >0.6768</td>\n",
       "                        <td id=\"T_47fa0048_d61c_11ea_a424_8c8590257adbrow8_col5\" class=\"data row8 col5\" >0.6160</td>\n",
       "                        <td id=\"T_47fa0048_d61c_11ea_a424_8c8590257adbrow8_col6\" class=\"data row8 col6\" >0.4317</td>\n",
       "                        <td id=\"T_47fa0048_d61c_11ea_a424_8c8590257adbrow8_col7\" class=\"data row8 col7\" >0.4418</td>\n",
       "                        <td id=\"T_47fa0048_d61c_11ea_a424_8c8590257adbrow8_col8\" class=\"data row8 col8\" >0.0535</td>\n",
       "            </tr>\n",
       "            <tr>\n",
       "                        <th id=\"T_47fa0048_d61c_11ea_a424_8c8590257adblevel0_row9\" class=\"row_heading level0 row9\" >9</th>\n",
       "                        <td id=\"T_47fa0048_d61c_11ea_a424_8c8590257adbrow9_col0\" class=\"data row9 col0\" >Extreme Gradient Boosting</td>\n",
       "                        <td id=\"T_47fa0048_d61c_11ea_a424_8c8590257adbrow9_col1\" class=\"data row9 col1\" >0.7466</td>\n",
       "                        <td id=\"T_47fa0048_d61c_11ea_a424_8c8590257adbrow9_col2\" class=\"data row9 col2\" >0.8189</td>\n",
       "                        <td id=\"T_47fa0048_d61c_11ea_a424_8c8590257adbrow9_col3\" class=\"data row9 col3\" >0.6137</td>\n",
       "                        <td id=\"T_47fa0048_d61c_11ea_a424_8c8590257adbrow9_col4\" class=\"data row9 col4\" >0.6584</td>\n",
       "                        <td id=\"T_47fa0048_d61c_11ea_a424_8c8590257adbrow9_col5\" class=\"data row9 col5\" >0.6286</td>\n",
       "                        <td id=\"T_47fa0048_d61c_11ea_a424_8c8590257adbrow9_col6\" class=\"data row9 col6\" >0.4377</td>\n",
       "                        <td id=\"T_47fa0048_d61c_11ea_a424_8c8590257adbrow9_col7\" class=\"data row9 col7\" >0.4437</td>\n",
       "                        <td id=\"T_47fa0048_d61c_11ea_a424_8c8590257adbrow9_col8\" class=\"data row9 col8\" >0.1246</td>\n",
       "            </tr>\n",
       "            <tr>\n",
       "                        <th id=\"T_47fa0048_d61c_11ea_a424_8c8590257adblevel0_row10\" class=\"row_heading level0 row10\" >10</th>\n",
       "                        <td id=\"T_47fa0048_d61c_11ea_a424_8c8590257adbrow10_col0\" class=\"data row10 col0\" >K Neighbors Classifier</td>\n",
       "                        <td id=\"T_47fa0048_d61c_11ea_a424_8c8590257adbrow10_col1\" class=\"data row10 col1\" >0.7281</td>\n",
       "                        <td id=\"T_47fa0048_d61c_11ea_a424_8c8590257adbrow10_col2\" class=\"data row10 col2\" >0.7763</td>\n",
       "                        <td id=\"T_47fa0048_d61c_11ea_a424_8c8590257adbrow10_col3\" class=\"data row10 col3\" >0.5237</td>\n",
       "                        <td id=\"T_47fa0048_d61c_11ea_a424_8c8590257adbrow10_col4\" class=\"data row10 col4\" >0.6388</td>\n",
       "                        <td id=\"T_47fa0048_d61c_11ea_a424_8c8590257adbrow10_col5\" class=\"data row10 col5\" >0.5727</td>\n",
       "                        <td id=\"T_47fa0048_d61c_11ea_a424_8c8590257adbrow10_col6\" class=\"data row10 col6\" >0.3764</td>\n",
       "                        <td id=\"T_47fa0048_d61c_11ea_a424_8c8590257adbrow10_col7\" class=\"data row10 col7\" >0.3824</td>\n",
       "                        <td id=\"T_47fa0048_d61c_11ea_a424_8c8590257adbrow10_col8\" class=\"data row10 col8\" >0.0045</td>\n",
       "            </tr>\n",
       "            <tr>\n",
       "                        <th id=\"T_47fa0048_d61c_11ea_a424_8c8590257adblevel0_row11\" class=\"row_heading level0 row11\" >11</th>\n",
       "                        <td id=\"T_47fa0048_d61c_11ea_a424_8c8590257adbrow11_col0\" class=\"data row11 col0\" >Decision Tree Classifier</td>\n",
       "                        <td id=\"T_47fa0048_d61c_11ea_a424_8c8590257adbrow11_col1\" class=\"data row11 col1\" >0.7130</td>\n",
       "                        <td id=\"T_47fa0048_d61c_11ea_a424_8c8590257adbrow11_col2\" class=\"data row11 col2\" >0.6819</td>\n",
       "                        <td id=\"T_47fa0048_d61c_11ea_a424_8c8590257adbrow11_col3\" class=\"data row11 col3\" >0.5810</td>\n",
       "                        <td id=\"T_47fa0048_d61c_11ea_a424_8c8590257adbrow11_col4\" class=\"data row11 col4\" >0.5894</td>\n",
       "                        <td id=\"T_47fa0048_d61c_11ea_a424_8c8590257adbrow11_col5\" class=\"data row11 col5\" >0.5790</td>\n",
       "                        <td id=\"T_47fa0048_d61c_11ea_a424_8c8590257adbrow11_col6\" class=\"data row11 col6\" >0.3630</td>\n",
       "                        <td id=\"T_47fa0048_d61c_11ea_a424_8c8590257adbrow11_col7\" class=\"data row11 col7\" >0.3671</td>\n",
       "                        <td id=\"T_47fa0048_d61c_11ea_a424_8c8590257adbrow11_col8\" class=\"data row11 col8\" >0.0070</td>\n",
       "            </tr>\n",
       "            <tr>\n",
       "                        <th id=\"T_47fa0048_d61c_11ea_a424_8c8590257adblevel0_row12\" class=\"row_heading level0 row12\" >12</th>\n",
       "                        <td id=\"T_47fa0048_d61c_11ea_a424_8c8590257adbrow12_col0\" class=\"data row12 col0\" >Naive Bayes</td>\n",
       "                        <td id=\"T_47fa0048_d61c_11ea_a424_8c8590257adbrow12_col1\" class=\"data row12 col1\" >0.6832</td>\n",
       "                        <td id=\"T_47fa0048_d61c_11ea_a424_8c8590257adbrow12_col2\" class=\"data row12 col2\" >0.7584</td>\n",
       "                        <td id=\"T_47fa0048_d61c_11ea_a424_8c8590257adbrow12_col3\" class=\"data row12 col3\" >0.2927</td>\n",
       "                        <td id=\"T_47fa0048_d61c_11ea_a424_8c8590257adbrow12_col4\" class=\"data row12 col4\" >0.6203</td>\n",
       "                        <td id=\"T_47fa0048_d61c_11ea_a424_8c8590257adbrow12_col5\" class=\"data row12 col5\" >0.3864</td>\n",
       "                        <td id=\"T_47fa0048_d61c_11ea_a424_8c8590257adbrow12_col6\" class=\"data row12 col6\" >0.2081</td>\n",
       "                        <td id=\"T_47fa0048_d61c_11ea_a424_8c8590257adbrow12_col7\" class=\"data row12 col7\" >0.2407</td>\n",
       "                        <td id=\"T_47fa0048_d61c_11ea_a424_8c8590257adbrow12_col8\" class=\"data row12 col8\" >0.0036</td>\n",
       "            </tr>\n",
       "            <tr>\n",
       "                        <th id=\"T_47fa0048_d61c_11ea_a424_8c8590257adblevel0_row13\" class=\"row_heading level0 row13\" >13</th>\n",
       "                        <td id=\"T_47fa0048_d61c_11ea_a424_8c8590257adbrow13_col0\" class=\"data row13 col0\" >SVM - Linear Kernel</td>\n",
       "                        <td id=\"T_47fa0048_d61c_11ea_a424_8c8590257adbrow13_col1\" class=\"data row13 col1\" >0.5684</td>\n",
       "                        <td id=\"T_47fa0048_d61c_11ea_a424_8c8590257adbrow13_col2\" class=\"data row13 col2\" >0.0000</td>\n",
       "                        <td id=\"T_47fa0048_d61c_11ea_a424_8c8590257adbrow13_col3\" class=\"data row13 col3\" >0.3649</td>\n",
       "                        <td id=\"T_47fa0048_d61c_11ea_a424_8c8590257adbrow13_col4\" class=\"data row13 col4\" >0.4088</td>\n",
       "                        <td id=\"T_47fa0048_d61c_11ea_a424_8c8590257adbrow13_col5\" class=\"data row13 col5\" >0.2948</td>\n",
       "                        <td id=\"T_47fa0048_d61c_11ea_a424_8c8590257adbrow13_col6\" class=\"data row13 col6\" >0.0429</td>\n",
       "                        <td id=\"T_47fa0048_d61c_11ea_a424_8c8590257adbrow13_col7\" class=\"data row13 col7\" >0.0690</td>\n",
       "                        <td id=\"T_47fa0048_d61c_11ea_a424_8c8590257adbrow13_col8\" class=\"data row13 col8\" >0.0078</td>\n",
       "            </tr>\n",
       "            <tr>\n",
       "                        <th id=\"T_47fa0048_d61c_11ea_a424_8c8590257adblevel0_row14\" class=\"row_heading level0 row14\" >14</th>\n",
       "                        <td id=\"T_47fa0048_d61c_11ea_a424_8c8590257adbrow14_col0\" class=\"data row14 col0\" >Quadratic Discriminant Analysis</td>\n",
       "                        <td id=\"T_47fa0048_d61c_11ea_a424_8c8590257adbrow14_col1\" class=\"data row14 col1\" >0.5322</td>\n",
       "                        <td id=\"T_47fa0048_d61c_11ea_a424_8c8590257adbrow14_col2\" class=\"data row14 col2\" >0.5641</td>\n",
       "                        <td id=\"T_47fa0048_d61c_11ea_a424_8c8590257adbrow14_col3\" class=\"data row14 col3\" >0.6480</td>\n",
       "                        <td id=\"T_47fa0048_d61c_11ea_a424_8c8590257adbrow14_col4\" class=\"data row14 col4\" >0.4110</td>\n",
       "                        <td id=\"T_47fa0048_d61c_11ea_a424_8c8590257adbrow14_col5\" class=\"data row14 col5\" >0.4749</td>\n",
       "                        <td id=\"T_47fa0048_d61c_11ea_a424_8c8590257adbrow14_col6\" class=\"data row14 col6\" >0.1094</td>\n",
       "                        <td id=\"T_47fa0048_d61c_11ea_a424_8c8590257adbrow14_col7\" class=\"data row14 col7\" >0.1397</td>\n",
       "                        <td id=\"T_47fa0048_d61c_11ea_a424_8c8590257adbrow14_col8\" class=\"data row14 col8\" >0.0531</td>\n",
       "            </tr>\n",
       "    </tbody></table>"
      ],
      "text/plain": [
       "<pandas.io.formats.style.Styler at 0x7fefa0848590>"
      ]
     },
     "metadata": {},
     "output_type": "display_data"
    },
    {
     "data": {
      "text/plain": [
       "LinearDiscriminantAnalysis(n_components=None, priors=None, shrinkage=None,\n",
       "                           solver='svd', store_covariance=False, tol=0.0001)"
      ]
     },
     "execution_count": 19,
     "metadata": {},
     "output_type": "execute_result"
    }
   ],
   "source": [
    "#### Comparing models\n",
    "compare_models()"
   ]
  },
  {
   "cell_type": "code",
   "execution_count": 27,
   "metadata": {},
   "outputs": [
    {
     "data": {
      "text/html": [
       "<div>\n",
       "<style scoped>\n",
       "    .dataframe tbody tr th:only-of-type {\n",
       "        vertical-align: middle;\n",
       "    }\n",
       "\n",
       "    .dataframe tbody tr th {\n",
       "        vertical-align: top;\n",
       "    }\n",
       "\n",
       "    .dataframe thead th {\n",
       "        text-align: right;\n",
       "    }\n",
       "</style>\n",
       "<table border=\"1\" class=\"dataframe\">\n",
       "  <thead>\n",
       "    <tr style=\"text-align: right;\">\n",
       "      <th></th>\n",
       "      <th>crim</th>\n",
       "      <th>zn</th>\n",
       "      <th>indus</th>\n",
       "      <th>chas</th>\n",
       "      <th>nox</th>\n",
       "      <th>rm</th>\n",
       "      <th>age</th>\n",
       "      <th>dis</th>\n",
       "      <th>rad</th>\n",
       "      <th>tax</th>\n",
       "      <th>ptratio</th>\n",
       "      <th>black</th>\n",
       "      <th>lstat</th>\n",
       "      <th>medv</th>\n",
       "    </tr>\n",
       "  </thead>\n",
       "  <tbody>\n",
       "    <tr>\n",
       "      <th>0</th>\n",
       "      <td>0.00632</td>\n",
       "      <td>18.0</td>\n",
       "      <td>2.31</td>\n",
       "      <td>0</td>\n",
       "      <td>0.538</td>\n",
       "      <td>6.575</td>\n",
       "      <td>65.2</td>\n",
       "      <td>4.0900</td>\n",
       "      <td>1</td>\n",
       "      <td>296</td>\n",
       "      <td>15.3</td>\n",
       "      <td>396.90</td>\n",
       "      <td>4.98</td>\n",
       "      <td>24.0</td>\n",
       "    </tr>\n",
       "    <tr>\n",
       "      <th>1</th>\n",
       "      <td>0.02731</td>\n",
       "      <td>0.0</td>\n",
       "      <td>7.07</td>\n",
       "      <td>0</td>\n",
       "      <td>0.469</td>\n",
       "      <td>6.421</td>\n",
       "      <td>78.9</td>\n",
       "      <td>4.9671</td>\n",
       "      <td>2</td>\n",
       "      <td>242</td>\n",
       "      <td>17.8</td>\n",
       "      <td>396.90</td>\n",
       "      <td>9.14</td>\n",
       "      <td>21.6</td>\n",
       "    </tr>\n",
       "    <tr>\n",
       "      <th>2</th>\n",
       "      <td>0.02729</td>\n",
       "      <td>0.0</td>\n",
       "      <td>7.07</td>\n",
       "      <td>0</td>\n",
       "      <td>0.469</td>\n",
       "      <td>7.185</td>\n",
       "      <td>61.1</td>\n",
       "      <td>4.9671</td>\n",
       "      <td>2</td>\n",
       "      <td>242</td>\n",
       "      <td>17.8</td>\n",
       "      <td>392.83</td>\n",
       "      <td>4.03</td>\n",
       "      <td>34.7</td>\n",
       "    </tr>\n",
       "    <tr>\n",
       "      <th>3</th>\n",
       "      <td>0.03237</td>\n",
       "      <td>0.0</td>\n",
       "      <td>2.18</td>\n",
       "      <td>0</td>\n",
       "      <td>0.458</td>\n",
       "      <td>6.998</td>\n",
       "      <td>45.8</td>\n",
       "      <td>6.0622</td>\n",
       "      <td>3</td>\n",
       "      <td>222</td>\n",
       "      <td>18.7</td>\n",
       "      <td>394.63</td>\n",
       "      <td>2.94</td>\n",
       "      <td>33.4</td>\n",
       "    </tr>\n",
       "    <tr>\n",
       "      <th>4</th>\n",
       "      <td>0.06905</td>\n",
       "      <td>0.0</td>\n",
       "      <td>2.18</td>\n",
       "      <td>0</td>\n",
       "      <td>0.458</td>\n",
       "      <td>7.147</td>\n",
       "      <td>54.2</td>\n",
       "      <td>6.0622</td>\n",
       "      <td>3</td>\n",
       "      <td>222</td>\n",
       "      <td>18.7</td>\n",
       "      <td>396.90</td>\n",
       "      <td>5.33</td>\n",
       "      <td>36.2</td>\n",
       "    </tr>\n",
       "  </tbody>\n",
       "</table>\n",
       "</div>"
      ],
      "text/plain": [
       "      crim    zn  indus  chas    nox     rm   age     dis  rad  tax  ptratio  \\\n",
       "0  0.00632  18.0   2.31     0  0.538  6.575  65.2  4.0900    1  296     15.3   \n",
       "1  0.02731   0.0   7.07     0  0.469  6.421  78.9  4.9671    2  242     17.8   \n",
       "2  0.02729   0.0   7.07     0  0.469  7.185  61.1  4.9671    2  242     17.8   \n",
       "3  0.03237   0.0   2.18     0  0.458  6.998  45.8  6.0622    3  222     18.7   \n",
       "4  0.06905   0.0   2.18     0  0.458  7.147  54.2  6.0622    3  222     18.7   \n",
       "\n",
       "    black  lstat  medv  \n",
       "0  396.90   4.98  24.0  \n",
       "1  396.90   9.14  21.6  \n",
       "2  392.83   4.03  34.7  \n",
       "3  394.63   2.94  33.4  \n",
       "4  396.90   5.33  36.2  "
      ]
     },
     "metadata": {},
     "output_type": "display_data"
    }
   ],
   "source": [
    "###Above we saw with Classification Problem\n",
    "##Now with Regression Problem\n",
    "boston_df=get_data('boston')"
   ]
  },
  {
   "cell_type": "code",
   "execution_count": 28,
   "metadata": {},
   "outputs": [],
   "source": [
    "from pycaret.regression import *"
   ]
  },
  {
   "cell_type": "code",
   "execution_count": 29,
   "metadata": {},
   "outputs": [
    {
     "name": "stdout",
     "output_type": "stream",
     "text": [
      " \n",
      "Setup Succesfully Completed.\n"
     ]
    },
    {
     "data": {
      "text/html": [
       "<style  type=\"text/css\" >\n",
       "</style><table id=\"T_e122f9ba_d625_11ea_a424_8c8590257adb\" ><thead>    <tr>        <th class=\"blank level0\" ></th>        <th class=\"col_heading level0 col0\" >Description</th>        <th class=\"col_heading level0 col1\" >Value</th>    </tr></thead><tbody>\n",
       "                <tr>\n",
       "                        <th id=\"T_e122f9ba_d625_11ea_a424_8c8590257adblevel0_row0\" class=\"row_heading level0 row0\" >0</th>\n",
       "                        <td id=\"T_e122f9ba_d625_11ea_a424_8c8590257adbrow0_col0\" class=\"data row0 col0\" >session_id</td>\n",
       "                        <td id=\"T_e122f9ba_d625_11ea_a424_8c8590257adbrow0_col1\" class=\"data row0 col1\" >6125</td>\n",
       "            </tr>\n",
       "            <tr>\n",
       "                        <th id=\"T_e122f9ba_d625_11ea_a424_8c8590257adblevel0_row1\" class=\"row_heading level0 row1\" >1</th>\n",
       "                        <td id=\"T_e122f9ba_d625_11ea_a424_8c8590257adbrow1_col0\" class=\"data row1 col0\" >Transform Target </td>\n",
       "                        <td id=\"T_e122f9ba_d625_11ea_a424_8c8590257adbrow1_col1\" class=\"data row1 col1\" >False</td>\n",
       "            </tr>\n",
       "            <tr>\n",
       "                        <th id=\"T_e122f9ba_d625_11ea_a424_8c8590257adblevel0_row2\" class=\"row_heading level0 row2\" >2</th>\n",
       "                        <td id=\"T_e122f9ba_d625_11ea_a424_8c8590257adbrow2_col0\" class=\"data row2 col0\" >Transform Target Method</td>\n",
       "                        <td id=\"T_e122f9ba_d625_11ea_a424_8c8590257adbrow2_col1\" class=\"data row2 col1\" >None</td>\n",
       "            </tr>\n",
       "            <tr>\n",
       "                        <th id=\"T_e122f9ba_d625_11ea_a424_8c8590257adblevel0_row3\" class=\"row_heading level0 row3\" >3</th>\n",
       "                        <td id=\"T_e122f9ba_d625_11ea_a424_8c8590257adbrow3_col0\" class=\"data row3 col0\" >Original Data</td>\n",
       "                        <td id=\"T_e122f9ba_d625_11ea_a424_8c8590257adbrow3_col1\" class=\"data row3 col1\" >(506, 14)</td>\n",
       "            </tr>\n",
       "            <tr>\n",
       "                        <th id=\"T_e122f9ba_d625_11ea_a424_8c8590257adblevel0_row4\" class=\"row_heading level0 row4\" >4</th>\n",
       "                        <td id=\"T_e122f9ba_d625_11ea_a424_8c8590257adbrow4_col0\" class=\"data row4 col0\" >Missing Values </td>\n",
       "                        <td id=\"T_e122f9ba_d625_11ea_a424_8c8590257adbrow4_col1\" class=\"data row4 col1\" >False</td>\n",
       "            </tr>\n",
       "            <tr>\n",
       "                        <th id=\"T_e122f9ba_d625_11ea_a424_8c8590257adblevel0_row5\" class=\"row_heading level0 row5\" >5</th>\n",
       "                        <td id=\"T_e122f9ba_d625_11ea_a424_8c8590257adbrow5_col0\" class=\"data row5 col0\" >Numeric Features </td>\n",
       "                        <td id=\"T_e122f9ba_d625_11ea_a424_8c8590257adbrow5_col1\" class=\"data row5 col1\" >11</td>\n",
       "            </tr>\n",
       "            <tr>\n",
       "                        <th id=\"T_e122f9ba_d625_11ea_a424_8c8590257adblevel0_row6\" class=\"row_heading level0 row6\" >6</th>\n",
       "                        <td id=\"T_e122f9ba_d625_11ea_a424_8c8590257adbrow6_col0\" class=\"data row6 col0\" >Categorical Features </td>\n",
       "                        <td id=\"T_e122f9ba_d625_11ea_a424_8c8590257adbrow6_col1\" class=\"data row6 col1\" >2</td>\n",
       "            </tr>\n",
       "            <tr>\n",
       "                        <th id=\"T_e122f9ba_d625_11ea_a424_8c8590257adblevel0_row7\" class=\"row_heading level0 row7\" >7</th>\n",
       "                        <td id=\"T_e122f9ba_d625_11ea_a424_8c8590257adbrow7_col0\" class=\"data row7 col0\" >Ordinal Features </td>\n",
       "                        <td id=\"T_e122f9ba_d625_11ea_a424_8c8590257adbrow7_col1\" class=\"data row7 col1\" >False</td>\n",
       "            </tr>\n",
       "            <tr>\n",
       "                        <th id=\"T_e122f9ba_d625_11ea_a424_8c8590257adblevel0_row8\" class=\"row_heading level0 row8\" >8</th>\n",
       "                        <td id=\"T_e122f9ba_d625_11ea_a424_8c8590257adbrow8_col0\" class=\"data row8 col0\" >High Cardinality Features </td>\n",
       "                        <td id=\"T_e122f9ba_d625_11ea_a424_8c8590257adbrow8_col1\" class=\"data row8 col1\" >False</td>\n",
       "            </tr>\n",
       "            <tr>\n",
       "                        <th id=\"T_e122f9ba_d625_11ea_a424_8c8590257adblevel0_row9\" class=\"row_heading level0 row9\" >9</th>\n",
       "                        <td id=\"T_e122f9ba_d625_11ea_a424_8c8590257adbrow9_col0\" class=\"data row9 col0\" >High Cardinality Method </td>\n",
       "                        <td id=\"T_e122f9ba_d625_11ea_a424_8c8590257adbrow9_col1\" class=\"data row9 col1\" >None</td>\n",
       "            </tr>\n",
       "            <tr>\n",
       "                        <th id=\"T_e122f9ba_d625_11ea_a424_8c8590257adblevel0_row10\" class=\"row_heading level0 row10\" >10</th>\n",
       "                        <td id=\"T_e122f9ba_d625_11ea_a424_8c8590257adbrow10_col0\" class=\"data row10 col0\" >Sampled Data</td>\n",
       "                        <td id=\"T_e122f9ba_d625_11ea_a424_8c8590257adbrow10_col1\" class=\"data row10 col1\" >(506, 14)</td>\n",
       "            </tr>\n",
       "            <tr>\n",
       "                        <th id=\"T_e122f9ba_d625_11ea_a424_8c8590257adblevel0_row11\" class=\"row_heading level0 row11\" >11</th>\n",
       "                        <td id=\"T_e122f9ba_d625_11ea_a424_8c8590257adbrow11_col0\" class=\"data row11 col0\" >Transformed Train Set</td>\n",
       "                        <td id=\"T_e122f9ba_d625_11ea_a424_8c8590257adbrow11_col1\" class=\"data row11 col1\" >(354, 22)</td>\n",
       "            </tr>\n",
       "            <tr>\n",
       "                        <th id=\"T_e122f9ba_d625_11ea_a424_8c8590257adblevel0_row12\" class=\"row_heading level0 row12\" >12</th>\n",
       "                        <td id=\"T_e122f9ba_d625_11ea_a424_8c8590257adbrow12_col0\" class=\"data row12 col0\" >Transformed Test Set</td>\n",
       "                        <td id=\"T_e122f9ba_d625_11ea_a424_8c8590257adbrow12_col1\" class=\"data row12 col1\" >(152, 22)</td>\n",
       "            </tr>\n",
       "            <tr>\n",
       "                        <th id=\"T_e122f9ba_d625_11ea_a424_8c8590257adblevel0_row13\" class=\"row_heading level0 row13\" >13</th>\n",
       "                        <td id=\"T_e122f9ba_d625_11ea_a424_8c8590257adbrow13_col0\" class=\"data row13 col0\" >Numeric Imputer </td>\n",
       "                        <td id=\"T_e122f9ba_d625_11ea_a424_8c8590257adbrow13_col1\" class=\"data row13 col1\" >mean</td>\n",
       "            </tr>\n",
       "            <tr>\n",
       "                        <th id=\"T_e122f9ba_d625_11ea_a424_8c8590257adblevel0_row14\" class=\"row_heading level0 row14\" >14</th>\n",
       "                        <td id=\"T_e122f9ba_d625_11ea_a424_8c8590257adbrow14_col0\" class=\"data row14 col0\" >Categorical Imputer </td>\n",
       "                        <td id=\"T_e122f9ba_d625_11ea_a424_8c8590257adbrow14_col1\" class=\"data row14 col1\" >constant</td>\n",
       "            </tr>\n",
       "            <tr>\n",
       "                        <th id=\"T_e122f9ba_d625_11ea_a424_8c8590257adblevel0_row15\" class=\"row_heading level0 row15\" >15</th>\n",
       "                        <td id=\"T_e122f9ba_d625_11ea_a424_8c8590257adbrow15_col0\" class=\"data row15 col0\" >Normalize </td>\n",
       "                        <td id=\"T_e122f9ba_d625_11ea_a424_8c8590257adbrow15_col1\" class=\"data row15 col1\" >False</td>\n",
       "            </tr>\n",
       "            <tr>\n",
       "                        <th id=\"T_e122f9ba_d625_11ea_a424_8c8590257adblevel0_row16\" class=\"row_heading level0 row16\" >16</th>\n",
       "                        <td id=\"T_e122f9ba_d625_11ea_a424_8c8590257adbrow16_col0\" class=\"data row16 col0\" >Normalize Method </td>\n",
       "                        <td id=\"T_e122f9ba_d625_11ea_a424_8c8590257adbrow16_col1\" class=\"data row16 col1\" >None</td>\n",
       "            </tr>\n",
       "            <tr>\n",
       "                        <th id=\"T_e122f9ba_d625_11ea_a424_8c8590257adblevel0_row17\" class=\"row_heading level0 row17\" >17</th>\n",
       "                        <td id=\"T_e122f9ba_d625_11ea_a424_8c8590257adbrow17_col0\" class=\"data row17 col0\" >Transformation </td>\n",
       "                        <td id=\"T_e122f9ba_d625_11ea_a424_8c8590257adbrow17_col1\" class=\"data row17 col1\" >False</td>\n",
       "            </tr>\n",
       "            <tr>\n",
       "                        <th id=\"T_e122f9ba_d625_11ea_a424_8c8590257adblevel0_row18\" class=\"row_heading level0 row18\" >18</th>\n",
       "                        <td id=\"T_e122f9ba_d625_11ea_a424_8c8590257adbrow18_col0\" class=\"data row18 col0\" >Transformation Method </td>\n",
       "                        <td id=\"T_e122f9ba_d625_11ea_a424_8c8590257adbrow18_col1\" class=\"data row18 col1\" >None</td>\n",
       "            </tr>\n",
       "            <tr>\n",
       "                        <th id=\"T_e122f9ba_d625_11ea_a424_8c8590257adblevel0_row19\" class=\"row_heading level0 row19\" >19</th>\n",
       "                        <td id=\"T_e122f9ba_d625_11ea_a424_8c8590257adbrow19_col0\" class=\"data row19 col0\" >PCA </td>\n",
       "                        <td id=\"T_e122f9ba_d625_11ea_a424_8c8590257adbrow19_col1\" class=\"data row19 col1\" >False</td>\n",
       "            </tr>\n",
       "            <tr>\n",
       "                        <th id=\"T_e122f9ba_d625_11ea_a424_8c8590257adblevel0_row20\" class=\"row_heading level0 row20\" >20</th>\n",
       "                        <td id=\"T_e122f9ba_d625_11ea_a424_8c8590257adbrow20_col0\" class=\"data row20 col0\" >PCA Method </td>\n",
       "                        <td id=\"T_e122f9ba_d625_11ea_a424_8c8590257adbrow20_col1\" class=\"data row20 col1\" >None</td>\n",
       "            </tr>\n",
       "            <tr>\n",
       "                        <th id=\"T_e122f9ba_d625_11ea_a424_8c8590257adblevel0_row21\" class=\"row_heading level0 row21\" >21</th>\n",
       "                        <td id=\"T_e122f9ba_d625_11ea_a424_8c8590257adbrow21_col0\" class=\"data row21 col0\" >PCA Components </td>\n",
       "                        <td id=\"T_e122f9ba_d625_11ea_a424_8c8590257adbrow21_col1\" class=\"data row21 col1\" >None</td>\n",
       "            </tr>\n",
       "            <tr>\n",
       "                        <th id=\"T_e122f9ba_d625_11ea_a424_8c8590257adblevel0_row22\" class=\"row_heading level0 row22\" >22</th>\n",
       "                        <td id=\"T_e122f9ba_d625_11ea_a424_8c8590257adbrow22_col0\" class=\"data row22 col0\" >Ignore Low Variance </td>\n",
       "                        <td id=\"T_e122f9ba_d625_11ea_a424_8c8590257adbrow22_col1\" class=\"data row22 col1\" >False</td>\n",
       "            </tr>\n",
       "            <tr>\n",
       "                        <th id=\"T_e122f9ba_d625_11ea_a424_8c8590257adblevel0_row23\" class=\"row_heading level0 row23\" >23</th>\n",
       "                        <td id=\"T_e122f9ba_d625_11ea_a424_8c8590257adbrow23_col0\" class=\"data row23 col0\" >Combine Rare Levels </td>\n",
       "                        <td id=\"T_e122f9ba_d625_11ea_a424_8c8590257adbrow23_col1\" class=\"data row23 col1\" >False</td>\n",
       "            </tr>\n",
       "            <tr>\n",
       "                        <th id=\"T_e122f9ba_d625_11ea_a424_8c8590257adblevel0_row24\" class=\"row_heading level0 row24\" >24</th>\n",
       "                        <td id=\"T_e122f9ba_d625_11ea_a424_8c8590257adbrow24_col0\" class=\"data row24 col0\" >Rare Level Threshold </td>\n",
       "                        <td id=\"T_e122f9ba_d625_11ea_a424_8c8590257adbrow24_col1\" class=\"data row24 col1\" >None</td>\n",
       "            </tr>\n",
       "            <tr>\n",
       "                        <th id=\"T_e122f9ba_d625_11ea_a424_8c8590257adblevel0_row25\" class=\"row_heading level0 row25\" >25</th>\n",
       "                        <td id=\"T_e122f9ba_d625_11ea_a424_8c8590257adbrow25_col0\" class=\"data row25 col0\" >Numeric Binning </td>\n",
       "                        <td id=\"T_e122f9ba_d625_11ea_a424_8c8590257adbrow25_col1\" class=\"data row25 col1\" >False</td>\n",
       "            </tr>\n",
       "            <tr>\n",
       "                        <th id=\"T_e122f9ba_d625_11ea_a424_8c8590257adblevel0_row26\" class=\"row_heading level0 row26\" >26</th>\n",
       "                        <td id=\"T_e122f9ba_d625_11ea_a424_8c8590257adbrow26_col0\" class=\"data row26 col0\" >Remove Outliers </td>\n",
       "                        <td id=\"T_e122f9ba_d625_11ea_a424_8c8590257adbrow26_col1\" class=\"data row26 col1\" >False</td>\n",
       "            </tr>\n",
       "            <tr>\n",
       "                        <th id=\"T_e122f9ba_d625_11ea_a424_8c8590257adblevel0_row27\" class=\"row_heading level0 row27\" >27</th>\n",
       "                        <td id=\"T_e122f9ba_d625_11ea_a424_8c8590257adbrow27_col0\" class=\"data row27 col0\" >Outliers Threshold </td>\n",
       "                        <td id=\"T_e122f9ba_d625_11ea_a424_8c8590257adbrow27_col1\" class=\"data row27 col1\" >None</td>\n",
       "            </tr>\n",
       "            <tr>\n",
       "                        <th id=\"T_e122f9ba_d625_11ea_a424_8c8590257adblevel0_row28\" class=\"row_heading level0 row28\" >28</th>\n",
       "                        <td id=\"T_e122f9ba_d625_11ea_a424_8c8590257adbrow28_col0\" class=\"data row28 col0\" >Remove Multicollinearity </td>\n",
       "                        <td id=\"T_e122f9ba_d625_11ea_a424_8c8590257adbrow28_col1\" class=\"data row28 col1\" >False</td>\n",
       "            </tr>\n",
       "            <tr>\n",
       "                        <th id=\"T_e122f9ba_d625_11ea_a424_8c8590257adblevel0_row29\" class=\"row_heading level0 row29\" >29</th>\n",
       "                        <td id=\"T_e122f9ba_d625_11ea_a424_8c8590257adbrow29_col0\" class=\"data row29 col0\" >Multicollinearity Threshold </td>\n",
       "                        <td id=\"T_e122f9ba_d625_11ea_a424_8c8590257adbrow29_col1\" class=\"data row29 col1\" >None</td>\n",
       "            </tr>\n",
       "            <tr>\n",
       "                        <th id=\"T_e122f9ba_d625_11ea_a424_8c8590257adblevel0_row30\" class=\"row_heading level0 row30\" >30</th>\n",
       "                        <td id=\"T_e122f9ba_d625_11ea_a424_8c8590257adbrow30_col0\" class=\"data row30 col0\" >Clustering </td>\n",
       "                        <td id=\"T_e122f9ba_d625_11ea_a424_8c8590257adbrow30_col1\" class=\"data row30 col1\" >False</td>\n",
       "            </tr>\n",
       "            <tr>\n",
       "                        <th id=\"T_e122f9ba_d625_11ea_a424_8c8590257adblevel0_row31\" class=\"row_heading level0 row31\" >31</th>\n",
       "                        <td id=\"T_e122f9ba_d625_11ea_a424_8c8590257adbrow31_col0\" class=\"data row31 col0\" >Clustering Iteration </td>\n",
       "                        <td id=\"T_e122f9ba_d625_11ea_a424_8c8590257adbrow31_col1\" class=\"data row31 col1\" >None</td>\n",
       "            </tr>\n",
       "            <tr>\n",
       "                        <th id=\"T_e122f9ba_d625_11ea_a424_8c8590257adblevel0_row32\" class=\"row_heading level0 row32\" >32</th>\n",
       "                        <td id=\"T_e122f9ba_d625_11ea_a424_8c8590257adbrow32_col0\" class=\"data row32 col0\" >Polynomial Features </td>\n",
       "                        <td id=\"T_e122f9ba_d625_11ea_a424_8c8590257adbrow32_col1\" class=\"data row32 col1\" >False</td>\n",
       "            </tr>\n",
       "            <tr>\n",
       "                        <th id=\"T_e122f9ba_d625_11ea_a424_8c8590257adblevel0_row33\" class=\"row_heading level0 row33\" >33</th>\n",
       "                        <td id=\"T_e122f9ba_d625_11ea_a424_8c8590257adbrow33_col0\" class=\"data row33 col0\" >Polynomial Degree </td>\n",
       "                        <td id=\"T_e122f9ba_d625_11ea_a424_8c8590257adbrow33_col1\" class=\"data row33 col1\" >None</td>\n",
       "            </tr>\n",
       "            <tr>\n",
       "                        <th id=\"T_e122f9ba_d625_11ea_a424_8c8590257adblevel0_row34\" class=\"row_heading level0 row34\" >34</th>\n",
       "                        <td id=\"T_e122f9ba_d625_11ea_a424_8c8590257adbrow34_col0\" class=\"data row34 col0\" >Trignometry Features </td>\n",
       "                        <td id=\"T_e122f9ba_d625_11ea_a424_8c8590257adbrow34_col1\" class=\"data row34 col1\" >False</td>\n",
       "            </tr>\n",
       "            <tr>\n",
       "                        <th id=\"T_e122f9ba_d625_11ea_a424_8c8590257adblevel0_row35\" class=\"row_heading level0 row35\" >35</th>\n",
       "                        <td id=\"T_e122f9ba_d625_11ea_a424_8c8590257adbrow35_col0\" class=\"data row35 col0\" >Polynomial Threshold </td>\n",
       "                        <td id=\"T_e122f9ba_d625_11ea_a424_8c8590257adbrow35_col1\" class=\"data row35 col1\" >None</td>\n",
       "            </tr>\n",
       "            <tr>\n",
       "                        <th id=\"T_e122f9ba_d625_11ea_a424_8c8590257adblevel0_row36\" class=\"row_heading level0 row36\" >36</th>\n",
       "                        <td id=\"T_e122f9ba_d625_11ea_a424_8c8590257adbrow36_col0\" class=\"data row36 col0\" >Group Features </td>\n",
       "                        <td id=\"T_e122f9ba_d625_11ea_a424_8c8590257adbrow36_col1\" class=\"data row36 col1\" >False</td>\n",
       "            </tr>\n",
       "            <tr>\n",
       "                        <th id=\"T_e122f9ba_d625_11ea_a424_8c8590257adblevel0_row37\" class=\"row_heading level0 row37\" >37</th>\n",
       "                        <td id=\"T_e122f9ba_d625_11ea_a424_8c8590257adbrow37_col0\" class=\"data row37 col0\" >Feature Selection </td>\n",
       "                        <td id=\"T_e122f9ba_d625_11ea_a424_8c8590257adbrow37_col1\" class=\"data row37 col1\" >False</td>\n",
       "            </tr>\n",
       "            <tr>\n",
       "                        <th id=\"T_e122f9ba_d625_11ea_a424_8c8590257adblevel0_row38\" class=\"row_heading level0 row38\" >38</th>\n",
       "                        <td id=\"T_e122f9ba_d625_11ea_a424_8c8590257adbrow38_col0\" class=\"data row38 col0\" >Features Selection Threshold </td>\n",
       "                        <td id=\"T_e122f9ba_d625_11ea_a424_8c8590257adbrow38_col1\" class=\"data row38 col1\" >None</td>\n",
       "            </tr>\n",
       "            <tr>\n",
       "                        <th id=\"T_e122f9ba_d625_11ea_a424_8c8590257adblevel0_row39\" class=\"row_heading level0 row39\" >39</th>\n",
       "                        <td id=\"T_e122f9ba_d625_11ea_a424_8c8590257adbrow39_col0\" class=\"data row39 col0\" >Feature Interaction </td>\n",
       "                        <td id=\"T_e122f9ba_d625_11ea_a424_8c8590257adbrow39_col1\" class=\"data row39 col1\" >False</td>\n",
       "            </tr>\n",
       "            <tr>\n",
       "                        <th id=\"T_e122f9ba_d625_11ea_a424_8c8590257adblevel0_row40\" class=\"row_heading level0 row40\" >40</th>\n",
       "                        <td id=\"T_e122f9ba_d625_11ea_a424_8c8590257adbrow40_col0\" class=\"data row40 col0\" >Feature Ratio </td>\n",
       "                        <td id=\"T_e122f9ba_d625_11ea_a424_8c8590257adbrow40_col1\" class=\"data row40 col1\" >False</td>\n",
       "            </tr>\n",
       "            <tr>\n",
       "                        <th id=\"T_e122f9ba_d625_11ea_a424_8c8590257adblevel0_row41\" class=\"row_heading level0 row41\" >41</th>\n",
       "                        <td id=\"T_e122f9ba_d625_11ea_a424_8c8590257adbrow41_col0\" class=\"data row41 col0\" >Interaction Threshold </td>\n",
       "                        <td id=\"T_e122f9ba_d625_11ea_a424_8c8590257adbrow41_col1\" class=\"data row41 col1\" >None</td>\n",
       "            </tr>\n",
       "    </tbody></table>"
      ],
      "text/plain": [
       "<pandas.io.formats.style.Styler at 0x7fef9fb2e150>"
      ]
     },
     "metadata": {},
     "output_type": "display_data"
    }
   ],
   "source": [
    "reg=setup(data=boston_df,target='medv')"
   ]
  },
  {
   "cell_type": "code",
   "execution_count": 30,
   "metadata": {},
   "outputs": [
    {
     "data": {
      "text/html": [
       "<style  type=\"text/css\" >\n",
       "    #T_09f4ac62_d626_11ea_a424_8c8590257adb th {\n",
       "          text-align: left;\n",
       "    }    #T_09f4ac62_d626_11ea_a424_8c8590257adbrow0_col0 {\n",
       "            text-align:  left;\n",
       "        }    #T_09f4ac62_d626_11ea_a424_8c8590257adbrow0_col1 {\n",
       "            background-color:  yellow;\n",
       "            text-align:  left;\n",
       "        }    #T_09f4ac62_d626_11ea_a424_8c8590257adbrow0_col2 {\n",
       "            background-color:  yellow;\n",
       "            text-align:  left;\n",
       "        }    #T_09f4ac62_d626_11ea_a424_8c8590257adbrow0_col3 {\n",
       "            : ;\n",
       "            text-align:  left;\n",
       "        }    #T_09f4ac62_d626_11ea_a424_8c8590257adbrow0_col4 {\n",
       "            background-color:  yellow;\n",
       "            text-align:  left;\n",
       "        }    #T_09f4ac62_d626_11ea_a424_8c8590257adbrow0_col5 {\n",
       "            : ;\n",
       "            text-align:  left;\n",
       "        }    #T_09f4ac62_d626_11ea_a424_8c8590257adbrow0_col6 {\n",
       "            : ;\n",
       "            text-align:  left;\n",
       "        }    #T_09f4ac62_d626_11ea_a424_8c8590257adbrow0_col7 {\n",
       "            background-color:  lightgrey;\n",
       "            text-align:  left;\n",
       "        }    #T_09f4ac62_d626_11ea_a424_8c8590257adbrow1_col0 {\n",
       "            text-align:  left;\n",
       "        }    #T_09f4ac62_d626_11ea_a424_8c8590257adbrow1_col1 {\n",
       "            : ;\n",
       "            text-align:  left;\n",
       "        }    #T_09f4ac62_d626_11ea_a424_8c8590257adbrow1_col2 {\n",
       "            : ;\n",
       "            text-align:  left;\n",
       "        }    #T_09f4ac62_d626_11ea_a424_8c8590257adbrow1_col3 {\n",
       "            background-color:  yellow;\n",
       "            text-align:  left;\n",
       "        }    #T_09f4ac62_d626_11ea_a424_8c8590257adbrow1_col4 {\n",
       "            : ;\n",
       "            text-align:  left;\n",
       "        }    #T_09f4ac62_d626_11ea_a424_8c8590257adbrow1_col5 {\n",
       "            : ;\n",
       "            text-align:  left;\n",
       "        }    #T_09f4ac62_d626_11ea_a424_8c8590257adbrow1_col6 {\n",
       "            : ;\n",
       "            text-align:  left;\n",
       "        }    #T_09f4ac62_d626_11ea_a424_8c8590257adbrow1_col7 {\n",
       "            background-color:  lightgrey;\n",
       "            text-align:  left;\n",
       "        }    #T_09f4ac62_d626_11ea_a424_8c8590257adbrow2_col0 {\n",
       "            text-align:  left;\n",
       "        }    #T_09f4ac62_d626_11ea_a424_8c8590257adbrow2_col1 {\n",
       "            : ;\n",
       "            text-align:  left;\n",
       "        }    #T_09f4ac62_d626_11ea_a424_8c8590257adbrow2_col2 {\n",
       "            : ;\n",
       "            text-align:  left;\n",
       "        }    #T_09f4ac62_d626_11ea_a424_8c8590257adbrow2_col3 {\n",
       "            : ;\n",
       "            text-align:  left;\n",
       "        }    #T_09f4ac62_d626_11ea_a424_8c8590257adbrow2_col4 {\n",
       "            : ;\n",
       "            text-align:  left;\n",
       "        }    #T_09f4ac62_d626_11ea_a424_8c8590257adbrow2_col5 {\n",
       "            : ;\n",
       "            text-align:  left;\n",
       "        }    #T_09f4ac62_d626_11ea_a424_8c8590257adbrow2_col6 {\n",
       "            : ;\n",
       "            text-align:  left;\n",
       "        }    #T_09f4ac62_d626_11ea_a424_8c8590257adbrow2_col7 {\n",
       "            background-color:  lightgrey;\n",
       "            text-align:  left;\n",
       "        }    #T_09f4ac62_d626_11ea_a424_8c8590257adbrow3_col0 {\n",
       "            text-align:  left;\n",
       "        }    #T_09f4ac62_d626_11ea_a424_8c8590257adbrow3_col1 {\n",
       "            : ;\n",
       "            text-align:  left;\n",
       "        }    #T_09f4ac62_d626_11ea_a424_8c8590257adbrow3_col2 {\n",
       "            : ;\n",
       "            text-align:  left;\n",
       "        }    #T_09f4ac62_d626_11ea_a424_8c8590257adbrow3_col3 {\n",
       "            : ;\n",
       "            text-align:  left;\n",
       "        }    #T_09f4ac62_d626_11ea_a424_8c8590257adbrow3_col4 {\n",
       "            : ;\n",
       "            text-align:  left;\n",
       "        }    #T_09f4ac62_d626_11ea_a424_8c8590257adbrow3_col5 {\n",
       "            : ;\n",
       "            text-align:  left;\n",
       "        }    #T_09f4ac62_d626_11ea_a424_8c8590257adbrow3_col6 {\n",
       "            : ;\n",
       "            text-align:  left;\n",
       "        }    #T_09f4ac62_d626_11ea_a424_8c8590257adbrow3_col7 {\n",
       "            background-color:  lightgrey;\n",
       "            text-align:  left;\n",
       "        }    #T_09f4ac62_d626_11ea_a424_8c8590257adbrow4_col0 {\n",
       "            text-align:  left;\n",
       "        }    #T_09f4ac62_d626_11ea_a424_8c8590257adbrow4_col1 {\n",
       "            : ;\n",
       "            text-align:  left;\n",
       "        }    #T_09f4ac62_d626_11ea_a424_8c8590257adbrow4_col2 {\n",
       "            : ;\n",
       "            text-align:  left;\n",
       "        }    #T_09f4ac62_d626_11ea_a424_8c8590257adbrow4_col3 {\n",
       "            : ;\n",
       "            text-align:  left;\n",
       "        }    #T_09f4ac62_d626_11ea_a424_8c8590257adbrow4_col4 {\n",
       "            : ;\n",
       "            text-align:  left;\n",
       "        }    #T_09f4ac62_d626_11ea_a424_8c8590257adbrow4_col5 {\n",
       "            background-color:  yellow;\n",
       "            text-align:  left;\n",
       "        }    #T_09f4ac62_d626_11ea_a424_8c8590257adbrow4_col6 {\n",
       "            background-color:  yellow;\n",
       "            text-align:  left;\n",
       "        }    #T_09f4ac62_d626_11ea_a424_8c8590257adbrow4_col7 {\n",
       "            background-color:  lightgrey;\n",
       "            text-align:  left;\n",
       "        }    #T_09f4ac62_d626_11ea_a424_8c8590257adbrow5_col0 {\n",
       "            text-align:  left;\n",
       "        }    #T_09f4ac62_d626_11ea_a424_8c8590257adbrow5_col1 {\n",
       "            : ;\n",
       "            text-align:  left;\n",
       "        }    #T_09f4ac62_d626_11ea_a424_8c8590257adbrow5_col2 {\n",
       "            : ;\n",
       "            text-align:  left;\n",
       "        }    #T_09f4ac62_d626_11ea_a424_8c8590257adbrow5_col3 {\n",
       "            : ;\n",
       "            text-align:  left;\n",
       "        }    #T_09f4ac62_d626_11ea_a424_8c8590257adbrow5_col4 {\n",
       "            : ;\n",
       "            text-align:  left;\n",
       "        }    #T_09f4ac62_d626_11ea_a424_8c8590257adbrow5_col5 {\n",
       "            : ;\n",
       "            text-align:  left;\n",
       "        }    #T_09f4ac62_d626_11ea_a424_8c8590257adbrow5_col6 {\n",
       "            : ;\n",
       "            text-align:  left;\n",
       "        }    #T_09f4ac62_d626_11ea_a424_8c8590257adbrow5_col7 {\n",
       "            background-color:  lightgrey;\n",
       "            text-align:  left;\n",
       "        }    #T_09f4ac62_d626_11ea_a424_8c8590257adbrow6_col0 {\n",
       "            text-align:  left;\n",
       "        }    #T_09f4ac62_d626_11ea_a424_8c8590257adbrow6_col1 {\n",
       "            : ;\n",
       "            text-align:  left;\n",
       "        }    #T_09f4ac62_d626_11ea_a424_8c8590257adbrow6_col2 {\n",
       "            : ;\n",
       "            text-align:  left;\n",
       "        }    #T_09f4ac62_d626_11ea_a424_8c8590257adbrow6_col3 {\n",
       "            : ;\n",
       "            text-align:  left;\n",
       "        }    #T_09f4ac62_d626_11ea_a424_8c8590257adbrow6_col4 {\n",
       "            : ;\n",
       "            text-align:  left;\n",
       "        }    #T_09f4ac62_d626_11ea_a424_8c8590257adbrow6_col5 {\n",
       "            : ;\n",
       "            text-align:  left;\n",
       "        }    #T_09f4ac62_d626_11ea_a424_8c8590257adbrow6_col6 {\n",
       "            : ;\n",
       "            text-align:  left;\n",
       "        }    #T_09f4ac62_d626_11ea_a424_8c8590257adbrow6_col7 {\n",
       "            background-color:  lightgrey;\n",
       "            text-align:  left;\n",
       "        }    #T_09f4ac62_d626_11ea_a424_8c8590257adbrow7_col0 {\n",
       "            text-align:  left;\n",
       "        }    #T_09f4ac62_d626_11ea_a424_8c8590257adbrow7_col1 {\n",
       "            : ;\n",
       "            text-align:  left;\n",
       "        }    #T_09f4ac62_d626_11ea_a424_8c8590257adbrow7_col2 {\n",
       "            : ;\n",
       "            text-align:  left;\n",
       "        }    #T_09f4ac62_d626_11ea_a424_8c8590257adbrow7_col3 {\n",
       "            : ;\n",
       "            text-align:  left;\n",
       "        }    #T_09f4ac62_d626_11ea_a424_8c8590257adbrow7_col4 {\n",
       "            : ;\n",
       "            text-align:  left;\n",
       "        }    #T_09f4ac62_d626_11ea_a424_8c8590257adbrow7_col5 {\n",
       "            : ;\n",
       "            text-align:  left;\n",
       "        }    #T_09f4ac62_d626_11ea_a424_8c8590257adbrow7_col6 {\n",
       "            : ;\n",
       "            text-align:  left;\n",
       "        }    #T_09f4ac62_d626_11ea_a424_8c8590257adbrow7_col7 {\n",
       "            background-color:  lightgrey;\n",
       "            text-align:  left;\n",
       "        }    #T_09f4ac62_d626_11ea_a424_8c8590257adbrow8_col0 {\n",
       "            text-align:  left;\n",
       "        }    #T_09f4ac62_d626_11ea_a424_8c8590257adbrow8_col1 {\n",
       "            : ;\n",
       "            text-align:  left;\n",
       "        }    #T_09f4ac62_d626_11ea_a424_8c8590257adbrow8_col2 {\n",
       "            : ;\n",
       "            text-align:  left;\n",
       "        }    #T_09f4ac62_d626_11ea_a424_8c8590257adbrow8_col3 {\n",
       "            : ;\n",
       "            text-align:  left;\n",
       "        }    #T_09f4ac62_d626_11ea_a424_8c8590257adbrow8_col4 {\n",
       "            : ;\n",
       "            text-align:  left;\n",
       "        }    #T_09f4ac62_d626_11ea_a424_8c8590257adbrow8_col5 {\n",
       "            : ;\n",
       "            text-align:  left;\n",
       "        }    #T_09f4ac62_d626_11ea_a424_8c8590257adbrow8_col6 {\n",
       "            : ;\n",
       "            text-align:  left;\n",
       "        }    #T_09f4ac62_d626_11ea_a424_8c8590257adbrow8_col7 {\n",
       "            background-color:  lightgrey;\n",
       "            text-align:  left;\n",
       "        }    #T_09f4ac62_d626_11ea_a424_8c8590257adbrow9_col0 {\n",
       "            text-align:  left;\n",
       "        }    #T_09f4ac62_d626_11ea_a424_8c8590257adbrow9_col1 {\n",
       "            : ;\n",
       "            text-align:  left;\n",
       "        }    #T_09f4ac62_d626_11ea_a424_8c8590257adbrow9_col2 {\n",
       "            : ;\n",
       "            text-align:  left;\n",
       "        }    #T_09f4ac62_d626_11ea_a424_8c8590257adbrow9_col3 {\n",
       "            : ;\n",
       "            text-align:  left;\n",
       "        }    #T_09f4ac62_d626_11ea_a424_8c8590257adbrow9_col4 {\n",
       "            : ;\n",
       "            text-align:  left;\n",
       "        }    #T_09f4ac62_d626_11ea_a424_8c8590257adbrow9_col5 {\n",
       "            : ;\n",
       "            text-align:  left;\n",
       "        }    #T_09f4ac62_d626_11ea_a424_8c8590257adbrow9_col6 {\n",
       "            : ;\n",
       "            text-align:  left;\n",
       "        }    #T_09f4ac62_d626_11ea_a424_8c8590257adbrow9_col7 {\n",
       "            background-color:  lightgrey;\n",
       "            text-align:  left;\n",
       "        }    #T_09f4ac62_d626_11ea_a424_8c8590257adbrow10_col0 {\n",
       "            text-align:  left;\n",
       "        }    #T_09f4ac62_d626_11ea_a424_8c8590257adbrow10_col1 {\n",
       "            : ;\n",
       "            text-align:  left;\n",
       "        }    #T_09f4ac62_d626_11ea_a424_8c8590257adbrow10_col2 {\n",
       "            : ;\n",
       "            text-align:  left;\n",
       "        }    #T_09f4ac62_d626_11ea_a424_8c8590257adbrow10_col3 {\n",
       "            : ;\n",
       "            text-align:  left;\n",
       "        }    #T_09f4ac62_d626_11ea_a424_8c8590257adbrow10_col4 {\n",
       "            : ;\n",
       "            text-align:  left;\n",
       "        }    #T_09f4ac62_d626_11ea_a424_8c8590257adbrow10_col5 {\n",
       "            : ;\n",
       "            text-align:  left;\n",
       "        }    #T_09f4ac62_d626_11ea_a424_8c8590257adbrow10_col6 {\n",
       "            : ;\n",
       "            text-align:  left;\n",
       "        }    #T_09f4ac62_d626_11ea_a424_8c8590257adbrow10_col7 {\n",
       "            background-color:  lightgrey;\n",
       "            text-align:  left;\n",
       "        }    #T_09f4ac62_d626_11ea_a424_8c8590257adbrow11_col0 {\n",
       "            text-align:  left;\n",
       "        }    #T_09f4ac62_d626_11ea_a424_8c8590257adbrow11_col1 {\n",
       "            : ;\n",
       "            text-align:  left;\n",
       "        }    #T_09f4ac62_d626_11ea_a424_8c8590257adbrow11_col2 {\n",
       "            : ;\n",
       "            text-align:  left;\n",
       "        }    #T_09f4ac62_d626_11ea_a424_8c8590257adbrow11_col3 {\n",
       "            : ;\n",
       "            text-align:  left;\n",
       "        }    #T_09f4ac62_d626_11ea_a424_8c8590257adbrow11_col4 {\n",
       "            : ;\n",
       "            text-align:  left;\n",
       "        }    #T_09f4ac62_d626_11ea_a424_8c8590257adbrow11_col5 {\n",
       "            : ;\n",
       "            text-align:  left;\n",
       "        }    #T_09f4ac62_d626_11ea_a424_8c8590257adbrow11_col6 {\n",
       "            : ;\n",
       "            text-align:  left;\n",
       "        }    #T_09f4ac62_d626_11ea_a424_8c8590257adbrow11_col7 {\n",
       "            background-color:  lightgrey;\n",
       "            text-align:  left;\n",
       "        }    #T_09f4ac62_d626_11ea_a424_8c8590257adbrow12_col0 {\n",
       "            text-align:  left;\n",
       "        }    #T_09f4ac62_d626_11ea_a424_8c8590257adbrow12_col1 {\n",
       "            : ;\n",
       "            text-align:  left;\n",
       "        }    #T_09f4ac62_d626_11ea_a424_8c8590257adbrow12_col2 {\n",
       "            : ;\n",
       "            text-align:  left;\n",
       "        }    #T_09f4ac62_d626_11ea_a424_8c8590257adbrow12_col3 {\n",
       "            : ;\n",
       "            text-align:  left;\n",
       "        }    #T_09f4ac62_d626_11ea_a424_8c8590257adbrow12_col4 {\n",
       "            : ;\n",
       "            text-align:  left;\n",
       "        }    #T_09f4ac62_d626_11ea_a424_8c8590257adbrow12_col5 {\n",
       "            : ;\n",
       "            text-align:  left;\n",
       "        }    #T_09f4ac62_d626_11ea_a424_8c8590257adbrow12_col6 {\n",
       "            : ;\n",
       "            text-align:  left;\n",
       "        }    #T_09f4ac62_d626_11ea_a424_8c8590257adbrow12_col7 {\n",
       "            background-color:  lightgrey;\n",
       "            text-align:  left;\n",
       "        }    #T_09f4ac62_d626_11ea_a424_8c8590257adbrow13_col0 {\n",
       "            text-align:  left;\n",
       "        }    #T_09f4ac62_d626_11ea_a424_8c8590257adbrow13_col1 {\n",
       "            : ;\n",
       "            text-align:  left;\n",
       "        }    #T_09f4ac62_d626_11ea_a424_8c8590257adbrow13_col2 {\n",
       "            : ;\n",
       "            text-align:  left;\n",
       "        }    #T_09f4ac62_d626_11ea_a424_8c8590257adbrow13_col3 {\n",
       "            : ;\n",
       "            text-align:  left;\n",
       "        }    #T_09f4ac62_d626_11ea_a424_8c8590257adbrow13_col4 {\n",
       "            : ;\n",
       "            text-align:  left;\n",
       "        }    #T_09f4ac62_d626_11ea_a424_8c8590257adbrow13_col5 {\n",
       "            : ;\n",
       "            text-align:  left;\n",
       "        }    #T_09f4ac62_d626_11ea_a424_8c8590257adbrow13_col6 {\n",
       "            : ;\n",
       "            text-align:  left;\n",
       "        }    #T_09f4ac62_d626_11ea_a424_8c8590257adbrow13_col7 {\n",
       "            background-color:  lightgrey;\n",
       "            text-align:  left;\n",
       "        }    #T_09f4ac62_d626_11ea_a424_8c8590257adbrow14_col0 {\n",
       "            text-align:  left;\n",
       "        }    #T_09f4ac62_d626_11ea_a424_8c8590257adbrow14_col1 {\n",
       "            : ;\n",
       "            text-align:  left;\n",
       "        }    #T_09f4ac62_d626_11ea_a424_8c8590257adbrow14_col2 {\n",
       "            : ;\n",
       "            text-align:  left;\n",
       "        }    #T_09f4ac62_d626_11ea_a424_8c8590257adbrow14_col3 {\n",
       "            : ;\n",
       "            text-align:  left;\n",
       "        }    #T_09f4ac62_d626_11ea_a424_8c8590257adbrow14_col4 {\n",
       "            : ;\n",
       "            text-align:  left;\n",
       "        }    #T_09f4ac62_d626_11ea_a424_8c8590257adbrow14_col5 {\n",
       "            : ;\n",
       "            text-align:  left;\n",
       "        }    #T_09f4ac62_d626_11ea_a424_8c8590257adbrow14_col6 {\n",
       "            : ;\n",
       "            text-align:  left;\n",
       "        }    #T_09f4ac62_d626_11ea_a424_8c8590257adbrow14_col7 {\n",
       "            background-color:  lightgrey;\n",
       "            text-align:  left;\n",
       "        }    #T_09f4ac62_d626_11ea_a424_8c8590257adbrow15_col0 {\n",
       "            text-align:  left;\n",
       "        }    #T_09f4ac62_d626_11ea_a424_8c8590257adbrow15_col1 {\n",
       "            : ;\n",
       "            text-align:  left;\n",
       "        }    #T_09f4ac62_d626_11ea_a424_8c8590257adbrow15_col2 {\n",
       "            : ;\n",
       "            text-align:  left;\n",
       "        }    #T_09f4ac62_d626_11ea_a424_8c8590257adbrow15_col3 {\n",
       "            : ;\n",
       "            text-align:  left;\n",
       "        }    #T_09f4ac62_d626_11ea_a424_8c8590257adbrow15_col4 {\n",
       "            : ;\n",
       "            text-align:  left;\n",
       "        }    #T_09f4ac62_d626_11ea_a424_8c8590257adbrow15_col5 {\n",
       "            : ;\n",
       "            text-align:  left;\n",
       "        }    #T_09f4ac62_d626_11ea_a424_8c8590257adbrow15_col6 {\n",
       "            : ;\n",
       "            text-align:  left;\n",
       "        }    #T_09f4ac62_d626_11ea_a424_8c8590257adbrow15_col7 {\n",
       "            background-color:  lightgrey;\n",
       "            text-align:  left;\n",
       "        }    #T_09f4ac62_d626_11ea_a424_8c8590257adbrow16_col0 {\n",
       "            text-align:  left;\n",
       "        }    #T_09f4ac62_d626_11ea_a424_8c8590257adbrow16_col1 {\n",
       "            : ;\n",
       "            text-align:  left;\n",
       "        }    #T_09f4ac62_d626_11ea_a424_8c8590257adbrow16_col2 {\n",
       "            : ;\n",
       "            text-align:  left;\n",
       "        }    #T_09f4ac62_d626_11ea_a424_8c8590257adbrow16_col3 {\n",
       "            : ;\n",
       "            text-align:  left;\n",
       "        }    #T_09f4ac62_d626_11ea_a424_8c8590257adbrow16_col4 {\n",
       "            : ;\n",
       "            text-align:  left;\n",
       "        }    #T_09f4ac62_d626_11ea_a424_8c8590257adbrow16_col5 {\n",
       "            : ;\n",
       "            text-align:  left;\n",
       "        }    #T_09f4ac62_d626_11ea_a424_8c8590257adbrow16_col6 {\n",
       "            : ;\n",
       "            text-align:  left;\n",
       "        }    #T_09f4ac62_d626_11ea_a424_8c8590257adbrow16_col7 {\n",
       "            background-color:  lightgrey;\n",
       "            text-align:  left;\n",
       "        }    #T_09f4ac62_d626_11ea_a424_8c8590257adbrow17_col0 {\n",
       "            text-align:  left;\n",
       "        }    #T_09f4ac62_d626_11ea_a424_8c8590257adbrow17_col1 {\n",
       "            : ;\n",
       "            text-align:  left;\n",
       "        }    #T_09f4ac62_d626_11ea_a424_8c8590257adbrow17_col2 {\n",
       "            : ;\n",
       "            text-align:  left;\n",
       "        }    #T_09f4ac62_d626_11ea_a424_8c8590257adbrow17_col3 {\n",
       "            : ;\n",
       "            text-align:  left;\n",
       "        }    #T_09f4ac62_d626_11ea_a424_8c8590257adbrow17_col4 {\n",
       "            : ;\n",
       "            text-align:  left;\n",
       "        }    #T_09f4ac62_d626_11ea_a424_8c8590257adbrow17_col5 {\n",
       "            : ;\n",
       "            text-align:  left;\n",
       "        }    #T_09f4ac62_d626_11ea_a424_8c8590257adbrow17_col6 {\n",
       "            : ;\n",
       "            text-align:  left;\n",
       "        }    #T_09f4ac62_d626_11ea_a424_8c8590257adbrow17_col7 {\n",
       "            background-color:  lightgrey;\n",
       "            text-align:  left;\n",
       "        }    #T_09f4ac62_d626_11ea_a424_8c8590257adbrow18_col0 {\n",
       "            text-align:  left;\n",
       "        }    #T_09f4ac62_d626_11ea_a424_8c8590257adbrow18_col1 {\n",
       "            : ;\n",
       "            text-align:  left;\n",
       "        }    #T_09f4ac62_d626_11ea_a424_8c8590257adbrow18_col2 {\n",
       "            : ;\n",
       "            text-align:  left;\n",
       "        }    #T_09f4ac62_d626_11ea_a424_8c8590257adbrow18_col3 {\n",
       "            : ;\n",
       "            text-align:  left;\n",
       "        }    #T_09f4ac62_d626_11ea_a424_8c8590257adbrow18_col4 {\n",
       "            : ;\n",
       "            text-align:  left;\n",
       "        }    #T_09f4ac62_d626_11ea_a424_8c8590257adbrow18_col5 {\n",
       "            : ;\n",
       "            text-align:  left;\n",
       "        }    #T_09f4ac62_d626_11ea_a424_8c8590257adbrow18_col6 {\n",
       "            : ;\n",
       "            text-align:  left;\n",
       "        }    #T_09f4ac62_d626_11ea_a424_8c8590257adbrow18_col7 {\n",
       "            background-color:  lightgrey;\n",
       "            text-align:  left;\n",
       "        }    #T_09f4ac62_d626_11ea_a424_8c8590257adbrow19_col0 {\n",
       "            text-align:  left;\n",
       "        }    #T_09f4ac62_d626_11ea_a424_8c8590257adbrow19_col1 {\n",
       "            : ;\n",
       "            text-align:  left;\n",
       "        }    #T_09f4ac62_d626_11ea_a424_8c8590257adbrow19_col2 {\n",
       "            : ;\n",
       "            text-align:  left;\n",
       "        }    #T_09f4ac62_d626_11ea_a424_8c8590257adbrow19_col3 {\n",
       "            : ;\n",
       "            text-align:  left;\n",
       "        }    #T_09f4ac62_d626_11ea_a424_8c8590257adbrow19_col4 {\n",
       "            : ;\n",
       "            text-align:  left;\n",
       "        }    #T_09f4ac62_d626_11ea_a424_8c8590257adbrow19_col5 {\n",
       "            : ;\n",
       "            text-align:  left;\n",
       "        }    #T_09f4ac62_d626_11ea_a424_8c8590257adbrow19_col6 {\n",
       "            : ;\n",
       "            text-align:  left;\n",
       "        }    #T_09f4ac62_d626_11ea_a424_8c8590257adbrow19_col7 {\n",
       "            background-color:  lightgrey;\n",
       "            text-align:  left;\n",
       "        }    #T_09f4ac62_d626_11ea_a424_8c8590257adbrow20_col0 {\n",
       "            text-align:  left;\n",
       "        }    #T_09f4ac62_d626_11ea_a424_8c8590257adbrow20_col1 {\n",
       "            : ;\n",
       "            text-align:  left;\n",
       "        }    #T_09f4ac62_d626_11ea_a424_8c8590257adbrow20_col2 {\n",
       "            : ;\n",
       "            text-align:  left;\n",
       "        }    #T_09f4ac62_d626_11ea_a424_8c8590257adbrow20_col3 {\n",
       "            : ;\n",
       "            text-align:  left;\n",
       "        }    #T_09f4ac62_d626_11ea_a424_8c8590257adbrow20_col4 {\n",
       "            : ;\n",
       "            text-align:  left;\n",
       "        }    #T_09f4ac62_d626_11ea_a424_8c8590257adbrow20_col5 {\n",
       "            : ;\n",
       "            text-align:  left;\n",
       "        }    #T_09f4ac62_d626_11ea_a424_8c8590257adbrow20_col6 {\n",
       "            : ;\n",
       "            text-align:  left;\n",
       "        }    #T_09f4ac62_d626_11ea_a424_8c8590257adbrow20_col7 {\n",
       "            background-color:  lightgrey;\n",
       "            text-align:  left;\n",
       "        }    #T_09f4ac62_d626_11ea_a424_8c8590257adbrow21_col0 {\n",
       "            text-align:  left;\n",
       "        }    #T_09f4ac62_d626_11ea_a424_8c8590257adbrow21_col1 {\n",
       "            : ;\n",
       "            text-align:  left;\n",
       "        }    #T_09f4ac62_d626_11ea_a424_8c8590257adbrow21_col2 {\n",
       "            : ;\n",
       "            text-align:  left;\n",
       "        }    #T_09f4ac62_d626_11ea_a424_8c8590257adbrow21_col3 {\n",
       "            : ;\n",
       "            text-align:  left;\n",
       "        }    #T_09f4ac62_d626_11ea_a424_8c8590257adbrow21_col4 {\n",
       "            : ;\n",
       "            text-align:  left;\n",
       "        }    #T_09f4ac62_d626_11ea_a424_8c8590257adbrow21_col5 {\n",
       "            : ;\n",
       "            text-align:  left;\n",
       "        }    #T_09f4ac62_d626_11ea_a424_8c8590257adbrow21_col6 {\n",
       "            : ;\n",
       "            text-align:  left;\n",
       "        }    #T_09f4ac62_d626_11ea_a424_8c8590257adbrow21_col7 {\n",
       "            background-color:  lightgrey;\n",
       "            text-align:  left;\n",
       "        }</style><table id=\"T_09f4ac62_d626_11ea_a424_8c8590257adb\" ><thead>    <tr>        <th class=\"blank level0\" ></th>        <th class=\"col_heading level0 col0\" >Model</th>        <th class=\"col_heading level0 col1\" >MAE</th>        <th class=\"col_heading level0 col2\" >MSE</th>        <th class=\"col_heading level0 col3\" >RMSE</th>        <th class=\"col_heading level0 col4\" >R2</th>        <th class=\"col_heading level0 col5\" >RMSLE</th>        <th class=\"col_heading level0 col6\" >MAPE</th>        <th class=\"col_heading level0 col7\" >TT (Sec)</th>    </tr></thead><tbody>\n",
       "                <tr>\n",
       "                        <th id=\"T_09f4ac62_d626_11ea_a424_8c8590257adblevel0_row0\" class=\"row_heading level0 row0\" >0</th>\n",
       "                        <td id=\"T_09f4ac62_d626_11ea_a424_8c8590257adbrow0_col0\" class=\"data row0 col0\" >CatBoost Regressor</td>\n",
       "                        <td id=\"T_09f4ac62_d626_11ea_a424_8c8590257adbrow0_col1\" class=\"data row0 col1\" >2.2262</td>\n",
       "                        <td id=\"T_09f4ac62_d626_11ea_a424_8c8590257adbrow0_col2\" class=\"data row0 col2\" >10.8788</td>\n",
       "                        <td id=\"T_09f4ac62_d626_11ea_a424_8c8590257adbrow0_col3\" class=\"data row0 col3\" >3.2275</td>\n",
       "                        <td id=\"T_09f4ac62_d626_11ea_a424_8c8590257adbrow0_col4\" class=\"data row0 col4\" >0.8773</td>\n",
       "                        <td id=\"T_09f4ac62_d626_11ea_a424_8c8590257adbrow0_col5\" class=\"data row0 col5\" >0.1421</td>\n",
       "                        <td id=\"T_09f4ac62_d626_11ea_a424_8c8590257adbrow0_col6\" class=\"data row0 col6\" >0.1100</td>\n",
       "                        <td id=\"T_09f4ac62_d626_11ea_a424_8c8590257adbrow0_col7\" class=\"data row0 col7\" >1.6954</td>\n",
       "            </tr>\n",
       "            <tr>\n",
       "                        <th id=\"T_09f4ac62_d626_11ea_a424_8c8590257adblevel0_row1\" class=\"row_heading level0 row1\" >1</th>\n",
       "                        <td id=\"T_09f4ac62_d626_11ea_a424_8c8590257adbrow1_col0\" class=\"data row1 col0\" >Gradient Boosting Regressor</td>\n",
       "                        <td id=\"T_09f4ac62_d626_11ea_a424_8c8590257adbrow1_col1\" class=\"data row1 col1\" >2.2447</td>\n",
       "                        <td id=\"T_09f4ac62_d626_11ea_a424_8c8590257adbrow1_col2\" class=\"data row1 col2\" >10.8982</td>\n",
       "                        <td id=\"T_09f4ac62_d626_11ea_a424_8c8590257adbrow1_col3\" class=\"data row1 col3\" >3.1980</td>\n",
       "                        <td id=\"T_09f4ac62_d626_11ea_a424_8c8590257adbrow1_col4\" class=\"data row1 col4\" >0.8744</td>\n",
       "                        <td id=\"T_09f4ac62_d626_11ea_a424_8c8590257adbrow1_col5\" class=\"data row1 col5\" >0.1444</td>\n",
       "                        <td id=\"T_09f4ac62_d626_11ea_a424_8c8590257adbrow1_col6\" class=\"data row1 col6\" >0.1147</td>\n",
       "                        <td id=\"T_09f4ac62_d626_11ea_a424_8c8590257adbrow1_col7\" class=\"data row1 col7\" >0.1122</td>\n",
       "            </tr>\n",
       "            <tr>\n",
       "                        <th id=\"T_09f4ac62_d626_11ea_a424_8c8590257adblevel0_row2\" class=\"row_heading level0 row2\" >2</th>\n",
       "                        <td id=\"T_09f4ac62_d626_11ea_a424_8c8590257adbrow2_col0\" class=\"data row2 col0\" >Random Forest</td>\n",
       "                        <td id=\"T_09f4ac62_d626_11ea_a424_8c8590257adbrow2_col1\" class=\"data row2 col1\" >2.3443</td>\n",
       "                        <td id=\"T_09f4ac62_d626_11ea_a424_8c8590257adbrow2_col2\" class=\"data row2 col2\" >11.4440</td>\n",
       "                        <td id=\"T_09f4ac62_d626_11ea_a424_8c8590257adbrow2_col3\" class=\"data row2 col3\" >3.3004</td>\n",
       "                        <td id=\"T_09f4ac62_d626_11ea_a424_8c8590257adbrow2_col4\" class=\"data row2 col4\" >0.8723</td>\n",
       "                        <td id=\"T_09f4ac62_d626_11ea_a424_8c8590257adbrow2_col5\" class=\"data row2 col5\" >0.1430</td>\n",
       "                        <td id=\"T_09f4ac62_d626_11ea_a424_8c8590257adbrow2_col6\" class=\"data row2 col6\" >0.1159</td>\n",
       "                        <td id=\"T_09f4ac62_d626_11ea_a424_8c8590257adbrow2_col7\" class=\"data row2 col7\" >0.2783</td>\n",
       "            </tr>\n",
       "            <tr>\n",
       "                        <th id=\"T_09f4ac62_d626_11ea_a424_8c8590257adblevel0_row3\" class=\"row_heading level0 row3\" >3</th>\n",
       "                        <td id=\"T_09f4ac62_d626_11ea_a424_8c8590257adbrow3_col0\" class=\"data row3 col0\" >Extreme Gradient Boosting</td>\n",
       "                        <td id=\"T_09f4ac62_d626_11ea_a424_8c8590257adbrow3_col1\" class=\"data row3 col1\" >2.2856</td>\n",
       "                        <td id=\"T_09f4ac62_d626_11ea_a424_8c8590257adbrow3_col2\" class=\"data row3 col2\" >11.7220</td>\n",
       "                        <td id=\"T_09f4ac62_d626_11ea_a424_8c8590257adbrow3_col3\" class=\"data row3 col3\" >3.3383</td>\n",
       "                        <td id=\"T_09f4ac62_d626_11ea_a424_8c8590257adbrow3_col4\" class=\"data row3 col4\" >0.8660</td>\n",
       "                        <td id=\"T_09f4ac62_d626_11ea_a424_8c8590257adbrow3_col5\" class=\"data row3 col5\" >0.1482</td>\n",
       "                        <td id=\"T_09f4ac62_d626_11ea_a424_8c8590257adbrow3_col6\" class=\"data row3 col6\" >0.1156</td>\n",
       "                        <td id=\"T_09f4ac62_d626_11ea_a424_8c8590257adbrow3_col7\" class=\"data row3 col7\" >0.1056</td>\n",
       "            </tr>\n",
       "            <tr>\n",
       "                        <th id=\"T_09f4ac62_d626_11ea_a424_8c8590257adblevel0_row4\" class=\"row_heading level0 row4\" >4</th>\n",
       "                        <td id=\"T_09f4ac62_d626_11ea_a424_8c8590257adbrow4_col0\" class=\"data row4 col0\" >Extra Trees Regressor</td>\n",
       "                        <td id=\"T_09f4ac62_d626_11ea_a424_8c8590257adbrow4_col1\" class=\"data row4 col1\" >2.2730</td>\n",
       "                        <td id=\"T_09f4ac62_d626_11ea_a424_8c8590257adbrow4_col2\" class=\"data row4 col2\" >11.9136</td>\n",
       "                        <td id=\"T_09f4ac62_d626_11ea_a424_8c8590257adbrow4_col3\" class=\"data row4 col3\" >3.2891</td>\n",
       "                        <td id=\"T_09f4ac62_d626_11ea_a424_8c8590257adbrow4_col4\" class=\"data row4 col4\" >0.8639</td>\n",
       "                        <td id=\"T_09f4ac62_d626_11ea_a424_8c8590257adbrow4_col5\" class=\"data row4 col5\" >0.1364</td>\n",
       "                        <td id=\"T_09f4ac62_d626_11ea_a424_8c8590257adbrow4_col6\" class=\"data row4 col6\" >0.1093</td>\n",
       "                        <td id=\"T_09f4ac62_d626_11ea_a424_8c8590257adbrow4_col7\" class=\"data row4 col7\" >0.2738</td>\n",
       "            </tr>\n",
       "            <tr>\n",
       "                        <th id=\"T_09f4ac62_d626_11ea_a424_8c8590257adblevel0_row5\" class=\"row_heading level0 row5\" >5</th>\n",
       "                        <td id=\"T_09f4ac62_d626_11ea_a424_8c8590257adbrow5_col0\" class=\"data row5 col0\" >Light Gradient Boosting Machine</td>\n",
       "                        <td id=\"T_09f4ac62_d626_11ea_a424_8c8590257adbrow5_col1\" class=\"data row5 col1\" >2.4870</td>\n",
       "                        <td id=\"T_09f4ac62_d626_11ea_a424_8c8590257adbrow5_col2\" class=\"data row5 col2\" >13.9684</td>\n",
       "                        <td id=\"T_09f4ac62_d626_11ea_a424_8c8590257adbrow5_col3\" class=\"data row5 col3\" >3.5941</td>\n",
       "                        <td id=\"T_09f4ac62_d626_11ea_a424_8c8590257adbrow5_col4\" class=\"data row5 col4\" >0.8401</td>\n",
       "                        <td id=\"T_09f4ac62_d626_11ea_a424_8c8590257adbrow5_col5\" class=\"data row5 col5\" >0.1490</td>\n",
       "                        <td id=\"T_09f4ac62_d626_11ea_a424_8c8590257adbrow5_col6\" class=\"data row5 col6\" >0.1194</td>\n",
       "                        <td id=\"T_09f4ac62_d626_11ea_a424_8c8590257adbrow5_col7\" class=\"data row5 col7\" >0.0418</td>\n",
       "            </tr>\n",
       "            <tr>\n",
       "                        <th id=\"T_09f4ac62_d626_11ea_a424_8c8590257adblevel0_row6\" class=\"row_heading level0 row6\" >6</th>\n",
       "                        <td id=\"T_09f4ac62_d626_11ea_a424_8c8590257adbrow6_col0\" class=\"data row6 col0\" >AdaBoost Regressor</td>\n",
       "                        <td id=\"T_09f4ac62_d626_11ea_a424_8c8590257adbrow6_col1\" class=\"data row6 col1\" >2.7765</td>\n",
       "                        <td id=\"T_09f4ac62_d626_11ea_a424_8c8590257adbrow6_col2\" class=\"data row6 col2\" >14.6607</td>\n",
       "                        <td id=\"T_09f4ac62_d626_11ea_a424_8c8590257adbrow6_col3\" class=\"data row6 col3\" >3.7305</td>\n",
       "                        <td id=\"T_09f4ac62_d626_11ea_a424_8c8590257adbrow6_col4\" class=\"data row6 col4\" >0.8321</td>\n",
       "                        <td id=\"T_09f4ac62_d626_11ea_a424_8c8590257adbrow6_col5\" class=\"data row6 col5\" >0.1719</td>\n",
       "                        <td id=\"T_09f4ac62_d626_11ea_a424_8c8590257adbrow6_col6\" class=\"data row6 col6\" >0.1463</td>\n",
       "                        <td id=\"T_09f4ac62_d626_11ea_a424_8c8590257adbrow6_col7\" class=\"data row6 col7\" >0.1241</td>\n",
       "            </tr>\n",
       "            <tr>\n",
       "                        <th id=\"T_09f4ac62_d626_11ea_a424_8c8590257adblevel0_row7\" class=\"row_heading level0 row7\" >7</th>\n",
       "                        <td id=\"T_09f4ac62_d626_11ea_a424_8c8590257adbrow7_col0\" class=\"data row7 col0\" >Decision Tree</td>\n",
       "                        <td id=\"T_09f4ac62_d626_11ea_a424_8c8590257adbrow7_col1\" class=\"data row7 col1\" >3.2660</td>\n",
       "                        <td id=\"T_09f4ac62_d626_11ea_a424_8c8590257adbrow7_col2\" class=\"data row7 col2\" >26.2963</td>\n",
       "                        <td id=\"T_09f4ac62_d626_11ea_a424_8c8590257adbrow7_col3\" class=\"data row7 col3\" >4.8206</td>\n",
       "                        <td id=\"T_09f4ac62_d626_11ea_a424_8c8590257adbrow7_col4\" class=\"data row7 col4\" >0.7058</td>\n",
       "                        <td id=\"T_09f4ac62_d626_11ea_a424_8c8590257adbrow7_col5\" class=\"data row7 col5\" >0.2043</td>\n",
       "                        <td id=\"T_09f4ac62_d626_11ea_a424_8c8590257adbrow7_col6\" class=\"data row7 col6\" >0.1602</td>\n",
       "                        <td id=\"T_09f4ac62_d626_11ea_a424_8c8590257adbrow7_col7\" class=\"data row7 col7\" >0.0075</td>\n",
       "            </tr>\n",
       "            <tr>\n",
       "                        <th id=\"T_09f4ac62_d626_11ea_a424_8c8590257adblevel0_row8\" class=\"row_heading level0 row8\" >8</th>\n",
       "                        <td id=\"T_09f4ac62_d626_11ea_a424_8c8590257adbrow8_col0\" class=\"data row8 col0\" >Linear Regression</td>\n",
       "                        <td id=\"T_09f4ac62_d626_11ea_a424_8c8590257adbrow8_col1\" class=\"data row8 col1\" >3.6492</td>\n",
       "                        <td id=\"T_09f4ac62_d626_11ea_a424_8c8590257adbrow8_col2\" class=\"data row8 col2\" >27.2553</td>\n",
       "                        <td id=\"T_09f4ac62_d626_11ea_a424_8c8590257adbrow8_col3\" class=\"data row8 col3\" >5.1663</td>\n",
       "                        <td id=\"T_09f4ac62_d626_11ea_a424_8c8590257adbrow8_col4\" class=\"data row8 col4\" >0.6908</td>\n",
       "                        <td id=\"T_09f4ac62_d626_11ea_a424_8c8590257adbrow8_col5\" class=\"data row8 col5\" >0.2648</td>\n",
       "                        <td id=\"T_09f4ac62_d626_11ea_a424_8c8590257adbrow8_col6\" class=\"data row8 col6\" >0.1811</td>\n",
       "                        <td id=\"T_09f4ac62_d626_11ea_a424_8c8590257adbrow8_col7\" class=\"data row8 col7\" >0.0060</td>\n",
       "            </tr>\n",
       "            <tr>\n",
       "                        <th id=\"T_09f4ac62_d626_11ea_a424_8c8590257adblevel0_row9\" class=\"row_heading level0 row9\" >9</th>\n",
       "                        <td id=\"T_09f4ac62_d626_11ea_a424_8c8590257adbrow9_col0\" class=\"data row9 col0\" >Ridge Regression</td>\n",
       "                        <td id=\"T_09f4ac62_d626_11ea_a424_8c8590257adbrow9_col1\" class=\"data row9 col1\" >3.6237</td>\n",
       "                        <td id=\"T_09f4ac62_d626_11ea_a424_8c8590257adbrow9_col2\" class=\"data row9 col2\" >27.3801</td>\n",
       "                        <td id=\"T_09f4ac62_d626_11ea_a424_8c8590257adbrow9_col3\" class=\"data row9 col3\" >5.1638</td>\n",
       "                        <td id=\"T_09f4ac62_d626_11ea_a424_8c8590257adbrow9_col4\" class=\"data row9 col4\" >0.6903</td>\n",
       "                        <td id=\"T_09f4ac62_d626_11ea_a424_8c8590257adbrow9_col5\" class=\"data row9 col5\" >0.2663</td>\n",
       "                        <td id=\"T_09f4ac62_d626_11ea_a424_8c8590257adbrow9_col6\" class=\"data row9 col6\" >0.1802</td>\n",
       "                        <td id=\"T_09f4ac62_d626_11ea_a424_8c8590257adbrow9_col7\" class=\"data row9 col7\" >0.0051</td>\n",
       "            </tr>\n",
       "            <tr>\n",
       "                        <th id=\"T_09f4ac62_d626_11ea_a424_8c8590257adblevel0_row10\" class=\"row_heading level0 row10\" >10</th>\n",
       "                        <td id=\"T_09f4ac62_d626_11ea_a424_8c8590257adbrow10_col0\" class=\"data row10 col0\" >Bayesian Ridge</td>\n",
       "                        <td id=\"T_09f4ac62_d626_11ea_a424_8c8590257adbrow10_col1\" class=\"data row10 col1\" >3.6396</td>\n",
       "                        <td id=\"T_09f4ac62_d626_11ea_a424_8c8590257adbrow10_col2\" class=\"data row10 col2\" >27.9725</td>\n",
       "                        <td id=\"T_09f4ac62_d626_11ea_a424_8c8590257adbrow10_col3\" class=\"data row10 col3\" >5.2125</td>\n",
       "                        <td id=\"T_09f4ac62_d626_11ea_a424_8c8590257adbrow10_col4\" class=\"data row10 col4\" >0.6841</td>\n",
       "                        <td id=\"T_09f4ac62_d626_11ea_a424_8c8590257adbrow10_col5\" class=\"data row10 col5\" >0.2575</td>\n",
       "                        <td id=\"T_09f4ac62_d626_11ea_a424_8c8590257adbrow10_col6\" class=\"data row10 col6\" >0.1807</td>\n",
       "                        <td id=\"T_09f4ac62_d626_11ea_a424_8c8590257adbrow10_col7\" class=\"data row10 col7\" >0.0085</td>\n",
       "            </tr>\n",
       "            <tr>\n",
       "                        <th id=\"T_09f4ac62_d626_11ea_a424_8c8590257adblevel0_row11\" class=\"row_heading level0 row11\" >11</th>\n",
       "                        <td id=\"T_09f4ac62_d626_11ea_a424_8c8590257adbrow11_col0\" class=\"data row11 col0\" >Least Angle Regression</td>\n",
       "                        <td id=\"T_09f4ac62_d626_11ea_a424_8c8590257adbrow11_col1\" class=\"data row11 col1\" >3.6931</td>\n",
       "                        <td id=\"T_09f4ac62_d626_11ea_a424_8c8590257adbrow11_col2\" class=\"data row11 col2\" >27.9651</td>\n",
       "                        <td id=\"T_09f4ac62_d626_11ea_a424_8c8590257adbrow11_col3\" class=\"data row11 col3\" >5.2413</td>\n",
       "                        <td id=\"T_09f4ac62_d626_11ea_a424_8c8590257adbrow11_col4\" class=\"data row11 col4\" >0.6832</td>\n",
       "                        <td id=\"T_09f4ac62_d626_11ea_a424_8c8590257adbrow11_col5\" class=\"data row11 col5\" >0.2620</td>\n",
       "                        <td id=\"T_09f4ac62_d626_11ea_a424_8c8590257adbrow11_col6\" class=\"data row11 col6\" >0.1835</td>\n",
       "                        <td id=\"T_09f4ac62_d626_11ea_a424_8c8590257adbrow11_col7\" class=\"data row11 col7\" >0.0105</td>\n",
       "            </tr>\n",
       "            <tr>\n",
       "                        <th id=\"T_09f4ac62_d626_11ea_a424_8c8590257adblevel0_row12\" class=\"row_heading level0 row12\" >12</th>\n",
       "                        <td id=\"T_09f4ac62_d626_11ea_a424_8c8590257adbrow12_col0\" class=\"data row12 col0\" >TheilSen Regressor</td>\n",
       "                        <td id=\"T_09f4ac62_d626_11ea_a424_8c8590257adbrow12_col1\" class=\"data row12 col1\" >3.5959</td>\n",
       "                        <td id=\"T_09f4ac62_d626_11ea_a424_8c8590257adbrow12_col2\" class=\"data row12 col2\" >30.4219</td>\n",
       "                        <td id=\"T_09f4ac62_d626_11ea_a424_8c8590257adbrow12_col3\" class=\"data row12 col3\" >5.4073</td>\n",
       "                        <td id=\"T_09f4ac62_d626_11ea_a424_8c8590257adbrow12_col4\" class=\"data row12 col4\" >0.6621</td>\n",
       "                        <td id=\"T_09f4ac62_d626_11ea_a424_8c8590257adbrow12_col5\" class=\"data row12 col5\" >0.2584</td>\n",
       "                        <td id=\"T_09f4ac62_d626_11ea_a424_8c8590257adbrow12_col6\" class=\"data row12 col6\" >0.1701</td>\n",
       "                        <td id=\"T_09f4ac62_d626_11ea_a424_8c8590257adbrow12_col7\" class=\"data row12 col7\" >0.8677</td>\n",
       "            </tr>\n",
       "            <tr>\n",
       "                        <th id=\"T_09f4ac62_d626_11ea_a424_8c8590257adblevel0_row13\" class=\"row_heading level0 row13\" >13</th>\n",
       "                        <td id=\"T_09f4ac62_d626_11ea_a424_8c8590257adbrow13_col0\" class=\"data row13 col0\" >Random Sample Consensus</td>\n",
       "                        <td id=\"T_09f4ac62_d626_11ea_a424_8c8590257adbrow13_col1\" class=\"data row13 col1\" >3.5373</td>\n",
       "                        <td id=\"T_09f4ac62_d626_11ea_a424_8c8590257adbrow13_col2\" class=\"data row13 col2\" >31.4419</td>\n",
       "                        <td id=\"T_09f4ac62_d626_11ea_a424_8c8590257adbrow13_col3\" class=\"data row13 col3\" >5.4328</td>\n",
       "                        <td id=\"T_09f4ac62_d626_11ea_a424_8c8590257adbrow13_col4\" class=\"data row13 col4\" >0.6503</td>\n",
       "                        <td id=\"T_09f4ac62_d626_11ea_a424_8c8590257adbrow13_col5\" class=\"data row13 col5\" >0.2848</td>\n",
       "                        <td id=\"T_09f4ac62_d626_11ea_a424_8c8590257adbrow13_col6\" class=\"data row13 col6\" >0.1732</td>\n",
       "                        <td id=\"T_09f4ac62_d626_11ea_a424_8c8590257adbrow13_col7\" class=\"data row13 col7\" >0.1258</td>\n",
       "            </tr>\n",
       "            <tr>\n",
       "                        <th id=\"T_09f4ac62_d626_11ea_a424_8c8590257adblevel0_row14\" class=\"row_heading level0 row14\" >14</th>\n",
       "                        <td id=\"T_09f4ac62_d626_11ea_a424_8c8590257adbrow14_col0\" class=\"data row14 col0\" >Elastic Net</td>\n",
       "                        <td id=\"T_09f4ac62_d626_11ea_a424_8c8590257adbrow14_col1\" class=\"data row14 col1\" >4.0107</td>\n",
       "                        <td id=\"T_09f4ac62_d626_11ea_a424_8c8590257adbrow14_col2\" class=\"data row14 col2\" >31.7587</td>\n",
       "                        <td id=\"T_09f4ac62_d626_11ea_a424_8c8590257adbrow14_col3\" class=\"data row14 col3\" >5.5946</td>\n",
       "                        <td id=\"T_09f4ac62_d626_11ea_a424_8c8590257adbrow14_col4\" class=\"data row14 col4\" >0.6440</td>\n",
       "                        <td id=\"T_09f4ac62_d626_11ea_a424_8c8590257adbrow14_col5\" class=\"data row14 col5\" >0.2791</td>\n",
       "                        <td id=\"T_09f4ac62_d626_11ea_a424_8c8590257adbrow14_col6\" class=\"data row14 col6\" >0.1925</td>\n",
       "                        <td id=\"T_09f4ac62_d626_11ea_a424_8c8590257adbrow14_col7\" class=\"data row14 col7\" >0.0049</td>\n",
       "            </tr>\n",
       "            <tr>\n",
       "                        <th id=\"T_09f4ac62_d626_11ea_a424_8c8590257adblevel0_row15\" class=\"row_heading level0 row15\" >15</th>\n",
       "                        <td id=\"T_09f4ac62_d626_11ea_a424_8c8590257adbrow15_col0\" class=\"data row15 col0\" >Lasso Regression</td>\n",
       "                        <td id=\"T_09f4ac62_d626_11ea_a424_8c8590257adbrow15_col1\" class=\"data row15 col1\" >4.0322</td>\n",
       "                        <td id=\"T_09f4ac62_d626_11ea_a424_8c8590257adbrow15_col2\" class=\"data row15 col2\" >32.1899</td>\n",
       "                        <td id=\"T_09f4ac62_d626_11ea_a424_8c8590257adbrow15_col3\" class=\"data row15 col3\" >5.6336</td>\n",
       "                        <td id=\"T_09f4ac62_d626_11ea_a424_8c8590257adbrow15_col4\" class=\"data row15 col4\" >0.6393</td>\n",
       "                        <td id=\"T_09f4ac62_d626_11ea_a424_8c8590257adbrow15_col5\" class=\"data row15 col5\" >0.2777</td>\n",
       "                        <td id=\"T_09f4ac62_d626_11ea_a424_8c8590257adbrow15_col6\" class=\"data row15 col6\" >0.1927</td>\n",
       "                        <td id=\"T_09f4ac62_d626_11ea_a424_8c8590257adbrow15_col7\" class=\"data row15 col7\" >0.0051</td>\n",
       "            </tr>\n",
       "            <tr>\n",
       "                        <th id=\"T_09f4ac62_d626_11ea_a424_8c8590257adblevel0_row16\" class=\"row_heading level0 row16\" >16</th>\n",
       "                        <td id=\"T_09f4ac62_d626_11ea_a424_8c8590257adbrow16_col0\" class=\"data row16 col0\" >Huber Regressor</td>\n",
       "                        <td id=\"T_09f4ac62_d626_11ea_a424_8c8590257adbrow16_col1\" class=\"data row16 col1\" >3.9276</td>\n",
       "                        <td id=\"T_09f4ac62_d626_11ea_a424_8c8590257adbrow16_col2\" class=\"data row16 col2\" >38.7395</td>\n",
       "                        <td id=\"T_09f4ac62_d626_11ea_a424_8c8590257adbrow16_col3\" class=\"data row16 col3\" >6.0512</td>\n",
       "                        <td id=\"T_09f4ac62_d626_11ea_a424_8c8590257adbrow16_col4\" class=\"data row16 col4\" >0.5731</td>\n",
       "                        <td id=\"T_09f4ac62_d626_11ea_a424_8c8590257adbrow16_col5\" class=\"data row16 col5\" >0.2942</td>\n",
       "                        <td id=\"T_09f4ac62_d626_11ea_a424_8c8590257adbrow16_col6\" class=\"data row16 col6\" >0.1841</td>\n",
       "                        <td id=\"T_09f4ac62_d626_11ea_a424_8c8590257adbrow16_col7\" class=\"data row16 col7\" >0.0575</td>\n",
       "            </tr>\n",
       "            <tr>\n",
       "                        <th id=\"T_09f4ac62_d626_11ea_a424_8c8590257adblevel0_row17\" class=\"row_heading level0 row17\" >17</th>\n",
       "                        <td id=\"T_09f4ac62_d626_11ea_a424_8c8590257adbrow17_col0\" class=\"data row17 col0\" >Orthogonal Matching Pursuit</td>\n",
       "                        <td id=\"T_09f4ac62_d626_11ea_a424_8c8590257adbrow17_col1\" class=\"data row17 col1\" >4.4572</td>\n",
       "                        <td id=\"T_09f4ac62_d626_11ea_a424_8c8590257adbrow17_col2\" class=\"data row17 col2\" >38.1248</td>\n",
       "                        <td id=\"T_09f4ac62_d626_11ea_a424_8c8590257adbrow17_col3\" class=\"data row17 col3\" >6.1292</td>\n",
       "                        <td id=\"T_09f4ac62_d626_11ea_a424_8c8590257adbrow17_col4\" class=\"data row17 col4\" >0.5718</td>\n",
       "                        <td id=\"T_09f4ac62_d626_11ea_a424_8c8590257adbrow17_col5\" class=\"data row17 col5\" >0.3131</td>\n",
       "                        <td id=\"T_09f4ac62_d626_11ea_a424_8c8590257adbrow17_col6\" class=\"data row17 col6\" >0.2157</td>\n",
       "                        <td id=\"T_09f4ac62_d626_11ea_a424_8c8590257adbrow17_col7\" class=\"data row17 col7\" >0.0050</td>\n",
       "            </tr>\n",
       "            <tr>\n",
       "                        <th id=\"T_09f4ac62_d626_11ea_a424_8c8590257adblevel0_row18\" class=\"row_heading level0 row18\" >18</th>\n",
       "                        <td id=\"T_09f4ac62_d626_11ea_a424_8c8590257adbrow18_col0\" class=\"data row18 col0\" >K Neighbors Regressor</td>\n",
       "                        <td id=\"T_09f4ac62_d626_11ea_a424_8c8590257adbrow18_col1\" class=\"data row18 col1\" >4.4039</td>\n",
       "                        <td id=\"T_09f4ac62_d626_11ea_a424_8c8590257adbrow18_col2\" class=\"data row18 col2\" >42.4870</td>\n",
       "                        <td id=\"T_09f4ac62_d626_11ea_a424_8c8590257adbrow18_col3\" class=\"data row18 col3\" >6.4176</td>\n",
       "                        <td id=\"T_09f4ac62_d626_11ea_a424_8c8590257adbrow18_col4\" class=\"data row18 col4\" >0.5278</td>\n",
       "                        <td id=\"T_09f4ac62_d626_11ea_a424_8c8590257adbrow18_col5\" class=\"data row18 col5\" >0.2452</td>\n",
       "                        <td id=\"T_09f4ac62_d626_11ea_a424_8c8590257adbrow18_col6\" class=\"data row18 col6\" >0.2052</td>\n",
       "                        <td id=\"T_09f4ac62_d626_11ea_a424_8c8590257adbrow18_col7\" class=\"data row18 col7\" >0.0043</td>\n",
       "            </tr>\n",
       "            <tr>\n",
       "                        <th id=\"T_09f4ac62_d626_11ea_a424_8c8590257adblevel0_row19\" class=\"row_heading level0 row19\" >19</th>\n",
       "                        <td id=\"T_09f4ac62_d626_11ea_a424_8c8590257adbrow19_col0\" class=\"data row19 col0\" >Support Vector Machine</td>\n",
       "                        <td id=\"T_09f4ac62_d626_11ea_a424_8c8590257adbrow19_col1\" class=\"data row19 col1\" >5.6236</td>\n",
       "                        <td id=\"T_09f4ac62_d626_11ea_a424_8c8590257adbrow19_col2\" class=\"data row19 col2\" >77.5299</td>\n",
       "                        <td id=\"T_09f4ac62_d626_11ea_a424_8c8590257adbrow19_col3\" class=\"data row19 col3\" >8.7306</td>\n",
       "                        <td id=\"T_09f4ac62_d626_11ea_a424_8c8590257adbrow19_col4\" class=\"data row19 col4\" >0.1477</td>\n",
       "                        <td id=\"T_09f4ac62_d626_11ea_a424_8c8590257adbrow19_col5\" class=\"data row19 col5\" >0.3234</td>\n",
       "                        <td id=\"T_09f4ac62_d626_11ea_a424_8c8590257adbrow19_col6\" class=\"data row19 col6\" >0.2392</td>\n",
       "                        <td id=\"T_09f4ac62_d626_11ea_a424_8c8590257adbrow19_col7\" class=\"data row19 col7\" >0.0103</td>\n",
       "            </tr>\n",
       "            <tr>\n",
       "                        <th id=\"T_09f4ac62_d626_11ea_a424_8c8590257adblevel0_row20\" class=\"row_heading level0 row20\" >20</th>\n",
       "                        <td id=\"T_09f4ac62_d626_11ea_a424_8c8590257adbrow20_col0\" class=\"data row20 col0\" >Lasso Least Angle Regression</td>\n",
       "                        <td id=\"T_09f4ac62_d626_11ea_a424_8c8590257adbrow20_col1\" class=\"data row20 col1\" >6.9526</td>\n",
       "                        <td id=\"T_09f4ac62_d626_11ea_a424_8c8590257adbrow20_col2\" class=\"data row20 col2\" >91.9708</td>\n",
       "                        <td id=\"T_09f4ac62_d626_11ea_a424_8c8590257adbrow20_col3\" class=\"data row20 col3\" >9.5550</td>\n",
       "                        <td id=\"T_09f4ac62_d626_11ea_a424_8c8590257adbrow20_col4\" class=\"data row20 col4\" >-0.0225</td>\n",
       "                        <td id=\"T_09f4ac62_d626_11ea_a424_8c8590257adbrow20_col5\" class=\"data row20 col5\" >0.3943</td>\n",
       "                        <td id=\"T_09f4ac62_d626_11ea_a424_8c8590257adbrow20_col6\" class=\"data row20 col6\" >0.3653</td>\n",
       "                        <td id=\"T_09f4ac62_d626_11ea_a424_8c8590257adbrow20_col7\" class=\"data row20 col7\" >0.0055</td>\n",
       "            </tr>\n",
       "            <tr>\n",
       "                        <th id=\"T_09f4ac62_d626_11ea_a424_8c8590257adblevel0_row21\" class=\"row_heading level0 row21\" >21</th>\n",
       "                        <td id=\"T_09f4ac62_d626_11ea_a424_8c8590257adbrow21_col0\" class=\"data row21 col0\" >Passive Aggressive Regressor</td>\n",
       "                        <td id=\"T_09f4ac62_d626_11ea_a424_8c8590257adbrow21_col1\" class=\"data row21 col1\" >7.2347</td>\n",
       "                        <td id=\"T_09f4ac62_d626_11ea_a424_8c8590257adbrow21_col2\" class=\"data row21 col2\" >95.7090</td>\n",
       "                        <td id=\"T_09f4ac62_d626_11ea_a424_8c8590257adbrow21_col3\" class=\"data row21 col3\" >9.4482</td>\n",
       "                        <td id=\"T_09f4ac62_d626_11ea_a424_8c8590257adbrow21_col4\" class=\"data row21 col4\" >-0.1029</td>\n",
       "                        <td id=\"T_09f4ac62_d626_11ea_a424_8c8590257adbrow21_col5\" class=\"data row21 col5\" >0.4374</td>\n",
       "                        <td id=\"T_09f4ac62_d626_11ea_a424_8c8590257adbrow21_col6\" class=\"data row21 col6\" >0.3757</td>\n",
       "                        <td id=\"T_09f4ac62_d626_11ea_a424_8c8590257adbrow21_col7\" class=\"data row21 col7\" >0.0061</td>\n",
       "            </tr>\n",
       "    </tbody></table>"
      ],
      "text/plain": [
       "<pandas.io.formats.style.Styler at 0x7fef9e658110>"
      ]
     },
     "metadata": {},
     "output_type": "display_data"
    },
    {
     "data": {
      "text/plain": [
       "<catboost.core.CatBoostRegressor at 0x7fef9f84cc90>"
      ]
     },
     "execution_count": 30,
     "metadata": {},
     "output_type": "execute_result"
    }
   ],
   "source": [
    "compare_models()"
   ]
  },
  {
   "cell_type": "code",
   "execution_count": 31,
   "metadata": {},
   "outputs": [
    {
     "data": {
      "text/html": [
       "<style  type=\"text/css\" >\n",
       "    #T_17aa2fe4_d626_11ea_a424_8c8590257adbrow10_col0 {\n",
       "            background:  yellow;\n",
       "        }    #T_17aa2fe4_d626_11ea_a424_8c8590257adbrow10_col1 {\n",
       "            background:  yellow;\n",
       "        }    #T_17aa2fe4_d626_11ea_a424_8c8590257adbrow10_col2 {\n",
       "            background:  yellow;\n",
       "        }    #T_17aa2fe4_d626_11ea_a424_8c8590257adbrow10_col3 {\n",
       "            background:  yellow;\n",
       "        }    #T_17aa2fe4_d626_11ea_a424_8c8590257adbrow10_col4 {\n",
       "            background:  yellow;\n",
       "        }    #T_17aa2fe4_d626_11ea_a424_8c8590257adbrow10_col5 {\n",
       "            background:  yellow;\n",
       "        }</style><table id=\"T_17aa2fe4_d626_11ea_a424_8c8590257adb\" ><thead>    <tr>        <th class=\"blank level0\" ></th>        <th class=\"col_heading level0 col0\" >MAE</th>        <th class=\"col_heading level0 col1\" >MSE</th>        <th class=\"col_heading level0 col2\" >RMSE</th>        <th class=\"col_heading level0 col3\" >R2</th>        <th class=\"col_heading level0 col4\" >RMSLE</th>        <th class=\"col_heading level0 col5\" >MAPE</th>    </tr></thead><tbody>\n",
       "                <tr>\n",
       "                        <th id=\"T_17aa2fe4_d626_11ea_a424_8c8590257adblevel0_row0\" class=\"row_heading level0 row0\" >0</th>\n",
       "                        <td id=\"T_17aa2fe4_d626_11ea_a424_8c8590257adbrow0_col0\" class=\"data row0 col0\" >2.0846</td>\n",
       "                        <td id=\"T_17aa2fe4_d626_11ea_a424_8c8590257adbrow0_col1\" class=\"data row0 col1\" >9.7777</td>\n",
       "                        <td id=\"T_17aa2fe4_d626_11ea_a424_8c8590257adbrow0_col2\" class=\"data row0 col2\" >3.1269</td>\n",
       "                        <td id=\"T_17aa2fe4_d626_11ea_a424_8c8590257adbrow0_col3\" class=\"data row0 col3\" >0.8844</td>\n",
       "                        <td id=\"T_17aa2fe4_d626_11ea_a424_8c8590257adbrow0_col4\" class=\"data row0 col4\" >0.1373</td>\n",
       "                        <td id=\"T_17aa2fe4_d626_11ea_a424_8c8590257adbrow0_col5\" class=\"data row0 col5\" >0.0942</td>\n",
       "            </tr>\n",
       "            <tr>\n",
       "                        <th id=\"T_17aa2fe4_d626_11ea_a424_8c8590257adblevel0_row1\" class=\"row_heading level0 row1\" >1</th>\n",
       "                        <td id=\"T_17aa2fe4_d626_11ea_a424_8c8590257adbrow1_col0\" class=\"data row1 col0\" >2.3587</td>\n",
       "                        <td id=\"T_17aa2fe4_d626_11ea_a424_8c8590257adbrow1_col1\" class=\"data row1 col1\" >14.7876</td>\n",
       "                        <td id=\"T_17aa2fe4_d626_11ea_a424_8c8590257adbrow1_col2\" class=\"data row1 col2\" >3.8455</td>\n",
       "                        <td id=\"T_17aa2fe4_d626_11ea_a424_8c8590257adbrow1_col3\" class=\"data row1 col3\" >0.8515</td>\n",
       "                        <td id=\"T_17aa2fe4_d626_11ea_a424_8c8590257adbrow1_col4\" class=\"data row1 col4\" >0.1502</td>\n",
       "                        <td id=\"T_17aa2fe4_d626_11ea_a424_8c8590257adbrow1_col5\" class=\"data row1 col5\" >0.1111</td>\n",
       "            </tr>\n",
       "            <tr>\n",
       "                        <th id=\"T_17aa2fe4_d626_11ea_a424_8c8590257adblevel0_row2\" class=\"row_heading level0 row2\" >2</th>\n",
       "                        <td id=\"T_17aa2fe4_d626_11ea_a424_8c8590257adbrow2_col0\" class=\"data row2 col0\" >2.3286</td>\n",
       "                        <td id=\"T_17aa2fe4_d626_11ea_a424_8c8590257adbrow2_col1\" class=\"data row2 col1\" >8.8533</td>\n",
       "                        <td id=\"T_17aa2fe4_d626_11ea_a424_8c8590257adbrow2_col2\" class=\"data row2 col2\" >2.9755</td>\n",
       "                        <td id=\"T_17aa2fe4_d626_11ea_a424_8c8590257adbrow2_col3\" class=\"data row2 col3\" >0.9009</td>\n",
       "                        <td id=\"T_17aa2fe4_d626_11ea_a424_8c8590257adbrow2_col4\" class=\"data row2 col4\" >0.1438</td>\n",
       "                        <td id=\"T_17aa2fe4_d626_11ea_a424_8c8590257adbrow2_col5\" class=\"data row2 col5\" >0.1104</td>\n",
       "            </tr>\n",
       "            <tr>\n",
       "                        <th id=\"T_17aa2fe4_d626_11ea_a424_8c8590257adblevel0_row3\" class=\"row_heading level0 row3\" >3</th>\n",
       "                        <td id=\"T_17aa2fe4_d626_11ea_a424_8c8590257adbrow3_col0\" class=\"data row3 col0\" >2.3280</td>\n",
       "                        <td id=\"T_17aa2fe4_d626_11ea_a424_8c8590257adbrow3_col1\" class=\"data row3 col1\" >10.0620</td>\n",
       "                        <td id=\"T_17aa2fe4_d626_11ea_a424_8c8590257adbrow3_col2\" class=\"data row3 col2\" >3.1721</td>\n",
       "                        <td id=\"T_17aa2fe4_d626_11ea_a424_8c8590257adbrow3_col3\" class=\"data row3 col3\" >0.8781</td>\n",
       "                        <td id=\"T_17aa2fe4_d626_11ea_a424_8c8590257adbrow3_col4\" class=\"data row3 col4\" >0.1900</td>\n",
       "                        <td id=\"T_17aa2fe4_d626_11ea_a424_8c8590257adbrow3_col5\" class=\"data row3 col5\" >0.1480</td>\n",
       "            </tr>\n",
       "            <tr>\n",
       "                        <th id=\"T_17aa2fe4_d626_11ea_a424_8c8590257adblevel0_row4\" class=\"row_heading level0 row4\" >4</th>\n",
       "                        <td id=\"T_17aa2fe4_d626_11ea_a424_8c8590257adbrow4_col0\" class=\"data row4 col0\" >2.5624</td>\n",
       "                        <td id=\"T_17aa2fe4_d626_11ea_a424_8c8590257adbrow4_col1\" class=\"data row4 col1\" >13.3508</td>\n",
       "                        <td id=\"T_17aa2fe4_d626_11ea_a424_8c8590257adbrow4_col2\" class=\"data row4 col2\" >3.6539</td>\n",
       "                        <td id=\"T_17aa2fe4_d626_11ea_a424_8c8590257adbrow4_col3\" class=\"data row4 col3\" >0.8890</td>\n",
       "                        <td id=\"T_17aa2fe4_d626_11ea_a424_8c8590257adbrow4_col4\" class=\"data row4 col4\" >0.1814</td>\n",
       "                        <td id=\"T_17aa2fe4_d626_11ea_a424_8c8590257adbrow4_col5\" class=\"data row4 col5\" >0.1505</td>\n",
       "            </tr>\n",
       "            <tr>\n",
       "                        <th id=\"T_17aa2fe4_d626_11ea_a424_8c8590257adblevel0_row5\" class=\"row_heading level0 row5\" >5</th>\n",
       "                        <td id=\"T_17aa2fe4_d626_11ea_a424_8c8590257adbrow5_col0\" class=\"data row5 col0\" >2.0997</td>\n",
       "                        <td id=\"T_17aa2fe4_d626_11ea_a424_8c8590257adbrow5_col1\" class=\"data row5 col1\" >8.2787</td>\n",
       "                        <td id=\"T_17aa2fe4_d626_11ea_a424_8c8590257adbrow5_col2\" class=\"data row5 col2\" >2.8773</td>\n",
       "                        <td id=\"T_17aa2fe4_d626_11ea_a424_8c8590257adbrow5_col3\" class=\"data row5 col3\" >0.9127</td>\n",
       "                        <td id=\"T_17aa2fe4_d626_11ea_a424_8c8590257adbrow5_col4\" class=\"data row5 col4\" >0.1068</td>\n",
       "                        <td id=\"T_17aa2fe4_d626_11ea_a424_8c8590257adbrow5_col5\" class=\"data row5 col5\" >0.0850</td>\n",
       "            </tr>\n",
       "            <tr>\n",
       "                        <th id=\"T_17aa2fe4_d626_11ea_a424_8c8590257adblevel0_row6\" class=\"row_heading level0 row6\" >6</th>\n",
       "                        <td id=\"T_17aa2fe4_d626_11ea_a424_8c8590257adbrow6_col0\" class=\"data row6 col0\" >1.7158</td>\n",
       "                        <td id=\"T_17aa2fe4_d626_11ea_a424_8c8590257adbrow6_col1\" class=\"data row6 col1\" >5.0446</td>\n",
       "                        <td id=\"T_17aa2fe4_d626_11ea_a424_8c8590257adbrow6_col2\" class=\"data row6 col2\" >2.2460</td>\n",
       "                        <td id=\"T_17aa2fe4_d626_11ea_a424_8c8590257adbrow6_col3\" class=\"data row6 col3\" >0.9150</td>\n",
       "                        <td id=\"T_17aa2fe4_d626_11ea_a424_8c8590257adbrow6_col4\" class=\"data row6 col4\" >0.1306</td>\n",
       "                        <td id=\"T_17aa2fe4_d626_11ea_a424_8c8590257adbrow6_col5\" class=\"data row6 col5\" >0.1004</td>\n",
       "            </tr>\n",
       "            <tr>\n",
       "                        <th id=\"T_17aa2fe4_d626_11ea_a424_8c8590257adblevel0_row7\" class=\"row_heading level0 row7\" >7</th>\n",
       "                        <td id=\"T_17aa2fe4_d626_11ea_a424_8c8590257adbrow7_col0\" class=\"data row7 col0\" >1.8674</td>\n",
       "                        <td id=\"T_17aa2fe4_d626_11ea_a424_8c8590257adbrow7_col1\" class=\"data row7 col1\" >6.3127</td>\n",
       "                        <td id=\"T_17aa2fe4_d626_11ea_a424_8c8590257adbrow7_col2\" class=\"data row7 col2\" >2.5125</td>\n",
       "                        <td id=\"T_17aa2fe4_d626_11ea_a424_8c8590257adbrow7_col3\" class=\"data row7 col3\" >0.9283</td>\n",
       "                        <td id=\"T_17aa2fe4_d626_11ea_a424_8c8590257adbrow7_col4\" class=\"data row7 col4\" >0.1079</td>\n",
       "                        <td id=\"T_17aa2fe4_d626_11ea_a424_8c8590257adbrow7_col5\" class=\"data row7 col5\" >0.0861</td>\n",
       "            </tr>\n",
       "            <tr>\n",
       "                        <th id=\"T_17aa2fe4_d626_11ea_a424_8c8590257adblevel0_row8\" class=\"row_heading level0 row8\" >8</th>\n",
       "                        <td id=\"T_17aa2fe4_d626_11ea_a424_8c8590257adbrow8_col0\" class=\"data row8 col0\" >2.7136</td>\n",
       "                        <td id=\"T_17aa2fe4_d626_11ea_a424_8c8590257adbrow8_col1\" class=\"data row8 col1\" >22.7214</td>\n",
       "                        <td id=\"T_17aa2fe4_d626_11ea_a424_8c8590257adbrow8_col2\" class=\"data row8 col2\" >4.7667</td>\n",
       "                        <td id=\"T_17aa2fe4_d626_11ea_a424_8c8590257adbrow8_col3\" class=\"data row8 col3\" >0.7042</td>\n",
       "                        <td id=\"T_17aa2fe4_d626_11ea_a424_8c8590257adbrow8_col4\" class=\"data row8 col4\" >0.1582</td>\n",
       "                        <td id=\"T_17aa2fe4_d626_11ea_a424_8c8590257adbrow8_col5\" class=\"data row8 col5\" >0.1158</td>\n",
       "            </tr>\n",
       "            <tr>\n",
       "                        <th id=\"T_17aa2fe4_d626_11ea_a424_8c8590257adblevel0_row9\" class=\"row_heading level0 row9\" >9</th>\n",
       "                        <td id=\"T_17aa2fe4_d626_11ea_a424_8c8590257adbrow9_col0\" class=\"data row9 col0\" >2.2033</td>\n",
       "                        <td id=\"T_17aa2fe4_d626_11ea_a424_8c8590257adbrow9_col1\" class=\"data row9 col1\" >9.5990</td>\n",
       "                        <td id=\"T_17aa2fe4_d626_11ea_a424_8c8590257adbrow9_col2\" class=\"data row9 col2\" >3.0982</td>\n",
       "                        <td id=\"T_17aa2fe4_d626_11ea_a424_8c8590257adbrow9_col3\" class=\"data row9 col3\" >0.9091</td>\n",
       "                        <td id=\"T_17aa2fe4_d626_11ea_a424_8c8590257adbrow9_col4\" class=\"data row9 col4\" >0.1145</td>\n",
       "                        <td id=\"T_17aa2fe4_d626_11ea_a424_8c8590257adbrow9_col5\" class=\"data row9 col5\" >0.0989</td>\n",
       "            </tr>\n",
       "            <tr>\n",
       "                        <th id=\"T_17aa2fe4_d626_11ea_a424_8c8590257adblevel0_row10\" class=\"row_heading level0 row10\" >Mean</th>\n",
       "                        <td id=\"T_17aa2fe4_d626_11ea_a424_8c8590257adbrow10_col0\" class=\"data row10 col0\" >2.2262</td>\n",
       "                        <td id=\"T_17aa2fe4_d626_11ea_a424_8c8590257adbrow10_col1\" class=\"data row10 col1\" >10.8788</td>\n",
       "                        <td id=\"T_17aa2fe4_d626_11ea_a424_8c8590257adbrow10_col2\" class=\"data row10 col2\" >3.2275</td>\n",
       "                        <td id=\"T_17aa2fe4_d626_11ea_a424_8c8590257adbrow10_col3\" class=\"data row10 col3\" >0.8773</td>\n",
       "                        <td id=\"T_17aa2fe4_d626_11ea_a424_8c8590257adbrow10_col4\" class=\"data row10 col4\" >0.1421</td>\n",
       "                        <td id=\"T_17aa2fe4_d626_11ea_a424_8c8590257adbrow10_col5\" class=\"data row10 col5\" >0.1100</td>\n",
       "            </tr>\n",
       "            <tr>\n",
       "                        <th id=\"T_17aa2fe4_d626_11ea_a424_8c8590257adblevel0_row11\" class=\"row_heading level0 row11\" >SD</th>\n",
       "                        <td id=\"T_17aa2fe4_d626_11ea_a424_8c8590257adbrow11_col0\" class=\"data row11 col0\" >0.2854</td>\n",
       "                        <td id=\"T_17aa2fe4_d626_11ea_a424_8c8590257adbrow11_col1\" class=\"data row11 col1\" >4.8052</td>\n",
       "                        <td id=\"T_17aa2fe4_d626_11ea_a424_8c8590257adbrow11_col2\" class=\"data row11 col2\" >0.6800</td>\n",
       "                        <td id=\"T_17aa2fe4_d626_11ea_a424_8c8590257adbrow11_col3\" class=\"data row11 col3\" >0.0614</td>\n",
       "                        <td id=\"T_17aa2fe4_d626_11ea_a424_8c8590257adbrow11_col4\" class=\"data row11 col4\" >0.0274</td>\n",
       "                        <td id=\"T_17aa2fe4_d626_11ea_a424_8c8590257adbrow11_col5\" class=\"data row11 col5\" >0.0219</td>\n",
       "            </tr>\n",
       "    </tbody></table>"
      ],
      "text/plain": [
       "<pandas.io.formats.style.Styler at 0x7fef981d8290>"
      ]
     },
     "metadata": {},
     "output_type": "display_data"
    }
   ],
   "source": [
    "reg_model=create_model('catboost')#check the link in pycaret/create_model"
   ]
  },
  {
   "cell_type": "code",
   "execution_count": 32,
   "metadata": {},
   "outputs": [
    {
     "ename": "SystemExit",
     "evalue": "(Type Error): The behavior of tune_model in version 1.0.1 is changed. Please pass trained model object.",
     "output_type": "error",
     "traceback": [
      "An exception has occurred, use %tb to see the full traceback.\n",
      "\u001b[0;31mSystemExit\u001b[0m\u001b[0;31m:\u001b[0m (Type Error): The behavior of tune_model in version 1.0.1 is changed. Please pass trained model object.\n"
     ]
    }
   ],
   "source": [
    "### Hyper Tuning of Model\n",
    "reg_model_hypertune=tune_model('catboost',n_iter=50,optimize='mae')\n",
    "\n",
    "##Looks like i have installed pycaret 2.0, and tuning works in pycaret 1.0,\n",
    "#need to revert back to 1.0"
   ]
  },
  {
   "cell_type": "code",
   "execution_count": 33,
   "metadata": {},
   "outputs": [
    {
     "data": {
      "text/html": [
       "<div>\n",
       "<style scoped>\n",
       "    .dataframe tbody tr th:only-of-type {\n",
       "        vertical-align: middle;\n",
       "    }\n",
       "\n",
       "    .dataframe tbody tr th {\n",
       "        vertical-align: top;\n",
       "    }\n",
       "\n",
       "    .dataframe thead th {\n",
       "        text-align: right;\n",
       "    }\n",
       "</style>\n",
       "<table border=\"1\" class=\"dataframe\">\n",
       "  <thead>\n",
       "    <tr style=\"text-align: right;\">\n",
       "      <th></th>\n",
       "      <th>Age</th>\n",
       "      <th>Income</th>\n",
       "      <th>SpendingScore</th>\n",
       "      <th>Savings</th>\n",
       "    </tr>\n",
       "  </thead>\n",
       "  <tbody>\n",
       "    <tr>\n",
       "      <th>0</th>\n",
       "      <td>58</td>\n",
       "      <td>77769</td>\n",
       "      <td>0.791329</td>\n",
       "      <td>6559.829923</td>\n",
       "    </tr>\n",
       "    <tr>\n",
       "      <th>1</th>\n",
       "      <td>59</td>\n",
       "      <td>81799</td>\n",
       "      <td>0.791082</td>\n",
       "      <td>5417.661426</td>\n",
       "    </tr>\n",
       "    <tr>\n",
       "      <th>2</th>\n",
       "      <td>62</td>\n",
       "      <td>74751</td>\n",
       "      <td>0.702657</td>\n",
       "      <td>9258.992965</td>\n",
       "    </tr>\n",
       "    <tr>\n",
       "      <th>3</th>\n",
       "      <td>59</td>\n",
       "      <td>74373</td>\n",
       "      <td>0.765680</td>\n",
       "      <td>7346.334504</td>\n",
       "    </tr>\n",
       "    <tr>\n",
       "      <th>4</th>\n",
       "      <td>87</td>\n",
       "      <td>17760</td>\n",
       "      <td>0.348778</td>\n",
       "      <td>16869.507130</td>\n",
       "    </tr>\n",
       "  </tbody>\n",
       "</table>\n",
       "</div>"
      ],
      "text/plain": [
       "   Age  Income  SpendingScore       Savings\n",
       "0   58   77769       0.791329   6559.829923\n",
       "1   59   81799       0.791082   5417.661426\n",
       "2   62   74751       0.702657   9258.992965\n",
       "3   59   74373       0.765680   7346.334504\n",
       "4   87   17760       0.348778  16869.507130"
      ]
     },
     "metadata": {},
     "output_type": "display_data"
    }
   ],
   "source": [
    "#### After Classification, Regression... NOW Clustering Techniques\n",
    "jewellery=get_data('jewellery')\n",
    "#Clustering for Four Features as shown below"
   ]
  },
  {
   "cell_type": "code",
   "execution_count": 34,
   "metadata": {},
   "outputs": [
    {
     "name": "stdout",
     "output_type": "stream",
     "text": [
      "Setup Succesfully Completed!\n"
     ]
    },
    {
     "data": {
      "text/html": [
       "<style  type=\"text/css\" >\n",
       "</style><table id=\"T_3f88fdaa_d627_11ea_a424_8c8590257adb\" ><thead>    <tr>        <th class=\"blank level0\" ></th>        <th class=\"col_heading level0 col0\" >Description</th>        <th class=\"col_heading level0 col1\" >Value</th>    </tr></thead><tbody>\n",
       "                <tr>\n",
       "                        <th id=\"T_3f88fdaa_d627_11ea_a424_8c8590257adblevel0_row0\" class=\"row_heading level0 row0\" >0</th>\n",
       "                        <td id=\"T_3f88fdaa_d627_11ea_a424_8c8590257adbrow0_col0\" class=\"data row0 col0\" >session_id </td>\n",
       "                        <td id=\"T_3f88fdaa_d627_11ea_a424_8c8590257adbrow0_col1\" class=\"data row0 col1\" >2709</td>\n",
       "            </tr>\n",
       "            <tr>\n",
       "                        <th id=\"T_3f88fdaa_d627_11ea_a424_8c8590257adblevel0_row1\" class=\"row_heading level0 row1\" >1</th>\n",
       "                        <td id=\"T_3f88fdaa_d627_11ea_a424_8c8590257adbrow1_col0\" class=\"data row1 col0\" >Original Data </td>\n",
       "                        <td id=\"T_3f88fdaa_d627_11ea_a424_8c8590257adbrow1_col1\" class=\"data row1 col1\" >(505, 4)</td>\n",
       "            </tr>\n",
       "            <tr>\n",
       "                        <th id=\"T_3f88fdaa_d627_11ea_a424_8c8590257adblevel0_row2\" class=\"row_heading level0 row2\" >2</th>\n",
       "                        <td id=\"T_3f88fdaa_d627_11ea_a424_8c8590257adbrow2_col0\" class=\"data row2 col0\" >Missing Values </td>\n",
       "                        <td id=\"T_3f88fdaa_d627_11ea_a424_8c8590257adbrow2_col1\" class=\"data row2 col1\" >False</td>\n",
       "            </tr>\n",
       "            <tr>\n",
       "                        <th id=\"T_3f88fdaa_d627_11ea_a424_8c8590257adblevel0_row3\" class=\"row_heading level0 row3\" >3</th>\n",
       "                        <td id=\"T_3f88fdaa_d627_11ea_a424_8c8590257adbrow3_col0\" class=\"data row3 col0\" >Numeric Features </td>\n",
       "                        <td id=\"T_3f88fdaa_d627_11ea_a424_8c8590257adbrow3_col1\" class=\"data row3 col1\" >4</td>\n",
       "            </tr>\n",
       "            <tr>\n",
       "                        <th id=\"T_3f88fdaa_d627_11ea_a424_8c8590257adblevel0_row4\" class=\"row_heading level0 row4\" >4</th>\n",
       "                        <td id=\"T_3f88fdaa_d627_11ea_a424_8c8590257adbrow4_col0\" class=\"data row4 col0\" >Categorical Features </td>\n",
       "                        <td id=\"T_3f88fdaa_d627_11ea_a424_8c8590257adbrow4_col1\" class=\"data row4 col1\" >0</td>\n",
       "            </tr>\n",
       "            <tr>\n",
       "                        <th id=\"T_3f88fdaa_d627_11ea_a424_8c8590257adblevel0_row5\" class=\"row_heading level0 row5\" >5</th>\n",
       "                        <td id=\"T_3f88fdaa_d627_11ea_a424_8c8590257adbrow5_col0\" class=\"data row5 col0\" >Ordinal Features </td>\n",
       "                        <td id=\"T_3f88fdaa_d627_11ea_a424_8c8590257adbrow5_col1\" class=\"data row5 col1\" >False</td>\n",
       "            </tr>\n",
       "            <tr>\n",
       "                        <th id=\"T_3f88fdaa_d627_11ea_a424_8c8590257adblevel0_row6\" class=\"row_heading level0 row6\" >6</th>\n",
       "                        <td id=\"T_3f88fdaa_d627_11ea_a424_8c8590257adbrow6_col0\" class=\"data row6 col0\" >High Cardinality Features </td>\n",
       "                        <td id=\"T_3f88fdaa_d627_11ea_a424_8c8590257adbrow6_col1\" class=\"data row6 col1\" >False</td>\n",
       "            </tr>\n",
       "            <tr>\n",
       "                        <th id=\"T_3f88fdaa_d627_11ea_a424_8c8590257adblevel0_row7\" class=\"row_heading level0 row7\" >7</th>\n",
       "                        <td id=\"T_3f88fdaa_d627_11ea_a424_8c8590257adbrow7_col0\" class=\"data row7 col0\" >Transformed Data </td>\n",
       "                        <td id=\"T_3f88fdaa_d627_11ea_a424_8c8590257adbrow7_col1\" class=\"data row7 col1\" >(505, 4)</td>\n",
       "            </tr>\n",
       "            <tr>\n",
       "                        <th id=\"T_3f88fdaa_d627_11ea_a424_8c8590257adblevel0_row8\" class=\"row_heading level0 row8\" >8</th>\n",
       "                        <td id=\"T_3f88fdaa_d627_11ea_a424_8c8590257adbrow8_col0\" class=\"data row8 col0\" >Numeric Imputer </td>\n",
       "                        <td id=\"T_3f88fdaa_d627_11ea_a424_8c8590257adbrow8_col1\" class=\"data row8 col1\" >mean</td>\n",
       "            </tr>\n",
       "            <tr>\n",
       "                        <th id=\"T_3f88fdaa_d627_11ea_a424_8c8590257adblevel0_row9\" class=\"row_heading level0 row9\" >9</th>\n",
       "                        <td id=\"T_3f88fdaa_d627_11ea_a424_8c8590257adbrow9_col0\" class=\"data row9 col0\" >Categorical Imputer </td>\n",
       "                        <td id=\"T_3f88fdaa_d627_11ea_a424_8c8590257adbrow9_col1\" class=\"data row9 col1\" >constant</td>\n",
       "            </tr>\n",
       "            <tr>\n",
       "                        <th id=\"T_3f88fdaa_d627_11ea_a424_8c8590257adblevel0_row10\" class=\"row_heading level0 row10\" >10</th>\n",
       "                        <td id=\"T_3f88fdaa_d627_11ea_a424_8c8590257adbrow10_col0\" class=\"data row10 col0\" >Normalize </td>\n",
       "                        <td id=\"T_3f88fdaa_d627_11ea_a424_8c8590257adbrow10_col1\" class=\"data row10 col1\" >False</td>\n",
       "            </tr>\n",
       "            <tr>\n",
       "                        <th id=\"T_3f88fdaa_d627_11ea_a424_8c8590257adblevel0_row11\" class=\"row_heading level0 row11\" >11</th>\n",
       "                        <td id=\"T_3f88fdaa_d627_11ea_a424_8c8590257adbrow11_col0\" class=\"data row11 col0\" >Normalize Method </td>\n",
       "                        <td id=\"T_3f88fdaa_d627_11ea_a424_8c8590257adbrow11_col1\" class=\"data row11 col1\" >None</td>\n",
       "            </tr>\n",
       "            <tr>\n",
       "                        <th id=\"T_3f88fdaa_d627_11ea_a424_8c8590257adblevel0_row12\" class=\"row_heading level0 row12\" >12</th>\n",
       "                        <td id=\"T_3f88fdaa_d627_11ea_a424_8c8590257adbrow12_col0\" class=\"data row12 col0\" >Transformation </td>\n",
       "                        <td id=\"T_3f88fdaa_d627_11ea_a424_8c8590257adbrow12_col1\" class=\"data row12 col1\" >False</td>\n",
       "            </tr>\n",
       "            <tr>\n",
       "                        <th id=\"T_3f88fdaa_d627_11ea_a424_8c8590257adblevel0_row13\" class=\"row_heading level0 row13\" >13</th>\n",
       "                        <td id=\"T_3f88fdaa_d627_11ea_a424_8c8590257adbrow13_col0\" class=\"data row13 col0\" >Transformation Method </td>\n",
       "                        <td id=\"T_3f88fdaa_d627_11ea_a424_8c8590257adbrow13_col1\" class=\"data row13 col1\" >None</td>\n",
       "            </tr>\n",
       "            <tr>\n",
       "                        <th id=\"T_3f88fdaa_d627_11ea_a424_8c8590257adblevel0_row14\" class=\"row_heading level0 row14\" >14</th>\n",
       "                        <td id=\"T_3f88fdaa_d627_11ea_a424_8c8590257adbrow14_col0\" class=\"data row14 col0\" >PCA </td>\n",
       "                        <td id=\"T_3f88fdaa_d627_11ea_a424_8c8590257adbrow14_col1\" class=\"data row14 col1\" >False</td>\n",
       "            </tr>\n",
       "            <tr>\n",
       "                        <th id=\"T_3f88fdaa_d627_11ea_a424_8c8590257adblevel0_row15\" class=\"row_heading level0 row15\" >15</th>\n",
       "                        <td id=\"T_3f88fdaa_d627_11ea_a424_8c8590257adbrow15_col0\" class=\"data row15 col0\" >PCA Method </td>\n",
       "                        <td id=\"T_3f88fdaa_d627_11ea_a424_8c8590257adbrow15_col1\" class=\"data row15 col1\" >None</td>\n",
       "            </tr>\n",
       "            <tr>\n",
       "                        <th id=\"T_3f88fdaa_d627_11ea_a424_8c8590257adblevel0_row16\" class=\"row_heading level0 row16\" >16</th>\n",
       "                        <td id=\"T_3f88fdaa_d627_11ea_a424_8c8590257adbrow16_col0\" class=\"data row16 col0\" >PCA components </td>\n",
       "                        <td id=\"T_3f88fdaa_d627_11ea_a424_8c8590257adbrow16_col1\" class=\"data row16 col1\" >None</td>\n",
       "            </tr>\n",
       "            <tr>\n",
       "                        <th id=\"T_3f88fdaa_d627_11ea_a424_8c8590257adblevel0_row17\" class=\"row_heading level0 row17\" >17</th>\n",
       "                        <td id=\"T_3f88fdaa_d627_11ea_a424_8c8590257adbrow17_col0\" class=\"data row17 col0\" >Ignore Low Variance </td>\n",
       "                        <td id=\"T_3f88fdaa_d627_11ea_a424_8c8590257adbrow17_col1\" class=\"data row17 col1\" >False</td>\n",
       "            </tr>\n",
       "            <tr>\n",
       "                        <th id=\"T_3f88fdaa_d627_11ea_a424_8c8590257adblevel0_row18\" class=\"row_heading level0 row18\" >18</th>\n",
       "                        <td id=\"T_3f88fdaa_d627_11ea_a424_8c8590257adbrow18_col0\" class=\"data row18 col0\" >Combine Rare Levels </td>\n",
       "                        <td id=\"T_3f88fdaa_d627_11ea_a424_8c8590257adbrow18_col1\" class=\"data row18 col1\" >False</td>\n",
       "            </tr>\n",
       "            <tr>\n",
       "                        <th id=\"T_3f88fdaa_d627_11ea_a424_8c8590257adblevel0_row19\" class=\"row_heading level0 row19\" >19</th>\n",
       "                        <td id=\"T_3f88fdaa_d627_11ea_a424_8c8590257adbrow19_col0\" class=\"data row19 col0\" >Rare Level Threshold </td>\n",
       "                        <td id=\"T_3f88fdaa_d627_11ea_a424_8c8590257adbrow19_col1\" class=\"data row19 col1\" >None</td>\n",
       "            </tr>\n",
       "            <tr>\n",
       "                        <th id=\"T_3f88fdaa_d627_11ea_a424_8c8590257adblevel0_row20\" class=\"row_heading level0 row20\" >20</th>\n",
       "                        <td id=\"T_3f88fdaa_d627_11ea_a424_8c8590257adbrow20_col0\" class=\"data row20 col0\" >Numeric Binning </td>\n",
       "                        <td id=\"T_3f88fdaa_d627_11ea_a424_8c8590257adbrow20_col1\" class=\"data row20 col1\" >False</td>\n",
       "            </tr>\n",
       "            <tr>\n",
       "                        <th id=\"T_3f88fdaa_d627_11ea_a424_8c8590257adblevel0_row21\" class=\"row_heading level0 row21\" >21</th>\n",
       "                        <td id=\"T_3f88fdaa_d627_11ea_a424_8c8590257adbrow21_col0\" class=\"data row21 col0\" >Remove Multicollinearity </td>\n",
       "                        <td id=\"T_3f88fdaa_d627_11ea_a424_8c8590257adbrow21_col1\" class=\"data row21 col1\" >False</td>\n",
       "            </tr>\n",
       "            <tr>\n",
       "                        <th id=\"T_3f88fdaa_d627_11ea_a424_8c8590257adblevel0_row22\" class=\"row_heading level0 row22\" >22</th>\n",
       "                        <td id=\"T_3f88fdaa_d627_11ea_a424_8c8590257adbrow22_col0\" class=\"data row22 col0\" >Multicollinearity Threshold </td>\n",
       "                        <td id=\"T_3f88fdaa_d627_11ea_a424_8c8590257adbrow22_col1\" class=\"data row22 col1\" >None</td>\n",
       "            </tr>\n",
       "            <tr>\n",
       "                        <th id=\"T_3f88fdaa_d627_11ea_a424_8c8590257adblevel0_row23\" class=\"row_heading level0 row23\" >23</th>\n",
       "                        <td id=\"T_3f88fdaa_d627_11ea_a424_8c8590257adbrow23_col0\" class=\"data row23 col0\" >Group Features </td>\n",
       "                        <td id=\"T_3f88fdaa_d627_11ea_a424_8c8590257adbrow23_col1\" class=\"data row23 col1\" >False</td>\n",
       "            </tr>\n",
       "    </tbody></table>"
      ],
      "text/plain": [
       "<pandas.io.formats.style.Styler at 0x7fef981a6150>"
      ]
     },
     "metadata": {},
     "output_type": "display_data"
    }
   ],
   "source": [
    "from pycaret.clustering import *\n",
    "clust_algo=setup(jewellery)"
   ]
  },
  {
   "cell_type": "code",
   "execution_count": 40,
   "metadata": {},
   "outputs": [
    {
     "data": {
      "text/html": [
       "<style  type=\"text/css\" >\n",
       "    #T_89291a16_d628_11ea_a424_8c8590257adb th {\n",
       "          text-align: left;\n",
       "    }    #T_89291a16_d628_11ea_a424_8c8590257adbrow0_col0 {\n",
       "            text-align:  left;\n",
       "        }    #T_89291a16_d628_11ea_a424_8c8590257adbrow0_col1 {\n",
       "            background-color:  yellow;\n",
       "            text-align:  left;\n",
       "        }    #T_89291a16_d628_11ea_a424_8c8590257adbrow0_col2 {\n",
       "            background-color:  yellow;\n",
       "            text-align:  left;\n",
       "        }    #T_89291a16_d628_11ea_a424_8c8590257adbrow0_col3 {\n",
       "            : ;\n",
       "            text-align:  left;\n",
       "        }    #T_89291a16_d628_11ea_a424_8c8590257adbrow0_col4 {\n",
       "            background-color:  yellow;\n",
       "            text-align:  left;\n",
       "        }    #T_89291a16_d628_11ea_a424_8c8590257adbrow0_col5 {\n",
       "            : ;\n",
       "            text-align:  left;\n",
       "        }    #T_89291a16_d628_11ea_a424_8c8590257adbrow0_col6 {\n",
       "            : ;\n",
       "            text-align:  left;\n",
       "        }    #T_89291a16_d628_11ea_a424_8c8590257adbrow0_col7 {\n",
       "            background-color:  lightgrey;\n",
       "            text-align:  left;\n",
       "        }    #T_89291a16_d628_11ea_a424_8c8590257adbrow1_col0 {\n",
       "            text-align:  left;\n",
       "        }    #T_89291a16_d628_11ea_a424_8c8590257adbrow1_col1 {\n",
       "            : ;\n",
       "            text-align:  left;\n",
       "        }    #T_89291a16_d628_11ea_a424_8c8590257adbrow1_col2 {\n",
       "            : ;\n",
       "            text-align:  left;\n",
       "        }    #T_89291a16_d628_11ea_a424_8c8590257adbrow1_col3 {\n",
       "            background-color:  yellow;\n",
       "            text-align:  left;\n",
       "        }    #T_89291a16_d628_11ea_a424_8c8590257adbrow1_col4 {\n",
       "            : ;\n",
       "            text-align:  left;\n",
       "        }    #T_89291a16_d628_11ea_a424_8c8590257adbrow1_col5 {\n",
       "            : ;\n",
       "            text-align:  left;\n",
       "        }    #T_89291a16_d628_11ea_a424_8c8590257adbrow1_col6 {\n",
       "            : ;\n",
       "            text-align:  left;\n",
       "        }    #T_89291a16_d628_11ea_a424_8c8590257adbrow1_col7 {\n",
       "            background-color:  lightgrey;\n",
       "            text-align:  left;\n",
       "        }    #T_89291a16_d628_11ea_a424_8c8590257adbrow2_col0 {\n",
       "            text-align:  left;\n",
       "        }    #T_89291a16_d628_11ea_a424_8c8590257adbrow2_col1 {\n",
       "            : ;\n",
       "            text-align:  left;\n",
       "        }    #T_89291a16_d628_11ea_a424_8c8590257adbrow2_col2 {\n",
       "            : ;\n",
       "            text-align:  left;\n",
       "        }    #T_89291a16_d628_11ea_a424_8c8590257adbrow2_col3 {\n",
       "            : ;\n",
       "            text-align:  left;\n",
       "        }    #T_89291a16_d628_11ea_a424_8c8590257adbrow2_col4 {\n",
       "            : ;\n",
       "            text-align:  left;\n",
       "        }    #T_89291a16_d628_11ea_a424_8c8590257adbrow2_col5 {\n",
       "            : ;\n",
       "            text-align:  left;\n",
       "        }    #T_89291a16_d628_11ea_a424_8c8590257adbrow2_col6 {\n",
       "            : ;\n",
       "            text-align:  left;\n",
       "        }    #T_89291a16_d628_11ea_a424_8c8590257adbrow2_col7 {\n",
       "            background-color:  lightgrey;\n",
       "            text-align:  left;\n",
       "        }    #T_89291a16_d628_11ea_a424_8c8590257adbrow3_col0 {\n",
       "            text-align:  left;\n",
       "        }    #T_89291a16_d628_11ea_a424_8c8590257adbrow3_col1 {\n",
       "            : ;\n",
       "            text-align:  left;\n",
       "        }    #T_89291a16_d628_11ea_a424_8c8590257adbrow3_col2 {\n",
       "            : ;\n",
       "            text-align:  left;\n",
       "        }    #T_89291a16_d628_11ea_a424_8c8590257adbrow3_col3 {\n",
       "            : ;\n",
       "            text-align:  left;\n",
       "        }    #T_89291a16_d628_11ea_a424_8c8590257adbrow3_col4 {\n",
       "            : ;\n",
       "            text-align:  left;\n",
       "        }    #T_89291a16_d628_11ea_a424_8c8590257adbrow3_col5 {\n",
       "            : ;\n",
       "            text-align:  left;\n",
       "        }    #T_89291a16_d628_11ea_a424_8c8590257adbrow3_col6 {\n",
       "            : ;\n",
       "            text-align:  left;\n",
       "        }    #T_89291a16_d628_11ea_a424_8c8590257adbrow3_col7 {\n",
       "            background-color:  lightgrey;\n",
       "            text-align:  left;\n",
       "        }    #T_89291a16_d628_11ea_a424_8c8590257adbrow4_col0 {\n",
       "            text-align:  left;\n",
       "        }    #T_89291a16_d628_11ea_a424_8c8590257adbrow4_col1 {\n",
       "            : ;\n",
       "            text-align:  left;\n",
       "        }    #T_89291a16_d628_11ea_a424_8c8590257adbrow4_col2 {\n",
       "            : ;\n",
       "            text-align:  left;\n",
       "        }    #T_89291a16_d628_11ea_a424_8c8590257adbrow4_col3 {\n",
       "            : ;\n",
       "            text-align:  left;\n",
       "        }    #T_89291a16_d628_11ea_a424_8c8590257adbrow4_col4 {\n",
       "            : ;\n",
       "            text-align:  left;\n",
       "        }    #T_89291a16_d628_11ea_a424_8c8590257adbrow4_col5 {\n",
       "            background-color:  yellow;\n",
       "            text-align:  left;\n",
       "        }    #T_89291a16_d628_11ea_a424_8c8590257adbrow4_col6 {\n",
       "            background-color:  yellow;\n",
       "            text-align:  left;\n",
       "        }    #T_89291a16_d628_11ea_a424_8c8590257adbrow4_col7 {\n",
       "            background-color:  lightgrey;\n",
       "            text-align:  left;\n",
       "        }    #T_89291a16_d628_11ea_a424_8c8590257adbrow5_col0 {\n",
       "            text-align:  left;\n",
       "        }    #T_89291a16_d628_11ea_a424_8c8590257adbrow5_col1 {\n",
       "            : ;\n",
       "            text-align:  left;\n",
       "        }    #T_89291a16_d628_11ea_a424_8c8590257adbrow5_col2 {\n",
       "            : ;\n",
       "            text-align:  left;\n",
       "        }    #T_89291a16_d628_11ea_a424_8c8590257adbrow5_col3 {\n",
       "            : ;\n",
       "            text-align:  left;\n",
       "        }    #T_89291a16_d628_11ea_a424_8c8590257adbrow5_col4 {\n",
       "            : ;\n",
       "            text-align:  left;\n",
       "        }    #T_89291a16_d628_11ea_a424_8c8590257adbrow5_col5 {\n",
       "            : ;\n",
       "            text-align:  left;\n",
       "        }    #T_89291a16_d628_11ea_a424_8c8590257adbrow5_col6 {\n",
       "            : ;\n",
       "            text-align:  left;\n",
       "        }    #T_89291a16_d628_11ea_a424_8c8590257adbrow5_col7 {\n",
       "            background-color:  lightgrey;\n",
       "            text-align:  left;\n",
       "        }    #T_89291a16_d628_11ea_a424_8c8590257adbrow6_col0 {\n",
       "            text-align:  left;\n",
       "        }    #T_89291a16_d628_11ea_a424_8c8590257adbrow6_col1 {\n",
       "            : ;\n",
       "            text-align:  left;\n",
       "        }    #T_89291a16_d628_11ea_a424_8c8590257adbrow6_col2 {\n",
       "            : ;\n",
       "            text-align:  left;\n",
       "        }    #T_89291a16_d628_11ea_a424_8c8590257adbrow6_col3 {\n",
       "            : ;\n",
       "            text-align:  left;\n",
       "        }    #T_89291a16_d628_11ea_a424_8c8590257adbrow6_col4 {\n",
       "            : ;\n",
       "            text-align:  left;\n",
       "        }    #T_89291a16_d628_11ea_a424_8c8590257adbrow6_col5 {\n",
       "            : ;\n",
       "            text-align:  left;\n",
       "        }    #T_89291a16_d628_11ea_a424_8c8590257adbrow6_col6 {\n",
       "            : ;\n",
       "            text-align:  left;\n",
       "        }    #T_89291a16_d628_11ea_a424_8c8590257adbrow6_col7 {\n",
       "            background-color:  lightgrey;\n",
       "            text-align:  left;\n",
       "        }    #T_89291a16_d628_11ea_a424_8c8590257adbrow7_col0 {\n",
       "            text-align:  left;\n",
       "        }    #T_89291a16_d628_11ea_a424_8c8590257adbrow7_col1 {\n",
       "            : ;\n",
       "            text-align:  left;\n",
       "        }    #T_89291a16_d628_11ea_a424_8c8590257adbrow7_col2 {\n",
       "            : ;\n",
       "            text-align:  left;\n",
       "        }    #T_89291a16_d628_11ea_a424_8c8590257adbrow7_col3 {\n",
       "            : ;\n",
       "            text-align:  left;\n",
       "        }    #T_89291a16_d628_11ea_a424_8c8590257adbrow7_col4 {\n",
       "            : ;\n",
       "            text-align:  left;\n",
       "        }    #T_89291a16_d628_11ea_a424_8c8590257adbrow7_col5 {\n",
       "            : ;\n",
       "            text-align:  left;\n",
       "        }    #T_89291a16_d628_11ea_a424_8c8590257adbrow7_col6 {\n",
       "            : ;\n",
       "            text-align:  left;\n",
       "        }    #T_89291a16_d628_11ea_a424_8c8590257adbrow7_col7 {\n",
       "            background-color:  lightgrey;\n",
       "            text-align:  left;\n",
       "        }    #T_89291a16_d628_11ea_a424_8c8590257adbrow8_col0 {\n",
       "            text-align:  left;\n",
       "        }    #T_89291a16_d628_11ea_a424_8c8590257adbrow8_col1 {\n",
       "            : ;\n",
       "            text-align:  left;\n",
       "        }    #T_89291a16_d628_11ea_a424_8c8590257adbrow8_col2 {\n",
       "            : ;\n",
       "            text-align:  left;\n",
       "        }    #T_89291a16_d628_11ea_a424_8c8590257adbrow8_col3 {\n",
       "            : ;\n",
       "            text-align:  left;\n",
       "        }    #T_89291a16_d628_11ea_a424_8c8590257adbrow8_col4 {\n",
       "            : ;\n",
       "            text-align:  left;\n",
       "        }    #T_89291a16_d628_11ea_a424_8c8590257adbrow8_col5 {\n",
       "            : ;\n",
       "            text-align:  left;\n",
       "        }    #T_89291a16_d628_11ea_a424_8c8590257adbrow8_col6 {\n",
       "            : ;\n",
       "            text-align:  left;\n",
       "        }    #T_89291a16_d628_11ea_a424_8c8590257adbrow8_col7 {\n",
       "            background-color:  lightgrey;\n",
       "            text-align:  left;\n",
       "        }    #T_89291a16_d628_11ea_a424_8c8590257adbrow9_col0 {\n",
       "            text-align:  left;\n",
       "        }    #T_89291a16_d628_11ea_a424_8c8590257adbrow9_col1 {\n",
       "            : ;\n",
       "            text-align:  left;\n",
       "        }    #T_89291a16_d628_11ea_a424_8c8590257adbrow9_col2 {\n",
       "            : ;\n",
       "            text-align:  left;\n",
       "        }    #T_89291a16_d628_11ea_a424_8c8590257adbrow9_col3 {\n",
       "            : ;\n",
       "            text-align:  left;\n",
       "        }    #T_89291a16_d628_11ea_a424_8c8590257adbrow9_col4 {\n",
       "            : ;\n",
       "            text-align:  left;\n",
       "        }    #T_89291a16_d628_11ea_a424_8c8590257adbrow9_col5 {\n",
       "            : ;\n",
       "            text-align:  left;\n",
       "        }    #T_89291a16_d628_11ea_a424_8c8590257adbrow9_col6 {\n",
       "            : ;\n",
       "            text-align:  left;\n",
       "        }    #T_89291a16_d628_11ea_a424_8c8590257adbrow9_col7 {\n",
       "            background-color:  lightgrey;\n",
       "            text-align:  left;\n",
       "        }    #T_89291a16_d628_11ea_a424_8c8590257adbrow10_col0 {\n",
       "            text-align:  left;\n",
       "        }    #T_89291a16_d628_11ea_a424_8c8590257adbrow10_col1 {\n",
       "            : ;\n",
       "            text-align:  left;\n",
       "        }    #T_89291a16_d628_11ea_a424_8c8590257adbrow10_col2 {\n",
       "            : ;\n",
       "            text-align:  left;\n",
       "        }    #T_89291a16_d628_11ea_a424_8c8590257adbrow10_col3 {\n",
       "            : ;\n",
       "            text-align:  left;\n",
       "        }    #T_89291a16_d628_11ea_a424_8c8590257adbrow10_col4 {\n",
       "            : ;\n",
       "            text-align:  left;\n",
       "        }    #T_89291a16_d628_11ea_a424_8c8590257adbrow10_col5 {\n",
       "            : ;\n",
       "            text-align:  left;\n",
       "        }    #T_89291a16_d628_11ea_a424_8c8590257adbrow10_col6 {\n",
       "            : ;\n",
       "            text-align:  left;\n",
       "        }    #T_89291a16_d628_11ea_a424_8c8590257adbrow10_col7 {\n",
       "            background-color:  lightgrey;\n",
       "            text-align:  left;\n",
       "        }    #T_89291a16_d628_11ea_a424_8c8590257adbrow11_col0 {\n",
       "            text-align:  left;\n",
       "        }    #T_89291a16_d628_11ea_a424_8c8590257adbrow11_col1 {\n",
       "            : ;\n",
       "            text-align:  left;\n",
       "        }    #T_89291a16_d628_11ea_a424_8c8590257adbrow11_col2 {\n",
       "            : ;\n",
       "            text-align:  left;\n",
       "        }    #T_89291a16_d628_11ea_a424_8c8590257adbrow11_col3 {\n",
       "            : ;\n",
       "            text-align:  left;\n",
       "        }    #T_89291a16_d628_11ea_a424_8c8590257adbrow11_col4 {\n",
       "            : ;\n",
       "            text-align:  left;\n",
       "        }    #T_89291a16_d628_11ea_a424_8c8590257adbrow11_col5 {\n",
       "            : ;\n",
       "            text-align:  left;\n",
       "        }    #T_89291a16_d628_11ea_a424_8c8590257adbrow11_col6 {\n",
       "            : ;\n",
       "            text-align:  left;\n",
       "        }    #T_89291a16_d628_11ea_a424_8c8590257adbrow11_col7 {\n",
       "            background-color:  lightgrey;\n",
       "            text-align:  left;\n",
       "        }    #T_89291a16_d628_11ea_a424_8c8590257adbrow12_col0 {\n",
       "            text-align:  left;\n",
       "        }    #T_89291a16_d628_11ea_a424_8c8590257adbrow12_col1 {\n",
       "            : ;\n",
       "            text-align:  left;\n",
       "        }    #T_89291a16_d628_11ea_a424_8c8590257adbrow12_col2 {\n",
       "            : ;\n",
       "            text-align:  left;\n",
       "        }    #T_89291a16_d628_11ea_a424_8c8590257adbrow12_col3 {\n",
       "            : ;\n",
       "            text-align:  left;\n",
       "        }    #T_89291a16_d628_11ea_a424_8c8590257adbrow12_col4 {\n",
       "            : ;\n",
       "            text-align:  left;\n",
       "        }    #T_89291a16_d628_11ea_a424_8c8590257adbrow12_col5 {\n",
       "            : ;\n",
       "            text-align:  left;\n",
       "        }    #T_89291a16_d628_11ea_a424_8c8590257adbrow12_col6 {\n",
       "            : ;\n",
       "            text-align:  left;\n",
       "        }    #T_89291a16_d628_11ea_a424_8c8590257adbrow12_col7 {\n",
       "            background-color:  lightgrey;\n",
       "            text-align:  left;\n",
       "        }    #T_89291a16_d628_11ea_a424_8c8590257adbrow13_col0 {\n",
       "            text-align:  left;\n",
       "        }    #T_89291a16_d628_11ea_a424_8c8590257adbrow13_col1 {\n",
       "            : ;\n",
       "            text-align:  left;\n",
       "        }    #T_89291a16_d628_11ea_a424_8c8590257adbrow13_col2 {\n",
       "            : ;\n",
       "            text-align:  left;\n",
       "        }    #T_89291a16_d628_11ea_a424_8c8590257adbrow13_col3 {\n",
       "            : ;\n",
       "            text-align:  left;\n",
       "        }    #T_89291a16_d628_11ea_a424_8c8590257adbrow13_col4 {\n",
       "            : ;\n",
       "            text-align:  left;\n",
       "        }    #T_89291a16_d628_11ea_a424_8c8590257adbrow13_col5 {\n",
       "            : ;\n",
       "            text-align:  left;\n",
       "        }    #T_89291a16_d628_11ea_a424_8c8590257adbrow13_col6 {\n",
       "            : ;\n",
       "            text-align:  left;\n",
       "        }    #T_89291a16_d628_11ea_a424_8c8590257adbrow13_col7 {\n",
       "            background-color:  lightgrey;\n",
       "            text-align:  left;\n",
       "        }    #T_89291a16_d628_11ea_a424_8c8590257adbrow14_col0 {\n",
       "            text-align:  left;\n",
       "        }    #T_89291a16_d628_11ea_a424_8c8590257adbrow14_col1 {\n",
       "            : ;\n",
       "            text-align:  left;\n",
       "        }    #T_89291a16_d628_11ea_a424_8c8590257adbrow14_col2 {\n",
       "            : ;\n",
       "            text-align:  left;\n",
       "        }    #T_89291a16_d628_11ea_a424_8c8590257adbrow14_col3 {\n",
       "            : ;\n",
       "            text-align:  left;\n",
       "        }    #T_89291a16_d628_11ea_a424_8c8590257adbrow14_col4 {\n",
       "            : ;\n",
       "            text-align:  left;\n",
       "        }    #T_89291a16_d628_11ea_a424_8c8590257adbrow14_col5 {\n",
       "            : ;\n",
       "            text-align:  left;\n",
       "        }    #T_89291a16_d628_11ea_a424_8c8590257adbrow14_col6 {\n",
       "            : ;\n",
       "            text-align:  left;\n",
       "        }    #T_89291a16_d628_11ea_a424_8c8590257adbrow14_col7 {\n",
       "            background-color:  lightgrey;\n",
       "            text-align:  left;\n",
       "        }    #T_89291a16_d628_11ea_a424_8c8590257adbrow15_col0 {\n",
       "            text-align:  left;\n",
       "        }    #T_89291a16_d628_11ea_a424_8c8590257adbrow15_col1 {\n",
       "            : ;\n",
       "            text-align:  left;\n",
       "        }    #T_89291a16_d628_11ea_a424_8c8590257adbrow15_col2 {\n",
       "            : ;\n",
       "            text-align:  left;\n",
       "        }    #T_89291a16_d628_11ea_a424_8c8590257adbrow15_col3 {\n",
       "            : ;\n",
       "            text-align:  left;\n",
       "        }    #T_89291a16_d628_11ea_a424_8c8590257adbrow15_col4 {\n",
       "            : ;\n",
       "            text-align:  left;\n",
       "        }    #T_89291a16_d628_11ea_a424_8c8590257adbrow15_col5 {\n",
       "            : ;\n",
       "            text-align:  left;\n",
       "        }    #T_89291a16_d628_11ea_a424_8c8590257adbrow15_col6 {\n",
       "            : ;\n",
       "            text-align:  left;\n",
       "        }    #T_89291a16_d628_11ea_a424_8c8590257adbrow15_col7 {\n",
       "            background-color:  lightgrey;\n",
       "            text-align:  left;\n",
       "        }    #T_89291a16_d628_11ea_a424_8c8590257adbrow16_col0 {\n",
       "            text-align:  left;\n",
       "        }    #T_89291a16_d628_11ea_a424_8c8590257adbrow16_col1 {\n",
       "            : ;\n",
       "            text-align:  left;\n",
       "        }    #T_89291a16_d628_11ea_a424_8c8590257adbrow16_col2 {\n",
       "            : ;\n",
       "            text-align:  left;\n",
       "        }    #T_89291a16_d628_11ea_a424_8c8590257adbrow16_col3 {\n",
       "            : ;\n",
       "            text-align:  left;\n",
       "        }    #T_89291a16_d628_11ea_a424_8c8590257adbrow16_col4 {\n",
       "            : ;\n",
       "            text-align:  left;\n",
       "        }    #T_89291a16_d628_11ea_a424_8c8590257adbrow16_col5 {\n",
       "            : ;\n",
       "            text-align:  left;\n",
       "        }    #T_89291a16_d628_11ea_a424_8c8590257adbrow16_col6 {\n",
       "            : ;\n",
       "            text-align:  left;\n",
       "        }    #T_89291a16_d628_11ea_a424_8c8590257adbrow16_col7 {\n",
       "            background-color:  lightgrey;\n",
       "            text-align:  left;\n",
       "        }    #T_89291a16_d628_11ea_a424_8c8590257adbrow17_col0 {\n",
       "            text-align:  left;\n",
       "        }    #T_89291a16_d628_11ea_a424_8c8590257adbrow17_col1 {\n",
       "            : ;\n",
       "            text-align:  left;\n",
       "        }    #T_89291a16_d628_11ea_a424_8c8590257adbrow17_col2 {\n",
       "            : ;\n",
       "            text-align:  left;\n",
       "        }    #T_89291a16_d628_11ea_a424_8c8590257adbrow17_col3 {\n",
       "            : ;\n",
       "            text-align:  left;\n",
       "        }    #T_89291a16_d628_11ea_a424_8c8590257adbrow17_col4 {\n",
       "            : ;\n",
       "            text-align:  left;\n",
       "        }    #T_89291a16_d628_11ea_a424_8c8590257adbrow17_col5 {\n",
       "            : ;\n",
       "            text-align:  left;\n",
       "        }    #T_89291a16_d628_11ea_a424_8c8590257adbrow17_col6 {\n",
       "            : ;\n",
       "            text-align:  left;\n",
       "        }    #T_89291a16_d628_11ea_a424_8c8590257adbrow17_col7 {\n",
       "            background-color:  lightgrey;\n",
       "            text-align:  left;\n",
       "        }    #T_89291a16_d628_11ea_a424_8c8590257adbrow18_col0 {\n",
       "            text-align:  left;\n",
       "        }    #T_89291a16_d628_11ea_a424_8c8590257adbrow18_col1 {\n",
       "            : ;\n",
       "            text-align:  left;\n",
       "        }    #T_89291a16_d628_11ea_a424_8c8590257adbrow18_col2 {\n",
       "            : ;\n",
       "            text-align:  left;\n",
       "        }    #T_89291a16_d628_11ea_a424_8c8590257adbrow18_col3 {\n",
       "            : ;\n",
       "            text-align:  left;\n",
       "        }    #T_89291a16_d628_11ea_a424_8c8590257adbrow18_col4 {\n",
       "            : ;\n",
       "            text-align:  left;\n",
       "        }    #T_89291a16_d628_11ea_a424_8c8590257adbrow18_col5 {\n",
       "            : ;\n",
       "            text-align:  left;\n",
       "        }    #T_89291a16_d628_11ea_a424_8c8590257adbrow18_col6 {\n",
       "            : ;\n",
       "            text-align:  left;\n",
       "        }    #T_89291a16_d628_11ea_a424_8c8590257adbrow18_col7 {\n",
       "            background-color:  lightgrey;\n",
       "            text-align:  left;\n",
       "        }    #T_89291a16_d628_11ea_a424_8c8590257adbrow19_col0 {\n",
       "            text-align:  left;\n",
       "        }    #T_89291a16_d628_11ea_a424_8c8590257adbrow19_col1 {\n",
       "            : ;\n",
       "            text-align:  left;\n",
       "        }    #T_89291a16_d628_11ea_a424_8c8590257adbrow19_col2 {\n",
       "            : ;\n",
       "            text-align:  left;\n",
       "        }    #T_89291a16_d628_11ea_a424_8c8590257adbrow19_col3 {\n",
       "            : ;\n",
       "            text-align:  left;\n",
       "        }    #T_89291a16_d628_11ea_a424_8c8590257adbrow19_col4 {\n",
       "            : ;\n",
       "            text-align:  left;\n",
       "        }    #T_89291a16_d628_11ea_a424_8c8590257adbrow19_col5 {\n",
       "            : ;\n",
       "            text-align:  left;\n",
       "        }    #T_89291a16_d628_11ea_a424_8c8590257adbrow19_col6 {\n",
       "            : ;\n",
       "            text-align:  left;\n",
       "        }    #T_89291a16_d628_11ea_a424_8c8590257adbrow19_col7 {\n",
       "            background-color:  lightgrey;\n",
       "            text-align:  left;\n",
       "        }    #T_89291a16_d628_11ea_a424_8c8590257adbrow20_col0 {\n",
       "            text-align:  left;\n",
       "        }    #T_89291a16_d628_11ea_a424_8c8590257adbrow20_col1 {\n",
       "            : ;\n",
       "            text-align:  left;\n",
       "        }    #T_89291a16_d628_11ea_a424_8c8590257adbrow20_col2 {\n",
       "            : ;\n",
       "            text-align:  left;\n",
       "        }    #T_89291a16_d628_11ea_a424_8c8590257adbrow20_col3 {\n",
       "            : ;\n",
       "            text-align:  left;\n",
       "        }    #T_89291a16_d628_11ea_a424_8c8590257adbrow20_col4 {\n",
       "            : ;\n",
       "            text-align:  left;\n",
       "        }    #T_89291a16_d628_11ea_a424_8c8590257adbrow20_col5 {\n",
       "            : ;\n",
       "            text-align:  left;\n",
       "        }    #T_89291a16_d628_11ea_a424_8c8590257adbrow20_col6 {\n",
       "            : ;\n",
       "            text-align:  left;\n",
       "        }    #T_89291a16_d628_11ea_a424_8c8590257adbrow20_col7 {\n",
       "            background-color:  lightgrey;\n",
       "            text-align:  left;\n",
       "        }    #T_89291a16_d628_11ea_a424_8c8590257adbrow21_col0 {\n",
       "            text-align:  left;\n",
       "        }    #T_89291a16_d628_11ea_a424_8c8590257adbrow21_col1 {\n",
       "            : ;\n",
       "            text-align:  left;\n",
       "        }    #T_89291a16_d628_11ea_a424_8c8590257adbrow21_col2 {\n",
       "            : ;\n",
       "            text-align:  left;\n",
       "        }    #T_89291a16_d628_11ea_a424_8c8590257adbrow21_col3 {\n",
       "            : ;\n",
       "            text-align:  left;\n",
       "        }    #T_89291a16_d628_11ea_a424_8c8590257adbrow21_col4 {\n",
       "            : ;\n",
       "            text-align:  left;\n",
       "        }    #T_89291a16_d628_11ea_a424_8c8590257adbrow21_col5 {\n",
       "            : ;\n",
       "            text-align:  left;\n",
       "        }    #T_89291a16_d628_11ea_a424_8c8590257adbrow21_col6 {\n",
       "            : ;\n",
       "            text-align:  left;\n",
       "        }    #T_89291a16_d628_11ea_a424_8c8590257adbrow21_col7 {\n",
       "            background-color:  lightgrey;\n",
       "            text-align:  left;\n",
       "        }</style><table id=\"T_89291a16_d628_11ea_a424_8c8590257adb\" ><thead>    <tr>        <th class=\"blank level0\" ></th>        <th class=\"col_heading level0 col0\" >Model</th>        <th class=\"col_heading level0 col1\" >MAE</th>        <th class=\"col_heading level0 col2\" >MSE</th>        <th class=\"col_heading level0 col3\" >RMSE</th>        <th class=\"col_heading level0 col4\" >R2</th>        <th class=\"col_heading level0 col5\" >RMSLE</th>        <th class=\"col_heading level0 col6\" >MAPE</th>        <th class=\"col_heading level0 col7\" >TT (Sec)</th>    </tr></thead><tbody>\n",
       "                <tr>\n",
       "                        <th id=\"T_89291a16_d628_11ea_a424_8c8590257adblevel0_row0\" class=\"row_heading level0 row0\" >0</th>\n",
       "                        <td id=\"T_89291a16_d628_11ea_a424_8c8590257adbrow0_col0\" class=\"data row0 col0\" >CatBoost Regressor</td>\n",
       "                        <td id=\"T_89291a16_d628_11ea_a424_8c8590257adbrow0_col1\" class=\"data row0 col1\" >2.2262</td>\n",
       "                        <td id=\"T_89291a16_d628_11ea_a424_8c8590257adbrow0_col2\" class=\"data row0 col2\" >10.8788</td>\n",
       "                        <td id=\"T_89291a16_d628_11ea_a424_8c8590257adbrow0_col3\" class=\"data row0 col3\" >3.2275</td>\n",
       "                        <td id=\"T_89291a16_d628_11ea_a424_8c8590257adbrow0_col4\" class=\"data row0 col4\" >0.8773</td>\n",
       "                        <td id=\"T_89291a16_d628_11ea_a424_8c8590257adbrow0_col5\" class=\"data row0 col5\" >0.1421</td>\n",
       "                        <td id=\"T_89291a16_d628_11ea_a424_8c8590257adbrow0_col6\" class=\"data row0 col6\" >0.1100</td>\n",
       "                        <td id=\"T_89291a16_d628_11ea_a424_8c8590257adbrow0_col7\" class=\"data row0 col7\" >1.5204</td>\n",
       "            </tr>\n",
       "            <tr>\n",
       "                        <th id=\"T_89291a16_d628_11ea_a424_8c8590257adblevel0_row1\" class=\"row_heading level0 row1\" >1</th>\n",
       "                        <td id=\"T_89291a16_d628_11ea_a424_8c8590257adbrow1_col0\" class=\"data row1 col0\" >Gradient Boosting Regressor</td>\n",
       "                        <td id=\"T_89291a16_d628_11ea_a424_8c8590257adbrow1_col1\" class=\"data row1 col1\" >2.2447</td>\n",
       "                        <td id=\"T_89291a16_d628_11ea_a424_8c8590257adbrow1_col2\" class=\"data row1 col2\" >10.8982</td>\n",
       "                        <td id=\"T_89291a16_d628_11ea_a424_8c8590257adbrow1_col3\" class=\"data row1 col3\" >3.1980</td>\n",
       "                        <td id=\"T_89291a16_d628_11ea_a424_8c8590257adbrow1_col4\" class=\"data row1 col4\" >0.8744</td>\n",
       "                        <td id=\"T_89291a16_d628_11ea_a424_8c8590257adbrow1_col5\" class=\"data row1 col5\" >0.1444</td>\n",
       "                        <td id=\"T_89291a16_d628_11ea_a424_8c8590257adbrow1_col6\" class=\"data row1 col6\" >0.1147</td>\n",
       "                        <td id=\"T_89291a16_d628_11ea_a424_8c8590257adbrow1_col7\" class=\"data row1 col7\" >0.1120</td>\n",
       "            </tr>\n",
       "            <tr>\n",
       "                        <th id=\"T_89291a16_d628_11ea_a424_8c8590257adblevel0_row2\" class=\"row_heading level0 row2\" >2</th>\n",
       "                        <td id=\"T_89291a16_d628_11ea_a424_8c8590257adbrow2_col0\" class=\"data row2 col0\" >Random Forest</td>\n",
       "                        <td id=\"T_89291a16_d628_11ea_a424_8c8590257adbrow2_col1\" class=\"data row2 col1\" >2.3443</td>\n",
       "                        <td id=\"T_89291a16_d628_11ea_a424_8c8590257adbrow2_col2\" class=\"data row2 col2\" >11.4440</td>\n",
       "                        <td id=\"T_89291a16_d628_11ea_a424_8c8590257adbrow2_col3\" class=\"data row2 col3\" >3.3004</td>\n",
       "                        <td id=\"T_89291a16_d628_11ea_a424_8c8590257adbrow2_col4\" class=\"data row2 col4\" >0.8723</td>\n",
       "                        <td id=\"T_89291a16_d628_11ea_a424_8c8590257adbrow2_col5\" class=\"data row2 col5\" >0.1430</td>\n",
       "                        <td id=\"T_89291a16_d628_11ea_a424_8c8590257adbrow2_col6\" class=\"data row2 col6\" >0.1159</td>\n",
       "                        <td id=\"T_89291a16_d628_11ea_a424_8c8590257adbrow2_col7\" class=\"data row2 col7\" >0.2920</td>\n",
       "            </tr>\n",
       "            <tr>\n",
       "                        <th id=\"T_89291a16_d628_11ea_a424_8c8590257adblevel0_row3\" class=\"row_heading level0 row3\" >3</th>\n",
       "                        <td id=\"T_89291a16_d628_11ea_a424_8c8590257adbrow3_col0\" class=\"data row3 col0\" >Extreme Gradient Boosting</td>\n",
       "                        <td id=\"T_89291a16_d628_11ea_a424_8c8590257adbrow3_col1\" class=\"data row3 col1\" >2.2856</td>\n",
       "                        <td id=\"T_89291a16_d628_11ea_a424_8c8590257adbrow3_col2\" class=\"data row3 col2\" >11.7220</td>\n",
       "                        <td id=\"T_89291a16_d628_11ea_a424_8c8590257adbrow3_col3\" class=\"data row3 col3\" >3.3383</td>\n",
       "                        <td id=\"T_89291a16_d628_11ea_a424_8c8590257adbrow3_col4\" class=\"data row3 col4\" >0.8660</td>\n",
       "                        <td id=\"T_89291a16_d628_11ea_a424_8c8590257adbrow3_col5\" class=\"data row3 col5\" >0.1482</td>\n",
       "                        <td id=\"T_89291a16_d628_11ea_a424_8c8590257adbrow3_col6\" class=\"data row3 col6\" >0.1156</td>\n",
       "                        <td id=\"T_89291a16_d628_11ea_a424_8c8590257adbrow3_col7\" class=\"data row3 col7\" >0.0979</td>\n",
       "            </tr>\n",
       "            <tr>\n",
       "                        <th id=\"T_89291a16_d628_11ea_a424_8c8590257adblevel0_row4\" class=\"row_heading level0 row4\" >4</th>\n",
       "                        <td id=\"T_89291a16_d628_11ea_a424_8c8590257adbrow4_col0\" class=\"data row4 col0\" >Extra Trees Regressor</td>\n",
       "                        <td id=\"T_89291a16_d628_11ea_a424_8c8590257adbrow4_col1\" class=\"data row4 col1\" >2.2730</td>\n",
       "                        <td id=\"T_89291a16_d628_11ea_a424_8c8590257adbrow4_col2\" class=\"data row4 col2\" >11.9136</td>\n",
       "                        <td id=\"T_89291a16_d628_11ea_a424_8c8590257adbrow4_col3\" class=\"data row4 col3\" >3.2891</td>\n",
       "                        <td id=\"T_89291a16_d628_11ea_a424_8c8590257adbrow4_col4\" class=\"data row4 col4\" >0.8639</td>\n",
       "                        <td id=\"T_89291a16_d628_11ea_a424_8c8590257adbrow4_col5\" class=\"data row4 col5\" >0.1364</td>\n",
       "                        <td id=\"T_89291a16_d628_11ea_a424_8c8590257adbrow4_col6\" class=\"data row4 col6\" >0.1093</td>\n",
       "                        <td id=\"T_89291a16_d628_11ea_a424_8c8590257adbrow4_col7\" class=\"data row4 col7\" >0.2668</td>\n",
       "            </tr>\n",
       "            <tr>\n",
       "                        <th id=\"T_89291a16_d628_11ea_a424_8c8590257adblevel0_row5\" class=\"row_heading level0 row5\" >5</th>\n",
       "                        <td id=\"T_89291a16_d628_11ea_a424_8c8590257adbrow5_col0\" class=\"data row5 col0\" >Light Gradient Boosting Machine</td>\n",
       "                        <td id=\"T_89291a16_d628_11ea_a424_8c8590257adbrow5_col1\" class=\"data row5 col1\" >2.4870</td>\n",
       "                        <td id=\"T_89291a16_d628_11ea_a424_8c8590257adbrow5_col2\" class=\"data row5 col2\" >13.9684</td>\n",
       "                        <td id=\"T_89291a16_d628_11ea_a424_8c8590257adbrow5_col3\" class=\"data row5 col3\" >3.5941</td>\n",
       "                        <td id=\"T_89291a16_d628_11ea_a424_8c8590257adbrow5_col4\" class=\"data row5 col4\" >0.8401</td>\n",
       "                        <td id=\"T_89291a16_d628_11ea_a424_8c8590257adbrow5_col5\" class=\"data row5 col5\" >0.1490</td>\n",
       "                        <td id=\"T_89291a16_d628_11ea_a424_8c8590257adbrow5_col6\" class=\"data row5 col6\" >0.1194</td>\n",
       "                        <td id=\"T_89291a16_d628_11ea_a424_8c8590257adbrow5_col7\" class=\"data row5 col7\" >0.0424</td>\n",
       "            </tr>\n",
       "            <tr>\n",
       "                        <th id=\"T_89291a16_d628_11ea_a424_8c8590257adblevel0_row6\" class=\"row_heading level0 row6\" >6</th>\n",
       "                        <td id=\"T_89291a16_d628_11ea_a424_8c8590257adbrow6_col0\" class=\"data row6 col0\" >AdaBoost Regressor</td>\n",
       "                        <td id=\"T_89291a16_d628_11ea_a424_8c8590257adbrow6_col1\" class=\"data row6 col1\" >2.7765</td>\n",
       "                        <td id=\"T_89291a16_d628_11ea_a424_8c8590257adbrow6_col2\" class=\"data row6 col2\" >14.6607</td>\n",
       "                        <td id=\"T_89291a16_d628_11ea_a424_8c8590257adbrow6_col3\" class=\"data row6 col3\" >3.7305</td>\n",
       "                        <td id=\"T_89291a16_d628_11ea_a424_8c8590257adbrow6_col4\" class=\"data row6 col4\" >0.8321</td>\n",
       "                        <td id=\"T_89291a16_d628_11ea_a424_8c8590257adbrow6_col5\" class=\"data row6 col5\" >0.1719</td>\n",
       "                        <td id=\"T_89291a16_d628_11ea_a424_8c8590257adbrow6_col6\" class=\"data row6 col6\" >0.1463</td>\n",
       "                        <td id=\"T_89291a16_d628_11ea_a424_8c8590257adbrow6_col7\" class=\"data row6 col7\" >0.1091</td>\n",
       "            </tr>\n",
       "            <tr>\n",
       "                        <th id=\"T_89291a16_d628_11ea_a424_8c8590257adblevel0_row7\" class=\"row_heading level0 row7\" >7</th>\n",
       "                        <td id=\"T_89291a16_d628_11ea_a424_8c8590257adbrow7_col0\" class=\"data row7 col0\" >Decision Tree</td>\n",
       "                        <td id=\"T_89291a16_d628_11ea_a424_8c8590257adbrow7_col1\" class=\"data row7 col1\" >3.2660</td>\n",
       "                        <td id=\"T_89291a16_d628_11ea_a424_8c8590257adbrow7_col2\" class=\"data row7 col2\" >26.2963</td>\n",
       "                        <td id=\"T_89291a16_d628_11ea_a424_8c8590257adbrow7_col3\" class=\"data row7 col3\" >4.8206</td>\n",
       "                        <td id=\"T_89291a16_d628_11ea_a424_8c8590257adbrow7_col4\" class=\"data row7 col4\" >0.7058</td>\n",
       "                        <td id=\"T_89291a16_d628_11ea_a424_8c8590257adbrow7_col5\" class=\"data row7 col5\" >0.2043</td>\n",
       "                        <td id=\"T_89291a16_d628_11ea_a424_8c8590257adbrow7_col6\" class=\"data row7 col6\" >0.1602</td>\n",
       "                        <td id=\"T_89291a16_d628_11ea_a424_8c8590257adbrow7_col7\" class=\"data row7 col7\" >0.0053</td>\n",
       "            </tr>\n",
       "            <tr>\n",
       "                        <th id=\"T_89291a16_d628_11ea_a424_8c8590257adblevel0_row8\" class=\"row_heading level0 row8\" >8</th>\n",
       "                        <td id=\"T_89291a16_d628_11ea_a424_8c8590257adbrow8_col0\" class=\"data row8 col0\" >Linear Regression</td>\n",
       "                        <td id=\"T_89291a16_d628_11ea_a424_8c8590257adbrow8_col1\" class=\"data row8 col1\" >3.6492</td>\n",
       "                        <td id=\"T_89291a16_d628_11ea_a424_8c8590257adbrow8_col2\" class=\"data row8 col2\" >27.2553</td>\n",
       "                        <td id=\"T_89291a16_d628_11ea_a424_8c8590257adbrow8_col3\" class=\"data row8 col3\" >5.1663</td>\n",
       "                        <td id=\"T_89291a16_d628_11ea_a424_8c8590257adbrow8_col4\" class=\"data row8 col4\" >0.6908</td>\n",
       "                        <td id=\"T_89291a16_d628_11ea_a424_8c8590257adbrow8_col5\" class=\"data row8 col5\" >0.2648</td>\n",
       "                        <td id=\"T_89291a16_d628_11ea_a424_8c8590257adbrow8_col6\" class=\"data row8 col6\" >0.1811</td>\n",
       "                        <td id=\"T_89291a16_d628_11ea_a424_8c8590257adbrow8_col7\" class=\"data row8 col7\" >0.0046</td>\n",
       "            </tr>\n",
       "            <tr>\n",
       "                        <th id=\"T_89291a16_d628_11ea_a424_8c8590257adblevel0_row9\" class=\"row_heading level0 row9\" >9</th>\n",
       "                        <td id=\"T_89291a16_d628_11ea_a424_8c8590257adbrow9_col0\" class=\"data row9 col0\" >Ridge Regression</td>\n",
       "                        <td id=\"T_89291a16_d628_11ea_a424_8c8590257adbrow9_col1\" class=\"data row9 col1\" >3.6237</td>\n",
       "                        <td id=\"T_89291a16_d628_11ea_a424_8c8590257adbrow9_col2\" class=\"data row9 col2\" >27.3801</td>\n",
       "                        <td id=\"T_89291a16_d628_11ea_a424_8c8590257adbrow9_col3\" class=\"data row9 col3\" >5.1638</td>\n",
       "                        <td id=\"T_89291a16_d628_11ea_a424_8c8590257adbrow9_col4\" class=\"data row9 col4\" >0.6903</td>\n",
       "                        <td id=\"T_89291a16_d628_11ea_a424_8c8590257adbrow9_col5\" class=\"data row9 col5\" >0.2663</td>\n",
       "                        <td id=\"T_89291a16_d628_11ea_a424_8c8590257adbrow9_col6\" class=\"data row9 col6\" >0.1802</td>\n",
       "                        <td id=\"T_89291a16_d628_11ea_a424_8c8590257adbrow9_col7\" class=\"data row9 col7\" >0.0038</td>\n",
       "            </tr>\n",
       "            <tr>\n",
       "                        <th id=\"T_89291a16_d628_11ea_a424_8c8590257adblevel0_row10\" class=\"row_heading level0 row10\" >10</th>\n",
       "                        <td id=\"T_89291a16_d628_11ea_a424_8c8590257adbrow10_col0\" class=\"data row10 col0\" >Bayesian Ridge</td>\n",
       "                        <td id=\"T_89291a16_d628_11ea_a424_8c8590257adbrow10_col1\" class=\"data row10 col1\" >3.6396</td>\n",
       "                        <td id=\"T_89291a16_d628_11ea_a424_8c8590257adbrow10_col2\" class=\"data row10 col2\" >27.9725</td>\n",
       "                        <td id=\"T_89291a16_d628_11ea_a424_8c8590257adbrow10_col3\" class=\"data row10 col3\" >5.2125</td>\n",
       "                        <td id=\"T_89291a16_d628_11ea_a424_8c8590257adbrow10_col4\" class=\"data row10 col4\" >0.6841</td>\n",
       "                        <td id=\"T_89291a16_d628_11ea_a424_8c8590257adbrow10_col5\" class=\"data row10 col5\" >0.2575</td>\n",
       "                        <td id=\"T_89291a16_d628_11ea_a424_8c8590257adbrow10_col6\" class=\"data row10 col6\" >0.1807</td>\n",
       "                        <td id=\"T_89291a16_d628_11ea_a424_8c8590257adbrow10_col7\" class=\"data row10 col7\" >0.0054</td>\n",
       "            </tr>\n",
       "            <tr>\n",
       "                        <th id=\"T_89291a16_d628_11ea_a424_8c8590257adblevel0_row11\" class=\"row_heading level0 row11\" >11</th>\n",
       "                        <td id=\"T_89291a16_d628_11ea_a424_8c8590257adbrow11_col0\" class=\"data row11 col0\" >Least Angle Regression</td>\n",
       "                        <td id=\"T_89291a16_d628_11ea_a424_8c8590257adbrow11_col1\" class=\"data row11 col1\" >3.6931</td>\n",
       "                        <td id=\"T_89291a16_d628_11ea_a424_8c8590257adbrow11_col2\" class=\"data row11 col2\" >27.9651</td>\n",
       "                        <td id=\"T_89291a16_d628_11ea_a424_8c8590257adbrow11_col3\" class=\"data row11 col3\" >5.2413</td>\n",
       "                        <td id=\"T_89291a16_d628_11ea_a424_8c8590257adbrow11_col4\" class=\"data row11 col4\" >0.6832</td>\n",
       "                        <td id=\"T_89291a16_d628_11ea_a424_8c8590257adbrow11_col5\" class=\"data row11 col5\" >0.2620</td>\n",
       "                        <td id=\"T_89291a16_d628_11ea_a424_8c8590257adbrow11_col6\" class=\"data row11 col6\" >0.1835</td>\n",
       "                        <td id=\"T_89291a16_d628_11ea_a424_8c8590257adbrow11_col7\" class=\"data row11 col7\" >0.0108</td>\n",
       "            </tr>\n",
       "            <tr>\n",
       "                        <th id=\"T_89291a16_d628_11ea_a424_8c8590257adblevel0_row12\" class=\"row_heading level0 row12\" >12</th>\n",
       "                        <td id=\"T_89291a16_d628_11ea_a424_8c8590257adbrow12_col0\" class=\"data row12 col0\" >TheilSen Regressor</td>\n",
       "                        <td id=\"T_89291a16_d628_11ea_a424_8c8590257adbrow12_col1\" class=\"data row12 col1\" >3.5959</td>\n",
       "                        <td id=\"T_89291a16_d628_11ea_a424_8c8590257adbrow12_col2\" class=\"data row12 col2\" >30.4219</td>\n",
       "                        <td id=\"T_89291a16_d628_11ea_a424_8c8590257adbrow12_col3\" class=\"data row12 col3\" >5.4073</td>\n",
       "                        <td id=\"T_89291a16_d628_11ea_a424_8c8590257adbrow12_col4\" class=\"data row12 col4\" >0.6621</td>\n",
       "                        <td id=\"T_89291a16_d628_11ea_a424_8c8590257adbrow12_col5\" class=\"data row12 col5\" >0.2584</td>\n",
       "                        <td id=\"T_89291a16_d628_11ea_a424_8c8590257adbrow12_col6\" class=\"data row12 col6\" >0.1701</td>\n",
       "                        <td id=\"T_89291a16_d628_11ea_a424_8c8590257adbrow12_col7\" class=\"data row12 col7\" >0.7367</td>\n",
       "            </tr>\n",
       "            <tr>\n",
       "                        <th id=\"T_89291a16_d628_11ea_a424_8c8590257adblevel0_row13\" class=\"row_heading level0 row13\" >13</th>\n",
       "                        <td id=\"T_89291a16_d628_11ea_a424_8c8590257adbrow13_col0\" class=\"data row13 col0\" >Random Sample Consensus</td>\n",
       "                        <td id=\"T_89291a16_d628_11ea_a424_8c8590257adbrow13_col1\" class=\"data row13 col1\" >3.5373</td>\n",
       "                        <td id=\"T_89291a16_d628_11ea_a424_8c8590257adbrow13_col2\" class=\"data row13 col2\" >31.4419</td>\n",
       "                        <td id=\"T_89291a16_d628_11ea_a424_8c8590257adbrow13_col3\" class=\"data row13 col3\" >5.4328</td>\n",
       "                        <td id=\"T_89291a16_d628_11ea_a424_8c8590257adbrow13_col4\" class=\"data row13 col4\" >0.6503</td>\n",
       "                        <td id=\"T_89291a16_d628_11ea_a424_8c8590257adbrow13_col5\" class=\"data row13 col5\" >0.2848</td>\n",
       "                        <td id=\"T_89291a16_d628_11ea_a424_8c8590257adbrow13_col6\" class=\"data row13 col6\" >0.1732</td>\n",
       "                        <td id=\"T_89291a16_d628_11ea_a424_8c8590257adbrow13_col7\" class=\"data row13 col7\" >0.0792</td>\n",
       "            </tr>\n",
       "            <tr>\n",
       "                        <th id=\"T_89291a16_d628_11ea_a424_8c8590257adblevel0_row14\" class=\"row_heading level0 row14\" >14</th>\n",
       "                        <td id=\"T_89291a16_d628_11ea_a424_8c8590257adbrow14_col0\" class=\"data row14 col0\" >Elastic Net</td>\n",
       "                        <td id=\"T_89291a16_d628_11ea_a424_8c8590257adbrow14_col1\" class=\"data row14 col1\" >4.0107</td>\n",
       "                        <td id=\"T_89291a16_d628_11ea_a424_8c8590257adbrow14_col2\" class=\"data row14 col2\" >31.7587</td>\n",
       "                        <td id=\"T_89291a16_d628_11ea_a424_8c8590257adbrow14_col3\" class=\"data row14 col3\" >5.5946</td>\n",
       "                        <td id=\"T_89291a16_d628_11ea_a424_8c8590257adbrow14_col4\" class=\"data row14 col4\" >0.6440</td>\n",
       "                        <td id=\"T_89291a16_d628_11ea_a424_8c8590257adbrow14_col5\" class=\"data row14 col5\" >0.2791</td>\n",
       "                        <td id=\"T_89291a16_d628_11ea_a424_8c8590257adbrow14_col6\" class=\"data row14 col6\" >0.1925</td>\n",
       "                        <td id=\"T_89291a16_d628_11ea_a424_8c8590257adbrow14_col7\" class=\"data row14 col7\" >0.0041</td>\n",
       "            </tr>\n",
       "            <tr>\n",
       "                        <th id=\"T_89291a16_d628_11ea_a424_8c8590257adblevel0_row15\" class=\"row_heading level0 row15\" >15</th>\n",
       "                        <td id=\"T_89291a16_d628_11ea_a424_8c8590257adbrow15_col0\" class=\"data row15 col0\" >Lasso Regression</td>\n",
       "                        <td id=\"T_89291a16_d628_11ea_a424_8c8590257adbrow15_col1\" class=\"data row15 col1\" >4.0322</td>\n",
       "                        <td id=\"T_89291a16_d628_11ea_a424_8c8590257adbrow15_col2\" class=\"data row15 col2\" >32.1899</td>\n",
       "                        <td id=\"T_89291a16_d628_11ea_a424_8c8590257adbrow15_col3\" class=\"data row15 col3\" >5.6336</td>\n",
       "                        <td id=\"T_89291a16_d628_11ea_a424_8c8590257adbrow15_col4\" class=\"data row15 col4\" >0.6393</td>\n",
       "                        <td id=\"T_89291a16_d628_11ea_a424_8c8590257adbrow15_col5\" class=\"data row15 col5\" >0.2777</td>\n",
       "                        <td id=\"T_89291a16_d628_11ea_a424_8c8590257adbrow15_col6\" class=\"data row15 col6\" >0.1927</td>\n",
       "                        <td id=\"T_89291a16_d628_11ea_a424_8c8590257adbrow15_col7\" class=\"data row15 col7\" >0.0042</td>\n",
       "            </tr>\n",
       "            <tr>\n",
       "                        <th id=\"T_89291a16_d628_11ea_a424_8c8590257adblevel0_row16\" class=\"row_heading level0 row16\" >16</th>\n",
       "                        <td id=\"T_89291a16_d628_11ea_a424_8c8590257adbrow16_col0\" class=\"data row16 col0\" >Huber Regressor</td>\n",
       "                        <td id=\"T_89291a16_d628_11ea_a424_8c8590257adbrow16_col1\" class=\"data row16 col1\" >3.9276</td>\n",
       "                        <td id=\"T_89291a16_d628_11ea_a424_8c8590257adbrow16_col2\" class=\"data row16 col2\" >38.7395</td>\n",
       "                        <td id=\"T_89291a16_d628_11ea_a424_8c8590257adbrow16_col3\" class=\"data row16 col3\" >6.0512</td>\n",
       "                        <td id=\"T_89291a16_d628_11ea_a424_8c8590257adbrow16_col4\" class=\"data row16 col4\" >0.5731</td>\n",
       "                        <td id=\"T_89291a16_d628_11ea_a424_8c8590257adbrow16_col5\" class=\"data row16 col5\" >0.2942</td>\n",
       "                        <td id=\"T_89291a16_d628_11ea_a424_8c8590257adbrow16_col6\" class=\"data row16 col6\" >0.1841</td>\n",
       "                        <td id=\"T_89291a16_d628_11ea_a424_8c8590257adbrow16_col7\" class=\"data row16 col7\" >0.0386</td>\n",
       "            </tr>\n",
       "            <tr>\n",
       "                        <th id=\"T_89291a16_d628_11ea_a424_8c8590257adblevel0_row17\" class=\"row_heading level0 row17\" >17</th>\n",
       "                        <td id=\"T_89291a16_d628_11ea_a424_8c8590257adbrow17_col0\" class=\"data row17 col0\" >Orthogonal Matching Pursuit</td>\n",
       "                        <td id=\"T_89291a16_d628_11ea_a424_8c8590257adbrow17_col1\" class=\"data row17 col1\" >4.4572</td>\n",
       "                        <td id=\"T_89291a16_d628_11ea_a424_8c8590257adbrow17_col2\" class=\"data row17 col2\" >38.1248</td>\n",
       "                        <td id=\"T_89291a16_d628_11ea_a424_8c8590257adbrow17_col3\" class=\"data row17 col3\" >6.1292</td>\n",
       "                        <td id=\"T_89291a16_d628_11ea_a424_8c8590257adbrow17_col4\" class=\"data row17 col4\" >0.5718</td>\n",
       "                        <td id=\"T_89291a16_d628_11ea_a424_8c8590257adbrow17_col5\" class=\"data row17 col5\" >0.3131</td>\n",
       "                        <td id=\"T_89291a16_d628_11ea_a424_8c8590257adbrow17_col6\" class=\"data row17 col6\" >0.2157</td>\n",
       "                        <td id=\"T_89291a16_d628_11ea_a424_8c8590257adbrow17_col7\" class=\"data row17 col7\" >0.0032</td>\n",
       "            </tr>\n",
       "            <tr>\n",
       "                        <th id=\"T_89291a16_d628_11ea_a424_8c8590257adblevel0_row18\" class=\"row_heading level0 row18\" >18</th>\n",
       "                        <td id=\"T_89291a16_d628_11ea_a424_8c8590257adbrow18_col0\" class=\"data row18 col0\" >K Neighbors Regressor</td>\n",
       "                        <td id=\"T_89291a16_d628_11ea_a424_8c8590257adbrow18_col1\" class=\"data row18 col1\" >4.4039</td>\n",
       "                        <td id=\"T_89291a16_d628_11ea_a424_8c8590257adbrow18_col2\" class=\"data row18 col2\" >42.4870</td>\n",
       "                        <td id=\"T_89291a16_d628_11ea_a424_8c8590257adbrow18_col3\" class=\"data row18 col3\" >6.4176</td>\n",
       "                        <td id=\"T_89291a16_d628_11ea_a424_8c8590257adbrow18_col4\" class=\"data row18 col4\" >0.5278</td>\n",
       "                        <td id=\"T_89291a16_d628_11ea_a424_8c8590257adbrow18_col5\" class=\"data row18 col5\" >0.2452</td>\n",
       "                        <td id=\"T_89291a16_d628_11ea_a424_8c8590257adbrow18_col6\" class=\"data row18 col6\" >0.2052</td>\n",
       "                        <td id=\"T_89291a16_d628_11ea_a424_8c8590257adbrow18_col7\" class=\"data row18 col7\" >0.0031</td>\n",
       "            </tr>\n",
       "            <tr>\n",
       "                        <th id=\"T_89291a16_d628_11ea_a424_8c8590257adblevel0_row19\" class=\"row_heading level0 row19\" >19</th>\n",
       "                        <td id=\"T_89291a16_d628_11ea_a424_8c8590257adbrow19_col0\" class=\"data row19 col0\" >Support Vector Machine</td>\n",
       "                        <td id=\"T_89291a16_d628_11ea_a424_8c8590257adbrow19_col1\" class=\"data row19 col1\" >5.6236</td>\n",
       "                        <td id=\"T_89291a16_d628_11ea_a424_8c8590257adbrow19_col2\" class=\"data row19 col2\" >77.5299</td>\n",
       "                        <td id=\"T_89291a16_d628_11ea_a424_8c8590257adbrow19_col3\" class=\"data row19 col3\" >8.7306</td>\n",
       "                        <td id=\"T_89291a16_d628_11ea_a424_8c8590257adbrow19_col4\" class=\"data row19 col4\" >0.1477</td>\n",
       "                        <td id=\"T_89291a16_d628_11ea_a424_8c8590257adbrow19_col5\" class=\"data row19 col5\" >0.3234</td>\n",
       "                        <td id=\"T_89291a16_d628_11ea_a424_8c8590257adbrow19_col6\" class=\"data row19 col6\" >0.2392</td>\n",
       "                        <td id=\"T_89291a16_d628_11ea_a424_8c8590257adbrow19_col7\" class=\"data row19 col7\" >0.0088</td>\n",
       "            </tr>\n",
       "            <tr>\n",
       "                        <th id=\"T_89291a16_d628_11ea_a424_8c8590257adblevel0_row20\" class=\"row_heading level0 row20\" >20</th>\n",
       "                        <td id=\"T_89291a16_d628_11ea_a424_8c8590257adbrow20_col0\" class=\"data row20 col0\" >Lasso Least Angle Regression</td>\n",
       "                        <td id=\"T_89291a16_d628_11ea_a424_8c8590257adbrow20_col1\" class=\"data row20 col1\" >6.9526</td>\n",
       "                        <td id=\"T_89291a16_d628_11ea_a424_8c8590257adbrow20_col2\" class=\"data row20 col2\" >91.9708</td>\n",
       "                        <td id=\"T_89291a16_d628_11ea_a424_8c8590257adbrow20_col3\" class=\"data row20 col3\" >9.5550</td>\n",
       "                        <td id=\"T_89291a16_d628_11ea_a424_8c8590257adbrow20_col4\" class=\"data row20 col4\" >-0.0225</td>\n",
       "                        <td id=\"T_89291a16_d628_11ea_a424_8c8590257adbrow20_col5\" class=\"data row20 col5\" >0.3943</td>\n",
       "                        <td id=\"T_89291a16_d628_11ea_a424_8c8590257adbrow20_col6\" class=\"data row20 col6\" >0.3653</td>\n",
       "                        <td id=\"T_89291a16_d628_11ea_a424_8c8590257adbrow20_col7\" class=\"data row20 col7\" >0.0051</td>\n",
       "            </tr>\n",
       "            <tr>\n",
       "                        <th id=\"T_89291a16_d628_11ea_a424_8c8590257adblevel0_row21\" class=\"row_heading level0 row21\" >21</th>\n",
       "                        <td id=\"T_89291a16_d628_11ea_a424_8c8590257adbrow21_col0\" class=\"data row21 col0\" >Passive Aggressive Regressor</td>\n",
       "                        <td id=\"T_89291a16_d628_11ea_a424_8c8590257adbrow21_col1\" class=\"data row21 col1\" >7.2347</td>\n",
       "                        <td id=\"T_89291a16_d628_11ea_a424_8c8590257adbrow21_col2\" class=\"data row21 col2\" >95.7090</td>\n",
       "                        <td id=\"T_89291a16_d628_11ea_a424_8c8590257adbrow21_col3\" class=\"data row21 col3\" >9.4482</td>\n",
       "                        <td id=\"T_89291a16_d628_11ea_a424_8c8590257adbrow21_col4\" class=\"data row21 col4\" >-0.1029</td>\n",
       "                        <td id=\"T_89291a16_d628_11ea_a424_8c8590257adbrow21_col5\" class=\"data row21 col5\" >0.4374</td>\n",
       "                        <td id=\"T_89291a16_d628_11ea_a424_8c8590257adbrow21_col6\" class=\"data row21 col6\" >0.3757</td>\n",
       "                        <td id=\"T_89291a16_d628_11ea_a424_8c8590257adbrow21_col7\" class=\"data row21 col7\" >0.0044</td>\n",
       "            </tr>\n",
       "    </tbody></table>"
      ],
      "text/plain": [
       "<pandas.io.formats.style.Styler at 0x7fef86417c50>"
      ]
     },
     "metadata": {},
     "output_type": "display_data"
    },
    {
     "data": {
      "text/plain": [
       "<catboost.core.CatBoostRegressor at 0x7fef88b89450>"
      ]
     },
     "execution_count": 40,
     "metadata": {},
     "output_type": "execute_result"
    }
   ],
   "source": [
    "compare_models()\n",
    "#but remember, compare models isnt good for Unsupervised Learning\n",
    "#You cant compare"
   ]
  },
  {
   "cell_type": "code",
   "execution_count": 35,
   "metadata": {},
   "outputs": [
    {
     "data": {
      "text/html": [
       "<div>\n",
       "<style scoped>\n",
       "    .dataframe tbody tr th:only-of-type {\n",
       "        vertical-align: middle;\n",
       "    }\n",
       "\n",
       "    .dataframe tbody tr th {\n",
       "        vertical-align: top;\n",
       "    }\n",
       "\n",
       "    .dataframe thead th {\n",
       "        text-align: right;\n",
       "    }\n",
       "</style>\n",
       "<table border=\"1\" class=\"dataframe\">\n",
       "  <thead>\n",
       "    <tr style=\"text-align: right;\">\n",
       "      <th></th>\n",
       "      <th>Metric</th>\n",
       "    </tr>\n",
       "  </thead>\n",
       "  <tbody>\n",
       "    <tr>\n",
       "      <th>Silhouette</th>\n",
       "      <td>0.7207</td>\n",
       "    </tr>\n",
       "    <tr>\n",
       "      <th>Calinski-Harabasz</th>\n",
       "      <td>5011.8115</td>\n",
       "    </tr>\n",
       "    <tr>\n",
       "      <th>Davies-Bouldin</th>\n",
       "      <td>0.4114</td>\n",
       "    </tr>\n",
       "  </tbody>\n",
       "</table>\n",
       "</div>"
      ],
      "text/plain": [
       "                      Metric\n",
       "Silhouette            0.7207\n",
       "Calinski-Harabasz  5011.8115\n",
       "Davies-Bouldin        0.4114"
      ]
     },
     "metadata": {},
     "output_type": "display_data"
    }
   ],
   "source": [
    "kmeans=create_model('kmeans')\n",
    "#instead of kmeans, i can try with other models\n",
    "#check pycaret.org/create-model/\n",
    "# like 'hclust'\n",
    "# like 'dbscan'\n",
    "\n"
   ]
  },
  {
   "cell_type": "code",
   "execution_count": 36,
   "metadata": {},
   "outputs": [
    {
     "data": {
      "text/plain": [
       "KMeans(algorithm='auto', copy_x=True, init='k-means++', max_iter=300,\n",
       "       n_clusters=4, n_init=10, n_jobs=-1, precompute_distances='deprecated',\n",
       "       random_state=2709, tol=0.0001, verbose=0)"
      ]
     },
     "execution_count": 36,
     "metadata": {},
     "output_type": "execute_result"
    }
   ],
   "source": [
    "\n",
    "kmeans\n",
    "#pycaret.org/clustering"
   ]
  },
  {
   "cell_type": "code",
   "execution_count": 37,
   "metadata": {},
   "outputs": [],
   "source": [
    "\n",
    "### Assig the labels to the dataframe\n",
    "kmeans_df=assign_model(kmeans)"
   ]
  },
  {
   "cell_type": "code",
   "execution_count": 38,
   "metadata": {},
   "outputs": [
    {
     "data": {
      "text/html": [
       "<div>\n",
       "<style scoped>\n",
       "    .dataframe tbody tr th:only-of-type {\n",
       "        vertical-align: middle;\n",
       "    }\n",
       "\n",
       "    .dataframe tbody tr th {\n",
       "        vertical-align: top;\n",
       "    }\n",
       "\n",
       "    .dataframe thead th {\n",
       "        text-align: right;\n",
       "    }\n",
       "</style>\n",
       "<table border=\"1\" class=\"dataframe\">\n",
       "  <thead>\n",
       "    <tr style=\"text-align: right;\">\n",
       "      <th></th>\n",
       "      <th>Age</th>\n",
       "      <th>Income</th>\n",
       "      <th>SpendingScore</th>\n",
       "      <th>Savings</th>\n",
       "      <th>Cluster</th>\n",
       "    </tr>\n",
       "  </thead>\n",
       "  <tbody>\n",
       "    <tr>\n",
       "      <th>0</th>\n",
       "      <td>58</td>\n",
       "      <td>77769</td>\n",
       "      <td>0.791329</td>\n",
       "      <td>6559.829923</td>\n",
       "      <td>Cluster 3</td>\n",
       "    </tr>\n",
       "    <tr>\n",
       "      <th>1</th>\n",
       "      <td>59</td>\n",
       "      <td>81799</td>\n",
       "      <td>0.791082</td>\n",
       "      <td>5417.661426</td>\n",
       "      <td>Cluster 3</td>\n",
       "    </tr>\n",
       "    <tr>\n",
       "      <th>2</th>\n",
       "      <td>62</td>\n",
       "      <td>74751</td>\n",
       "      <td>0.702657</td>\n",
       "      <td>9258.992965</td>\n",
       "      <td>Cluster 3</td>\n",
       "    </tr>\n",
       "    <tr>\n",
       "      <th>3</th>\n",
       "      <td>59</td>\n",
       "      <td>74373</td>\n",
       "      <td>0.765680</td>\n",
       "      <td>7346.334504</td>\n",
       "      <td>Cluster 3</td>\n",
       "    </tr>\n",
       "    <tr>\n",
       "      <th>4</th>\n",
       "      <td>87</td>\n",
       "      <td>17760</td>\n",
       "      <td>0.348778</td>\n",
       "      <td>16869.507130</td>\n",
       "      <td>Cluster 1</td>\n",
       "    </tr>\n",
       "    <tr>\n",
       "      <th>...</th>\n",
       "      <td>...</td>\n",
       "      <td>...</td>\n",
       "      <td>...</td>\n",
       "      <td>...</td>\n",
       "      <td>...</td>\n",
       "    </tr>\n",
       "    <tr>\n",
       "      <th>500</th>\n",
       "      <td>28</td>\n",
       "      <td>101206</td>\n",
       "      <td>0.387441</td>\n",
       "      <td>14936.775389</td>\n",
       "      <td>Cluster 0</td>\n",
       "    </tr>\n",
       "    <tr>\n",
       "      <th>501</th>\n",
       "      <td>93</td>\n",
       "      <td>19934</td>\n",
       "      <td>0.203140</td>\n",
       "      <td>17969.693769</td>\n",
       "      <td>Cluster 1</td>\n",
       "    </tr>\n",
       "    <tr>\n",
       "      <th>502</th>\n",
       "      <td>90</td>\n",
       "      <td>35297</td>\n",
       "      <td>0.355149</td>\n",
       "      <td>16091.401954</td>\n",
       "      <td>Cluster 1</td>\n",
       "    </tr>\n",
       "    <tr>\n",
       "      <th>503</th>\n",
       "      <td>91</td>\n",
       "      <td>20681</td>\n",
       "      <td>0.354679</td>\n",
       "      <td>18401.088445</td>\n",
       "      <td>Cluster 1</td>\n",
       "    </tr>\n",
       "    <tr>\n",
       "      <th>504</th>\n",
       "      <td>89</td>\n",
       "      <td>30267</td>\n",
       "      <td>0.289310</td>\n",
       "      <td>14386.351880</td>\n",
       "      <td>Cluster 1</td>\n",
       "    </tr>\n",
       "  </tbody>\n",
       "</table>\n",
       "<p>505 rows × 5 columns</p>\n",
       "</div>"
      ],
      "text/plain": [
       "     Age  Income  SpendingScore       Savings    Cluster\n",
       "0     58   77769       0.791329   6559.829923  Cluster 3\n",
       "1     59   81799       0.791082   5417.661426  Cluster 3\n",
       "2     62   74751       0.702657   9258.992965  Cluster 3\n",
       "3     59   74373       0.765680   7346.334504  Cluster 3\n",
       "4     87   17760       0.348778  16869.507130  Cluster 1\n",
       "..   ...     ...            ...           ...        ...\n",
       "500   28  101206       0.387441  14936.775389  Cluster 0\n",
       "501   93   19934       0.203140  17969.693769  Cluster 1\n",
       "502   90   35297       0.355149  16091.401954  Cluster 1\n",
       "503   91   20681       0.354679  18401.088445  Cluster 1\n",
       "504   89   30267       0.289310  14386.351880  Cluster 1\n",
       "\n",
       "[505 rows x 5 columns]"
      ]
     },
     "execution_count": 38,
     "metadata": {},
     "output_type": "execute_result"
    }
   ],
   "source": [
    "kmeans_df\n",
    "#this shows index 0 data belongs to cluster 3 and so on"
   ]
  },
  {
   "cell_type": "code",
   "execution_count": 39,
   "metadata": {},
   "outputs": [
    {
     "data": {
      "text/html": [
       "        <script type=\"text/javascript\">\n",
       "        window.PlotlyConfig = {MathJaxConfig: 'local'};\n",
       "        if (window.MathJax) {MathJax.Hub.Config({SVG: {font: \"STIX-Web\"}});}\n",
       "        if (typeof require !== 'undefined') {\n",
       "        require.undef(\"plotly\");\n",
       "        requirejs.config({\n",
       "            paths: {\n",
       "                'plotly': ['https://cdn.plot.ly/plotly-latest.min']\n",
       "            }\n",
       "        });\n",
       "        require(['plotly'], function(Plotly) {\n",
       "            window._Plotly = Plotly;\n",
       "        });\n",
       "        }\n",
       "        </script>\n",
       "        "
      ]
     },
     "metadata": {},
     "output_type": "display_data"
    },
    {
     "data": {
      "application/vnd.plotly.v1+json": {
       "config": {
        "plotlyServerURL": "https://plot.ly"
       },
       "data": [
        {
         "customdata": [
          [
           59
          ],
          [
           31
          ],
          [
           35
          ],
          [
           28
          ],
          [
           30
          ],
          [
           28
          ],
          [
           43
          ],
          [
           35
          ],
          [
           35
          ],
          [
           44
          ],
          [
           33
          ],
          [
           28
          ],
          [
           34
          ],
          [
           37
          ],
          [
           32
          ],
          [
           31
          ],
          [
           36
          ],
          [
           37
          ],
          [
           34
          ],
          [
           33
          ],
          [
           38
          ],
          [
           35
          ],
          [
           34
          ],
          [
           34
          ],
          [
           31
          ],
          [
           30
          ],
          [
           33
          ],
          [
           31
          ],
          [
           36
          ],
          [
           29
          ],
          [
           29
          ],
          [
           27
          ],
          [
           31
          ],
          [
           31
          ],
          [
           34
          ],
          [
           33
          ],
          [
           37
          ],
          [
           32
          ],
          [
           31
          ],
          [
           30
          ],
          [
           35
          ],
          [
           36
          ],
          [
           29
          ],
          [
           34
          ],
          [
           34
          ],
          [
           37
          ],
          [
           31
          ],
          [
           29
          ],
          [
           29
          ],
          [
           22
          ],
          [
           35
          ],
          [
           29
          ],
          [
           32
          ],
          [
           35
          ],
          [
           37
          ],
          [
           30
          ],
          [
           25
          ],
          [
           32
          ],
          [
           32
          ],
          [
           36
          ],
          [
           33
          ],
          [
           36
          ],
          [
           37
          ],
          [
           31
          ],
          [
           31
          ],
          [
           35
          ],
          [
           29
          ],
          [
           28
          ],
          [
           38
          ],
          [
           36
          ],
          [
           31
          ],
          [
           86
          ],
          [
           30
          ],
          [
           38
          ],
          [
           30
          ],
          [
           39
          ],
          [
           34
          ],
          [
           31
          ],
          [
           28
          ],
          [
           31
          ],
          [
           33
          ],
          [
           37
          ],
          [
           30
          ],
          [
           33
          ],
          [
           31
          ],
          [
           36
          ],
          [
           29
          ],
          [
           31
          ],
          [
           40
          ],
          [
           42
          ],
          [
           34
          ],
          [
           84
          ],
          [
           31
          ],
          [
           84
          ],
          [
           37
          ],
          [
           33
          ],
          [
           28
          ],
          [
           36
          ],
          [
           35
          ],
          [
           29
          ],
          [
           30
          ],
          [
           84
          ],
          [
           34
          ],
          [
           33
          ],
          [
           30
          ],
          [
           31
          ],
          [
           30
          ],
          [
           36
          ],
          [
           85
          ],
          [
           39
          ],
          [
           28
          ],
          [
           38
          ],
          [
           36
          ],
          [
           25
          ],
          [
           39
          ],
          [
           29
          ],
          [
           31
          ],
          [
           35
          ],
          [
           88
          ],
          [
           37
          ],
          [
           30
          ],
          [
           33
          ],
          [
           37
          ],
          [
           33
          ],
          [
           32
          ],
          [
           33
          ],
          [
           33
          ],
          [
           26
          ],
          [
           33
          ],
          [
           24
          ]
         ],
         "hovertemplate": "Cluster=Cluster 0<br>PCA1=%{x}<br>PCA2=%{y}<br>Feature=%{customdata[0]}<extra></extra>",
         "legendgroup": "Cluster 0",
         "marker": {
          "color": "#636efa",
          "opacity": 0.5,
          "symbol": "circle"
         },
         "mode": "markers",
         "name": "Cluster 0",
         "orientation": "v",
         "showlegend": true,
         "textposition": "top center",
         "type": "scatter",
         "x": [
          15177.319714667683,
          28681.549887585763,
          26003.522431925627,
          19017.169464917515,
          33217.926610948096,
          22236.169474372287,
          25938.050496756245,
          31317.298064553717,
          26578.153196266194,
          38938.118138714344,
          40849.480597690635,
          24827.97878054598,
          31502.360342968237,
          32912.892063315856,
          26343.67867390248,
          29210.556946439698,
          33203.84256888804,
          30949.636901997943,
          27456.913266673124,
          23896.36880790409,
          39399.40138181151,
          28912.89513619995,
          28627.259856400313,
          22393.41773018013,
          25363.919226720427,
          32797.64366935495,
          30584.124615113247,
          32416.939873895557,
          26071.981181359253,
          15764.49143141584,
          23392.9420468506,
          31016.95277066788,
          40419.57669510416,
          30148.682673916093,
          23022.218263126655,
          30046.48908092607,
          22105.034591078263,
          34753.14848573082,
          37228.7347452007,
          31911.001239366342,
          34360.48180735058,
          24491.388898644742,
          26312.37296892754,
          23196.21330643824,
          27758.387575808218,
          31960.754514207263,
          26983.046364278205,
          26228.376286436207,
          35711.07999432947,
          33345.15627123119,
          32691.86956168574,
          30268.705481263303,
          26023.566351406167,
          30155.33415963699,
          31202.412682476086,
          20486.140695945465,
          30950.1018396824,
          30836.97830762745,
          19785.994393274676,
          34060.87750047384,
          36008.72535912233,
          28639.385002450505,
          32289.54020716666,
          32345.7084287006,
          32322.908553122485,
          30806.7763419528,
          36813.76713420397,
          36260.399857073884,
          28960.634964946777,
          20592.346613007772,
          39135.37622313007,
          39941.237375096105,
          30614.165778553575,
          18943.37281781304,
          32149.921292682888,
          24819.360949497754,
          26507.04287235992,
          23748.67781545406,
          23858.59824002343,
          31330.343984524785,
          16918.67620110013,
          34830.8660373536,
          26298.148410246726,
          38869.6494526717,
          29240.509748648117,
          22350.769816321572,
          40673.85964432747,
          25732.344972190574,
          23032.680124651273,
          31253.46853044943,
          14006.000965365405,
          39513.27355543242,
          35758.2754355367,
          38543.625122928686,
          32853.06228369527,
          25328.06996228168,
          33379.42058468911,
          29861.546669621464,
          37194.90227907421,
          35036.71585548722,
          25376.69326607317,
          34834.90179465997,
          35572.71538685357,
          32561.025360063308,
          22224.556143435297,
          32307.93672914095,
          24294.808478346346,
          23967.006087975627,
          35579.205815806316,
          23470.847033328027,
          25474.40276379729,
          37939.717008912354,
          32210.979768642417,
          25765.79004232837,
          24706.12835284516,
          27412.691405421236,
          35187.91053468466,
          41298.63129283508,
          38847.16976776079,
          21900.785300032763,
          31614.4425654191,
          19295.26768680957,
          35023.2162708003,
          31361.08526779915,
          32572.750272366204,
          24613.751980326128,
          22258.608668569905,
          21973.307950443832,
          31045.220255678792,
          34815.25492053806
         ],
         "xaxis": "x",
         "y": [
          4253.670268811262,
          -4194.112454577065,
          -3786.133642471525,
          -4587.056600403992,
          -4387.404636496321,
          -4400.042331000767,
          -4054.2528418970796,
          -6141.763263553488,
          -4542.181472406764,
          -4443.169815276382,
          -5591.430862352501,
          -5088.608312301604,
          -5081.205331963817,
          -4588.664684244306,
          -3863.0068749343027,
          -6286.356908964098,
          -6552.893169384935,
          -4397.197322284787,
          -4868.3121644418225,
          -4653.572550884036,
          -5202.090344164462,
          -5224.554435670837,
          -3324.8164217780118,
          -5150.7469282882075,
          -6518.877743618617,
          -5654.546848389314,
          -5198.651743783715,
          -3316.873784519847,
          -4687.764619495443,
          -2149.1522120766217,
          -5117.926369906286,
          -4865.004407317274,
          -6642.2336402639385,
          -3727.6412226852412,
          -4439.122859420628,
          -2733.109485171261,
          -4346.187741550604,
          -4008.589012753896,
          -4575.537648425247,
          -2672.9112969661496,
          -5038.816440742171,
          -3378.5440905478654,
          -4286.405360287329,
          -5613.714946473864,
          -3524.6018820414897,
          -7950.137679904529,
          -2897.418110778116,
          -4266.484164687798,
          -4543.481105344729,
          -6080.299826048195,
          -6066.457122934568,
          -4917.675594824381,
          -7172.334785619928,
          -6491.845916302056,
          -4006.8807824041187,
          -4804.203700356796,
          -6274.399407676451,
          -4248.410998779926,
          -4699.391527469759,
          -5075.678351148999,
          -6111.705171395252,
          -3130.9505393460995,
          -3634.341360640735,
          -2201.7204362153516,
          -3681.290385681799,
          -5560.204679599995,
          -4615.462129870623,
          -3890.344796261252,
          -5439.902381792003,
          -4611.5876483615675,
          -4339.70701642575,
          -5237.495032300993,
          -4762.434912619332,
          -6099.926511675155,
          -5508.9451693990895,
          -6443.116567478192,
          -5484.67465612109,
          -4085.3878885407753,
          -4857.997302514548,
          -5635.16354461918,
          -2877.194607876874,
          -5377.229021116209,
          -5023.038755192269,
          -4117.836047019007,
          -5240.7098799011355,
          -5405.192380070505,
          -5771.827716588524,
          -4846.280009746113,
          -5461.179044520947,
          -4792.820172444657,
          -1775.6050399833507,
          -4805.682520520931,
          -4122.472097486007,
          -7198.063753004426,
          -5910.595724540096,
          -4507.818852759066,
          -4139.053044046935,
          -4210.491742797319,
          -4030.4860762357466,
          -6415.6995362262405,
          -3922.329207394538,
          -5079.540930731737,
          -4807.665202226769,
          -5658.52914733539,
          -5737.014216399165,
          -3401.0815217687737,
          -3156.1748677381474,
          -5918.69639359337,
          -6195.256515402717,
          -4720.248925408382,
          -4541.161711915861,
          -4683.4402818597455,
          -5806.36236665889,
          -4647.515091833694,
          -6304.286871577937,
          -5970.659605817774,
          -4164.858385743967,
          -6422.0650063113435,
          -8209.639308093861,
          -5234.914435436241,
          -3948.4131537015032,
          -3266.65010027991,
          -4416.577273256112,
          -4837.589604607748,
          -6711.005814772019,
          -3288.4642893518303,
          -5195.92540918855,
          -5227.972306159944,
          -4354.88067353697,
          -5108.281670571708
         ],
         "yaxis": "y"
        },
        {
         "customdata": [
          [
           91
          ],
          [
           94
          ],
          [
           87
          ],
          [
           88
          ],
          [
           85
          ],
          [
           89
          ],
          [
           86
          ],
          [
           87
          ],
          [
           87
          ],
          [
           84
          ],
          [
           92
          ],
          [
           91
          ],
          [
           85
          ],
          [
           89
          ],
          [
           88
          ],
          [
           86
          ],
          [
           89
          ],
          [
           87
          ],
          [
           88
          ],
          [
           89
          ],
          [
           83
          ],
          [
           87
          ],
          [
           87
          ],
          [
           88
          ],
          [
           85
          ],
          [
           86
          ],
          [
           91
          ],
          [
           84
          ],
          [
           89
          ],
          [
           95
          ],
          [
           83
          ],
          [
           91
          ],
          [
           82
          ],
          [
           91
          ],
          [
           94
          ],
          [
           93
          ],
          [
           89
          ],
          [
           87
          ],
          [
           89
          ],
          [
           88
          ],
          [
           88
          ],
          [
           91
          ],
          [
           84
          ],
          [
           89
          ],
          [
           88
          ],
          [
           90
          ],
          [
           88
          ],
          [
           87
          ],
          [
           86
          ],
          [
           90
          ],
          [
           92
          ],
          [
           90
          ],
          [
           83
          ],
          [
           86
          ],
          [
           86
          ],
          [
           86
          ],
          [
           85
          ],
          [
           91
          ],
          [
           94
          ],
          [
           79
          ],
          [
           82
          ],
          [
           81
          ],
          [
           85
          ],
          [
           91
          ],
          [
           92
          ],
          [
           90
          ],
          [
           91
          ],
          [
           82
          ],
          [
           84
          ],
          [
           79
          ],
          [
           89
          ],
          [
           84
          ],
          [
           83
          ],
          [
           83
          ],
          [
           83
          ],
          [
           84
          ],
          [
           86
          ],
          [
           91
          ],
          [
           83
          ],
          [
           91
          ],
          [
           90
          ],
          [
           87
          ],
          [
           88
          ],
          [
           90
          ],
          [
           94
          ],
          [
           88
          ],
          [
           89
          ],
          [
           92
          ],
          [
           90
          ],
          [
           86
          ],
          [
           84
          ],
          [
           88
          ],
          [
           84
          ],
          [
           88
          ],
          [
           91
          ],
          [
           94
          ],
          [
           87
          ],
          [
           88
          ],
          [
           87
          ],
          [
           91
          ],
          [
           90
          ],
          [
           93
          ],
          [
           87
          ],
          [
           87
          ],
          [
           83
          ],
          [
           84
          ],
          [
           91
          ],
          [
           87
          ],
          [
           82
          ],
          [
           91
          ],
          [
           90
          ],
          [
           83
          ],
          [
           87
          ],
          [
           88
          ],
          [
           84
          ],
          [
           84
          ],
          [
           97
          ],
          [
           92
          ],
          [
           87
          ],
          [
           91
          ],
          [
           90
          ],
          [
           84
          ],
          [
           91
          ],
          [
           84
          ],
          [
           92
          ],
          [
           85
          ],
          [
           93
          ],
          [
           83
          ],
          [
           87
          ],
          [
           85
          ],
          [
           85
          ],
          [
           88
          ],
          [
           85
          ],
          [
           94
          ],
          [
           89
          ],
          [
           92
          ],
          [
           92
          ],
          [
           85
          ],
          [
           85
          ],
          [
           94
          ],
          [
           88
          ],
          [
           91
          ],
          [
           87
          ],
          [
           88
          ],
          [
           90
          ],
          [
           89
          ],
          [
           82
          ]
         ],
         "hovertemplate": "Cluster=Cluster 1<br>PCA1=%{x}<br>PCA2=%{y}<br>Feature=%{customdata[0]}<extra></extra>",
         "legendgroup": "Cluster 1",
         "marker": {
          "color": "#EF553B",
          "opacity": 0.5,
          "symbol": "circle"
         },
         "mode": "markers",
         "name": "Cluster 1",
         "orientation": "v",
         "showlegend": true,
         "textposition": "top center",
         "type": "scatter",
         "x": [
          -47000.17170879293,
          -36822.88272990109,
          -45592.66271459647,
          -56178.67327005179,
          -46522.9194197512,
          -50446.687258505604,
          -46897.28720484185,
          -28723.99191956602,
          -59885.1834508009,
          -37730.769340608196,
          -39882.02333138303,
          -46108.56441807313,
          -46206.76070917288,
          -42432.64509966229,
          -49206.07297923622,
          -60035.35573518632,
          -56491.726161601466,
          -44821.271955370954,
          -42594.24300193299,
          -53680.72058527789,
          -45148.06214608792,
          -49952.56386424757,
          -50055.787564293576,
          -53103.84791289733,
          -47927.75615335327,
          -28705.212826769824,
          -48496.84792497305,
          -48329.37521986344,
          -49610.67501015971,
          -48754.55322293146,
          -57495.82751822281,
          -63634.72200273957,
          -51335.696362198054,
          -39063.286676190924,
          -48448.18982139342,
          -58127.50387027004,
          -48762.364668271206,
          -63656.347589980156,
          -41047.37636685032,
          -57750.75774612391,
          -43012.769783491414,
          -49274.44239615931,
          -53484.990447976204,
          -47490.053373637085,
          -40724.15688509664,
          -50029.04867348444,
          -48459.57885316468,
          -45504.928216643864,
          -39916.59061152691,
          -42253.87287795824,
          -53329.08890863795,
          -45508.35388587767,
          -48890.16204283165,
          -43811.4726203939,
          -39708.64698966349,
          -56854.244914684125,
          -54413.15855352475,
          -50504.82314273773,
          -56820.08755360426,
          -37510.58801132118,
          -42172.09142372815,
          -41272.89533986181,
          -47211.30921897942,
          -55116.83601816839,
          -42194.798734952434,
          -53514.36608306826,
          -58771.33010043619,
          -51459.51350546343,
          -48254.006229924904,
          -43219.57063079798,
          -45316.58140609557,
          -48469.758225555786,
          -42546.30928703385,
          -52508.30353343574,
          -45053.50115134018,
          -51590.97205811303,
          -52219.788910263254,
          -49855.360239061185,
          -41183.65207165712,
          -38870.67264138035,
          -46621.67518992088,
          -49618.564251583906,
          -42334.04767150635,
          -42485.19893050839,
          -47366.64939309714,
          -46888.40589877377,
          -51006.62596717181,
          -53120.540708745815,
          -42382.698832036214,
          -48031.60033869834,
          -46294.6965258151,
          -49640.51633393592,
          -33685.82303783501,
          -41654.285370916725,
          -46752.171891149104,
          -51858.95285225976,
          -51191.183110267964,
          -47339.94733410827,
          -52350.13688160769,
          -48867.33422412477,
          -40392.52353813577,
          -55837.8962125591,
          -57945.294009393816,
          -33223.78792758691,
          -41229.0853264679,
          -48086.47161506783,
          -44891.72694017817,
          -44207.369196690066,
          -42152.50281937876,
          -52957.61629178098,
          -38257.012522678706,
          -47072.83270827881,
          -45889.16124528395,
          -57888.98693798617,
          -39255.47386551347,
          -55003.11473536296,
          -48338.70466261933,
          -56895.336026094665,
          -52745.27199507385,
          -47591.22511122002,
          -52877.381646033384,
          -57516.273183636426,
          -51304.420791210214,
          -45243.33599570982,
          -39730.75492373198,
          -41090.43271162367,
          -55300.43835611649,
          -47148.04950665262,
          -49083.98904448348,
          -44945.69901444301,
          -53905.33080870668,
          -58306.89374121135,
          -40907.2514779881,
          -54957.49098917235,
          -44680.893509319256,
          -42805.1746936623,
          -40276.448131089564,
          -47271.41327624213,
          -49427.524137026136,
          -47975.62989430371,
          -44316.39097613652,
          -45489.120024218646,
          -57176.86780610605,
          -47129.844163420625,
          -51240.794674902114,
          -55368.98427568012,
          -43231.4779087988
         ],
         "xaxis": "x",
         "y": [
          -3258.5927312494246,
          -3004.135925035727,
          -1858.7415428672723,
          -1450.73186888666,
          -2395.1506203279073,
          -1789.8310613735025,
          -1500.5997535503443,
          -1283.2493416842171,
          968.1821841701748,
          -3447.522865699348,
          -3145.838811669626,
          -4704.900718140072,
          -3972.437291114193,
          -2804.3175987818126,
          646.5438723752045,
          -2067.785202202856,
          -1529.9495201383804,
          -809.2478504066119,
          -4573.135949676125,
          -1523.1531827794745,
          -918.443541374456,
          -1016.3628176053345,
          -458.73293797346776,
          -1838.6646455566574,
          1139.0677249894081,
          -2125.5165732968285,
          -1255.0231217175176,
          -2106.9565485318544,
          -2494.346015854766,
          -3476.757532941402,
          -874.593832039623,
          -958.5365645110751,
          -2253.324954790311,
          -2178.9512608782634,
          -424.49445160246864,
          -3329.424155750385,
          -1902.3037525718094,
          -672.130364587098,
          163.00860194240764,
          -1546.786022798463,
          -2388.3975155671833,
          -1819.1411133435645,
          -2964.871161538941,
          -1025.655637713156,
          -3403.354998094874,
          -2907.798180135488,
          -623.0248233972331,
          -1656.4250558163026,
          -5860.406970913423,
          -2813.4088657560983,
          -3704.115203066879,
          -1716.0957515179923,
          -3117.0435724351205,
          -3844.0506429942784,
          -2812.6408322745224,
          -1039.886967020448,
          -1055.9968931753674,
          -2541.104074402417,
          -2626.494760123038,
          -2385.9306735999685,
          -3482.95092442031,
          -2039.051945091475,
          -497.02873214681364,
          -3386.6313874278326,
          -2831.244972649773,
          -3511.650542757555,
          -1946.4256348815309,
          -1443.6312210611654,
          -3586.3929123393573,
          -982.6374045457418,
          72.34189620852595,
          -975.0110199269352,
          -2323.955025066739,
          -2003.3795586148917,
          -3267.853088065963,
          -1709.6809922654006,
          -361.82287722905903,
          -2551.6409458672965,
          -2299.177576458249,
          -4966.632983631624,
          -1061.3928297006255,
          -1200.4987085746989,
          -946.4427010468254,
          -1573.1293339464662,
          -2226.5238835946802,
          -1747.2845158743728,
          1229.6342021037997,
          -2373.906852113612,
          -1026.21782812194,
          -2520.879670925896,
          -3445.1407626668724,
          -2403.452656500524,
          -2359.981060852434,
          -1284.2763352325994,
          -4260.667936777419,
          -1998.3145148841234,
          -2999.048136853003,
          -2756.210456765212,
          -1271.8366968001806,
          -3330.0950893142576,
          -1918.070653976533,
          -2913.151326193388,
          -1690.2235244245383,
          -4327.599800404021,
          -559.8887343311553,
          -3267.664533478741,
          -1059.5099705589143,
          -1788.5950192551359,
          -3595.4264994551504,
          -512.1681616652348,
          -3209.7056998551166,
          -3652.143022077501,
          -3656.8600405231173,
          -2297.410428456013,
          -2456.062469507202,
          -1806.371634963474,
          -296.94791022013453,
          -219.83567344031934,
          -3270.2500120301224,
          -2876.0168218541585,
          -1034.0462861180667,
          -2662.2379174130556,
          -1341.6421504993352,
          -2386.7446703879664,
          -3215.3117531036146,
          -2507.4680378488542,
          -2379.4453929525316,
          -948.1700320034125,
          -2706.9542458595383,
          -2663.4363034143557,
          776.7213551828801,
          -1498.3070625903988,
          -2247.723098069756,
          -1273.0340909671515,
          -3320.238109106737,
          -2383.9235864924303,
          -3159.403065288734,
          -1422.2632521531439,
          -3282.4967836895144,
          -2697.4806496368674,
          -1681.1078093986137,
          -857.2365574199096,
          -500.38222602903517,
          -2166.945526513022,
          -337.58311029945685,
          -990.6075970316521,
          -2464.366506729344
         ],
         "yaxis": "y"
        },
        {
         "customdata": [
          [
           28
          ],
          [
           25
          ],
          [
           17
          ],
          [
           27
          ],
          [
           29
          ],
          [
           23
          ],
          [
           24
          ],
          [
           92
          ],
          [
           24
          ],
          [
           28
          ],
          [
           25
          ],
          [
           29
          ],
          [
           17
          ],
          [
           87
          ],
          [
           83
          ],
          [
           18
          ],
          [
           88
          ],
          [
           84
          ],
          [
           21
          ],
          [
           31
          ],
          [
           77
          ],
          [
           34
          ],
          [
           30
          ],
          [
           91
          ],
          [
           27
          ],
          [
           89
          ],
          [
           23
          ],
          [
           22
          ],
          [
           20
          ],
          [
           86
          ],
          [
           20
          ],
          [
           20
          ],
          [
           26
          ],
          [
           24
          ],
          [
           17
          ],
          [
           17
          ],
          [
           28
          ],
          [
           26
          ],
          [
           26
          ],
          [
           24
          ],
          [
           23
          ],
          [
           90
          ],
          [
           23
          ],
          [
           90
          ],
          [
           88
          ],
          [
           22
          ],
          [
           24
          ],
          [
           25
          ],
          [
           29
          ],
          [
           18
          ],
          [
           28
          ],
          [
           82
          ],
          [
           26
          ],
          [
           26
          ],
          [
           28
          ],
          [
           28
          ],
          [
           24
          ],
          [
           93
          ],
          [
           83
          ],
          [
           21
          ],
          [
           82
          ],
          [
           86
          ],
          [
           83
          ],
          [
           22
          ],
          [
           32
          ],
          [
           27
          ],
          [
           25
          ],
          [
           24
          ],
          [
           25
          ],
          [
           85
          ],
          [
           25
          ],
          [
           29
          ]
         ],
         "hovertemplate": "Cluster=Cluster 2<br>PCA1=%{x}<br>PCA2=%{y}<br>Feature=%{customdata[0]}<extra></extra>",
         "legendgroup": "Cluster 2",
         "marker": {
          "color": "#00cc96",
          "opacity": 0.5,
          "symbol": "circle"
         },
         "mode": "markers",
         "name": "Cluster 2",
         "orientation": "v",
         "showlegend": true,
         "textposition": "top center",
         "type": "scatter",
         "x": [
          41933.87634909213,
          62912.457097805716,
          61085.161815426945,
          46271.74999066813,
          43600.21618030978,
          63317.06653244295,
          59239.85352839816,
          47182.0685815558,
          45280.29645748765,
          48281.96476402193,
          53422.552485701264,
          56449.67813828144,
          48697.32854440998,
          41859.15436997559,
          43629.01273923755,
          55587.35173073361,
          44952.90203538894,
          46993.641087908385,
          48602.57111184023,
          47836.44839182687,
          52844.214540832145,
          44074.74432267949,
          47549.7625462271,
          43084.431301068376,
          49923.23240258633,
          43861.74709102551,
          54778.91990969147,
          57857.28905692231,
          54230.31142047663,
          48577.245944563685,
          47415.38916240535,
          53899.234059979615,
          47842.88367906653,
          53976.79000263133,
          59803.04557919303,
          59798.17482849976,
          48029.235982960934,
          51532.47005840452,
          50397.08389773138,
          55795.99791496397,
          45049.7130377485,
          48410.0092904723,
          51395.224355999526,
          42045.795702571384,
          47964.552261386925,
          45302.570904167456,
          59196.59308633913,
          45728.40114434413,
          66750.62108457655,
          48551.89779119266,
          53924.59703955879,
          45920.30384600759,
          52086.38065892725,
          56651.45548374749,
          46000.802484699576,
          52465.033586659934,
          52263.49410874449,
          50874.59373315185,
          42157.80542870098,
          54542.56026091131,
          50433.851384533344,
          52679.13742245061,
          41580.27174463822,
          58984.55027496729,
          41328.25266331,
          47518.88131856794,
          55783.428858014944,
          61617.25602185725,
          55809.60825993983,
          42414.139844093945,
          55168.45154506192,
          47210.61128412963
         ],
         "xaxis": "x",
         "y": [
          4717.997205237606,
          5261.355213266387,
          4243.721728508764,
          4207.414796612181,
          -5657.478831520002,
          4946.177510120507,
          4745.144589124804,
          -4557.716601791867,
          4437.356566167738,
          8499.9669445998,
          3894.2354791277476,
          5101.39869736752,
          5282.4978097543035,
          -4543.326267067188,
          -6254.840941209115,
          3427.1351952588093,
          -4985.514801220389,
          -4647.129088588644,
          6249.537360930079,
          6059.983323374545,
          -5677.6674755519025,
          -6307.669140625969,
          3437.896482394778,
          -4660.855622444501,
          6048.724079227704,
          -6877.035883382055,
          4629.791365281094,
          5717.501137167639,
          3238.4287703236837,
          -6305.307759672719,
          4709.388807631824,
          3176.746885409089,
          4758.188729714912,
          5488.389984582103,
          8450.307562492606,
          4315.751792559064,
          5422.3237576825595,
          6006.733833662529,
          2890.550968564703,
          4252.897540706994,
          4590.872583456103,
          -5693.665441157438,
          5657.241494980814,
          -3106.1034758683513,
          -4397.18611491967,
          3778.1814213096054,
          3903.9749268153687,
          3658.3065012522197,
          2693.0081866217524,
          4668.214697412169,
          5765.842845736463,
          -4953.921129423352,
          3388.4270346813732,
          4271.292185091134,
          3884.452851319082,
          3371.5330650130963,
          5916.358054129827,
          -5178.052813440062,
          -5954.454601851135,
          4193.882999372305,
          -6854.2061340779455,
          -4749.057025715356,
          -5615.56077240863,
          3350.7116179336444,
          -4823.645899335591,
          4941.999362973268,
          4732.087714707705,
          6726.313750520609,
          3879.1497332626554,
          -5432.281819509636,
          4016.9816222016125,
          6674.2346774959115
         ],
         "yaxis": "y"
        },
        {
         "customdata": [
          [
           61
          ],
          [
           68
          ],
          [
           62
          ],
          [
           59
          ],
          [
           65
          ],
          [
           59
          ],
          [
           57
          ],
          [
           58
          ],
          [
           55
          ],
          [
           60
          ],
          [
           65
          ],
          [
           64
          ],
          [
           51
          ],
          [
           65
          ],
          [
           60
          ],
          [
           61
          ],
          [
           56
          ],
          [
           58
          ],
          [
           63
          ],
          [
           58
          ],
          [
           67
          ],
          [
           61
          ],
          [
           63
          ],
          [
           58
          ],
          [
           59
          ],
          [
           67
          ],
          [
           60
          ],
          [
           62
          ],
          [
           60
          ],
          [
           56
          ],
          [
           66
          ],
          [
           61
          ],
          [
           58
          ],
          [
           57
          ],
          [
           58
          ],
          [
           55
          ],
          [
           63
          ],
          [
           58
          ],
          [
           60
          ],
          [
           58
          ],
          [
           62
          ],
          [
           66
          ],
          [
           57
          ],
          [
           66
          ],
          [
           63
          ],
          [
           64
          ],
          [
           62
          ],
          [
           62
          ],
          [
           56
          ],
          [
           60
          ],
          [
           60
          ],
          [
           63
          ],
          [
           56
          ],
          [
           58
          ],
          [
           62
          ],
          [
           56
          ],
          [
           59
          ],
          [
           65
          ],
          [
           62
          ],
          [
           59
          ],
          [
           66
          ],
          [
           64
          ],
          [
           65
          ],
          [
           58
          ],
          [
           64
          ],
          [
           59
          ],
          [
           59
          ],
          [
           62
          ],
          [
           59
          ],
          [
           54
          ],
          [
           61
          ],
          [
           55
          ],
          [
           53
          ],
          [
           55
          ],
          [
           61
          ],
          [
           59
          ],
          [
           59
          ],
          [
           56
          ],
          [
           61
          ],
          [
           61
          ],
          [
           60
          ],
          [
           57
          ],
          [
           61
          ],
          [
           55
          ],
          [
           53
          ],
          [
           61
          ],
          [
           64
          ],
          [
           62
          ],
          [
           55
          ],
          [
           58
          ],
          [
           57
          ],
          [
           59
          ],
          [
           58
          ],
          [
           62
          ],
          [
           59
          ],
          [
           61
          ],
          [
           62
          ],
          [
           55
          ],
          [
           57
          ],
          [
           57
          ],
          [
           61
          ],
          [
           59
          ],
          [
           59
          ],
          [
           59
          ],
          [
           58
          ],
          [
           56
          ],
          [
           61
          ],
          [
           56
          ],
          [
           61
          ],
          [
           63
          ],
          [
           59
          ],
          [
           59
          ],
          [
           59
          ],
          [
           59
          ],
          [
           57
          ],
          [
           59
          ],
          [
           61
          ],
          [
           67
          ],
          [
           63
          ],
          [
           56
          ],
          [
           59
          ],
          [
           58
          ],
          [
           61
          ],
          [
           62
          ],
          [
           64
          ],
          [
           61
          ],
          [
           68
          ],
          [
           60
          ],
          [
           62
          ],
          [
           64
          ],
          [
           63
          ],
          [
           58
          ],
          [
           62
          ],
          [
           59
          ],
          [
           61
          ],
          [
           53
          ],
          [
           58
          ],
          [
           55
          ],
          [
           60
          ],
          [
           56
          ],
          [
           60
          ],
          [
           58
          ],
          [
           56
          ],
          [
           64
          ],
          [
           63
          ],
          [
           62
          ],
          [
           59
          ],
          [
           67
          ],
          [
           58
          ],
          [
           58
          ],
          [
           57
          ],
          [
           66
          ],
          [
           64
          ],
          [
           59
          ],
          [
           56
          ],
          [
           57
          ]
         ],
         "hovertemplate": "Cluster=Cluster 3<br>PCA1=%{x}<br>PCA2=%{y}<br>Feature=%{customdata[0]}<extra></extra>",
         "legendgroup": "Cluster 3",
         "marker": {
          "color": "#ab63fa",
          "opacity": 0.5,
          "symbol": "circle"
         },
         "mode": "markers",
         "name": "Cluster 3",
         "orientation": "v",
         "showlegend": true,
         "textposition": "top center",
         "type": "scatter",
         "x": [
          -3197.7706749317094,
          -6270.13005770464,
          -7431.169946592949,
          -7981.7468106834385,
          -4794.730185972461,
          -5787.584457334289,
          -3147.9716901024003,
          3333.0370081988917,
          -10419.650727093273,
          -805.5182840466957,
          -4114.665812502665,
          -12402.614006035737,
          -3127.746475407185,
          -811.2733012583052,
          -5149.414552966313,
          3607.621847535446,
          -9823.292971418658,
          -6075.723945911874,
          7034.566991846875,
          -4883.720561797811,
          3574.86762828513,
          -967.1345292294836,
          -4661.643199436446,
          -4588.845682887329,
          -7225.656651496554,
          5679.935032255555,
          -9176.93991716045,
          -1424.2968527852527,
          -11770.096221904689,
          -1755.3663563989905,
          1855.0479869186809,
          -7827.50439260575,
          2868.6753358918095,
          4615.604589783894,
          2555.7842351602176,
          1547.9124395594247,
          10499.407295945577,
          -4972.922141129968,
          4848.442764387977,
          -5327.512619806884,
          -1710.0091006297773,
          -2630.794135208183,
          1381.2925438038938,
          -10238.837928743036,
          -2329.6167597527688,
          -3536.6248996188656,
          -11570.013629472292,
          -12594.175242128533,
          11129.42414922961,
          -3881.279223544831,
          -4595.725467462926,
          5567.478117111802,
          9121.208329826177,
          499.4966180961346,
          -4176.722631704311,
          -6529.597912750257,
          -7423.928769536233,
          -9153.992100917842,
          4864.683651412994,
          -7249.02812979693,
          7325.25618949269,
          1198.2155272857208,
          -9447.56695701966,
          -4333.353171495318,
          13091.37415351668,
          -860.435447795379,
          6644.597612798229,
          -611.8920766835457,
          -879.6961231840196,
          1270.592618636511,
          -3354.40939549205,
          -3652.051627219519,
          1535.3200349238623,
          3442.0678654010467,
          1691.1469990055011,
          -9514.742122293766,
          -5495.930030665686,
          -11393.26428138904,
          -1006.7942808926979,
          -11385.807297750882,
          -5228.773548143097,
          106.44730782999663,
          -2009.7086141751718,
          -847.3002227743398,
          -13124.391604038405,
          -6112.701966838938,
          -14757.626854505615,
          -5414.4517238230965,
          -4197.995995572505,
          -907.6690876091187,
          4241.775895153046,
          -2601.8696283459462,
          1797.8692846207534,
          -6945.490220855903,
          -1709.0067116984367,
          -5628.983771409209,
          3175.7301008876793,
          -1254.7961050822796,
          1380.9095854822585,
          -5506.5047752773025,
          -1867.5011952055133,
          277.31945471803544,
          -18832.323089995094,
          -7793.454352086529,
          834.6063416853518,
          375.6120252474134,
          -3222.0284971176457,
          3735.2223001205434,
          -9600.009525716892,
          -18377.080919160893,
          2663.8141427242585,
          -6051.798027149638,
          5619.125538763624,
          -2220.635450610065,
          -10371.487057071716,
          -1864.5940590614457,
          -9270.983246113974,
          -6586.3750155963435,
          -7793.211508914161,
          5122.2825622989185,
          7017.407229806948,
          4968.76464587457,
          -6214.354917756376,
          -5898.74447968115,
          1223.3332842063535,
          -4025.5345868614972,
          2456.114942910881,
          -10072.875118803537,
          -5806.077052611821,
          11039.026942031705,
          -5414.849621380295,
          3385.8220491313186,
          -8175.944783841653,
          -3902.6507601274084,
          -4335.121223668245,
          -284.93461613174986,
          8122.080380415542,
          871.0561448640436,
          -7740.9048790897195,
          -15159.901916245673,
          -9955.599000501968,
          5073.487356522342,
          -7927.27939399956,
          -10817.514881421737,
          -182.87509706289916,
          -12401.01261442263,
          384.48865377878303,
          -15876.014194933872,
          2392.9514000132285,
          -4856.160277619083,
          -9604.976101231396,
          -3578.641166763734,
          3594.042421690829,
          -5713.304475031718,
          -6874.447300583781,
          -1148.5927138363165
         ],
         "xaxis": "x",
         "y": [
          5127.949261280452,
          5401.821696967166,
          6342.036901878023,
          3467.565974911418,
          5174.470545977291,
          5711.628393266965,
          5506.996622913858,
          4012.2154933423135,
          5982.858221439128,
          4348.0956797841345,
          3078.8964384945916,
          4277.420432790428,
          5318.281993622221,
          4771.5151531806905,
          5556.666139133817,
          4852.444518767336,
          6862.247572080603,
          3500.5964543132523,
          3374.2871342934263,
          4688.370746949256,
          6638.189488143042,
          4638.72424067415,
          4875.4120343920395,
          4468.26810256384,
          4564.617621855315,
          4711.285967238691,
          7146.662858252776,
          7267.328542397,
          5001.420783196847,
          4273.205301847633,
          5468.743274286694,
          5701.697575023509,
          5223.642330390355,
          5713.4420419095,
          5164.69038739356,
          3973.9069974865106,
          4092.5868105824948,
          5053.974394482304,
          6716.3892700823235,
          5507.674538617929,
          5692.091704359396,
          5512.809888472098,
          5207.2210975090065,
          7423.315368546432,
          6502.207882775588,
          5070.413098436322,
          6393.5849274602315,
          5058.5935076658625,
          2451.3956456354917,
          3532.7508016456345,
          4575.315245883311,
          6399.679457928574,
          4076.1888638584965,
          4450.572465085798,
          5121.9481779910175,
          5174.060016070747,
          5595.4252080784245,
          6237.455006749795,
          4834.953991865885,
          5030.101509904843,
          5245.750156657961,
          6031.597780098115,
          6026.370137728767,
          6791.121727987125,
          3878.0740056043533,
          1366.21750619139,
          6074.108821940023,
          2642.8564628733093,
          4574.02985248023,
          4918.861099714733,
          4039.0497082186066,
          4298.147934215795,
          6617.143404468851,
          3293.925709825783,
          4305.6055133701375,
          5484.062210130746,
          5033.927181148621,
          4760.7266838361165,
          6827.7367522808645,
          5239.834486252127,
          4906.821369117007,
          5019.545071865858,
          4571.311601888512,
          5435.293808150462,
          5122.298575466129,
          7150.265686204204,
          5008.012103778605,
          6401.496850378553,
          4646.423038232091,
          4662.571801362159,
          4854.373611538004,
          5720.063910631844,
          3616.9066222648607,
          5240.283697626603,
          3684.695295940357,
          3413.460990034032,
          4727.079813055347,
          6380.915494292787,
          5567.112673818729,
          6298.43017886773,
          2685.662685436794,
          5152.077722121312,
          6823.253328040561,
          5788.853893383744,
          5141.101367432589,
          5049.6062969477725,
          4129.181189416355,
          4370.467828822715,
          4923.281603355219,
          5086.374324713101,
          3399.1203547303217,
          6221.683453940015,
          4314.803908984967,
          4177.140129281847,
          6211.274488459196,
          5267.352553209774,
          5996.549152653391,
          4795.659622307596,
          6334.243251982043,
          3424.073603905287,
          5588.800602998202,
          3943.1170736339104,
          8154.200533863802,
          5205.840154213875,
          5666.367954752698,
          5644.552199614266,
          5539.978254276124,
          7033.832306225468,
          5686.132349951805,
          4384.68728953157,
          4509.378948047728,
          4513.159427781255,
          5599.274828311291,
          5499.339332721763,
          2658.297518890412,
          4064.008336080807,
          4731.012058760928,
          5689.000453091907,
          5133.639471687385,
          5573.243592768724,
          4085.3122504461185,
          5244.436809348915,
          5673.527728610799,
          6677.482101590934,
          4411.324353776283,
          6731.622371228138,
          6845.141814371274,
          7337.462584330764,
          5992.684094109704,
          6861.841710581503,
          5517.4569987997875,
          4687.331305792244,
          5244.223767536202,
          6098.407171499205,
          3266.4701832643764,
          6154.518606181512
         ],
         "yaxis": "y"
        }
       ],
       "layout": {
        "height": 600,
        "legend": {
         "title": {
          "text": "Cluster"
         },
         "tracegroupgap": 0
        },
        "margin": {
         "t": 60
        },
        "plot_bgcolor": "rgb(240,240,240)",
        "template": {
         "data": {
          "bar": [
           {
            "error_x": {
             "color": "#2a3f5f"
            },
            "error_y": {
             "color": "#2a3f5f"
            },
            "marker": {
             "line": {
              "color": "#E5ECF6",
              "width": 0.5
             }
            },
            "type": "bar"
           }
          ],
          "barpolar": [
           {
            "marker": {
             "line": {
              "color": "#E5ECF6",
              "width": 0.5
             }
            },
            "type": "barpolar"
           }
          ],
          "carpet": [
           {
            "aaxis": {
             "endlinecolor": "#2a3f5f",
             "gridcolor": "white",
             "linecolor": "white",
             "minorgridcolor": "white",
             "startlinecolor": "#2a3f5f"
            },
            "baxis": {
             "endlinecolor": "#2a3f5f",
             "gridcolor": "white",
             "linecolor": "white",
             "minorgridcolor": "white",
             "startlinecolor": "#2a3f5f"
            },
            "type": "carpet"
           }
          ],
          "choropleth": [
           {
            "colorbar": {
             "outlinewidth": 0,
             "ticks": ""
            },
            "type": "choropleth"
           }
          ],
          "contour": [
           {
            "colorbar": {
             "outlinewidth": 0,
             "ticks": ""
            },
            "colorscale": [
             [
              0,
              "#0d0887"
             ],
             [
              0.1111111111111111,
              "#46039f"
             ],
             [
              0.2222222222222222,
              "#7201a8"
             ],
             [
              0.3333333333333333,
              "#9c179e"
             ],
             [
              0.4444444444444444,
              "#bd3786"
             ],
             [
              0.5555555555555556,
              "#d8576b"
             ],
             [
              0.6666666666666666,
              "#ed7953"
             ],
             [
              0.7777777777777778,
              "#fb9f3a"
             ],
             [
              0.8888888888888888,
              "#fdca26"
             ],
             [
              1,
              "#f0f921"
             ]
            ],
            "type": "contour"
           }
          ],
          "contourcarpet": [
           {
            "colorbar": {
             "outlinewidth": 0,
             "ticks": ""
            },
            "type": "contourcarpet"
           }
          ],
          "heatmap": [
           {
            "colorbar": {
             "outlinewidth": 0,
             "ticks": ""
            },
            "colorscale": [
             [
              0,
              "#0d0887"
             ],
             [
              0.1111111111111111,
              "#46039f"
             ],
             [
              0.2222222222222222,
              "#7201a8"
             ],
             [
              0.3333333333333333,
              "#9c179e"
             ],
             [
              0.4444444444444444,
              "#bd3786"
             ],
             [
              0.5555555555555556,
              "#d8576b"
             ],
             [
              0.6666666666666666,
              "#ed7953"
             ],
             [
              0.7777777777777778,
              "#fb9f3a"
             ],
             [
              0.8888888888888888,
              "#fdca26"
             ],
             [
              1,
              "#f0f921"
             ]
            ],
            "type": "heatmap"
           }
          ],
          "heatmapgl": [
           {
            "colorbar": {
             "outlinewidth": 0,
             "ticks": ""
            },
            "colorscale": [
             [
              0,
              "#0d0887"
             ],
             [
              0.1111111111111111,
              "#46039f"
             ],
             [
              0.2222222222222222,
              "#7201a8"
             ],
             [
              0.3333333333333333,
              "#9c179e"
             ],
             [
              0.4444444444444444,
              "#bd3786"
             ],
             [
              0.5555555555555556,
              "#d8576b"
             ],
             [
              0.6666666666666666,
              "#ed7953"
             ],
             [
              0.7777777777777778,
              "#fb9f3a"
             ],
             [
              0.8888888888888888,
              "#fdca26"
             ],
             [
              1,
              "#f0f921"
             ]
            ],
            "type": "heatmapgl"
           }
          ],
          "histogram": [
           {
            "marker": {
             "colorbar": {
              "outlinewidth": 0,
              "ticks": ""
             }
            },
            "type": "histogram"
           }
          ],
          "histogram2d": [
           {
            "colorbar": {
             "outlinewidth": 0,
             "ticks": ""
            },
            "colorscale": [
             [
              0,
              "#0d0887"
             ],
             [
              0.1111111111111111,
              "#46039f"
             ],
             [
              0.2222222222222222,
              "#7201a8"
             ],
             [
              0.3333333333333333,
              "#9c179e"
             ],
             [
              0.4444444444444444,
              "#bd3786"
             ],
             [
              0.5555555555555556,
              "#d8576b"
             ],
             [
              0.6666666666666666,
              "#ed7953"
             ],
             [
              0.7777777777777778,
              "#fb9f3a"
             ],
             [
              0.8888888888888888,
              "#fdca26"
             ],
             [
              1,
              "#f0f921"
             ]
            ],
            "type": "histogram2d"
           }
          ],
          "histogram2dcontour": [
           {
            "colorbar": {
             "outlinewidth": 0,
             "ticks": ""
            },
            "colorscale": [
             [
              0,
              "#0d0887"
             ],
             [
              0.1111111111111111,
              "#46039f"
             ],
             [
              0.2222222222222222,
              "#7201a8"
             ],
             [
              0.3333333333333333,
              "#9c179e"
             ],
             [
              0.4444444444444444,
              "#bd3786"
             ],
             [
              0.5555555555555556,
              "#d8576b"
             ],
             [
              0.6666666666666666,
              "#ed7953"
             ],
             [
              0.7777777777777778,
              "#fb9f3a"
             ],
             [
              0.8888888888888888,
              "#fdca26"
             ],
             [
              1,
              "#f0f921"
             ]
            ],
            "type": "histogram2dcontour"
           }
          ],
          "mesh3d": [
           {
            "colorbar": {
             "outlinewidth": 0,
             "ticks": ""
            },
            "type": "mesh3d"
           }
          ],
          "parcoords": [
           {
            "line": {
             "colorbar": {
              "outlinewidth": 0,
              "ticks": ""
             }
            },
            "type": "parcoords"
           }
          ],
          "pie": [
           {
            "automargin": true,
            "type": "pie"
           }
          ],
          "scatter": [
           {
            "marker": {
             "colorbar": {
              "outlinewidth": 0,
              "ticks": ""
             }
            },
            "type": "scatter"
           }
          ],
          "scatter3d": [
           {
            "line": {
             "colorbar": {
              "outlinewidth": 0,
              "ticks": ""
             }
            },
            "marker": {
             "colorbar": {
              "outlinewidth": 0,
              "ticks": ""
             }
            },
            "type": "scatter3d"
           }
          ],
          "scattercarpet": [
           {
            "marker": {
             "colorbar": {
              "outlinewidth": 0,
              "ticks": ""
             }
            },
            "type": "scattercarpet"
           }
          ],
          "scattergeo": [
           {
            "marker": {
             "colorbar": {
              "outlinewidth": 0,
              "ticks": ""
             }
            },
            "type": "scattergeo"
           }
          ],
          "scattergl": [
           {
            "marker": {
             "colorbar": {
              "outlinewidth": 0,
              "ticks": ""
             }
            },
            "type": "scattergl"
           }
          ],
          "scattermapbox": [
           {
            "marker": {
             "colorbar": {
              "outlinewidth": 0,
              "ticks": ""
             }
            },
            "type": "scattermapbox"
           }
          ],
          "scatterpolar": [
           {
            "marker": {
             "colorbar": {
              "outlinewidth": 0,
              "ticks": ""
             }
            },
            "type": "scatterpolar"
           }
          ],
          "scatterpolargl": [
           {
            "marker": {
             "colorbar": {
              "outlinewidth": 0,
              "ticks": ""
             }
            },
            "type": "scatterpolargl"
           }
          ],
          "scatterternary": [
           {
            "marker": {
             "colorbar": {
              "outlinewidth": 0,
              "ticks": ""
             }
            },
            "type": "scatterternary"
           }
          ],
          "surface": [
           {
            "colorbar": {
             "outlinewidth": 0,
             "ticks": ""
            },
            "colorscale": [
             [
              0,
              "#0d0887"
             ],
             [
              0.1111111111111111,
              "#46039f"
             ],
             [
              0.2222222222222222,
              "#7201a8"
             ],
             [
              0.3333333333333333,
              "#9c179e"
             ],
             [
              0.4444444444444444,
              "#bd3786"
             ],
             [
              0.5555555555555556,
              "#d8576b"
             ],
             [
              0.6666666666666666,
              "#ed7953"
             ],
             [
              0.7777777777777778,
              "#fb9f3a"
             ],
             [
              0.8888888888888888,
              "#fdca26"
             ],
             [
              1,
              "#f0f921"
             ]
            ],
            "type": "surface"
           }
          ],
          "table": [
           {
            "cells": {
             "fill": {
              "color": "#EBF0F8"
             },
             "line": {
              "color": "white"
             }
            },
            "header": {
             "fill": {
              "color": "#C8D4E3"
             },
             "line": {
              "color": "white"
             }
            },
            "type": "table"
           }
          ]
         },
         "layout": {
          "annotationdefaults": {
           "arrowcolor": "#2a3f5f",
           "arrowhead": 0,
           "arrowwidth": 1
          },
          "coloraxis": {
           "colorbar": {
            "outlinewidth": 0,
            "ticks": ""
           }
          },
          "colorscale": {
           "diverging": [
            [
             0,
             "#8e0152"
            ],
            [
             0.1,
             "#c51b7d"
            ],
            [
             0.2,
             "#de77ae"
            ],
            [
             0.3,
             "#f1b6da"
            ],
            [
             0.4,
             "#fde0ef"
            ],
            [
             0.5,
             "#f7f7f7"
            ],
            [
             0.6,
             "#e6f5d0"
            ],
            [
             0.7,
             "#b8e186"
            ],
            [
             0.8,
             "#7fbc41"
            ],
            [
             0.9,
             "#4d9221"
            ],
            [
             1,
             "#276419"
            ]
           ],
           "sequential": [
            [
             0,
             "#0d0887"
            ],
            [
             0.1111111111111111,
             "#46039f"
            ],
            [
             0.2222222222222222,
             "#7201a8"
            ],
            [
             0.3333333333333333,
             "#9c179e"
            ],
            [
             0.4444444444444444,
             "#bd3786"
            ],
            [
             0.5555555555555556,
             "#d8576b"
            ],
            [
             0.6666666666666666,
             "#ed7953"
            ],
            [
             0.7777777777777778,
             "#fb9f3a"
            ],
            [
             0.8888888888888888,
             "#fdca26"
            ],
            [
             1,
             "#f0f921"
            ]
           ],
           "sequentialminus": [
            [
             0,
             "#0d0887"
            ],
            [
             0.1111111111111111,
             "#46039f"
            ],
            [
             0.2222222222222222,
             "#7201a8"
            ],
            [
             0.3333333333333333,
             "#9c179e"
            ],
            [
             0.4444444444444444,
             "#bd3786"
            ],
            [
             0.5555555555555556,
             "#d8576b"
            ],
            [
             0.6666666666666666,
             "#ed7953"
            ],
            [
             0.7777777777777778,
             "#fb9f3a"
            ],
            [
             0.8888888888888888,
             "#fdca26"
            ],
            [
             1,
             "#f0f921"
            ]
           ]
          },
          "colorway": [
           "#636efa",
           "#EF553B",
           "#00cc96",
           "#ab63fa",
           "#FFA15A",
           "#19d3f3",
           "#FF6692",
           "#B6E880",
           "#FF97FF",
           "#FECB52"
          ],
          "font": {
           "color": "#2a3f5f"
          },
          "geo": {
           "bgcolor": "white",
           "lakecolor": "white",
           "landcolor": "#E5ECF6",
           "showlakes": true,
           "showland": true,
           "subunitcolor": "white"
          },
          "hoverlabel": {
           "align": "left"
          },
          "hovermode": "closest",
          "mapbox": {
           "style": "light"
          },
          "paper_bgcolor": "white",
          "plot_bgcolor": "#E5ECF6",
          "polar": {
           "angularaxis": {
            "gridcolor": "white",
            "linecolor": "white",
            "ticks": ""
           },
           "bgcolor": "#E5ECF6",
           "radialaxis": {
            "gridcolor": "white",
            "linecolor": "white",
            "ticks": ""
           }
          },
          "scene": {
           "xaxis": {
            "backgroundcolor": "#E5ECF6",
            "gridcolor": "white",
            "gridwidth": 2,
            "linecolor": "white",
            "showbackground": true,
            "ticks": "",
            "zerolinecolor": "white"
           },
           "yaxis": {
            "backgroundcolor": "#E5ECF6",
            "gridcolor": "white",
            "gridwidth": 2,
            "linecolor": "white",
            "showbackground": true,
            "ticks": "",
            "zerolinecolor": "white"
           },
           "zaxis": {
            "backgroundcolor": "#E5ECF6",
            "gridcolor": "white",
            "gridwidth": 2,
            "linecolor": "white",
            "showbackground": true,
            "ticks": "",
            "zerolinecolor": "white"
           }
          },
          "shapedefaults": {
           "line": {
            "color": "#2a3f5f"
           }
          },
          "ternary": {
           "aaxis": {
            "gridcolor": "white",
            "linecolor": "white",
            "ticks": ""
           },
           "baxis": {
            "gridcolor": "white",
            "linecolor": "white",
            "ticks": ""
           },
           "bgcolor": "#E5ECF6",
           "caxis": {
            "gridcolor": "white",
            "linecolor": "white",
            "ticks": ""
           }
          },
          "title": {
           "x": 0.05
          },
          "xaxis": {
           "automargin": true,
           "gridcolor": "white",
           "linecolor": "white",
           "ticks": "",
           "title": {
            "standoff": 15
           },
           "zerolinecolor": "white",
           "zerolinewidth": 2
          },
          "yaxis": {
           "automargin": true,
           "gridcolor": "white",
           "linecolor": "white",
           "ticks": "",
           "title": {
            "standoff": 15
           },
           "zerolinecolor": "white",
           "zerolinewidth": 2
          }
         }
        },
        "title": {
         "text": "2D Cluster PCA Plot"
        },
        "xaxis": {
         "anchor": "y",
         "domain": [
          0,
          1
         ],
         "title": {
          "text": "PCA1"
         }
        },
        "yaxis": {
         "anchor": "x",
         "domain": [
          0,
          1
         ],
         "title": {
          "text": "PCA2"
         }
        }
       }
      },
      "text/html": [
       "<div>\n",
       "        \n",
       "        \n",
       "            <div id=\"815460bd-590b-4b56-a284-23a9d60114fc\" class=\"plotly-graph-div\" style=\"height:600px; width:100%;\"></div>\n",
       "            <script type=\"text/javascript\">\n",
       "                require([\"plotly\"], function(Plotly) {\n",
       "                    window.PLOTLYENV=window.PLOTLYENV || {};\n",
       "                    \n",
       "                if (document.getElementById(\"815460bd-590b-4b56-a284-23a9d60114fc\")) {\n",
       "                    Plotly.newPlot(\n",
       "                        '815460bd-590b-4b56-a284-23a9d60114fc',\n",
       "                        [{\"customdata\": [[59], [31], [35], [28], [30], [28], [43], [35], [35], [44], [33], [28], [34], [37], [32], [31], [36], [37], [34], [33], [38], [35], [34], [34], [31], [30], [33], [31], [36], [29], [29], [27], [31], [31], [34], [33], [37], [32], [31], [30], [35], [36], [29], [34], [34], [37], [31], [29], [29], [22], [35], [29], [32], [35], [37], [30], [25], [32], [32], [36], [33], [36], [37], [31], [31], [35], [29], [28], [38], [36], [31], [86], [30], [38], [30], [39], [34], [31], [28], [31], [33], [37], [30], [33], [31], [36], [29], [31], [40], [42], [34], [84], [31], [84], [37], [33], [28], [36], [35], [29], [30], [84], [34], [33], [30], [31], [30], [36], [85], [39], [28], [38], [36], [25], [39], [29], [31], [35], [88], [37], [30], [33], [37], [33], [32], [33], [33], [26], [33], [24]], \"hovertemplate\": \"Cluster=Cluster 0<br>PCA1=%{x}<br>PCA2=%{y}<br>Feature=%{customdata[0]}<extra></extra>\", \"legendgroup\": \"Cluster 0\", \"marker\": {\"color\": \"#636efa\", \"opacity\": 0.5, \"symbol\": \"circle\"}, \"mode\": \"markers\", \"name\": \"Cluster 0\", \"orientation\": \"v\", \"showlegend\": true, \"textposition\": \"top center\", \"type\": \"scatter\", \"x\": [15177.319714667683, 28681.549887585763, 26003.522431925627, 19017.169464917515, 33217.926610948096, 22236.169474372287, 25938.050496756245, 31317.298064553717, 26578.153196266194, 38938.118138714344, 40849.480597690635, 24827.97878054598, 31502.360342968237, 32912.892063315856, 26343.67867390248, 29210.556946439698, 33203.84256888804, 30949.636901997943, 27456.913266673124, 23896.36880790409, 39399.40138181151, 28912.89513619995, 28627.259856400313, 22393.41773018013, 25363.919226720427, 32797.64366935495, 30584.124615113247, 32416.939873895557, 26071.981181359253, 15764.49143141584, 23392.9420468506, 31016.95277066788, 40419.57669510416, 30148.682673916093, 23022.218263126655, 30046.48908092607, 22105.034591078263, 34753.14848573082, 37228.7347452007, 31911.001239366342, 34360.48180735058, 24491.388898644742, 26312.37296892754, 23196.21330643824, 27758.387575808218, 31960.754514207263, 26983.046364278205, 26228.376286436207, 35711.07999432947, 33345.15627123119, 32691.86956168574, 30268.705481263303, 26023.566351406167, 30155.33415963699, 31202.412682476086, 20486.140695945465, 30950.1018396824, 30836.97830762745, 19785.994393274676, 34060.87750047384, 36008.72535912233, 28639.385002450505, 32289.54020716666, 32345.7084287006, 32322.908553122485, 30806.7763419528, 36813.76713420397, 36260.399857073884, 28960.634964946777, 20592.346613007772, 39135.37622313007, 39941.237375096105, 30614.165778553575, 18943.37281781304, 32149.921292682888, 24819.360949497754, 26507.04287235992, 23748.67781545406, 23858.59824002343, 31330.343984524785, 16918.67620110013, 34830.8660373536, 26298.148410246726, 38869.6494526717, 29240.509748648117, 22350.769816321572, 40673.85964432747, 25732.344972190574, 23032.680124651273, 31253.46853044943, 14006.000965365405, 39513.27355543242, 35758.2754355367, 38543.625122928686, 32853.06228369527, 25328.06996228168, 33379.42058468911, 29861.546669621464, 37194.90227907421, 35036.71585548722, 25376.69326607317, 34834.90179465997, 35572.71538685357, 32561.025360063308, 22224.556143435297, 32307.93672914095, 24294.808478346346, 23967.006087975627, 35579.205815806316, 23470.847033328027, 25474.40276379729, 37939.717008912354, 32210.979768642417, 25765.79004232837, 24706.12835284516, 27412.691405421236, 35187.91053468466, 41298.63129283508, 38847.16976776079, 21900.785300032763, 31614.4425654191, 19295.26768680957, 35023.2162708003, 31361.08526779915, 32572.750272366204, 24613.751980326128, 22258.608668569905, 21973.307950443832, 31045.220255678792, 34815.25492053806], \"xaxis\": \"x\", \"y\": [4253.670268811262, -4194.112454577065, -3786.133642471525, -4587.056600403992, -4387.404636496321, -4400.042331000767, -4054.2528418970796, -6141.763263553488, -4542.181472406764, -4443.169815276382, -5591.430862352501, -5088.608312301604, -5081.205331963817, -4588.664684244306, -3863.0068749343027, -6286.356908964098, -6552.893169384935, -4397.197322284787, -4868.3121644418225, -4653.572550884036, -5202.090344164462, -5224.554435670837, -3324.8164217780118, -5150.7469282882075, -6518.877743618617, -5654.546848389314, -5198.651743783715, -3316.873784519847, -4687.764619495443, -2149.1522120766217, -5117.926369906286, -4865.004407317274, -6642.2336402639385, -3727.6412226852412, -4439.122859420628, -2733.109485171261, -4346.187741550604, -4008.589012753896, -4575.537648425247, -2672.9112969661496, -5038.816440742171, -3378.5440905478654, -4286.405360287329, -5613.714946473864, -3524.6018820414897, -7950.137679904529, -2897.418110778116, -4266.484164687798, -4543.481105344729, -6080.299826048195, -6066.457122934568, -4917.675594824381, -7172.334785619928, -6491.845916302056, -4006.8807824041187, -4804.203700356796, -6274.399407676451, -4248.410998779926, -4699.391527469759, -5075.678351148999, -6111.705171395252, -3130.9505393460995, -3634.341360640735, -2201.7204362153516, -3681.290385681799, -5560.204679599995, -4615.462129870623, -3890.344796261252, -5439.902381792003, -4611.5876483615675, -4339.70701642575, -5237.495032300993, -4762.434912619332, -6099.926511675155, -5508.9451693990895, -6443.116567478192, -5484.67465612109, -4085.3878885407753, -4857.997302514548, -5635.16354461918, -2877.194607876874, -5377.229021116209, -5023.038755192269, -4117.836047019007, -5240.7098799011355, -5405.192380070505, -5771.827716588524, -4846.280009746113, -5461.179044520947, -4792.820172444657, -1775.6050399833507, -4805.682520520931, -4122.472097486007, -7198.063753004426, -5910.595724540096, -4507.818852759066, -4139.053044046935, -4210.491742797319, -4030.4860762357466, -6415.6995362262405, -3922.329207394538, -5079.540930731737, -4807.665202226769, -5658.52914733539, -5737.014216399165, -3401.0815217687737, -3156.1748677381474, -5918.69639359337, -6195.256515402717, -4720.248925408382, -4541.161711915861, -4683.4402818597455, -5806.36236665889, -4647.515091833694, -6304.286871577937, -5970.659605817774, -4164.858385743967, -6422.0650063113435, -8209.639308093861, -5234.914435436241, -3948.4131537015032, -3266.65010027991, -4416.577273256112, -4837.589604607748, -6711.005814772019, -3288.4642893518303, -5195.92540918855, -5227.972306159944, -4354.88067353697, -5108.281670571708], \"yaxis\": \"y\"}, {\"customdata\": [[91], [94], [87], [88], [85], [89], [86], [87], [87], [84], [92], [91], [85], [89], [88], [86], [89], [87], [88], [89], [83], [87], [87], [88], [85], [86], [91], [84], [89], [95], [83], [91], [82], [91], [94], [93], [89], [87], [89], [88], [88], [91], [84], [89], [88], [90], [88], [87], [86], [90], [92], [90], [83], [86], [86], [86], [85], [91], [94], [79], [82], [81], [85], [91], [92], [90], [91], [82], [84], [79], [89], [84], [83], [83], [83], [84], [86], [91], [83], [91], [90], [87], [88], [90], [94], [88], [89], [92], [90], [86], [84], [88], [84], [88], [91], [94], [87], [88], [87], [91], [90], [93], [87], [87], [83], [84], [91], [87], [82], [91], [90], [83], [87], [88], [84], [84], [97], [92], [87], [91], [90], [84], [91], [84], [92], [85], [93], [83], [87], [85], [85], [88], [85], [94], [89], [92], [92], [85], [85], [94], [88], [91], [87], [88], [90], [89], [82]], \"hovertemplate\": \"Cluster=Cluster 1<br>PCA1=%{x}<br>PCA2=%{y}<br>Feature=%{customdata[0]}<extra></extra>\", \"legendgroup\": \"Cluster 1\", \"marker\": {\"color\": \"#EF553B\", \"opacity\": 0.5, \"symbol\": \"circle\"}, \"mode\": \"markers\", \"name\": \"Cluster 1\", \"orientation\": \"v\", \"showlegend\": true, \"textposition\": \"top center\", \"type\": \"scatter\", \"x\": [-47000.17170879293, -36822.88272990109, -45592.66271459647, -56178.67327005179, -46522.9194197512, -50446.687258505604, -46897.28720484185, -28723.99191956602, -59885.1834508009, -37730.769340608196, -39882.02333138303, -46108.56441807313, -46206.76070917288, -42432.64509966229, -49206.07297923622, -60035.35573518632, -56491.726161601466, -44821.271955370954, -42594.24300193299, -53680.72058527789, -45148.06214608792, -49952.56386424757, -50055.787564293576, -53103.84791289733, -47927.75615335327, -28705.212826769824, -48496.84792497305, -48329.37521986344, -49610.67501015971, -48754.55322293146, -57495.82751822281, -63634.72200273957, -51335.696362198054, -39063.286676190924, -48448.18982139342, -58127.50387027004, -48762.364668271206, -63656.347589980156, -41047.37636685032, -57750.75774612391, -43012.769783491414, -49274.44239615931, -53484.990447976204, -47490.053373637085, -40724.15688509664, -50029.04867348444, -48459.57885316468, -45504.928216643864, -39916.59061152691, -42253.87287795824, -53329.08890863795, -45508.35388587767, -48890.16204283165, -43811.4726203939, -39708.64698966349, -56854.244914684125, -54413.15855352475, -50504.82314273773, -56820.08755360426, -37510.58801132118, -42172.09142372815, -41272.89533986181, -47211.30921897942, -55116.83601816839, -42194.798734952434, -53514.36608306826, -58771.33010043619, -51459.51350546343, -48254.006229924904, -43219.57063079798, -45316.58140609557, -48469.758225555786, -42546.30928703385, -52508.30353343574, -45053.50115134018, -51590.97205811303, -52219.788910263254, -49855.360239061185, -41183.65207165712, -38870.67264138035, -46621.67518992088, -49618.564251583906, -42334.04767150635, -42485.19893050839, -47366.64939309714, -46888.40589877377, -51006.62596717181, -53120.540708745815, -42382.698832036214, -48031.60033869834, -46294.6965258151, -49640.51633393592, -33685.82303783501, -41654.285370916725, -46752.171891149104, -51858.95285225976, -51191.183110267964, -47339.94733410827, -52350.13688160769, -48867.33422412477, -40392.52353813577, -55837.8962125591, -57945.294009393816, -33223.78792758691, -41229.0853264679, -48086.47161506783, -44891.72694017817, -44207.369196690066, -42152.50281937876, -52957.61629178098, -38257.012522678706, -47072.83270827881, -45889.16124528395, -57888.98693798617, -39255.47386551347, -55003.11473536296, -48338.70466261933, -56895.336026094665, -52745.27199507385, -47591.22511122002, -52877.381646033384, -57516.273183636426, -51304.420791210214, -45243.33599570982, -39730.75492373198, -41090.43271162367, -55300.43835611649, -47148.04950665262, -49083.98904448348, -44945.69901444301, -53905.33080870668, -58306.89374121135, -40907.2514779881, -54957.49098917235, -44680.893509319256, -42805.1746936623, -40276.448131089564, -47271.41327624213, -49427.524137026136, -47975.62989430371, -44316.39097613652, -45489.120024218646, -57176.86780610605, -47129.844163420625, -51240.794674902114, -55368.98427568012, -43231.4779087988], \"xaxis\": \"x\", \"y\": [-3258.5927312494246, -3004.135925035727, -1858.7415428672723, -1450.73186888666, -2395.1506203279073, -1789.8310613735025, -1500.5997535503443, -1283.2493416842171, 968.1821841701748, -3447.522865699348, -3145.838811669626, -4704.900718140072, -3972.437291114193, -2804.3175987818126, 646.5438723752045, -2067.785202202856, -1529.9495201383804, -809.2478504066119, -4573.135949676125, -1523.1531827794745, -918.443541374456, -1016.3628176053345, -458.73293797346776, -1838.6646455566574, 1139.0677249894081, -2125.5165732968285, -1255.0231217175176, -2106.9565485318544, -2494.346015854766, -3476.757532941402, -874.593832039623, -958.5365645110751, -2253.324954790311, -2178.9512608782634, -424.49445160246864, -3329.424155750385, -1902.3037525718094, -672.130364587098, 163.00860194240764, -1546.786022798463, -2388.3975155671833, -1819.1411133435645, -2964.871161538941, -1025.655637713156, -3403.354998094874, -2907.798180135488, -623.0248233972331, -1656.4250558163026, -5860.406970913423, -2813.4088657560983, -3704.115203066879, -1716.0957515179923, -3117.0435724351205, -3844.0506429942784, -2812.6408322745224, -1039.886967020448, -1055.9968931753674, -2541.104074402417, -2626.494760123038, -2385.9306735999685, -3482.95092442031, -2039.051945091475, -497.02873214681364, -3386.6313874278326, -2831.244972649773, -3511.650542757555, -1946.4256348815309, -1443.6312210611654, -3586.3929123393573, -982.6374045457418, 72.34189620852595, -975.0110199269352, -2323.955025066739, -2003.3795586148917, -3267.853088065963, -1709.6809922654006, -361.82287722905903, -2551.6409458672965, -2299.177576458249, -4966.632983631624, -1061.3928297006255, -1200.4987085746989, -946.4427010468254, -1573.1293339464662, -2226.5238835946802, -1747.2845158743728, 1229.6342021037997, -2373.906852113612, -1026.21782812194, -2520.879670925896, -3445.1407626668724, -2403.452656500524, -2359.981060852434, -1284.2763352325994, -4260.667936777419, -1998.3145148841234, -2999.048136853003, -2756.210456765212, -1271.8366968001806, -3330.0950893142576, -1918.070653976533, -2913.151326193388, -1690.2235244245383, -4327.599800404021, -559.8887343311553, -3267.664533478741, -1059.5099705589143, -1788.5950192551359, -3595.4264994551504, -512.1681616652348, -3209.7056998551166, -3652.143022077501, -3656.8600405231173, -2297.410428456013, -2456.062469507202, -1806.371634963474, -296.94791022013453, -219.83567344031934, -3270.2500120301224, -2876.0168218541585, -1034.0462861180667, -2662.2379174130556, -1341.6421504993352, -2386.7446703879664, -3215.3117531036146, -2507.4680378488542, -2379.4453929525316, -948.1700320034125, -2706.9542458595383, -2663.4363034143557, 776.7213551828801, -1498.3070625903988, -2247.723098069756, -1273.0340909671515, -3320.238109106737, -2383.9235864924303, -3159.403065288734, -1422.2632521531439, -3282.4967836895144, -2697.4806496368674, -1681.1078093986137, -857.2365574199096, -500.38222602903517, -2166.945526513022, -337.58311029945685, -990.6075970316521, -2464.366506729344], \"yaxis\": \"y\"}, {\"customdata\": [[28], [25], [17], [27], [29], [23], [24], [92], [24], [28], [25], [29], [17], [87], [83], [18], [88], [84], [21], [31], [77], [34], [30], [91], [27], [89], [23], [22], [20], [86], [20], [20], [26], [24], [17], [17], [28], [26], [26], [24], [23], [90], [23], [90], [88], [22], [24], [25], [29], [18], [28], [82], [26], [26], [28], [28], [24], [93], [83], [21], [82], [86], [83], [22], [32], [27], [25], [24], [25], [85], [25], [29]], \"hovertemplate\": \"Cluster=Cluster 2<br>PCA1=%{x}<br>PCA2=%{y}<br>Feature=%{customdata[0]}<extra></extra>\", \"legendgroup\": \"Cluster 2\", \"marker\": {\"color\": \"#00cc96\", \"opacity\": 0.5, \"symbol\": \"circle\"}, \"mode\": \"markers\", \"name\": \"Cluster 2\", \"orientation\": \"v\", \"showlegend\": true, \"textposition\": \"top center\", \"type\": \"scatter\", \"x\": [41933.87634909213, 62912.457097805716, 61085.161815426945, 46271.74999066813, 43600.21618030978, 63317.06653244295, 59239.85352839816, 47182.0685815558, 45280.29645748765, 48281.96476402193, 53422.552485701264, 56449.67813828144, 48697.32854440998, 41859.15436997559, 43629.01273923755, 55587.35173073361, 44952.90203538894, 46993.641087908385, 48602.57111184023, 47836.44839182687, 52844.214540832145, 44074.74432267949, 47549.7625462271, 43084.431301068376, 49923.23240258633, 43861.74709102551, 54778.91990969147, 57857.28905692231, 54230.31142047663, 48577.245944563685, 47415.38916240535, 53899.234059979615, 47842.88367906653, 53976.79000263133, 59803.04557919303, 59798.17482849976, 48029.235982960934, 51532.47005840452, 50397.08389773138, 55795.99791496397, 45049.7130377485, 48410.0092904723, 51395.224355999526, 42045.795702571384, 47964.552261386925, 45302.570904167456, 59196.59308633913, 45728.40114434413, 66750.62108457655, 48551.89779119266, 53924.59703955879, 45920.30384600759, 52086.38065892725, 56651.45548374749, 46000.802484699576, 52465.033586659934, 52263.49410874449, 50874.59373315185, 42157.80542870098, 54542.56026091131, 50433.851384533344, 52679.13742245061, 41580.27174463822, 58984.55027496729, 41328.25266331, 47518.88131856794, 55783.428858014944, 61617.25602185725, 55809.60825993983, 42414.139844093945, 55168.45154506192, 47210.61128412963], \"xaxis\": \"x\", \"y\": [4717.997205237606, 5261.355213266387, 4243.721728508764, 4207.414796612181, -5657.478831520002, 4946.177510120507, 4745.144589124804, -4557.716601791867, 4437.356566167738, 8499.9669445998, 3894.2354791277476, 5101.39869736752, 5282.4978097543035, -4543.326267067188, -6254.840941209115, 3427.1351952588093, -4985.514801220389, -4647.129088588644, 6249.537360930079, 6059.983323374545, -5677.6674755519025, -6307.669140625969, 3437.896482394778, -4660.855622444501, 6048.724079227704, -6877.035883382055, 4629.791365281094, 5717.501137167639, 3238.4287703236837, -6305.307759672719, 4709.388807631824, 3176.746885409089, 4758.188729714912, 5488.389984582103, 8450.307562492606, 4315.751792559064, 5422.3237576825595, 6006.733833662529, 2890.550968564703, 4252.897540706994, 4590.872583456103, -5693.665441157438, 5657.241494980814, -3106.1034758683513, -4397.18611491967, 3778.1814213096054, 3903.9749268153687, 3658.3065012522197, 2693.0081866217524, 4668.214697412169, 5765.842845736463, -4953.921129423352, 3388.4270346813732, 4271.292185091134, 3884.452851319082, 3371.5330650130963, 5916.358054129827, -5178.052813440062, -5954.454601851135, 4193.882999372305, -6854.2061340779455, -4749.057025715356, -5615.56077240863, 3350.7116179336444, -4823.645899335591, 4941.999362973268, 4732.087714707705, 6726.313750520609, 3879.1497332626554, -5432.281819509636, 4016.9816222016125, 6674.2346774959115], \"yaxis\": \"y\"}, {\"customdata\": [[61], [68], [62], [59], [65], [59], [57], [58], [55], [60], [65], [64], [51], [65], [60], [61], [56], [58], [63], [58], [67], [61], [63], [58], [59], [67], [60], [62], [60], [56], [66], [61], [58], [57], [58], [55], [63], [58], [60], [58], [62], [66], [57], [66], [63], [64], [62], [62], [56], [60], [60], [63], [56], [58], [62], [56], [59], [65], [62], [59], [66], [64], [65], [58], [64], [59], [59], [62], [59], [54], [61], [55], [53], [55], [61], [59], [59], [56], [61], [61], [60], [57], [61], [55], [53], [61], [64], [62], [55], [58], [57], [59], [58], [62], [59], [61], [62], [55], [57], [57], [61], [59], [59], [59], [58], [56], [61], [56], [61], [63], [59], [59], [59], [59], [57], [59], [61], [67], [63], [56], [59], [58], [61], [62], [64], [61], [68], [60], [62], [64], [63], [58], [62], [59], [61], [53], [58], [55], [60], [56], [60], [58], [56], [64], [63], [62], [59], [67], [58], [58], [57], [66], [64], [59], [56], [57]], \"hovertemplate\": \"Cluster=Cluster 3<br>PCA1=%{x}<br>PCA2=%{y}<br>Feature=%{customdata[0]}<extra></extra>\", \"legendgroup\": \"Cluster 3\", \"marker\": {\"color\": \"#ab63fa\", \"opacity\": 0.5, \"symbol\": \"circle\"}, \"mode\": \"markers\", \"name\": \"Cluster 3\", \"orientation\": \"v\", \"showlegend\": true, \"textposition\": \"top center\", \"type\": \"scatter\", \"x\": [-3197.7706749317094, -6270.13005770464, -7431.169946592949, -7981.7468106834385, -4794.730185972461, -5787.584457334289, -3147.9716901024003, 3333.0370081988917, -10419.650727093273, -805.5182840466957, -4114.665812502665, -12402.614006035737, -3127.746475407185, -811.2733012583052, -5149.414552966313, 3607.621847535446, -9823.292971418658, -6075.723945911874, 7034.566991846875, -4883.720561797811, 3574.86762828513, -967.1345292294836, -4661.643199436446, -4588.845682887329, -7225.656651496554, 5679.935032255555, -9176.93991716045, -1424.2968527852527, -11770.096221904689, -1755.3663563989905, 1855.0479869186809, -7827.50439260575, 2868.6753358918095, 4615.604589783894, 2555.7842351602176, 1547.9124395594247, 10499.407295945577, -4972.922141129968, 4848.442764387977, -5327.512619806884, -1710.0091006297773, -2630.794135208183, 1381.2925438038938, -10238.837928743036, -2329.6167597527688, -3536.6248996188656, -11570.013629472292, -12594.175242128533, 11129.42414922961, -3881.279223544831, -4595.725467462926, 5567.478117111802, 9121.208329826177, 499.4966180961346, -4176.722631704311, -6529.597912750257, -7423.928769536233, -9153.992100917842, 4864.683651412994, -7249.02812979693, 7325.25618949269, 1198.2155272857208, -9447.56695701966, -4333.353171495318, 13091.37415351668, -860.435447795379, 6644.597612798229, -611.8920766835457, -879.6961231840196, 1270.592618636511, -3354.40939549205, -3652.051627219519, 1535.3200349238623, 3442.0678654010467, 1691.1469990055011, -9514.742122293766, -5495.930030665686, -11393.26428138904, -1006.7942808926979, -11385.807297750882, -5228.773548143097, 106.44730782999663, -2009.7086141751718, -847.3002227743398, -13124.391604038405, -6112.701966838938, -14757.626854505615, -5414.4517238230965, -4197.995995572505, -907.6690876091187, 4241.775895153046, -2601.8696283459462, 1797.8692846207534, -6945.490220855903, -1709.0067116984367, -5628.983771409209, 3175.7301008876793, -1254.7961050822796, 1380.9095854822585, -5506.5047752773025, -1867.5011952055133, 277.31945471803544, -18832.323089995094, -7793.454352086529, 834.6063416853518, 375.6120252474134, -3222.0284971176457, 3735.2223001205434, -9600.009525716892, -18377.080919160893, 2663.8141427242585, -6051.798027149638, 5619.125538763624, -2220.635450610065, -10371.487057071716, -1864.5940590614457, -9270.983246113974, -6586.3750155963435, -7793.211508914161, 5122.2825622989185, 7017.407229806948, 4968.76464587457, -6214.354917756376, -5898.74447968115, 1223.3332842063535, -4025.5345868614972, 2456.114942910881, -10072.875118803537, -5806.077052611821, 11039.026942031705, -5414.849621380295, 3385.8220491313186, -8175.944783841653, -3902.6507601274084, -4335.121223668245, -284.93461613174986, 8122.080380415542, 871.0561448640436, -7740.9048790897195, -15159.901916245673, -9955.599000501968, 5073.487356522342, -7927.27939399956, -10817.514881421737, -182.87509706289916, -12401.01261442263, 384.48865377878303, -15876.014194933872, 2392.9514000132285, -4856.160277619083, -9604.976101231396, -3578.641166763734, 3594.042421690829, -5713.304475031718, -6874.447300583781, -1148.5927138363165], \"xaxis\": \"x\", \"y\": [5127.949261280452, 5401.821696967166, 6342.036901878023, 3467.565974911418, 5174.470545977291, 5711.628393266965, 5506.996622913858, 4012.2154933423135, 5982.858221439128, 4348.0956797841345, 3078.8964384945916, 4277.420432790428, 5318.281993622221, 4771.5151531806905, 5556.666139133817, 4852.444518767336, 6862.247572080603, 3500.5964543132523, 3374.2871342934263, 4688.370746949256, 6638.189488143042, 4638.72424067415, 4875.4120343920395, 4468.26810256384, 4564.617621855315, 4711.285967238691, 7146.662858252776, 7267.328542397, 5001.420783196847, 4273.205301847633, 5468.743274286694, 5701.697575023509, 5223.642330390355, 5713.4420419095, 5164.69038739356, 3973.9069974865106, 4092.5868105824948, 5053.974394482304, 6716.3892700823235, 5507.674538617929, 5692.091704359396, 5512.809888472098, 5207.2210975090065, 7423.315368546432, 6502.207882775588, 5070.413098436322, 6393.5849274602315, 5058.5935076658625, 2451.3956456354917, 3532.7508016456345, 4575.315245883311, 6399.679457928574, 4076.1888638584965, 4450.572465085798, 5121.9481779910175, 5174.060016070747, 5595.4252080784245, 6237.455006749795, 4834.953991865885, 5030.101509904843, 5245.750156657961, 6031.597780098115, 6026.370137728767, 6791.121727987125, 3878.0740056043533, 1366.21750619139, 6074.108821940023, 2642.8564628733093, 4574.02985248023, 4918.861099714733, 4039.0497082186066, 4298.147934215795, 6617.143404468851, 3293.925709825783, 4305.6055133701375, 5484.062210130746, 5033.927181148621, 4760.7266838361165, 6827.7367522808645, 5239.834486252127, 4906.821369117007, 5019.545071865858, 4571.311601888512, 5435.293808150462, 5122.298575466129, 7150.265686204204, 5008.012103778605, 6401.496850378553, 4646.423038232091, 4662.571801362159, 4854.373611538004, 5720.063910631844, 3616.9066222648607, 5240.283697626603, 3684.695295940357, 3413.460990034032, 4727.079813055347, 6380.915494292787, 5567.112673818729, 6298.43017886773, 2685.662685436794, 5152.077722121312, 6823.253328040561, 5788.853893383744, 5141.101367432589, 5049.6062969477725, 4129.181189416355, 4370.467828822715, 4923.281603355219, 5086.374324713101, 3399.1203547303217, 6221.683453940015, 4314.803908984967, 4177.140129281847, 6211.274488459196, 5267.352553209774, 5996.549152653391, 4795.659622307596, 6334.243251982043, 3424.073603905287, 5588.800602998202, 3943.1170736339104, 8154.200533863802, 5205.840154213875, 5666.367954752698, 5644.552199614266, 5539.978254276124, 7033.832306225468, 5686.132349951805, 4384.68728953157, 4509.378948047728, 4513.159427781255, 5599.274828311291, 5499.339332721763, 2658.297518890412, 4064.008336080807, 4731.012058760928, 5689.000453091907, 5133.639471687385, 5573.243592768724, 4085.3122504461185, 5244.436809348915, 5673.527728610799, 6677.482101590934, 4411.324353776283, 6731.622371228138, 6845.141814371274, 7337.462584330764, 5992.684094109704, 6861.841710581503, 5517.4569987997875, 4687.331305792244, 5244.223767536202, 6098.407171499205, 3266.4701832643764, 6154.518606181512], \"yaxis\": \"y\"}],\n",
       "                        {\"height\": 600, \"legend\": {\"title\": {\"text\": \"Cluster\"}, \"tracegroupgap\": 0}, \"margin\": {\"t\": 60}, \"plot_bgcolor\": \"rgb(240,240,240)\", \"template\": {\"data\": {\"bar\": [{\"error_x\": {\"color\": \"#2a3f5f\"}, \"error_y\": {\"color\": \"#2a3f5f\"}, \"marker\": {\"line\": {\"color\": \"#E5ECF6\", \"width\": 0.5}}, \"type\": \"bar\"}], \"barpolar\": [{\"marker\": {\"line\": {\"color\": \"#E5ECF6\", \"width\": 0.5}}, \"type\": \"barpolar\"}], \"carpet\": [{\"aaxis\": {\"endlinecolor\": \"#2a3f5f\", \"gridcolor\": \"white\", \"linecolor\": \"white\", \"minorgridcolor\": \"white\", \"startlinecolor\": \"#2a3f5f\"}, \"baxis\": {\"endlinecolor\": \"#2a3f5f\", \"gridcolor\": \"white\", \"linecolor\": \"white\", \"minorgridcolor\": \"white\", \"startlinecolor\": \"#2a3f5f\"}, \"type\": \"carpet\"}], \"choropleth\": [{\"colorbar\": {\"outlinewidth\": 0, \"ticks\": \"\"}, \"type\": \"choropleth\"}], \"contour\": [{\"colorbar\": {\"outlinewidth\": 0, \"ticks\": \"\"}, \"colorscale\": [[0.0, \"#0d0887\"], [0.1111111111111111, \"#46039f\"], [0.2222222222222222, \"#7201a8\"], [0.3333333333333333, \"#9c179e\"], [0.4444444444444444, \"#bd3786\"], [0.5555555555555556, \"#d8576b\"], [0.6666666666666666, \"#ed7953\"], [0.7777777777777778, \"#fb9f3a\"], [0.8888888888888888, \"#fdca26\"], [1.0, \"#f0f921\"]], \"type\": \"contour\"}], \"contourcarpet\": [{\"colorbar\": {\"outlinewidth\": 0, \"ticks\": \"\"}, \"type\": \"contourcarpet\"}], \"heatmap\": [{\"colorbar\": {\"outlinewidth\": 0, \"ticks\": \"\"}, \"colorscale\": [[0.0, \"#0d0887\"], [0.1111111111111111, \"#46039f\"], [0.2222222222222222, \"#7201a8\"], [0.3333333333333333, \"#9c179e\"], [0.4444444444444444, \"#bd3786\"], [0.5555555555555556, \"#d8576b\"], [0.6666666666666666, \"#ed7953\"], [0.7777777777777778, \"#fb9f3a\"], [0.8888888888888888, \"#fdca26\"], [1.0, \"#f0f921\"]], \"type\": \"heatmap\"}], \"heatmapgl\": [{\"colorbar\": {\"outlinewidth\": 0, \"ticks\": \"\"}, \"colorscale\": [[0.0, \"#0d0887\"], [0.1111111111111111, \"#46039f\"], [0.2222222222222222, \"#7201a8\"], [0.3333333333333333, \"#9c179e\"], [0.4444444444444444, \"#bd3786\"], [0.5555555555555556, \"#d8576b\"], [0.6666666666666666, \"#ed7953\"], [0.7777777777777778, \"#fb9f3a\"], [0.8888888888888888, \"#fdca26\"], [1.0, \"#f0f921\"]], \"type\": \"heatmapgl\"}], \"histogram\": [{\"marker\": {\"colorbar\": {\"outlinewidth\": 0, \"ticks\": \"\"}}, \"type\": \"histogram\"}], \"histogram2d\": [{\"colorbar\": {\"outlinewidth\": 0, \"ticks\": \"\"}, \"colorscale\": [[0.0, \"#0d0887\"], [0.1111111111111111, \"#46039f\"], [0.2222222222222222, \"#7201a8\"], [0.3333333333333333, \"#9c179e\"], [0.4444444444444444, \"#bd3786\"], [0.5555555555555556, \"#d8576b\"], [0.6666666666666666, \"#ed7953\"], [0.7777777777777778, \"#fb9f3a\"], [0.8888888888888888, \"#fdca26\"], [1.0, \"#f0f921\"]], \"type\": \"histogram2d\"}], \"histogram2dcontour\": [{\"colorbar\": {\"outlinewidth\": 0, \"ticks\": \"\"}, \"colorscale\": [[0.0, \"#0d0887\"], [0.1111111111111111, \"#46039f\"], [0.2222222222222222, \"#7201a8\"], [0.3333333333333333, \"#9c179e\"], [0.4444444444444444, \"#bd3786\"], [0.5555555555555556, \"#d8576b\"], [0.6666666666666666, \"#ed7953\"], [0.7777777777777778, \"#fb9f3a\"], [0.8888888888888888, \"#fdca26\"], [1.0, \"#f0f921\"]], \"type\": \"histogram2dcontour\"}], \"mesh3d\": [{\"colorbar\": {\"outlinewidth\": 0, \"ticks\": \"\"}, \"type\": \"mesh3d\"}], \"parcoords\": [{\"line\": {\"colorbar\": {\"outlinewidth\": 0, \"ticks\": \"\"}}, \"type\": \"parcoords\"}], \"pie\": [{\"automargin\": true, \"type\": \"pie\"}], \"scatter\": [{\"marker\": {\"colorbar\": {\"outlinewidth\": 0, \"ticks\": \"\"}}, \"type\": \"scatter\"}], \"scatter3d\": [{\"line\": {\"colorbar\": {\"outlinewidth\": 0, \"ticks\": \"\"}}, \"marker\": {\"colorbar\": {\"outlinewidth\": 0, \"ticks\": \"\"}}, \"type\": \"scatter3d\"}], \"scattercarpet\": [{\"marker\": {\"colorbar\": {\"outlinewidth\": 0, \"ticks\": \"\"}}, \"type\": \"scattercarpet\"}], \"scattergeo\": [{\"marker\": {\"colorbar\": {\"outlinewidth\": 0, \"ticks\": \"\"}}, \"type\": \"scattergeo\"}], \"scattergl\": [{\"marker\": {\"colorbar\": {\"outlinewidth\": 0, \"ticks\": \"\"}}, \"type\": \"scattergl\"}], \"scattermapbox\": [{\"marker\": {\"colorbar\": {\"outlinewidth\": 0, \"ticks\": \"\"}}, \"type\": \"scattermapbox\"}], \"scatterpolar\": [{\"marker\": {\"colorbar\": {\"outlinewidth\": 0, \"ticks\": \"\"}}, \"type\": \"scatterpolar\"}], \"scatterpolargl\": [{\"marker\": {\"colorbar\": {\"outlinewidth\": 0, \"ticks\": \"\"}}, \"type\": \"scatterpolargl\"}], \"scatterternary\": [{\"marker\": {\"colorbar\": {\"outlinewidth\": 0, \"ticks\": \"\"}}, \"type\": \"scatterternary\"}], \"surface\": [{\"colorbar\": {\"outlinewidth\": 0, \"ticks\": \"\"}, \"colorscale\": [[0.0, \"#0d0887\"], [0.1111111111111111, \"#46039f\"], [0.2222222222222222, \"#7201a8\"], [0.3333333333333333, \"#9c179e\"], [0.4444444444444444, \"#bd3786\"], [0.5555555555555556, \"#d8576b\"], [0.6666666666666666, \"#ed7953\"], [0.7777777777777778, \"#fb9f3a\"], [0.8888888888888888, \"#fdca26\"], [1.0, \"#f0f921\"]], \"type\": \"surface\"}], \"table\": [{\"cells\": {\"fill\": {\"color\": \"#EBF0F8\"}, \"line\": {\"color\": \"white\"}}, \"header\": {\"fill\": {\"color\": \"#C8D4E3\"}, \"line\": {\"color\": \"white\"}}, \"type\": \"table\"}]}, \"layout\": {\"annotationdefaults\": {\"arrowcolor\": \"#2a3f5f\", \"arrowhead\": 0, \"arrowwidth\": 1}, \"coloraxis\": {\"colorbar\": {\"outlinewidth\": 0, \"ticks\": \"\"}}, \"colorscale\": {\"diverging\": [[0, \"#8e0152\"], [0.1, \"#c51b7d\"], [0.2, \"#de77ae\"], [0.3, \"#f1b6da\"], [0.4, \"#fde0ef\"], [0.5, \"#f7f7f7\"], [0.6, \"#e6f5d0\"], [0.7, \"#b8e186\"], [0.8, \"#7fbc41\"], [0.9, \"#4d9221\"], [1, \"#276419\"]], \"sequential\": [[0.0, \"#0d0887\"], [0.1111111111111111, \"#46039f\"], [0.2222222222222222, \"#7201a8\"], [0.3333333333333333, \"#9c179e\"], [0.4444444444444444, \"#bd3786\"], [0.5555555555555556, \"#d8576b\"], [0.6666666666666666, \"#ed7953\"], [0.7777777777777778, \"#fb9f3a\"], [0.8888888888888888, \"#fdca26\"], [1.0, \"#f0f921\"]], \"sequentialminus\": [[0.0, \"#0d0887\"], [0.1111111111111111, \"#46039f\"], [0.2222222222222222, \"#7201a8\"], [0.3333333333333333, \"#9c179e\"], [0.4444444444444444, \"#bd3786\"], [0.5555555555555556, \"#d8576b\"], [0.6666666666666666, \"#ed7953\"], [0.7777777777777778, \"#fb9f3a\"], [0.8888888888888888, \"#fdca26\"], [1.0, \"#f0f921\"]]}, \"colorway\": [\"#636efa\", \"#EF553B\", \"#00cc96\", \"#ab63fa\", \"#FFA15A\", \"#19d3f3\", \"#FF6692\", \"#B6E880\", \"#FF97FF\", \"#FECB52\"], \"font\": {\"color\": \"#2a3f5f\"}, \"geo\": {\"bgcolor\": \"white\", \"lakecolor\": \"white\", \"landcolor\": \"#E5ECF6\", \"showlakes\": true, \"showland\": true, \"subunitcolor\": \"white\"}, \"hoverlabel\": {\"align\": \"left\"}, \"hovermode\": \"closest\", \"mapbox\": {\"style\": \"light\"}, \"paper_bgcolor\": \"white\", \"plot_bgcolor\": \"#E5ECF6\", \"polar\": {\"angularaxis\": {\"gridcolor\": \"white\", \"linecolor\": \"white\", \"ticks\": \"\"}, \"bgcolor\": \"#E5ECF6\", \"radialaxis\": {\"gridcolor\": \"white\", \"linecolor\": \"white\", \"ticks\": \"\"}}, \"scene\": {\"xaxis\": {\"backgroundcolor\": \"#E5ECF6\", \"gridcolor\": \"white\", \"gridwidth\": 2, \"linecolor\": \"white\", \"showbackground\": true, \"ticks\": \"\", \"zerolinecolor\": \"white\"}, \"yaxis\": {\"backgroundcolor\": \"#E5ECF6\", \"gridcolor\": \"white\", \"gridwidth\": 2, \"linecolor\": \"white\", \"showbackground\": true, \"ticks\": \"\", \"zerolinecolor\": \"white\"}, \"zaxis\": {\"backgroundcolor\": \"#E5ECF6\", \"gridcolor\": \"white\", \"gridwidth\": 2, \"linecolor\": \"white\", \"showbackground\": true, \"ticks\": \"\", \"zerolinecolor\": \"white\"}}, \"shapedefaults\": {\"line\": {\"color\": \"#2a3f5f\"}}, \"ternary\": {\"aaxis\": {\"gridcolor\": \"white\", \"linecolor\": \"white\", \"ticks\": \"\"}, \"baxis\": {\"gridcolor\": \"white\", \"linecolor\": \"white\", \"ticks\": \"\"}, \"bgcolor\": \"#E5ECF6\", \"caxis\": {\"gridcolor\": \"white\", \"linecolor\": \"white\", \"ticks\": \"\"}}, \"title\": {\"x\": 0.05}, \"xaxis\": {\"automargin\": true, \"gridcolor\": \"white\", \"linecolor\": \"white\", \"ticks\": \"\", \"title\": {\"standoff\": 15}, \"zerolinecolor\": \"white\", \"zerolinewidth\": 2}, \"yaxis\": {\"automargin\": true, \"gridcolor\": \"white\", \"linecolor\": \"white\", \"ticks\": \"\", \"title\": {\"standoff\": 15}, \"zerolinecolor\": \"white\", \"zerolinewidth\": 2}}}, \"title\": {\"text\": \"2D Cluster PCA Plot\"}, \"xaxis\": {\"anchor\": \"y\", \"domain\": [0.0, 1.0], \"title\": {\"text\": \"PCA1\"}}, \"yaxis\": {\"anchor\": \"x\", \"domain\": [0.0, 1.0], \"title\": {\"text\": \"PCA2\"}}},\n",
       "                        {\"responsive\": true}\n",
       "                    ).then(function(){\n",
       "                            \n",
       "var gd = document.getElementById('815460bd-590b-4b56-a284-23a9d60114fc');\n",
       "var x = new MutationObserver(function (mutations, observer) {{\n",
       "        var display = window.getComputedStyle(gd).display;\n",
       "        if (!display || display === 'none') {{\n",
       "            console.log([gd, 'removed!']);\n",
       "            Plotly.purge(gd);\n",
       "            observer.disconnect();\n",
       "        }}\n",
       "}});\n",
       "\n",
       "// Listen for the removal of the full notebook cells\n",
       "var notebookContainer = gd.closest('#notebook-container');\n",
       "if (notebookContainer) {{\n",
       "    x.observe(notebookContainer, {childList: true});\n",
       "}}\n",
       "\n",
       "// Listen for the clearing of the current output cell\n",
       "var outputEl = gd.closest('.output');\n",
       "if (outputEl) {{\n",
       "    x.observe(outputEl, {childList: true});\n",
       "}}\n",
       "\n",
       "                        })\n",
       "                };\n",
       "                });\n",
       "            </script>\n",
       "        </div>"
      ]
     },
     "metadata": {},
     "output_type": "display_data"
    }
   ],
   "source": [
    "plot_model(kmeans)\n",
    "#it has applied PCA also"
   ]
  },
  {
   "cell_type": "code",
   "execution_count": 41,
   "metadata": {},
   "outputs": [],
   "source": [
    "#this pycaret is good for business people\n"
   ]
  },
  {
   "cell_type": "code",
   "execution_count": 42,
   "metadata": {},
   "outputs": [
    {
     "data": {
      "text/html": [
       "<div>\n",
       "<style scoped>\n",
       "    .dataframe tbody tr th:only-of-type {\n",
       "        vertical-align: middle;\n",
       "    }\n",
       "\n",
       "    .dataframe tbody tr th {\n",
       "        vertical-align: top;\n",
       "    }\n",
       "\n",
       "    .dataframe thead th {\n",
       "        text-align: right;\n",
       "    }\n",
       "</style>\n",
       "<table border=\"1\" class=\"dataframe\">\n",
       "  <thead>\n",
       "    <tr style=\"text-align: right;\">\n",
       "      <th></th>\n",
       "      <th>age</th>\n",
       "      <th>sex</th>\n",
       "      <th>bmi</th>\n",
       "      <th>children</th>\n",
       "      <th>smoker</th>\n",
       "      <th>region</th>\n",
       "      <th>charges</th>\n",
       "    </tr>\n",
       "  </thead>\n",
       "  <tbody>\n",
       "    <tr>\n",
       "      <th>0</th>\n",
       "      <td>19</td>\n",
       "      <td>female</td>\n",
       "      <td>27.900</td>\n",
       "      <td>0</td>\n",
       "      <td>yes</td>\n",
       "      <td>southwest</td>\n",
       "      <td>16884.92400</td>\n",
       "    </tr>\n",
       "    <tr>\n",
       "      <th>1</th>\n",
       "      <td>18</td>\n",
       "      <td>male</td>\n",
       "      <td>33.770</td>\n",
       "      <td>1</td>\n",
       "      <td>no</td>\n",
       "      <td>southeast</td>\n",
       "      <td>1725.55230</td>\n",
       "    </tr>\n",
       "    <tr>\n",
       "      <th>2</th>\n",
       "      <td>28</td>\n",
       "      <td>male</td>\n",
       "      <td>33.000</td>\n",
       "      <td>3</td>\n",
       "      <td>no</td>\n",
       "      <td>southeast</td>\n",
       "      <td>4449.46200</td>\n",
       "    </tr>\n",
       "    <tr>\n",
       "      <th>3</th>\n",
       "      <td>33</td>\n",
       "      <td>male</td>\n",
       "      <td>22.705</td>\n",
       "      <td>0</td>\n",
       "      <td>no</td>\n",
       "      <td>northwest</td>\n",
       "      <td>21984.47061</td>\n",
       "    </tr>\n",
       "    <tr>\n",
       "      <th>4</th>\n",
       "      <td>32</td>\n",
       "      <td>male</td>\n",
       "      <td>28.880</td>\n",
       "      <td>0</td>\n",
       "      <td>no</td>\n",
       "      <td>northwest</td>\n",
       "      <td>3866.85520</td>\n",
       "    </tr>\n",
       "  </tbody>\n",
       "</table>\n",
       "</div>"
      ],
      "text/plain": [
       "   age     sex     bmi  children smoker     region      charges\n",
       "0   19  female  27.900         0    yes  southwest  16884.92400\n",
       "1   18    male  33.770         1     no  southeast   1725.55230\n",
       "2   28    male  33.000         3     no  southeast   4449.46200\n",
       "3   33    male  22.705         0     no  northwest  21984.47061\n",
       "4   32    male  28.880         0     no  northwest   3866.85520"
      ]
     },
     "metadata": {},
     "output_type": "display_data"
    }
   ],
   "source": [
    "### Data Preprocessing\n",
    "###Train Test\n",
    "insurance = get_data('insurance')"
   ]
  },
  {
   "cell_type": "code",
   "execution_count": 43,
   "metadata": {},
   "outputs": [
    {
     "name": "stdout",
     "output_type": "stream",
     "text": [
      " \n",
      "Setup Succesfully Completed.\n"
     ]
    },
    {
     "data": {
      "text/html": [
       "<style  type=\"text/css\" >\n",
       "</style><table id=\"T_dacca44a_d629_11ea_a424_8c8590257adb\" ><thead>    <tr>        <th class=\"blank level0\" ></th>        <th class=\"col_heading level0 col0\" >Description</th>        <th class=\"col_heading level0 col1\" >Value</th>    </tr></thead><tbody>\n",
       "                <tr>\n",
       "                        <th id=\"T_dacca44a_d629_11ea_a424_8c8590257adblevel0_row0\" class=\"row_heading level0 row0\" >0</th>\n",
       "                        <td id=\"T_dacca44a_d629_11ea_a424_8c8590257adbrow0_col0\" class=\"data row0 col0\" >session_id</td>\n",
       "                        <td id=\"T_dacca44a_d629_11ea_a424_8c8590257adbrow0_col1\" class=\"data row0 col1\" >3720</td>\n",
       "            </tr>\n",
       "            <tr>\n",
       "                        <th id=\"T_dacca44a_d629_11ea_a424_8c8590257adblevel0_row1\" class=\"row_heading level0 row1\" >1</th>\n",
       "                        <td id=\"T_dacca44a_d629_11ea_a424_8c8590257adbrow1_col0\" class=\"data row1 col0\" >Transform Target </td>\n",
       "                        <td id=\"T_dacca44a_d629_11ea_a424_8c8590257adbrow1_col1\" class=\"data row1 col1\" >False</td>\n",
       "            </tr>\n",
       "            <tr>\n",
       "                        <th id=\"T_dacca44a_d629_11ea_a424_8c8590257adblevel0_row2\" class=\"row_heading level0 row2\" >2</th>\n",
       "                        <td id=\"T_dacca44a_d629_11ea_a424_8c8590257adbrow2_col0\" class=\"data row2 col0\" >Transform Target Method</td>\n",
       "                        <td id=\"T_dacca44a_d629_11ea_a424_8c8590257adbrow2_col1\" class=\"data row2 col1\" >None</td>\n",
       "            </tr>\n",
       "            <tr>\n",
       "                        <th id=\"T_dacca44a_d629_11ea_a424_8c8590257adblevel0_row3\" class=\"row_heading level0 row3\" >3</th>\n",
       "                        <td id=\"T_dacca44a_d629_11ea_a424_8c8590257adbrow3_col0\" class=\"data row3 col0\" >Original Data</td>\n",
       "                        <td id=\"T_dacca44a_d629_11ea_a424_8c8590257adbrow3_col1\" class=\"data row3 col1\" >(1338, 7)</td>\n",
       "            </tr>\n",
       "            <tr>\n",
       "                        <th id=\"T_dacca44a_d629_11ea_a424_8c8590257adblevel0_row4\" class=\"row_heading level0 row4\" >4</th>\n",
       "                        <td id=\"T_dacca44a_d629_11ea_a424_8c8590257adbrow4_col0\" class=\"data row4 col0\" >Missing Values </td>\n",
       "                        <td id=\"T_dacca44a_d629_11ea_a424_8c8590257adbrow4_col1\" class=\"data row4 col1\" >False</td>\n",
       "            </tr>\n",
       "            <tr>\n",
       "                        <th id=\"T_dacca44a_d629_11ea_a424_8c8590257adblevel0_row5\" class=\"row_heading level0 row5\" >5</th>\n",
       "                        <td id=\"T_dacca44a_d629_11ea_a424_8c8590257adbrow5_col0\" class=\"data row5 col0\" >Numeric Features </td>\n",
       "                        <td id=\"T_dacca44a_d629_11ea_a424_8c8590257adbrow5_col1\" class=\"data row5 col1\" >2</td>\n",
       "            </tr>\n",
       "            <tr>\n",
       "                        <th id=\"T_dacca44a_d629_11ea_a424_8c8590257adblevel0_row6\" class=\"row_heading level0 row6\" >6</th>\n",
       "                        <td id=\"T_dacca44a_d629_11ea_a424_8c8590257adbrow6_col0\" class=\"data row6 col0\" >Categorical Features </td>\n",
       "                        <td id=\"T_dacca44a_d629_11ea_a424_8c8590257adbrow6_col1\" class=\"data row6 col1\" >4</td>\n",
       "            </tr>\n",
       "            <tr>\n",
       "                        <th id=\"T_dacca44a_d629_11ea_a424_8c8590257adblevel0_row7\" class=\"row_heading level0 row7\" >7</th>\n",
       "                        <td id=\"T_dacca44a_d629_11ea_a424_8c8590257adbrow7_col0\" class=\"data row7 col0\" >Ordinal Features </td>\n",
       "                        <td id=\"T_dacca44a_d629_11ea_a424_8c8590257adbrow7_col1\" class=\"data row7 col1\" >False</td>\n",
       "            </tr>\n",
       "            <tr>\n",
       "                        <th id=\"T_dacca44a_d629_11ea_a424_8c8590257adblevel0_row8\" class=\"row_heading level0 row8\" >8</th>\n",
       "                        <td id=\"T_dacca44a_d629_11ea_a424_8c8590257adbrow8_col0\" class=\"data row8 col0\" >High Cardinality Features </td>\n",
       "                        <td id=\"T_dacca44a_d629_11ea_a424_8c8590257adbrow8_col1\" class=\"data row8 col1\" >False</td>\n",
       "            </tr>\n",
       "            <tr>\n",
       "                        <th id=\"T_dacca44a_d629_11ea_a424_8c8590257adblevel0_row9\" class=\"row_heading level0 row9\" >9</th>\n",
       "                        <td id=\"T_dacca44a_d629_11ea_a424_8c8590257adbrow9_col0\" class=\"data row9 col0\" >High Cardinality Method </td>\n",
       "                        <td id=\"T_dacca44a_d629_11ea_a424_8c8590257adbrow9_col1\" class=\"data row9 col1\" >None</td>\n",
       "            </tr>\n",
       "            <tr>\n",
       "                        <th id=\"T_dacca44a_d629_11ea_a424_8c8590257adblevel0_row10\" class=\"row_heading level0 row10\" >10</th>\n",
       "                        <td id=\"T_dacca44a_d629_11ea_a424_8c8590257adbrow10_col0\" class=\"data row10 col0\" >Sampled Data</td>\n",
       "                        <td id=\"T_dacca44a_d629_11ea_a424_8c8590257adbrow10_col1\" class=\"data row10 col1\" >(1338, 7)</td>\n",
       "            </tr>\n",
       "            <tr>\n",
       "                        <th id=\"T_dacca44a_d629_11ea_a424_8c8590257adblevel0_row11\" class=\"row_heading level0 row11\" >11</th>\n",
       "                        <td id=\"T_dacca44a_d629_11ea_a424_8c8590257adbrow11_col0\" class=\"data row11 col0\" >Transformed Train Set</td>\n",
       "                        <td id=\"T_dacca44a_d629_11ea_a424_8c8590257adbrow11_col1\" class=\"data row11 col1\" >(936, 16)</td>\n",
       "            </tr>\n",
       "            <tr>\n",
       "                        <th id=\"T_dacca44a_d629_11ea_a424_8c8590257adblevel0_row12\" class=\"row_heading level0 row12\" >12</th>\n",
       "                        <td id=\"T_dacca44a_d629_11ea_a424_8c8590257adbrow12_col0\" class=\"data row12 col0\" >Transformed Test Set</td>\n",
       "                        <td id=\"T_dacca44a_d629_11ea_a424_8c8590257adbrow12_col1\" class=\"data row12 col1\" >(402, 16)</td>\n",
       "            </tr>\n",
       "            <tr>\n",
       "                        <th id=\"T_dacca44a_d629_11ea_a424_8c8590257adblevel0_row13\" class=\"row_heading level0 row13\" >13</th>\n",
       "                        <td id=\"T_dacca44a_d629_11ea_a424_8c8590257adbrow13_col0\" class=\"data row13 col0\" >Numeric Imputer </td>\n",
       "                        <td id=\"T_dacca44a_d629_11ea_a424_8c8590257adbrow13_col1\" class=\"data row13 col1\" >mean</td>\n",
       "            </tr>\n",
       "            <tr>\n",
       "                        <th id=\"T_dacca44a_d629_11ea_a424_8c8590257adblevel0_row14\" class=\"row_heading level0 row14\" >14</th>\n",
       "                        <td id=\"T_dacca44a_d629_11ea_a424_8c8590257adbrow14_col0\" class=\"data row14 col0\" >Categorical Imputer </td>\n",
       "                        <td id=\"T_dacca44a_d629_11ea_a424_8c8590257adbrow14_col1\" class=\"data row14 col1\" >constant</td>\n",
       "            </tr>\n",
       "            <tr>\n",
       "                        <th id=\"T_dacca44a_d629_11ea_a424_8c8590257adblevel0_row15\" class=\"row_heading level0 row15\" >15</th>\n",
       "                        <td id=\"T_dacca44a_d629_11ea_a424_8c8590257adbrow15_col0\" class=\"data row15 col0\" >Normalize </td>\n",
       "                        <td id=\"T_dacca44a_d629_11ea_a424_8c8590257adbrow15_col1\" class=\"data row15 col1\" >False</td>\n",
       "            </tr>\n",
       "            <tr>\n",
       "                        <th id=\"T_dacca44a_d629_11ea_a424_8c8590257adblevel0_row16\" class=\"row_heading level0 row16\" >16</th>\n",
       "                        <td id=\"T_dacca44a_d629_11ea_a424_8c8590257adbrow16_col0\" class=\"data row16 col0\" >Normalize Method </td>\n",
       "                        <td id=\"T_dacca44a_d629_11ea_a424_8c8590257adbrow16_col1\" class=\"data row16 col1\" >None</td>\n",
       "            </tr>\n",
       "            <tr>\n",
       "                        <th id=\"T_dacca44a_d629_11ea_a424_8c8590257adblevel0_row17\" class=\"row_heading level0 row17\" >17</th>\n",
       "                        <td id=\"T_dacca44a_d629_11ea_a424_8c8590257adbrow17_col0\" class=\"data row17 col0\" >Transformation </td>\n",
       "                        <td id=\"T_dacca44a_d629_11ea_a424_8c8590257adbrow17_col1\" class=\"data row17 col1\" >False</td>\n",
       "            </tr>\n",
       "            <tr>\n",
       "                        <th id=\"T_dacca44a_d629_11ea_a424_8c8590257adblevel0_row18\" class=\"row_heading level0 row18\" >18</th>\n",
       "                        <td id=\"T_dacca44a_d629_11ea_a424_8c8590257adbrow18_col0\" class=\"data row18 col0\" >Transformation Method </td>\n",
       "                        <td id=\"T_dacca44a_d629_11ea_a424_8c8590257adbrow18_col1\" class=\"data row18 col1\" >None</td>\n",
       "            </tr>\n",
       "            <tr>\n",
       "                        <th id=\"T_dacca44a_d629_11ea_a424_8c8590257adblevel0_row19\" class=\"row_heading level0 row19\" >19</th>\n",
       "                        <td id=\"T_dacca44a_d629_11ea_a424_8c8590257adbrow19_col0\" class=\"data row19 col0\" >PCA </td>\n",
       "                        <td id=\"T_dacca44a_d629_11ea_a424_8c8590257adbrow19_col1\" class=\"data row19 col1\" >False</td>\n",
       "            </tr>\n",
       "            <tr>\n",
       "                        <th id=\"T_dacca44a_d629_11ea_a424_8c8590257adblevel0_row20\" class=\"row_heading level0 row20\" >20</th>\n",
       "                        <td id=\"T_dacca44a_d629_11ea_a424_8c8590257adbrow20_col0\" class=\"data row20 col0\" >PCA Method </td>\n",
       "                        <td id=\"T_dacca44a_d629_11ea_a424_8c8590257adbrow20_col1\" class=\"data row20 col1\" >None</td>\n",
       "            </tr>\n",
       "            <tr>\n",
       "                        <th id=\"T_dacca44a_d629_11ea_a424_8c8590257adblevel0_row21\" class=\"row_heading level0 row21\" >21</th>\n",
       "                        <td id=\"T_dacca44a_d629_11ea_a424_8c8590257adbrow21_col0\" class=\"data row21 col0\" >PCA Components </td>\n",
       "                        <td id=\"T_dacca44a_d629_11ea_a424_8c8590257adbrow21_col1\" class=\"data row21 col1\" >None</td>\n",
       "            </tr>\n",
       "            <tr>\n",
       "                        <th id=\"T_dacca44a_d629_11ea_a424_8c8590257adblevel0_row22\" class=\"row_heading level0 row22\" >22</th>\n",
       "                        <td id=\"T_dacca44a_d629_11ea_a424_8c8590257adbrow22_col0\" class=\"data row22 col0\" >Ignore Low Variance </td>\n",
       "                        <td id=\"T_dacca44a_d629_11ea_a424_8c8590257adbrow22_col1\" class=\"data row22 col1\" >False</td>\n",
       "            </tr>\n",
       "            <tr>\n",
       "                        <th id=\"T_dacca44a_d629_11ea_a424_8c8590257adblevel0_row23\" class=\"row_heading level0 row23\" >23</th>\n",
       "                        <td id=\"T_dacca44a_d629_11ea_a424_8c8590257adbrow23_col0\" class=\"data row23 col0\" >Combine Rare Levels </td>\n",
       "                        <td id=\"T_dacca44a_d629_11ea_a424_8c8590257adbrow23_col1\" class=\"data row23 col1\" >False</td>\n",
       "            </tr>\n",
       "            <tr>\n",
       "                        <th id=\"T_dacca44a_d629_11ea_a424_8c8590257adblevel0_row24\" class=\"row_heading level0 row24\" >24</th>\n",
       "                        <td id=\"T_dacca44a_d629_11ea_a424_8c8590257adbrow24_col0\" class=\"data row24 col0\" >Rare Level Threshold </td>\n",
       "                        <td id=\"T_dacca44a_d629_11ea_a424_8c8590257adbrow24_col1\" class=\"data row24 col1\" >None</td>\n",
       "            </tr>\n",
       "            <tr>\n",
       "                        <th id=\"T_dacca44a_d629_11ea_a424_8c8590257adblevel0_row25\" class=\"row_heading level0 row25\" >25</th>\n",
       "                        <td id=\"T_dacca44a_d629_11ea_a424_8c8590257adbrow25_col0\" class=\"data row25 col0\" >Numeric Binning </td>\n",
       "                        <td id=\"T_dacca44a_d629_11ea_a424_8c8590257adbrow25_col1\" class=\"data row25 col1\" >False</td>\n",
       "            </tr>\n",
       "            <tr>\n",
       "                        <th id=\"T_dacca44a_d629_11ea_a424_8c8590257adblevel0_row26\" class=\"row_heading level0 row26\" >26</th>\n",
       "                        <td id=\"T_dacca44a_d629_11ea_a424_8c8590257adbrow26_col0\" class=\"data row26 col0\" >Remove Outliers </td>\n",
       "                        <td id=\"T_dacca44a_d629_11ea_a424_8c8590257adbrow26_col1\" class=\"data row26 col1\" >False</td>\n",
       "            </tr>\n",
       "            <tr>\n",
       "                        <th id=\"T_dacca44a_d629_11ea_a424_8c8590257adblevel0_row27\" class=\"row_heading level0 row27\" >27</th>\n",
       "                        <td id=\"T_dacca44a_d629_11ea_a424_8c8590257adbrow27_col0\" class=\"data row27 col0\" >Outliers Threshold </td>\n",
       "                        <td id=\"T_dacca44a_d629_11ea_a424_8c8590257adbrow27_col1\" class=\"data row27 col1\" >None</td>\n",
       "            </tr>\n",
       "            <tr>\n",
       "                        <th id=\"T_dacca44a_d629_11ea_a424_8c8590257adblevel0_row28\" class=\"row_heading level0 row28\" >28</th>\n",
       "                        <td id=\"T_dacca44a_d629_11ea_a424_8c8590257adbrow28_col0\" class=\"data row28 col0\" >Remove Multicollinearity </td>\n",
       "                        <td id=\"T_dacca44a_d629_11ea_a424_8c8590257adbrow28_col1\" class=\"data row28 col1\" >False</td>\n",
       "            </tr>\n",
       "            <tr>\n",
       "                        <th id=\"T_dacca44a_d629_11ea_a424_8c8590257adblevel0_row29\" class=\"row_heading level0 row29\" >29</th>\n",
       "                        <td id=\"T_dacca44a_d629_11ea_a424_8c8590257adbrow29_col0\" class=\"data row29 col0\" >Multicollinearity Threshold </td>\n",
       "                        <td id=\"T_dacca44a_d629_11ea_a424_8c8590257adbrow29_col1\" class=\"data row29 col1\" >None</td>\n",
       "            </tr>\n",
       "            <tr>\n",
       "                        <th id=\"T_dacca44a_d629_11ea_a424_8c8590257adblevel0_row30\" class=\"row_heading level0 row30\" >30</th>\n",
       "                        <td id=\"T_dacca44a_d629_11ea_a424_8c8590257adbrow30_col0\" class=\"data row30 col0\" >Clustering </td>\n",
       "                        <td id=\"T_dacca44a_d629_11ea_a424_8c8590257adbrow30_col1\" class=\"data row30 col1\" >False</td>\n",
       "            </tr>\n",
       "            <tr>\n",
       "                        <th id=\"T_dacca44a_d629_11ea_a424_8c8590257adblevel0_row31\" class=\"row_heading level0 row31\" >31</th>\n",
       "                        <td id=\"T_dacca44a_d629_11ea_a424_8c8590257adbrow31_col0\" class=\"data row31 col0\" >Clustering Iteration </td>\n",
       "                        <td id=\"T_dacca44a_d629_11ea_a424_8c8590257adbrow31_col1\" class=\"data row31 col1\" >None</td>\n",
       "            </tr>\n",
       "            <tr>\n",
       "                        <th id=\"T_dacca44a_d629_11ea_a424_8c8590257adblevel0_row32\" class=\"row_heading level0 row32\" >32</th>\n",
       "                        <td id=\"T_dacca44a_d629_11ea_a424_8c8590257adbrow32_col0\" class=\"data row32 col0\" >Polynomial Features </td>\n",
       "                        <td id=\"T_dacca44a_d629_11ea_a424_8c8590257adbrow32_col1\" class=\"data row32 col1\" >False</td>\n",
       "            </tr>\n",
       "            <tr>\n",
       "                        <th id=\"T_dacca44a_d629_11ea_a424_8c8590257adblevel0_row33\" class=\"row_heading level0 row33\" >33</th>\n",
       "                        <td id=\"T_dacca44a_d629_11ea_a424_8c8590257adbrow33_col0\" class=\"data row33 col0\" >Polynomial Degree </td>\n",
       "                        <td id=\"T_dacca44a_d629_11ea_a424_8c8590257adbrow33_col1\" class=\"data row33 col1\" >None</td>\n",
       "            </tr>\n",
       "            <tr>\n",
       "                        <th id=\"T_dacca44a_d629_11ea_a424_8c8590257adblevel0_row34\" class=\"row_heading level0 row34\" >34</th>\n",
       "                        <td id=\"T_dacca44a_d629_11ea_a424_8c8590257adbrow34_col0\" class=\"data row34 col0\" >Trignometry Features </td>\n",
       "                        <td id=\"T_dacca44a_d629_11ea_a424_8c8590257adbrow34_col1\" class=\"data row34 col1\" >False</td>\n",
       "            </tr>\n",
       "            <tr>\n",
       "                        <th id=\"T_dacca44a_d629_11ea_a424_8c8590257adblevel0_row35\" class=\"row_heading level0 row35\" >35</th>\n",
       "                        <td id=\"T_dacca44a_d629_11ea_a424_8c8590257adbrow35_col0\" class=\"data row35 col0\" >Polynomial Threshold </td>\n",
       "                        <td id=\"T_dacca44a_d629_11ea_a424_8c8590257adbrow35_col1\" class=\"data row35 col1\" >None</td>\n",
       "            </tr>\n",
       "            <tr>\n",
       "                        <th id=\"T_dacca44a_d629_11ea_a424_8c8590257adblevel0_row36\" class=\"row_heading level0 row36\" >36</th>\n",
       "                        <td id=\"T_dacca44a_d629_11ea_a424_8c8590257adbrow36_col0\" class=\"data row36 col0\" >Group Features </td>\n",
       "                        <td id=\"T_dacca44a_d629_11ea_a424_8c8590257adbrow36_col1\" class=\"data row36 col1\" >False</td>\n",
       "            </tr>\n",
       "            <tr>\n",
       "                        <th id=\"T_dacca44a_d629_11ea_a424_8c8590257adblevel0_row37\" class=\"row_heading level0 row37\" >37</th>\n",
       "                        <td id=\"T_dacca44a_d629_11ea_a424_8c8590257adbrow37_col0\" class=\"data row37 col0\" >Feature Selection </td>\n",
       "                        <td id=\"T_dacca44a_d629_11ea_a424_8c8590257adbrow37_col1\" class=\"data row37 col1\" >False</td>\n",
       "            </tr>\n",
       "            <tr>\n",
       "                        <th id=\"T_dacca44a_d629_11ea_a424_8c8590257adblevel0_row38\" class=\"row_heading level0 row38\" >38</th>\n",
       "                        <td id=\"T_dacca44a_d629_11ea_a424_8c8590257adbrow38_col0\" class=\"data row38 col0\" >Features Selection Threshold </td>\n",
       "                        <td id=\"T_dacca44a_d629_11ea_a424_8c8590257adbrow38_col1\" class=\"data row38 col1\" >None</td>\n",
       "            </tr>\n",
       "            <tr>\n",
       "                        <th id=\"T_dacca44a_d629_11ea_a424_8c8590257adblevel0_row39\" class=\"row_heading level0 row39\" >39</th>\n",
       "                        <td id=\"T_dacca44a_d629_11ea_a424_8c8590257adbrow39_col0\" class=\"data row39 col0\" >Feature Interaction </td>\n",
       "                        <td id=\"T_dacca44a_d629_11ea_a424_8c8590257adbrow39_col1\" class=\"data row39 col1\" >False</td>\n",
       "            </tr>\n",
       "            <tr>\n",
       "                        <th id=\"T_dacca44a_d629_11ea_a424_8c8590257adblevel0_row40\" class=\"row_heading level0 row40\" >40</th>\n",
       "                        <td id=\"T_dacca44a_d629_11ea_a424_8c8590257adbrow40_col0\" class=\"data row40 col0\" >Feature Ratio </td>\n",
       "                        <td id=\"T_dacca44a_d629_11ea_a424_8c8590257adbrow40_col1\" class=\"data row40 col1\" >False</td>\n",
       "            </tr>\n",
       "            <tr>\n",
       "                        <th id=\"T_dacca44a_d629_11ea_a424_8c8590257adblevel0_row41\" class=\"row_heading level0 row41\" >41</th>\n",
       "                        <td id=\"T_dacca44a_d629_11ea_a424_8c8590257adbrow41_col0\" class=\"data row41 col0\" >Interaction Threshold </td>\n",
       "                        <td id=\"T_dacca44a_d629_11ea_a424_8c8590257adbrow41_col1\" class=\"data row41 col1\" >None</td>\n",
       "            </tr>\n",
       "    </tbody></table>"
      ],
      "text/plain": [
       "<pandas.io.formats.style.Styler at 0x7fef88c0e990>"
      ]
     },
     "metadata": {},
     "output_type": "display_data"
    },
    {
     "data": {
      "text/plain": [
       "(       age     bmi  sex_female  sex_male  children_0  children_1  children_2  \\\n",
       " 0     19.0  27.900         1.0       0.0         1.0         0.0         0.0   \n",
       " 1     18.0  33.770         0.0       1.0         0.0         1.0         0.0   \n",
       " 2     28.0  33.000         0.0       1.0         0.0         0.0         0.0   \n",
       " 3     33.0  22.705         0.0       1.0         1.0         0.0         0.0   \n",
       " 4     32.0  28.880         0.0       1.0         1.0         0.0         0.0   \n",
       " ...    ...     ...         ...       ...         ...         ...         ...   \n",
       " 1333  50.0  30.970         0.0       1.0         0.0         0.0         0.0   \n",
       " 1334  18.0  31.920         1.0       0.0         1.0         0.0         0.0   \n",
       " 1335  18.0  36.850         1.0       0.0         1.0         0.0         0.0   \n",
       " 1336  21.0  25.800         1.0       0.0         1.0         0.0         0.0   \n",
       " 1337  61.0  29.070         1.0       0.0         1.0         0.0         0.0   \n",
       " \n",
       "       children_3  children_4  children_5  smoker_no  smoker_yes  \\\n",
       " 0            0.0         0.0         0.0        0.0         1.0   \n",
       " 1            0.0         0.0         0.0        1.0         0.0   \n",
       " 2            1.0         0.0         0.0        1.0         0.0   \n",
       " 3            0.0         0.0         0.0        1.0         0.0   \n",
       " 4            0.0         0.0         0.0        1.0         0.0   \n",
       " ...          ...         ...         ...        ...         ...   \n",
       " 1333         1.0         0.0         0.0        1.0         0.0   \n",
       " 1334         0.0         0.0         0.0        1.0         0.0   \n",
       " 1335         0.0         0.0         0.0        1.0         0.0   \n",
       " 1336         0.0         0.0         0.0        1.0         0.0   \n",
       " 1337         0.0         0.0         0.0        0.0         1.0   \n",
       " \n",
       "       region_northeast  region_northwest  region_southeast  region_southwest  \n",
       " 0                  0.0               0.0               0.0               1.0  \n",
       " 1                  0.0               0.0               1.0               0.0  \n",
       " 2                  0.0               0.0               1.0               0.0  \n",
       " 3                  0.0               1.0               0.0               0.0  \n",
       " 4                  0.0               1.0               0.0               0.0  \n",
       " ...                ...               ...               ...               ...  \n",
       " 1333               0.0               1.0               0.0               0.0  \n",
       " 1334               1.0               0.0               0.0               0.0  \n",
       " 1335               0.0               0.0               1.0               0.0  \n",
       " 1336               0.0               0.0               0.0               1.0  \n",
       " 1337               0.0               1.0               0.0               0.0  \n",
       " \n",
       " [1338 rows x 16 columns],\n",
       " 0       16884.92400\n",
       " 1        1725.55230\n",
       " 2        4449.46200\n",
       " 3       21984.47061\n",
       " 4        3866.85520\n",
       "            ...     \n",
       " 1333    10600.54830\n",
       " 1334     2205.98080\n",
       " 1335     1629.83350\n",
       " 1336     2007.94500\n",
       " 1337    29141.36030\n",
       " Name: charges, Length: 1338, dtype: float64,\n",
       "        age     bmi  sex_female  sex_male  children_0  children_1  children_2  \\\n",
       " 578   52.0  30.200         0.0       1.0         0.0         1.0         0.0   \n",
       " 409   32.0  30.030         0.0       1.0         0.0         1.0         0.0   \n",
       " 120   44.0  37.100         0.0       1.0         0.0         0.0         1.0   \n",
       " 858   25.0  32.230         1.0       0.0         0.0         1.0         0.0   \n",
       " 967   44.0  25.365         0.0       1.0         0.0         1.0         0.0   \n",
       " ...    ...     ...         ...       ...         ...         ...         ...   \n",
       " 359   18.0  20.790         1.0       0.0         1.0         0.0         0.0   \n",
       " 541   20.0  31.790         1.0       0.0         0.0         0.0         1.0   \n",
       " 1234  45.0  27.830         1.0       0.0         0.0         0.0         1.0   \n",
       " 644   43.0  35.310         0.0       1.0         0.0         0.0         1.0   \n",
       " 725   30.0  39.050         1.0       0.0         0.0         0.0         0.0   \n",
       " \n",
       "       children_3  children_4  children_5  smoker_no  smoker_yes  \\\n",
       " 578          0.0         0.0         0.0        1.0         0.0   \n",
       " 409          0.0         0.0         0.0        1.0         0.0   \n",
       " 120          0.0         0.0         0.0        1.0         0.0   \n",
       " 858          0.0         0.0         0.0        1.0         0.0   \n",
       " 967          0.0         0.0         0.0        1.0         0.0   \n",
       " ...          ...         ...         ...        ...         ...   \n",
       " 359          0.0         0.0         0.0        1.0         0.0   \n",
       " 541          0.0         0.0         0.0        1.0         0.0   \n",
       " 1234         0.0         0.0         0.0        1.0         0.0   \n",
       " 644          0.0         0.0         0.0        1.0         0.0   \n",
       " 725          1.0         0.0         0.0        0.0         1.0   \n",
       " \n",
       "       region_northeast  region_northwest  region_southeast  region_southwest  \n",
       " 578                0.0               0.0               0.0               1.0  \n",
       " 409                0.0               0.0               1.0               0.0  \n",
       " 120                0.0               0.0               0.0               1.0  \n",
       " 858                0.0               0.0               1.0               0.0  \n",
       " 967                0.0               1.0               0.0               0.0  \n",
       " ...                ...               ...               ...               ...  \n",
       " 359                0.0               0.0               1.0               0.0  \n",
       " 541                0.0               0.0               1.0               0.0  \n",
       " 1234               0.0               0.0               1.0               0.0  \n",
       " 644                0.0               0.0               1.0               0.0  \n",
       " 725                0.0               0.0               1.0               0.0  \n",
       " \n",
       " [936 rows x 16 columns],\n",
       "        age     bmi  sex_female  sex_male  children_0  children_1  children_2  \\\n",
       " 283   55.0  32.395         1.0       0.0         0.0         1.0         0.0   \n",
       " 557   34.0  34.210         0.0       1.0         1.0         0.0         0.0   \n",
       " 349   19.0  27.835         0.0       1.0         1.0         0.0         0.0   \n",
       " 345   34.0  29.260         1.0       0.0         0.0         0.0         0.0   \n",
       " 1023  18.0  23.320         0.0       1.0         0.0         1.0         0.0   \n",
       " ...    ...     ...         ...       ...         ...         ...         ...   \n",
       " 723   19.0  35.400         0.0       1.0         1.0         0.0         0.0   \n",
       " 852   46.0  35.530         1.0       0.0         1.0         0.0         0.0   \n",
       " 503   19.0  30.250         0.0       1.0         1.0         0.0         0.0   \n",
       " 518   35.0  31.000         1.0       0.0         0.0         1.0         0.0   \n",
       " 156   48.0  24.420         0.0       1.0         1.0         0.0         0.0   \n",
       " \n",
       "       children_3  children_4  children_5  smoker_no  smoker_yes  \\\n",
       " 283          0.0         0.0         0.0        1.0         0.0   \n",
       " 557          0.0         0.0         0.0        1.0         0.0   \n",
       " 349          0.0         0.0         0.0        1.0         0.0   \n",
       " 345          1.0         0.0         0.0        1.0         0.0   \n",
       " 1023         0.0         0.0         0.0        1.0         0.0   \n",
       " ...          ...         ...         ...        ...         ...   \n",
       " 723          0.0         0.0         0.0        1.0         0.0   \n",
       " 852          0.0         0.0         0.0        0.0         1.0   \n",
       " 503          0.0         0.0         0.0        0.0         1.0   \n",
       " 518          0.0         0.0         0.0        1.0         0.0   \n",
       " 156          0.0         0.0         0.0        0.0         1.0   \n",
       " \n",
       "       region_northeast  region_northwest  region_southeast  region_southwest  \n",
       " 283                1.0               0.0               0.0               0.0  \n",
       " 557                0.0               0.0               1.0               0.0  \n",
       " 349                0.0               1.0               0.0               0.0  \n",
       " 345                0.0               0.0               1.0               0.0  \n",
       " 1023               0.0               0.0               1.0               0.0  \n",
       " ...                ...               ...               ...               ...  \n",
       " 723                0.0               0.0               0.0               1.0  \n",
       " 852                1.0               0.0               0.0               0.0  \n",
       " 503                0.0               0.0               1.0               0.0  \n",
       " 518                0.0               0.0               0.0               1.0  \n",
       " 156                0.0               0.0               1.0               0.0  \n",
       " \n",
       " [402 rows x 16 columns],\n",
       " 578      9724.53000\n",
       " 409      4074.45370\n",
       " 120      7740.33700\n",
       " 858     18218.16139\n",
       " 967      7518.02535\n",
       "            ...     \n",
       " 359      1607.51010\n",
       " 541      3056.38810\n",
       " 1234     8515.75870\n",
       " 644     18806.14547\n",
       " 725     40932.42950\n",
       " Name: charges, Length: 936, dtype: float64,\n",
       " 283     11879.10405\n",
       " 557      3935.17990\n",
       " 349      1635.73365\n",
       " 345      6184.29940\n",
       " 1023     1711.02680\n",
       "            ...     \n",
       " 723      1263.24900\n",
       " 852     42111.66470\n",
       " 503     32548.34050\n",
       " 518      5240.76500\n",
       " 156     21223.67580\n",
       " Name: charges, Length: 402, dtype: float64,\n",
       " 3720,\n",
       " Pipeline(memory=None,\n",
       "          steps=[('dtypes',\n",
       "                  DataTypes_Auto_infer(categorical_features=[],\n",
       "                                       display_types=True, features_todrop=[],\n",
       "                                       ml_usecase='regression',\n",
       "                                       numerical_features=[], target='charges',\n",
       "                                       time_features=[])),\n",
       "                 ('imputer',\n",
       "                  Simple_Imputer(categorical_strategy='not_available',\n",
       "                                 numeric_strategy='mean',\n",
       "                                 target_variable=None)),\n",
       "                 ('new_levels1',\n",
       "                  New_Catagorical_Levels...\n",
       "                 ('group', Empty()), ('nonliner', Empty()), ('scaling', Empty()),\n",
       "                 ('P_transform', Empty()), ('pt_target', Empty()),\n",
       "                 ('binn', Empty()), ('rem_outliers', Empty()),\n",
       "                 ('cluster_all', Empty()), ('dummy', Dummify(target='charges')),\n",
       "                 ('fix_perfect', Empty()), ('clean_names', Clean_Colum_Names()),\n",
       "                 ('feature_select', Empty()), ('fix_multi', Empty()),\n",
       "                 ('dfs', Empty()), ('pca', Empty())],\n",
       "          verbose=False),\n",
       " None,\n",
       " [('Regression Setup Config',\n",
       "                         Description      Value\n",
       "   0                      session_id       3720\n",
       "   1               Transform Target       False\n",
       "   2         Transform Target Method       None\n",
       "   3                   Original Data  (1338, 7)\n",
       "   4                 Missing Values       False\n",
       "   5               Numeric Features           2\n",
       "   6           Categorical Features           4\n",
       "   7               Ordinal Features       False\n",
       "   8      High Cardinality Features       False\n",
       "   9        High Cardinality Method        None\n",
       "   10                   Sampled Data  (1338, 7)\n",
       "   11          Transformed Train Set  (936, 16)\n",
       "   12           Transformed Test Set  (402, 16)\n",
       "   13               Numeric Imputer        mean\n",
       "   14           Categorical Imputer    constant\n",
       "   15                     Normalize       False\n",
       "   16              Normalize Method        None\n",
       "   17                Transformation       False\n",
       "   18         Transformation Method        None\n",
       "   19                           PCA       False\n",
       "   20                    PCA Method        None\n",
       "   21                PCA Components        None\n",
       "   22           Ignore Low Variance       False\n",
       "   23           Combine Rare Levels       False\n",
       "   24          Rare Level Threshold        None\n",
       "   25               Numeric Binning       False\n",
       "   26               Remove Outliers       False\n",
       "   27            Outliers Threshold        None\n",
       "   28      Remove Multicollinearity       False\n",
       "   29   Multicollinearity Threshold        None\n",
       "   30                    Clustering       False\n",
       "   31          Clustering Iteration        None\n",
       "   32           Polynomial Features       False\n",
       "   33             Polynomial Degree        None\n",
       "   34          Trignometry Features       False\n",
       "   35          Polynomial Threshold        None\n",
       "   36                Group Features       False\n",
       "   37             Feature Selection       False\n",
       "   38  Features Selection Threshold        None\n",
       "   39           Feature Interaction       False\n",
       "   40                 Feature Ratio       False\n",
       "   41         Interaction Threshold        None),\n",
       "  ('X_training Set',\n",
       "          age     bmi  sex_female  sex_male  children_0  children_1  children_2  \\\n",
       "   578   52.0  30.200         0.0       1.0         0.0         1.0         0.0   \n",
       "   409   32.0  30.030         0.0       1.0         0.0         1.0         0.0   \n",
       "   120   44.0  37.100         0.0       1.0         0.0         0.0         1.0   \n",
       "   858   25.0  32.230         1.0       0.0         0.0         1.0         0.0   \n",
       "   967   44.0  25.365         0.0       1.0         0.0         1.0         0.0   \n",
       "   ...    ...     ...         ...       ...         ...         ...         ...   \n",
       "   359   18.0  20.790         1.0       0.0         1.0         0.0         0.0   \n",
       "   541   20.0  31.790         1.0       0.0         0.0         0.0         1.0   \n",
       "   1234  45.0  27.830         1.0       0.0         0.0         0.0         1.0   \n",
       "   644   43.0  35.310         0.0       1.0         0.0         0.0         1.0   \n",
       "   725   30.0  39.050         1.0       0.0         0.0         0.0         0.0   \n",
       "   \n",
       "         children_3  children_4  children_5  smoker_no  smoker_yes  \\\n",
       "   578          0.0         0.0         0.0        1.0         0.0   \n",
       "   409          0.0         0.0         0.0        1.0         0.0   \n",
       "   120          0.0         0.0         0.0        1.0         0.0   \n",
       "   858          0.0         0.0         0.0        1.0         0.0   \n",
       "   967          0.0         0.0         0.0        1.0         0.0   \n",
       "   ...          ...         ...         ...        ...         ...   \n",
       "   359          0.0         0.0         0.0        1.0         0.0   \n",
       "   541          0.0         0.0         0.0        1.0         0.0   \n",
       "   1234         0.0         0.0         0.0        1.0         0.0   \n",
       "   644          0.0         0.0         0.0        1.0         0.0   \n",
       "   725          1.0         0.0         0.0        0.0         1.0   \n",
       "   \n",
       "         region_northeast  region_northwest  region_southeast  region_southwest  \n",
       "   578                0.0               0.0               0.0               1.0  \n",
       "   409                0.0               0.0               1.0               0.0  \n",
       "   120                0.0               0.0               0.0               1.0  \n",
       "   858                0.0               0.0               1.0               0.0  \n",
       "   967                0.0               1.0               0.0               0.0  \n",
       "   ...                ...               ...               ...               ...  \n",
       "   359                0.0               0.0               1.0               0.0  \n",
       "   541                0.0               0.0               1.0               0.0  \n",
       "   1234               0.0               0.0               1.0               0.0  \n",
       "   644                0.0               0.0               1.0               0.0  \n",
       "   725                0.0               0.0               1.0               0.0  \n",
       "   \n",
       "   [936 rows x 16 columns]),\n",
       "  ('y_training Set',\n",
       "   578      9724.53000\n",
       "   409      4074.45370\n",
       "   120      7740.33700\n",
       "   858     18218.16139\n",
       "   967      7518.02535\n",
       "              ...     \n",
       "   359      1607.51010\n",
       "   541      3056.38810\n",
       "   1234     8515.75870\n",
       "   644     18806.14547\n",
       "   725     40932.42950\n",
       "   Name: charges, Length: 936, dtype: float64),\n",
       "  ('X_test Set',\n",
       "          age     bmi  sex_female  sex_male  children_0  children_1  children_2  \\\n",
       "   283   55.0  32.395         1.0       0.0         0.0         1.0         0.0   \n",
       "   557   34.0  34.210         0.0       1.0         1.0         0.0         0.0   \n",
       "   349   19.0  27.835         0.0       1.0         1.0         0.0         0.0   \n",
       "   345   34.0  29.260         1.0       0.0         0.0         0.0         0.0   \n",
       "   1023  18.0  23.320         0.0       1.0         0.0         1.0         0.0   \n",
       "   ...    ...     ...         ...       ...         ...         ...         ...   \n",
       "   723   19.0  35.400         0.0       1.0         1.0         0.0         0.0   \n",
       "   852   46.0  35.530         1.0       0.0         1.0         0.0         0.0   \n",
       "   503   19.0  30.250         0.0       1.0         1.0         0.0         0.0   \n",
       "   518   35.0  31.000         1.0       0.0         0.0         1.0         0.0   \n",
       "   156   48.0  24.420         0.0       1.0         1.0         0.0         0.0   \n",
       "   \n",
       "         children_3  children_4  children_5  smoker_no  smoker_yes  \\\n",
       "   283          0.0         0.0         0.0        1.0         0.0   \n",
       "   557          0.0         0.0         0.0        1.0         0.0   \n",
       "   349          0.0         0.0         0.0        1.0         0.0   \n",
       "   345          1.0         0.0         0.0        1.0         0.0   \n",
       "   1023         0.0         0.0         0.0        1.0         0.0   \n",
       "   ...          ...         ...         ...        ...         ...   \n",
       "   723          0.0         0.0         0.0        1.0         0.0   \n",
       "   852          0.0         0.0         0.0        0.0         1.0   \n",
       "   503          0.0         0.0         0.0        0.0         1.0   \n",
       "   518          0.0         0.0         0.0        1.0         0.0   \n",
       "   156          0.0         0.0         0.0        0.0         1.0   \n",
       "   \n",
       "         region_northeast  region_northwest  region_southeast  region_southwest  \n",
       "   283                1.0               0.0               0.0               0.0  \n",
       "   557                0.0               0.0               1.0               0.0  \n",
       "   349                0.0               1.0               0.0               0.0  \n",
       "   345                0.0               0.0               1.0               0.0  \n",
       "   1023               0.0               0.0               1.0               0.0  \n",
       "   ...                ...               ...               ...               ...  \n",
       "   723                0.0               0.0               0.0               1.0  \n",
       "   852                1.0               0.0               0.0               0.0  \n",
       "   503                0.0               0.0               1.0               0.0  \n",
       "   518                0.0               0.0               0.0               1.0  \n",
       "   156                0.0               0.0               1.0               0.0  \n",
       "   \n",
       "   [402 rows x 16 columns]),\n",
       "  ('y_test Set',\n",
       "   283     11879.10405\n",
       "   557      3935.17990\n",
       "   349      1635.73365\n",
       "   345      6184.29940\n",
       "   1023     1711.02680\n",
       "              ...     \n",
       "   723      1263.24900\n",
       "   852     42111.66470\n",
       "   503     32548.34050\n",
       "   518      5240.76500\n",
       "   156     21223.67580\n",
       "   Name: charges, Length: 402, dtype: float64),\n",
       "  ('Transformation Pipeline',\n",
       "   Pipeline(memory=None,\n",
       "            steps=[('dtypes',\n",
       "                    DataTypes_Auto_infer(categorical_features=[],\n",
       "                                         display_types=True, features_todrop=[],\n",
       "                                         ml_usecase='regression',\n",
       "                                         numerical_features=[], target='charges',\n",
       "                                         time_features=[])),\n",
       "                   ('imputer',\n",
       "                    Simple_Imputer(categorical_strategy='not_available',\n",
       "                                   numeric_strategy='mean',\n",
       "                                   target_variable=None)),\n",
       "                   ('new_levels1',\n",
       "                    New_Catagorical_Levels...\n",
       "                   ('group', Empty()), ('nonliner', Empty()), ('scaling', Empty()),\n",
       "                   ('P_transform', Empty()), ('pt_target', Empty()),\n",
       "                   ('binn', Empty()), ('rem_outliers', Empty()),\n",
       "                   ('cluster_all', Empty()), ('dummy', Dummify(target='charges')),\n",
       "                   ('fix_perfect', Empty()), ('clean_names', Clean_Colum_Names()),\n",
       "                   ('feature_select', Empty()), ('fix_multi', Empty()),\n",
       "                   ('dfs', Empty()), ('pca', Empty())],\n",
       "            verbose=False)),\n",
       "  ('Target Inverse Transformer', None)],\n",
       " False,\n",
       " -1,\n",
       " True,\n",
       " [],\n",
       " [],\n",
       " [],\n",
       " 'no_logging',\n",
       " False,\n",
       " False,\n",
       " '7ddf')"
      ]
     },
     "execution_count": 43,
     "metadata": {},
     "output_type": "execute_result"
    }
   ],
   "source": [
    "from pycaret.regression import *\n",
    "setup(data = insurance, target = 'charges')\n",
    "#it will apply one hot encoding by itself\n",
    "#any missing value, will get it done by 'mean'\n"
   ]
  },
  {
   "cell_type": "code",
   "execution_count": null,
   "metadata": {},
   "outputs": [],
   "source": []
  }
 ],
 "metadata": {
  "kernelspec": {
   "display_name": "Python 3",
   "language": "python",
   "name": "python3"
  },
  "language_info": {
   "codemirror_mode": {
    "name": "ipython",
    "version": 3
   },
   "file_extension": ".py",
   "mimetype": "text/x-python",
   "name": "python",
   "nbconvert_exporter": "python",
   "pygments_lexer": "ipython3",
   "version": "3.7.7"
  }
 },
 "nbformat": 4,
 "nbformat_minor": 4
}
